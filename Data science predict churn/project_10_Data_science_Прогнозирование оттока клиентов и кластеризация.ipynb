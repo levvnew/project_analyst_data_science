{
 "cells": [
  {
   "cell_type": "markdown",
   "metadata": {},
   "source": [
    "# Определение стратегии взаимодействия с клиентами, прогнозирование вероятности оттока"
   ]
  },
  {
   "cell_type": "markdown",
   "metadata": {},
   "source": [
    "Распространённая проблема сервисов — отток клиентов. Чтобы бороться с оттоком, был проведен анализ и подготовлен план действий по удержанию клиентов. Разработана стратегия взаимодействия с клиентами на основе аналитических данных.\n",
    "\n",
    "А именно:\n",
    "\n",
    "•\tСпрогнозирована вероятность оттока (на уровне следующего месяца) для каждого клиента;\n",
    "\n",
    "•\tСформированы типичные портреты клиентов: выделено несколько наиболее ярких групп и охарактеризованы их основные свойства;\n",
    "\n",
    "•\tПроанализированы основные признаки, наиболее сильно влияющие на отток;\n",
    "\n",
    "•\tСформулированы основные выводы и разработаны рекомендации по повышению качества работы с клиентами:\n",
    "\n",
    "1) Выделены целевые группы клиентов;\n",
    "\n",
    "2) Предложены меры по снижению оттока.\n",
    "\n",
    "•\tБыл проведен исследовательский анализ данных(визуализация признаков, матрица корреляции и т.д.)\n",
    "\n",
    "•\tПостроена модель прогнозирования оттока клиентов и рассчитаны метрики\n",
    "\n",
    "•\tПроведена кластеризация клиентов\n"
   ]
  },
  {
   "cell_type": "markdown",
   "metadata": {},
   "source": [
    "## Изучение данных из файла и предобработка"
   ]
  },
  {
   "cell_type": "code",
   "execution_count": 1,
   "metadata": {},
   "outputs": [],
   "source": [
    "import pandas as pd\n",
    "import seaborn as sns\n",
    "from IPython.display import display\n",
    "from sklearn.preprocessing import StandardScaler\n",
    "from sklearn.model_selection import train_test_split\n",
    "from sklearn.linear_model import LogisticRegression\n",
    "from sklearn.ensemble import RandomForestClassifier\n",
    "from sklearn.metrics import accuracy_score, precision_score, recall_score\n",
    "import matplotlib.pyplot as plt\n",
    "from scipy.cluster.hierarchy import dendrogram, linkage \n",
    "from sklearn.cluster import KMeans\n",
    "from sklearn.metrics import silhouette_score\n",
    "import warnings\n",
    "warnings.filterwarnings('ignore') "
   ]
  },
  {
   "cell_type": "code",
   "execution_count": 2,
   "metadata": {},
   "outputs": [
    {
     "data": {
      "text/html": [
       "<div>\n",
       "<style scoped>\n",
       "    .dataframe tbody tr th:only-of-type {\n",
       "        vertical-align: middle;\n",
       "    }\n",
       "\n",
       "    .dataframe tbody tr th {\n",
       "        vertical-align: top;\n",
       "    }\n",
       "\n",
       "    .dataframe thead th {\n",
       "        text-align: right;\n",
       "    }\n",
       "</style>\n",
       "<table border=\"1\" class=\"dataframe\">\n",
       "  <thead>\n",
       "    <tr style=\"text-align: right;\">\n",
       "      <th></th>\n",
       "      <th>gender</th>\n",
       "      <th>Near_Location</th>\n",
       "      <th>Partner</th>\n",
       "      <th>Promo_friends</th>\n",
       "      <th>Phone</th>\n",
       "      <th>Contract_period</th>\n",
       "      <th>Group_visits</th>\n",
       "      <th>Age</th>\n",
       "      <th>Avg_additional_charges_total</th>\n",
       "      <th>Month_to_end_contract</th>\n",
       "      <th>Lifetime</th>\n",
       "      <th>Avg_class_frequency_total</th>\n",
       "      <th>Avg_class_frequency_current_month</th>\n",
       "      <th>Churn</th>\n",
       "    </tr>\n",
       "  </thead>\n",
       "  <tbody>\n",
       "    <tr>\n",
       "      <td>0</td>\n",
       "      <td>1</td>\n",
       "      <td>1</td>\n",
       "      <td>1</td>\n",
       "      <td>1</td>\n",
       "      <td>0</td>\n",
       "      <td>6</td>\n",
       "      <td>1</td>\n",
       "      <td>29</td>\n",
       "      <td>14.227470</td>\n",
       "      <td>5.0</td>\n",
       "      <td>3</td>\n",
       "      <td>0.020398</td>\n",
       "      <td>0.000000</td>\n",
       "      <td>0</td>\n",
       "    </tr>\n",
       "    <tr>\n",
       "      <td>1</td>\n",
       "      <td>0</td>\n",
       "      <td>1</td>\n",
       "      <td>0</td>\n",
       "      <td>0</td>\n",
       "      <td>1</td>\n",
       "      <td>12</td>\n",
       "      <td>1</td>\n",
       "      <td>31</td>\n",
       "      <td>113.202938</td>\n",
       "      <td>12.0</td>\n",
       "      <td>7</td>\n",
       "      <td>1.922936</td>\n",
       "      <td>1.910244</td>\n",
       "      <td>0</td>\n",
       "    </tr>\n",
       "    <tr>\n",
       "      <td>2</td>\n",
       "      <td>0</td>\n",
       "      <td>1</td>\n",
       "      <td>1</td>\n",
       "      <td>0</td>\n",
       "      <td>1</td>\n",
       "      <td>1</td>\n",
       "      <td>0</td>\n",
       "      <td>28</td>\n",
       "      <td>129.448479</td>\n",
       "      <td>1.0</td>\n",
       "      <td>2</td>\n",
       "      <td>1.859098</td>\n",
       "      <td>1.736502</td>\n",
       "      <td>0</td>\n",
       "    </tr>\n",
       "    <tr>\n",
       "      <td>3</td>\n",
       "      <td>0</td>\n",
       "      <td>1</td>\n",
       "      <td>1</td>\n",
       "      <td>1</td>\n",
       "      <td>1</td>\n",
       "      <td>12</td>\n",
       "      <td>1</td>\n",
       "      <td>33</td>\n",
       "      <td>62.669863</td>\n",
       "      <td>12.0</td>\n",
       "      <td>2</td>\n",
       "      <td>3.205633</td>\n",
       "      <td>3.357215</td>\n",
       "      <td>0</td>\n",
       "    </tr>\n",
       "    <tr>\n",
       "      <td>4</td>\n",
       "      <td>1</td>\n",
       "      <td>1</td>\n",
       "      <td>1</td>\n",
       "      <td>1</td>\n",
       "      <td>1</td>\n",
       "      <td>1</td>\n",
       "      <td>0</td>\n",
       "      <td>26</td>\n",
       "      <td>198.362265</td>\n",
       "      <td>1.0</td>\n",
       "      <td>3</td>\n",
       "      <td>1.113884</td>\n",
       "      <td>1.120078</td>\n",
       "      <td>0</td>\n",
       "    </tr>\n",
       "  </tbody>\n",
       "</table>\n",
       "</div>"
      ],
      "text/plain": [
       "   gender  Near_Location  Partner  Promo_friends  Phone  Contract_period  \\\n",
       "0       1              1        1              1      0                6   \n",
       "1       0              1        0              0      1               12   \n",
       "2       0              1        1              0      1                1   \n",
       "3       0              1        1              1      1               12   \n",
       "4       1              1        1              1      1                1   \n",
       "\n",
       "   Group_visits  Age  Avg_additional_charges_total  Month_to_end_contract  \\\n",
       "0             1   29                     14.227470                    5.0   \n",
       "1             1   31                    113.202938                   12.0   \n",
       "2             0   28                    129.448479                    1.0   \n",
       "3             1   33                     62.669863                   12.0   \n",
       "4             0   26                    198.362265                    1.0   \n",
       "\n",
       "   Lifetime  Avg_class_frequency_total  Avg_class_frequency_current_month  \\\n",
       "0         3                   0.020398                           0.000000   \n",
       "1         7                   1.922936                           1.910244   \n",
       "2         2                   1.859098                           1.736502   \n",
       "3         2                   3.205633                           3.357215   \n",
       "4         3                   1.113884                           1.120078   \n",
       "\n",
       "   Churn  \n",
       "0      0  \n",
       "1      0  \n",
       "2      0  \n",
       "3      0  \n",
       "4      0  "
      ]
     },
     "metadata": {},
     "output_type": "display_data"
    }
   ],
   "source": [
    "sport = pd.read_csv('/datasets/gym_churn.csv')\n",
    "display(sport.head())"
   ]
  },
  {
   "cell_type": "code",
   "execution_count": 3,
   "metadata": {},
   "outputs": [
    {
     "name": "stdout",
     "output_type": "stream",
     "text": [
      "<class 'pandas.core.frame.DataFrame'>\n",
      "RangeIndex: 4000 entries, 0 to 3999\n",
      "Data columns (total 14 columns):\n",
      "gender                               4000 non-null int64\n",
      "Near_Location                        4000 non-null int64\n",
      "Partner                              4000 non-null int64\n",
      "Promo_friends                        4000 non-null int64\n",
      "Phone                                4000 non-null int64\n",
      "Contract_period                      4000 non-null int64\n",
      "Group_visits                         4000 non-null int64\n",
      "Age                                  4000 non-null int64\n",
      "Avg_additional_charges_total         4000 non-null float64\n",
      "Month_to_end_contract                4000 non-null float64\n",
      "Lifetime                             4000 non-null int64\n",
      "Avg_class_frequency_total            4000 non-null float64\n",
      "Avg_class_frequency_current_month    4000 non-null float64\n",
      "Churn                                4000 non-null int64\n",
      "dtypes: float64(4), int64(10)\n",
      "memory usage: 437.6 KB\n"
     ]
    }
   ],
   "source": [
    "sport.info()"
   ]
  },
  {
   "cell_type": "code",
   "execution_count": 4,
   "metadata": {},
   "outputs": [
    {
     "name": "stdout",
     "output_type": "stream",
     "text": [
      "пол\n",
      "1    2041\n",
      "0    1959\n",
      "Name: gender, dtype: int64\n",
      "-------------------------------------------------------------\n",
      "проживание или работа в районе, где находится фитнес-центр\n",
      "1    3381\n",
      "0     619\n",
      "Name: Near_Location, dtype: int64\n",
      "-------------------------------------------------------------\n",
      "сотрудник компании-партнёра клуба\n",
      "0    2053\n",
      "1    1947\n",
      "Name: Partner, dtype: int64\n",
      "-------------------------------------------------------------\n",
      "Promo_friends\n",
      "0    2766\n",
      "1    1234\n",
      "Name: Promo_friends, dtype: int64\n",
      "-------------------------------------------------------------\n",
      "Phone\n",
      "1    3614\n",
      "0     386\n",
      "Name: Phone, dtype: int64\n",
      "-------------------------------------------------------------\n",
      "длительность действующего абонемента (1, 3, 6, 12 месяцев)\n",
      "1     2207\n",
      "12     960\n",
      "6      833\n",
      "Name: Contract_period, dtype: int64\n",
      "-------------------------------------------------------------\n",
      "Group_visits\n",
      "0    2351\n",
      "1    1649\n",
      "Name: Group_visits, dtype: int64\n",
      "-------------------------------------------------------------\n",
      "Age\n",
      "29    468\n",
      "30    457\n",
      "28    447\n",
      "31    434\n",
      "27    378\n",
      "32    364\n",
      "26    300\n",
      "33    253\n",
      "25    231\n",
      "34    174\n",
      "24    148\n",
      "35     98\n",
      "23     82\n",
      "36     48\n",
      "22     33\n",
      "37     29\n",
      "21     24\n",
      "20     14\n",
      "38     10\n",
      "39      3\n",
      "19      2\n",
      "18      2\n",
      "41      1\n",
      "Name: Age, dtype: int64\n",
      "-------------------------------------------------------------\n",
      "срок до окончания текущего действующего абонемента (в месяцах)\n",
      "1.0     2207\n",
      "6.0      645\n",
      "12.0     524\n",
      "11.0     181\n",
      "5.0      130\n",
      "10.0      82\n",
      "9.0       73\n",
      "4.0       58\n",
      "8.0       38\n",
      "7.0       25\n",
      "3.0       23\n",
      "2.0       14\n",
      "Name: Month_to_end_contract, dtype: int64\n",
      "-------------------------------------------------------------\n",
      "время с момента первого обращения в фитнес-центр (в месяцах)\n",
      "1     843\n",
      "2     610\n",
      "3     490\n",
      "0     487\n",
      "4     383\n",
      "5     273\n",
      "6     220\n",
      "7     167\n",
      "8     111\n",
      "9     100\n",
      "10     76\n",
      "12     53\n",
      "11     48\n",
      "13     28\n",
      "14     24\n",
      "15     24\n",
      "16     15\n",
      "17     11\n",
      "19      7\n",
      "20      7\n",
      "18      7\n",
      "21      5\n",
      "24      2\n",
      "22      2\n",
      "26      2\n",
      "23      2\n",
      "29      1\n",
      "27      1\n",
      "31      1\n",
      "Name: Lifetime, dtype: int64\n",
      "-------------------------------------------------------------\n",
      "факт оттока в текущем месяце\n",
      "0    2939\n",
      "1    1061\n",
      "Name: Churn, dtype: int64\n"
     ]
    }
   ],
   "source": [
    "print('пол')\n",
    "print(sport['gender'].value_counts())\n",
    "\n",
    "print('-------------------------------------------------------------')\n",
    "print('проживание или работа в районе, где находится фитнес-центр')\n",
    "print(sport['Near_Location'].value_counts())\n",
    "\n",
    "print('-------------------------------------------------------------')\n",
    "print('сотрудник компании-партнёра клуба')\n",
    "print(sport['Partner'].value_counts())\n",
    "\n",
    "print('-------------------------------------------------------------')\n",
    "print('Promo_friends')\n",
    "print(sport['Promo_friends'].value_counts())\n",
    "\n",
    "print('-------------------------------------------------------------')\n",
    "print('Phone')\n",
    "print(sport['Phone'].value_counts())\n",
    "\n",
    "print('-------------------------------------------------------------')\n",
    "print('длительность действующего абонемента (1, 3, 6, 12 месяцев)')\n",
    "print(sport['Contract_period'].value_counts())\n",
    "\n",
    "print('-------------------------------------------------------------')\n",
    "print('Group_visits')\n",
    "print(sport['Group_visits'].value_counts())\n",
    "\n",
    "print('-------------------------------------------------------------')\n",
    "print('Age')\n",
    "print(sport['Age'].value_counts())\n",
    "\n",
    "print('-------------------------------------------------------------')\n",
    "print('срок до окончания текущего действующего абонемента (в месяцах)')\n",
    "print(sport['Month_to_end_contract'].value_counts())\n",
    "\n",
    "print('-------------------------------------------------------------')\n",
    "print('время с момента первого обращения в фитнес-центр (в месяцах)')\n",
    "print(sport['Lifetime'].value_counts())\n",
    "\n",
    "print('-------------------------------------------------------------')\n",
    "print('факт оттока в текущем месяце')\n",
    "print(sport['Churn'].value_counts())"
   ]
  },
  {
   "cell_type": "code",
   "execution_count": 5,
   "metadata": {},
   "outputs": [],
   "source": [
    "sport = sport.astype({'Month_to_end_contract':'int'})"
   ]
  },
  {
   "cell_type": "code",
   "execution_count": 6,
   "metadata": {},
   "outputs": [
    {
     "name": "stdout",
     "output_type": "stream",
     "text": [
      "<class 'pandas.core.frame.DataFrame'>\n",
      "Int64Index: 4000 entries, 0 to 3999\n",
      "Data columns (total 14 columns):\n",
      "gender                               4000 non-null int64\n",
      "Near_Location                        4000 non-null int64\n",
      "Partner                              4000 non-null int64\n",
      "Promo_friends                        4000 non-null int64\n",
      "Phone                                4000 non-null int64\n",
      "Contract_period                      4000 non-null int64\n",
      "Group_visits                         4000 non-null int64\n",
      "Age                                  4000 non-null int64\n",
      "Avg_additional_charges_total         4000 non-null float64\n",
      "Month_to_end_contract                4000 non-null int64\n",
      "Lifetime                             4000 non-null int64\n",
      "Avg_class_frequency_total            4000 non-null float64\n",
      "Avg_class_frequency_current_month    4000 non-null float64\n",
      "Churn                                4000 non-null int64\n",
      "dtypes: float64(3), int64(11)\n",
      "memory usage: 468.8 KB\n"
     ]
    }
   ],
   "source": [
    "sport = sport.drop_duplicates() \n",
    "sport.info() "
   ]
  },
  {
   "cell_type": "markdown",
   "metadata": {},
   "source": [
    "## Исследовательский анализ данных (EDA)"
   ]
  },
  {
   "cell_type": "code",
   "execution_count": 7,
   "metadata": {},
   "outputs": [
    {
     "data": {
      "text/html": [
       "<div>\n",
       "<style scoped>\n",
       "    .dataframe tbody tr th:only-of-type {\n",
       "        vertical-align: middle;\n",
       "    }\n",
       "\n",
       "    .dataframe tbody tr th {\n",
       "        vertical-align: top;\n",
       "    }\n",
       "\n",
       "    .dataframe thead th {\n",
       "        text-align: right;\n",
       "    }\n",
       "</style>\n",
       "<table border=\"1\" class=\"dataframe\">\n",
       "  <thead>\n",
       "    <tr style=\"text-align: right;\">\n",
       "      <th></th>\n",
       "      <th>gender</th>\n",
       "      <th>Near_Location</th>\n",
       "      <th>Partner</th>\n",
       "      <th>Promo_friends</th>\n",
       "      <th>Phone</th>\n",
       "      <th>Contract_period</th>\n",
       "      <th>Group_visits</th>\n",
       "      <th>Age</th>\n",
       "      <th>Avg_additional_charges_total</th>\n",
       "      <th>Month_to_end_contract</th>\n",
       "      <th>Lifetime</th>\n",
       "      <th>Avg_class_frequency_total</th>\n",
       "      <th>Avg_class_frequency_current_month</th>\n",
       "      <th>Churn</th>\n",
       "    </tr>\n",
       "  </thead>\n",
       "  <tbody>\n",
       "    <tr>\n",
       "      <td>count</td>\n",
       "      <td>4000.000000</td>\n",
       "      <td>4000.000000</td>\n",
       "      <td>4000.000000</td>\n",
       "      <td>4000.000000</td>\n",
       "      <td>4000.000000</td>\n",
       "      <td>4000.000000</td>\n",
       "      <td>4000.000000</td>\n",
       "      <td>4000.000000</td>\n",
       "      <td>4000.000000</td>\n",
       "      <td>4000.000000</td>\n",
       "      <td>4000.000000</td>\n",
       "      <td>4000.000000</td>\n",
       "      <td>4000.000000</td>\n",
       "      <td>4000.000000</td>\n",
       "    </tr>\n",
       "    <tr>\n",
       "      <td>mean</td>\n",
       "      <td>0.510250</td>\n",
       "      <td>0.845250</td>\n",
       "      <td>0.486750</td>\n",
       "      <td>0.308500</td>\n",
       "      <td>0.903500</td>\n",
       "      <td>4.681250</td>\n",
       "      <td>0.412250</td>\n",
       "      <td>29.184250</td>\n",
       "      <td>146.943728</td>\n",
       "      <td>4.322750</td>\n",
       "      <td>3.724750</td>\n",
       "      <td>1.879020</td>\n",
       "      <td>1.767052</td>\n",
       "      <td>0.265250</td>\n",
       "    </tr>\n",
       "    <tr>\n",
       "      <td>std</td>\n",
       "      <td>0.499957</td>\n",
       "      <td>0.361711</td>\n",
       "      <td>0.499887</td>\n",
       "      <td>0.461932</td>\n",
       "      <td>0.295313</td>\n",
       "      <td>4.549706</td>\n",
       "      <td>0.492301</td>\n",
       "      <td>3.258367</td>\n",
       "      <td>96.355602</td>\n",
       "      <td>4.191297</td>\n",
       "      <td>3.749267</td>\n",
       "      <td>0.972245</td>\n",
       "      <td>1.052906</td>\n",
       "      <td>0.441521</td>\n",
       "    </tr>\n",
       "    <tr>\n",
       "      <td>min</td>\n",
       "      <td>0.000000</td>\n",
       "      <td>0.000000</td>\n",
       "      <td>0.000000</td>\n",
       "      <td>0.000000</td>\n",
       "      <td>0.000000</td>\n",
       "      <td>1.000000</td>\n",
       "      <td>0.000000</td>\n",
       "      <td>18.000000</td>\n",
       "      <td>0.148205</td>\n",
       "      <td>1.000000</td>\n",
       "      <td>0.000000</td>\n",
       "      <td>0.000000</td>\n",
       "      <td>0.000000</td>\n",
       "      <td>0.000000</td>\n",
       "    </tr>\n",
       "    <tr>\n",
       "      <td>25%</td>\n",
       "      <td>0.000000</td>\n",
       "      <td>1.000000</td>\n",
       "      <td>0.000000</td>\n",
       "      <td>0.000000</td>\n",
       "      <td>1.000000</td>\n",
       "      <td>1.000000</td>\n",
       "      <td>0.000000</td>\n",
       "      <td>27.000000</td>\n",
       "      <td>68.868830</td>\n",
       "      <td>1.000000</td>\n",
       "      <td>1.000000</td>\n",
       "      <td>1.180875</td>\n",
       "      <td>0.963003</td>\n",
       "      <td>0.000000</td>\n",
       "    </tr>\n",
       "    <tr>\n",
       "      <td>50%</td>\n",
       "      <td>1.000000</td>\n",
       "      <td>1.000000</td>\n",
       "      <td>0.000000</td>\n",
       "      <td>0.000000</td>\n",
       "      <td>1.000000</td>\n",
       "      <td>1.000000</td>\n",
       "      <td>0.000000</td>\n",
       "      <td>29.000000</td>\n",
       "      <td>136.220159</td>\n",
       "      <td>1.000000</td>\n",
       "      <td>3.000000</td>\n",
       "      <td>1.832768</td>\n",
       "      <td>1.719574</td>\n",
       "      <td>0.000000</td>\n",
       "    </tr>\n",
       "    <tr>\n",
       "      <td>75%</td>\n",
       "      <td>1.000000</td>\n",
       "      <td>1.000000</td>\n",
       "      <td>1.000000</td>\n",
       "      <td>1.000000</td>\n",
       "      <td>1.000000</td>\n",
       "      <td>6.000000</td>\n",
       "      <td>1.000000</td>\n",
       "      <td>31.000000</td>\n",
       "      <td>210.949625</td>\n",
       "      <td>6.000000</td>\n",
       "      <td>5.000000</td>\n",
       "      <td>2.536078</td>\n",
       "      <td>2.510336</td>\n",
       "      <td>1.000000</td>\n",
       "    </tr>\n",
       "    <tr>\n",
       "      <td>max</td>\n",
       "      <td>1.000000</td>\n",
       "      <td>1.000000</td>\n",
       "      <td>1.000000</td>\n",
       "      <td>1.000000</td>\n",
       "      <td>1.000000</td>\n",
       "      <td>12.000000</td>\n",
       "      <td>1.000000</td>\n",
       "      <td>41.000000</td>\n",
       "      <td>552.590740</td>\n",
       "      <td>12.000000</td>\n",
       "      <td>31.000000</td>\n",
       "      <td>6.023668</td>\n",
       "      <td>6.146783</td>\n",
       "      <td>1.000000</td>\n",
       "    </tr>\n",
       "  </tbody>\n",
       "</table>\n",
       "</div>"
      ],
      "text/plain": [
       "            gender  Near_Location      Partner  Promo_friends        Phone  \\\n",
       "count  4000.000000    4000.000000  4000.000000    4000.000000  4000.000000   \n",
       "mean      0.510250       0.845250     0.486750       0.308500     0.903500   \n",
       "std       0.499957       0.361711     0.499887       0.461932     0.295313   \n",
       "min       0.000000       0.000000     0.000000       0.000000     0.000000   \n",
       "25%       0.000000       1.000000     0.000000       0.000000     1.000000   \n",
       "50%       1.000000       1.000000     0.000000       0.000000     1.000000   \n",
       "75%       1.000000       1.000000     1.000000       1.000000     1.000000   \n",
       "max       1.000000       1.000000     1.000000       1.000000     1.000000   \n",
       "\n",
       "       Contract_period  Group_visits          Age  \\\n",
       "count      4000.000000   4000.000000  4000.000000   \n",
       "mean          4.681250      0.412250    29.184250   \n",
       "std           4.549706      0.492301     3.258367   \n",
       "min           1.000000      0.000000    18.000000   \n",
       "25%           1.000000      0.000000    27.000000   \n",
       "50%           1.000000      0.000000    29.000000   \n",
       "75%           6.000000      1.000000    31.000000   \n",
       "max          12.000000      1.000000    41.000000   \n",
       "\n",
       "       Avg_additional_charges_total  Month_to_end_contract     Lifetime  \\\n",
       "count                   4000.000000            4000.000000  4000.000000   \n",
       "mean                     146.943728               4.322750     3.724750   \n",
       "std                       96.355602               4.191297     3.749267   \n",
       "min                        0.148205               1.000000     0.000000   \n",
       "25%                       68.868830               1.000000     1.000000   \n",
       "50%                      136.220159               1.000000     3.000000   \n",
       "75%                      210.949625               6.000000     5.000000   \n",
       "max                      552.590740              12.000000    31.000000   \n",
       "\n",
       "       Avg_class_frequency_total  Avg_class_frequency_current_month  \\\n",
       "count                4000.000000                        4000.000000   \n",
       "mean                    1.879020                           1.767052   \n",
       "std                     0.972245                           1.052906   \n",
       "min                     0.000000                           0.000000   \n",
       "25%                     1.180875                           0.963003   \n",
       "50%                     1.832768                           1.719574   \n",
       "75%                     2.536078                           2.510336   \n",
       "max                     6.023668                           6.146783   \n",
       "\n",
       "             Churn  \n",
       "count  4000.000000  \n",
       "mean      0.265250  \n",
       "std       0.441521  \n",
       "min       0.000000  \n",
       "25%       0.000000  \n",
       "50%       0.000000  \n",
       "75%       1.000000  \n",
       "max       1.000000  "
      ]
     },
     "execution_count": 7,
     "metadata": {},
     "output_type": "execute_result"
    }
   ],
   "source": [
    "sport.describe()"
   ]
  },
  {
   "cell_type": "markdown",
   "metadata": {},
   "source": [
    "<div class=\"alert alert-info\"> <b>  </b> \n",
    "    \n",
    "•\tНЕ менее 75% клиентов клуба проживают или работают в районе, где находится фитнес-центр;\n",
    "    \n",
    "•\tНЕ более 25% клиентов клуба являются сотрудниками компании-партнёра клуба; \n",
    "    \n",
    "•\tНЕ более 25% клиентов клуба использовали промо-код от знакомого при оплате первого абонемента;\n",
    "    \n",
    "•\tУ 75% клиентов клуба длительность текущего действующего абонемента - 1 месяц;\n",
    "    \n",
    "•\t25% клиентов клуба посещают групповые занятия;\n",
    "    \n",
    "•\tУ 75% клиентов клуба время с момента первого обращения в фитнес-центр меньше 5 месяцев;   \n",
    "    \n",
    "•\tМежду средней частота посещений в неделю за все время с начала действия абонемента и за предыдущий месяц нет принципиальной разницы если не делить на две группы \"ушли-не ушли\";\n",
    "    \n",
    "•\tУ 75% клиентов клуба не ушли в текущем месяце.    \n",
    "    \n",
    "    \n",
    "<b>На первый взгляд проживание или работа в районе, где находится фитнес-центр, влияет на посещение. Большая часть клиентов пользуется месячным абонементом, что не очень хорошо для клуба, возможно, стоит подумать над хорошим предложением по более длительным абонементам. Значительно увеличился поток клиентов, впервые обратившихся, 1-2 месяца назад (исходя из уникальных значений\t'Lifetime' — Когорта 1 +2) 1450 человек, а это 36% от всех. Есть смысл обратить внимание на акции, предложения в это время и, возможно, повторить. </b>    \n",
    "</div>"
   ]
  },
  {
   "cell_type": "code",
   "execution_count": 8,
   "metadata": {},
   "outputs": [
    {
     "data": {
      "text/html": [
       "<div>\n",
       "<style scoped>\n",
       "    .dataframe tbody tr th:only-of-type {\n",
       "        vertical-align: middle;\n",
       "    }\n",
       "\n",
       "    .dataframe tbody tr th {\n",
       "        vertical-align: top;\n",
       "    }\n",
       "\n",
       "    .dataframe thead th {\n",
       "        text-align: right;\n",
       "    }\n",
       "</style>\n",
       "<table border=\"1\" class=\"dataframe\">\n",
       "  <thead>\n",
       "    <tr style=\"text-align: right;\">\n",
       "      <th></th>\n",
       "      <th>gender</th>\n",
       "      <th>Near_Location</th>\n",
       "      <th>Partner</th>\n",
       "      <th>Promo_friends</th>\n",
       "      <th>Phone</th>\n",
       "      <th>Contract_period</th>\n",
       "      <th>Group_visits</th>\n",
       "      <th>Age</th>\n",
       "      <th>Avg_additional_charges_total</th>\n",
       "      <th>Month_to_end_contract</th>\n",
       "      <th>Lifetime</th>\n",
       "      <th>Avg_class_frequency_total</th>\n",
       "      <th>Avg_class_frequency_current_month</th>\n",
       "    </tr>\n",
       "    <tr>\n",
       "      <th>Churn</th>\n",
       "      <th></th>\n",
       "      <th></th>\n",
       "      <th></th>\n",
       "      <th></th>\n",
       "      <th></th>\n",
       "      <th></th>\n",
       "      <th></th>\n",
       "      <th></th>\n",
       "      <th></th>\n",
       "      <th></th>\n",
       "      <th></th>\n",
       "      <th></th>\n",
       "      <th></th>\n",
       "    </tr>\n",
       "  </thead>\n",
       "  <tbody>\n",
       "    <tr>\n",
       "      <td>0</td>\n",
       "      <td>0.510037</td>\n",
       "      <td>0.873086</td>\n",
       "      <td>0.534195</td>\n",
       "      <td>0.353522</td>\n",
       "      <td>0.903709</td>\n",
       "      <td>5.747193</td>\n",
       "      <td>0.464103</td>\n",
       "      <td>29.976523</td>\n",
       "      <td>158.445715</td>\n",
       "      <td>5.283089</td>\n",
       "      <td>4.711807</td>\n",
       "      <td>2.024876</td>\n",
       "      <td>2.027882</td>\n",
       "    </tr>\n",
       "    <tr>\n",
       "      <td>1</td>\n",
       "      <td>0.510839</td>\n",
       "      <td>0.768143</td>\n",
       "      <td>0.355325</td>\n",
       "      <td>0.183789</td>\n",
       "      <td>0.902922</td>\n",
       "      <td>1.728558</td>\n",
       "      <td>0.268615</td>\n",
       "      <td>26.989632</td>\n",
       "      <td>115.082899</td>\n",
       "      <td>1.662582</td>\n",
       "      <td>0.990575</td>\n",
       "      <td>1.474995</td>\n",
       "      <td>1.044546</td>\n",
       "    </tr>\n",
       "  </tbody>\n",
       "</table>\n",
       "</div>"
      ],
      "text/plain": [
       "         gender  Near_Location   Partner  Promo_friends     Phone  \\\n",
       "Churn                                                               \n",
       "0      0.510037       0.873086  0.534195       0.353522  0.903709   \n",
       "1      0.510839       0.768143  0.355325       0.183789  0.902922   \n",
       "\n",
       "       Contract_period  Group_visits        Age  Avg_additional_charges_total  \\\n",
       "Churn                                                                           \n",
       "0             5.747193      0.464103  29.976523                    158.445715   \n",
       "1             1.728558      0.268615  26.989632                    115.082899   \n",
       "\n",
       "       Month_to_end_contract  Lifetime  Avg_class_frequency_total  \\\n",
       "Churn                                                               \n",
       "0                   5.283089  4.711807                   2.024876   \n",
       "1                   1.662582  0.990575                   1.474995   \n",
       "\n",
       "       Avg_class_frequency_current_month  \n",
       "Churn                                     \n",
       "0                               2.027882  \n",
       "1                               1.044546  "
      ]
     },
     "execution_count": 8,
     "metadata": {},
     "output_type": "execute_result"
    }
   ],
   "source": [
    "sport.groupby('Churn').mean()"
   ]
  },
  {
   "cell_type": "code",
   "execution_count": 9,
   "metadata": {
    "scrolled": true
   },
   "outputs": [
    {
     "data": {
      "image/png": "[encoded data removed]",
      "text/plain": [
       "<Figure size 432x288 with 1 Axes>"
      ]
     },
     "metadata": {
      "needs_background": "light"
     },
     "output_type": "display_data"
    },
    {
     "data": {
      "image/png": "[encoded data removed]",
      "text/plain": [
       "<Figure size 432x288 with 1 Axes>"
      ]
     },
     "metadata": {
      "needs_background": "light"
     },
     "output_type": "display_data"
    },
    {
     "data": {
      "image/png": "[encoded data removed]",
      "text/plain": [
       "<Figure size 432x288 with 1 Axes>"
      ]
     },
     "metadata": {
      "needs_background": "light"
     },
     "output_type": "display_data"
    },
    {
     "data": {
      "image/png": "[encoded data removed]",
      "text/plain": [
       "<Figure size 432x288 with 1 Axes>"
      ]
     },
     "metadata": {
      "needs_background": "light"
     },
     "output_type": "display_data"
    },
    {
     "data": {
      "image/png": "[encoded data removed]",
      "text/plain": [
       "<Figure size 432x288 with 1 Axes>"
      ]
     },
     "metadata": {
      "needs_background": "light"
     },
     "output_type": "display_data"
    },
    {
     "data": {
      "image/png": "[encoded data removed]",
      "text/plain": [
       "<Figure size 432x288 with 1 Axes>"
      ]
     },
     "metadata": {
      "needs_background": "light"
     },
     "output_type": "display_data"
    },
    {
     "data": {
      "image/png": "[encoded data removed]",
      "text/plain": [
       "<Figure size 432x288 with 1 Axes>"
      ]
     },
     "metadata": {
      "needs_background": "light"
     },
     "output_type": "display_data"
    },
    {
     "data": {
      "image/png": "[encoded data removed]",
      "text/plain": [
       "<Figure size 432x288 with 1 Axes>"
      ]
     },
     "metadata": {
      "needs_background": "light"
     },
     "output_type": "display_data"
    },
    {
     "data": {
      "image/png": "[encoded data removed]",
      "text/plain": [
       "<Figure size 432x288 with 1 Axes>"
      ]
     },
     "metadata": {
      "needs_background": "light"
     },
     "output_type": "display_data"
    },
    {
     "data": {
      "image/png": "[encoded data removed]",
      "text/plain": [
       "<Figure size 432x288 with 1 Axes>"
      ]
     },
     "metadata": {
      "needs_background": "light"
     },
     "output_type": "display_data"
    },
    {
     "data": {
      "image/png": "[encoded data removed]",
      "text/plain": [
       "<Figure size 432x288 with 1 Axes>"
      ]
     },
     "metadata": {
      "needs_background": "light"
     },
     "output_type": "display_data"
    },
    {
     "data": {
      "image/png": "[encoded data removed]",
      "text/plain": [
       "<Figure size 432x288 with 1 Axes>"
      ]
     },
     "metadata": {
      "needs_background": "light"
     },
     "output_type": "display_data"
    },
    {
     "data": {
      "image/png": "[encoded data removed]",
      "text/plain": [
       "<Figure size 432x288 with 1 Axes>"
      ]
     },
     "metadata": {
      "needs_background": "light"
     },
     "output_type": "display_data"
    }
   ],
   "source": [
    "for i in sport.query('Churn == 0').drop(['Churn'], axis=1).columns:\n",
    "    sns.distplot(sport.query('Churn == 0')[i], bins=10, color = 'green')\n",
    "    plt.show() \n"
   ]
  },
  {
   "cell_type": "code",
   "execution_count": 10,
   "metadata": {
    "scrolled": true
   },
   "outputs": [
    {
     "data": {
      "image/png": "[encoded data removed]",
      "text/plain": [
       "<Figure size 432x288 with 1 Axes>"
      ]
     },
     "metadata": {
      "needs_background": "light"
     },
     "output_type": "display_data"
    },
    {
     "data": {
      "image/png": "[encoded data removed]",
      "text/plain": [
       "<Figure size 432x288 with 1 Axes>"
      ]
     },
     "metadata": {
      "needs_background": "light"
     },
     "output_type": "display_data"
    },
    {
     "data": {
      "image/png": "[encoded data removed]",
      "text/plain": [
       "<Figure size 432x288 with 1 Axes>"
      ]
     },
     "metadata": {
      "needs_background": "light"
     },
     "output_type": "display_data"
    },
    {
     "data": {
      "image/png": "[encoded data removed]",
      "text/plain": [
       "<Figure size 432x288 with 1 Axes>"
      ]
     },
     "metadata": {
      "needs_background": "light"
     },
     "output_type": "display_data"
    },
    {
     "data": {
      "image/png": "[encoded data removed]",
      "text/plain": [
       "<Figure size 432x288 with 1 Axes>"
      ]
     },
     "metadata": {
      "needs_background": "light"
     },
     "output_type": "display_data"
    },
    {
     "data": {
      "image/png": "[encoded data removed]",
      "text/plain": [
       "<Figure size 432x288 with 1 Axes>"
      ]
     },
     "metadata": {
      "needs_background": "light"
     },
     "output_type": "display_data"
    },
    {
     "data": {
      "image/png": "[encoded data removed]",
      "text/plain": [
       "<Figure size 432x288 with 1 Axes>"
      ]
     },
     "metadata": {
      "needs_background": "light"
     },
     "output_type": "display_data"
    },
    {
     "data": {
      "image/png": "[encoded data removed]",
      "text/plain": [
       "<Figure size 432x288 with 1 Axes>"
      ]
     },
     "metadata": {
      "needs_background": "light"
     },
     "output_type": "display_data"
    },
    {
     "data": {
      "image/png": "[encoded data removed]",
      "text/plain": [
       "<Figure size 432x288 with 1 Axes>"
      ]
     },
     "metadata": {
      "needs_background": "light"
     },
     "output_type": "display_data"
    },
    {
     "data": {
      "image/png": "[encoded data removed]",
      "text/plain": [
       "<Figure size 432x288 with 1 Axes>"
      ]
     },
     "metadata": {
      "needs_background": "light"
     },
     "output_type": "display_data"
    },
    {
     "data": {
      "image/png": "[encoded data removed]",
      "text/plain": [
       "<Figure size 432x288 with 1 Axes>"
      ]
     },
     "metadata": {
      "needs_background": "light"
     },
     "output_type": "display_data"
    },
    {
     "data": {
      "image/png": "[encoded data removed]",
      "text/plain": [
       "<Figure size 432x288 with 1 Axes>"
      ]
     },
     "metadata": {
      "needs_background": "light"
     },
     "output_type": "display_data"
    },
    {
     "data": {
      "image/png": "[encoded data removed]",
      "text/plain": [
       "<Figure size 432x288 with 1 Axes>"
      ]
     },
     "metadata": {
      "needs_background": "light"
     },
     "output_type": "display_data"
    }
   ],
   "source": [
    "for i in sport.query('Churn == 1').drop(['Churn'], axis=1).columns:\n",
    "    sns.distplot(sport.query('Churn == 1')[i], bins=10, color = 'red')\n",
    "    plt.show() \n"
   ]
  },
  {
   "cell_type": "markdown",
   "metadata": {},
   "source": [
    "<div class=\"alert alert-info\"> <b>Уже прослеживается явная закономерность. Меньше подвержены оттоку клиенты, которые: </b> \n",
    "    \n",
    "•\tПроживают или работают в районе, где находится фитнес-центр;\n",
    "    \n",
    "•\tЯвляются сотрудниками компании-партнёра клуба; \n",
    "    \n",
    "•\tИспользовали промо-код от знакомого при оплате первого абонемента;\n",
    "    \n",
    "•\tДлительность текущего действующего абонемента больше 1 месяц;\n",
    "    \n",
    "•\tПосещают групповые занятия;\n",
    "    \n",
    "•\tДольше срок окончания текущего абонемента;   \n",
    "    \n",
    "•\tПрошло больше времени с момента первого обращения в фитнес-центр, в среднем не менее 4 месяцев;\n",
    "    \n",
    "•\tСредняя частота посещений в неделю за предыдущий месяц выше, в среднем не менее 2 раза  неделю.    \n",
    "    \n",
    "    \n",
    "   \n",
    "</div>"
   ]
  },
  {
   "cell_type": "code",
   "execution_count": 11,
   "metadata": {},
   "outputs": [
    {
     "data": {
      "image/png": "[encoded data removed]",
      "text/plain": [
       "<Figure size 1152x792 with 2 Axes>"
      ]
     },
     "metadata": {},
     "output_type": "display_data"
    }
   ],
   "source": [
    "cm = sport.corr() \n",
    "\n",
    "sns.set(style='white')\n",
    "plt.figure(figsize=(16, 11))\n",
    "plt.title('Корреляция признаков')\n",
    "sns.heatmap(cm, annot = True, square=True, fmt='.1%', linewidths=1, linecolor='gray')\n",
    "plt.show()"
   ]
  },
  {
   "cell_type": "markdown",
   "metadata": {},
   "source": [
    "<div class=\"alert alert-info\"> <b>Расположим факторы, влияющие на отток, по убыванию значимости (т.е. сначала идут те, которые оказывают наибольшее влияние), разделим на три группы. </b> \n",
    "    \n",
    "**Максимально влияют, около 40%:**    \n",
    "    \n",
    "•\tВремя с момента первого обращения в фитнес-центр, чем оно больше, тем менее вероятен отток;\n",
    "    \n",
    "•\tСредняя частота посещений в неделю за предыдущий месяц; \n",
    "    \n",
    "•\tВозраст и длительность текущего действующего абонемента;\n",
    "    \n",
    "•\tСрок до окончания текущего действующего абонемента (в месяцах);\n",
    "    \n",
    "**Среднее влияние - 25%:**\n",
    "    \n",
    "•\tСредняя частота посещений в неделю за все время с начала действия абонемента;\n",
    "    \n",
    "**В меньшей степени влияние - 12-20%:**\n",
    "    \n",
    "•\tОстальные факторы, кроме пола и телефона;   \n",
    "    \n",
    "\n",
    "    \n",
    "<b>Чем больше вышеуказанные показатели, тем менее вероятен отток</b> \n",
    "    \n",
    "Пол и телефон не влияют.    \n",
    "    \n",
    "    \n",
    "   \n",
    "</div>"
   ]
  },
  {
   "cell_type": "markdown",
   "metadata": {},
   "source": [
    "<div class=\"alert alert-info\"> <b> </b> \n",
    "    \n",
    "**Между собой сильно кореллируют:**    \n",
    "    \n",
    "•\t'Month_to_end_contract' — срок до окончания текущего действующего абонемента и 'Contract_period' — длительность текущего действующего абонемента (месяц, 3 месяца, 6 месяцев, год), они оказывают одинаковое влияние на отток.\n",
    "    \n",
    "Исключим из рассмотрения 'Avg_additional_charges_total'(суммарная выручка от других услуг фитнес-центра), т.к. при группировке по оттоку нет принципиальной разницы(для модели \"случайной лес\" метрики без этих данных будут лучше, я проверила это фактически, рассчитав метрики с этими данными и без) \n",
    "        \n",
    "<b>Исключим из рассмотрения: Month_to_end_contract, Avg_additional_charges_total,  Пол и телефон (т.к. не влияют), Avg_class_frequency_current_month.</b> \n",
    "    \n",
    "           \n",
    "</div>"
   ]
  },
  {
   "cell_type": "code",
   "execution_count": 12,
   "metadata": {},
   "outputs": [
    {
     "data": {
      "text/plain": [
       "Index(['gender', 'Near_Location', 'Partner', 'Promo_friends', 'Phone',\n",
       "       'Contract_period', 'Group_visits', 'Age',\n",
       "       'Avg_additional_charges_total', 'Month_to_end_contract', 'Lifetime',\n",
       "       'Avg_class_frequency_total', 'Avg_class_frequency_current_month',\n",
       "       'Churn'],\n",
       "      dtype='object')"
      ]
     },
     "execution_count": 12,
     "metadata": {},
     "output_type": "execute_result"
    }
   ],
   "source": [
    "sport.columns"
   ]
  },
  {
   "cell_type": "code",
   "execution_count": 13,
   "metadata": {},
   "outputs": [
    {
     "data": {
      "text/plain": [
       "Index(['Near_Location', 'Partner', 'Promo_friends', 'Contract_period',\n",
       "       'Group_visits', 'Age', 'Avg_additional_charges_total', 'Lifetime',\n",
       "       'Avg_class_frequency_total', 'Churn'],\n",
       "      dtype='object')"
      ]
     },
     "execution_count": 13,
     "metadata": {},
     "output_type": "execute_result"
    }
   ],
   "source": [
    "#Исключим из рассмотрения: Month_to_end_contract, Avg_additional_charges_total,  \n",
    "#Пол и телефон (т.к. не влияют), Avg_class_frequency_current_month\n",
    "sport= sport[['Near_Location', 'Partner', 'Promo_friends',\n",
    "       'Contract_period', 'Group_visits', 'Age', 'Avg_additional_charges_total',\n",
    "       'Lifetime', 'Avg_class_frequency_total', 'Churn']]\n",
    "sport.columns"
   ]
  },
  {
   "cell_type": "markdown",
   "metadata": {},
   "source": [
    "## Модель прогнозирования оттока клиентов"
   ]
  },
  {
   "cell_type": "markdown",
   "metadata": {},
   "source": [
    "### Логистическая регрессия"
   ]
  },
  {
   "cell_type": "code",
   "execution_count": 14,
   "metadata": {},
   "outputs": [],
   "source": [
    "# разделим данные на признаки (матрица X) и целевую переменную (y)\n",
    "X = sport.drop(['Churn'], axis=1) \n",
    "y = sport['Churn']\n"
   ]
  },
  {
   "cell_type": "code",
   "execution_count": 15,
   "metadata": {},
   "outputs": [],
   "source": [
    "# разделяем модель на обучающую и валидационную выборку\n",
    "X_train, X_test, y_train, y_test = train_test_split(X, y, test_size=0.2, random_state=0, stratify = y)"
   ]
  },
  {
   "cell_type": "code",
   "execution_count": 16,
   "metadata": {},
   "outputs": [],
   "source": [
    "# задаём алгоритм для модели \n",
    "lr_model = LogisticRegression(solver='liblinear', random_state=0) "
   ]
  },
  {
   "cell_type": "code",
   "execution_count": 17,
   "metadata": {},
   "outputs": [
    {
     "name": "stdout",
     "output_type": "stream",
     "text": [
      "[1 0 0 0 0]\n",
      "[0.7189894  0.09573218 0.00798086 0.05601188 0.0345909 ]\n"
     ]
    }
   ],
   "source": [
    "# обучим модель\n",
    "lr_model.fit(X_train, y_train)\n",
    "\n",
    "# воспользуемся уже обученной моделью, чтобы сделать прогнозы\n",
    "lr_predictions = lr_model.predict(X_test) \n",
    "lr_probabilities = lr_model.predict_proba(X_test)[:,1] \n",
    "print(lr_predictions[:5])\n",
    "print(lr_probabilities[:5])\n"
   ]
  },
  {
   "cell_type": "markdown",
   "metadata": {},
   "source": [
    "### Случайный лес"
   ]
  },
  {
   "cell_type": "code",
   "execution_count": 18,
   "metadata": {},
   "outputs": [
    {
     "name": "stdout",
     "output_type": "stream",
     "text": [
      "[1 0 0 0 0]\n",
      "[0.96 0.03 0.03 0.01 0.01]\n"
     ]
    }
   ],
   "source": [
    "# зададим алгоритм для новой модели на основе алгоритма случайного леса\n",
    "rf_model = RandomForestClassifier(n_estimators = 100, random_state=0) \n",
    "# обучим модель случайного леса\n",
    "rf_model.fit(X_train, y_train)\n",
    "# воспользуемся уже обученной моделью, чтобы сделать прогнозы\n",
    "rf_predictions = rf_model.predict(X_test)\n",
    "rf_probabilities = rf_model.predict_proba(X_test)[:, 1]\n",
    "print(rf_predictions[:5])\n",
    "print(rf_probabilities[:5])"
   ]
  },
  {
   "cell_type": "markdown",
   "metadata": {},
   "source": [
    "### Метрики accuracy, precision и recall для обеих моделей "
   ]
  },
  {
   "cell_type": "code",
   "execution_count": 19,
   "metadata": {},
   "outputs": [],
   "source": [
    "def print_all_metrics(y_true, y_pred, y_proba, title='Метрики классификации'):\n",
    "    print(title)\n",
    "    print('\\tAccuracy: {:.2f}'.format(accuracy_score(y_true, y_pred)))\n",
    "    print('\\tPrecision: {:.2f}'.format(precision_score(y_true, y_pred)))\n",
    "    print('\\tRecall: {:.2f}'.format(recall_score(y_true, y_pred)))\n",
    "\n"
   ]
  },
  {
   "cell_type": "code",
   "execution_count": 20,
   "metadata": {},
   "outputs": [
    {
     "name": "stdout",
     "output_type": "stream",
     "text": [
      "Метрики для модели - логистической регрессии:\n",
      "\tAccuracy: 0.90\n",
      "\tPrecision: 0.82\n",
      "\tRecall: 0.81\n"
     ]
    }
   ],
   "source": [
    "print_all_metrics(\n",
    "    y_test,\n",
    "    lr_predictions,\n",
    "    lr_probabilities,\n",
    "    title='Метрики для модели - логистической регрессии:',\n",
    ")\n"
   ]
  },
  {
   "cell_type": "code",
   "execution_count": 21,
   "metadata": {},
   "outputs": [
    {
     "name": "stdout",
     "output_type": "stream",
     "text": [
      "Метрики для модели - случайный лес:\n",
      "\tAccuracy: 0.90\n",
      "\tPrecision: 0.83\n",
      "\tRecall: 0.77\n"
     ]
    }
   ],
   "source": [
    "print_all_metrics(\n",
    "    y_test,\n",
    "    rf_predictions,\n",
    "    rf_probabilities,\n",
    "    title='Метрики для модели - случайный лес:',\n",
    ")\n"
   ]
  },
  {
   "cell_type": "markdown",
   "metadata": {},
   "source": [
    "<div class=\"alert alert-info\"> <b> </b> \n",
    "    \n",
    "**Метрики двух моделей практически не отличаются, кроме Recall**    \n",
    "    \n",
    "•\t**Аccuracy** (доля правильных ответов) в обоих случаях почти одиноковый - 90%\n",
    "    \n",
    "•\t**Precision** (доля правильных ответов среди предсказанных ушедших клиентов) - 82 и 83%, т.е. часть клиентов, которым спрогнозировали отток, не ушли.  \n",
    "    \n",
    "•\t**Recall** (сколько реальных объектов \"1\" класса смогли обнаружить)  в данном случае сколько клиентов, которые ушли, удалось предсказать -  81% и 77% клиентов   \n",
    "    \n",
    "**Модель \"Логистическая регрессия\" показала себя лучше в предсказании**, т.к. обнаружила бОльший % оттока.           \n",
    "</div>"
   ]
  },
  {
   "cell_type": "code",
   "execution_count": 22,
   "metadata": {},
   "outputs": [
    {
     "data": {
      "text/html": [
       "<div>\n",
       "<style scoped>\n",
       "    .dataframe tbody tr th:only-of-type {\n",
       "        vertical-align: middle;\n",
       "    }\n",
       "\n",
       "    .dataframe tbody tr th {\n",
       "        vertical-align: top;\n",
       "    }\n",
       "\n",
       "    .dataframe thead th {\n",
       "        text-align: right;\n",
       "    }\n",
       "</style>\n",
       "<table border=\"1\" class=\"dataframe\">\n",
       "  <thead>\n",
       "    <tr style=\"text-align: right;\">\n",
       "      <th></th>\n",
       "      <th>feature</th>\n",
       "      <th>importance</th>\n",
       "    </tr>\n",
       "  </thead>\n",
       "  <tbody>\n",
       "    <tr>\n",
       "      <td>7</td>\n",
       "      <td>Lifetime</td>\n",
       "      <td>0.328173</td>\n",
       "    </tr>\n",
       "    <tr>\n",
       "      <td>8</td>\n",
       "      <td>Avg_class_frequency_total</td>\n",
       "      <td>0.177775</td>\n",
       "    </tr>\n",
       "    <tr>\n",
       "      <td>5</td>\n",
       "      <td>Age</td>\n",
       "      <td>0.156822</td>\n",
       "    </tr>\n",
       "    <tr>\n",
       "      <td>6</td>\n",
       "      <td>Avg_additional_charges_total</td>\n",
       "      <td>0.145578</td>\n",
       "    </tr>\n",
       "    <tr>\n",
       "      <td>3</td>\n",
       "      <td>Contract_period</td>\n",
       "      <td>0.125755</td>\n",
       "    </tr>\n",
       "    <tr>\n",
       "      <td>4</td>\n",
       "      <td>Group_visits</td>\n",
       "      <td>0.020653</td>\n",
       "    </tr>\n",
       "    <tr>\n",
       "      <td>1</td>\n",
       "      <td>Partner</td>\n",
       "      <td>0.017735</td>\n",
       "    </tr>\n",
       "    <tr>\n",
       "      <td>2</td>\n",
       "      <td>Promo_friends</td>\n",
       "      <td>0.014188</td>\n",
       "    </tr>\n",
       "    <tr>\n",
       "      <td>0</td>\n",
       "      <td>Near_Location</td>\n",
       "      <td>0.013321</td>\n",
       "    </tr>\n",
       "  </tbody>\n",
       "</table>\n",
       "</div>"
      ],
      "text/plain": [
       "                        feature  importance\n",
       "7                      Lifetime    0.328173\n",
       "8     Avg_class_frequency_total    0.177775\n",
       "5                           Age    0.156822\n",
       "6  Avg_additional_charges_total    0.145578\n",
       "3               Contract_period    0.125755\n",
       "4                  Group_visits    0.020653\n",
       "1                       Partner    0.017735\n",
       "2                 Promo_friends    0.014188\n",
       "0                 Near_Location    0.013321"
      ]
     },
     "execution_count": 22,
     "metadata": {},
     "output_type": "execute_result"
    }
   ],
   "source": [
    "pd.DataFrame(\n",
    "    data={'feature': X.columns, 'importance': rf_model.feature_importances_}\n",
    ").sort_values(by = 'importance', ascending = False)\n"
   ]
  },
  {
   "cell_type": "markdown",
   "metadata": {},
   "source": [
    "<div class=\"alert alert-info\"> <b> </b> \n",
    "    \n",
    "**Самым важными признаками, влияющими на отток являются:** \n",
    "    \n",
    "1. Lifetime - время с момента первого обращения в фитнес-центр (в месяцах),\n",
    "    \n",
    "2. Средняя частота посещений в неделю\n",
    "\n",
    "\n",
    "    \n",
    "Самым НЕ важными являются: Near_Location (проживание или работа в районе, где находится фитнес-центр),  использование промо-кода от знакомого при оплате первого абонемента, сотрудник компании-партнёра клуба,  факт посещения групповых занятий.\n",
    "    \n",
    "    \n",
    "</div>"
   ]
  },
  {
   "cell_type": "markdown",
   "metadata": {},
   "source": [
    "## Кластеризация клиентов"
   ]
  },
  {
   "cell_type": "code",
   "execution_count": 23,
   "metadata": {},
   "outputs": [
    {
     "data": {
      "text/plain": [
       "array([[ 0.42788074,  1.02686062,  1.49716101,  0.28989014,  1.19403206,\n",
       "        -0.0565538 , -1.37753121, -0.19332863, -1.91191971]])"
      ]
     },
     "execution_count": 23,
     "metadata": {},
     "output_type": "execute_result"
    }
   ],
   "source": [
    "scaler = StandardScaler() # создаём объект класса scaler (нормализатор)\n",
    "X_sc = scaler.fit_transform(sport.drop(columns = ['Churn'])) # обучаем нормализатор и преобразуем набор данных \n",
    "(X_sc[:1]) "
   ]
  },
  {
   "cell_type": "code",
   "execution_count": 24,
   "metadata": {
    "scrolled": false
   },
   "outputs": [
    {
     "data": {
      "image/png": "[encoded data removed]",
      "text/plain": [
       "<Figure size 1080x720 with 1 Axes>"
      ]
     },
     "metadata": {},
     "output_type": "display_data"
    }
   ],
   "source": [
    "linked = linkage(X_sc, method = 'ward') #таблица «связок» между объектами\n",
    "\n",
    "plt.figure(figsize=(15, 10))  \n",
    "dendrogram(linked, orientation='top')\n",
    "plt.show() \n"
   ]
  },
  {
   "cell_type": "code",
   "execution_count": 25,
   "metadata": {},
   "outputs": [
    {
     "name": "stdout",
     "output_type": "stream",
     "text": [
      "Silhouette_score: 0.17\n"
     ]
    }
   ],
   "source": [
    "km = KMeans(n_clusters = 5, random_state=0) # задаём число кластеров равное 5\n",
    "labels = km.fit_predict(X_sc) # применяем алгоритм к данным и формируем вектор кластеров \n",
    "print('Silhouette_score: {:.2f}'.format(silhouette_score(X_sc, labels)))"
   ]
  },
  {
   "cell_type": "markdown",
   "metadata": {},
   "source": [
    "### Средние значения для каждого кластера"
   ]
  },
  {
   "cell_type": "code",
   "execution_count": 26,
   "metadata": {},
   "outputs": [
    {
     "data": {
      "text/html": [
       "<div>\n",
       "<style scoped>\n",
       "    .dataframe tbody tr th:only-of-type {\n",
       "        vertical-align: middle;\n",
       "    }\n",
       "\n",
       "    .dataframe tbody tr th {\n",
       "        vertical-align: top;\n",
       "    }\n",
       "\n",
       "    .dataframe thead th {\n",
       "        text-align: right;\n",
       "    }\n",
       "</style>\n",
       "<table border=\"1\" class=\"dataframe\">\n",
       "  <thead>\n",
       "    <tr style=\"text-align: right;\">\n",
       "      <th></th>\n",
       "      <th>Near_Location</th>\n",
       "      <th>Partner</th>\n",
       "      <th>Promo_friends</th>\n",
       "      <th>Contract_period</th>\n",
       "      <th>Group_visits</th>\n",
       "      <th>Age</th>\n",
       "      <th>Avg_additional_charges_total</th>\n",
       "      <th>Lifetime</th>\n",
       "      <th>Avg_class_frequency_total</th>\n",
       "      <th>Churn</th>\n",
       "    </tr>\n",
       "    <tr>\n",
       "      <th>number</th>\n",
       "      <th></th>\n",
       "      <th></th>\n",
       "      <th></th>\n",
       "      <th></th>\n",
       "      <th></th>\n",
       "      <th></th>\n",
       "      <th></th>\n",
       "      <th></th>\n",
       "      <th></th>\n",
       "      <th></th>\n",
       "    </tr>\n",
       "  </thead>\n",
       "  <tbody>\n",
       "    <tr>\n",
       "      <td>4</td>\n",
       "      <td>0.954683</td>\n",
       "      <td>0.495468</td>\n",
       "      <td>0.241692</td>\n",
       "      <td>5.888218</td>\n",
       "      <td>0.429003</td>\n",
       "      <td>30.262840</td>\n",
       "      <td>167.061566</td>\n",
       "      <td>12.525680</td>\n",
       "      <td>2.217033</td>\n",
       "      <td>0.000000</td>\n",
       "    </tr>\n",
       "    <tr>\n",
       "      <td>1</td>\n",
       "      <td>0.996113</td>\n",
       "      <td>0.960155</td>\n",
       "      <td>0.941691</td>\n",
       "      <td>7.448980</td>\n",
       "      <td>0.479106</td>\n",
       "      <td>29.574344</td>\n",
       "      <td>154.498117</td>\n",
       "      <td>3.634597</td>\n",
       "      <td>1.931320</td>\n",
       "      <td>0.133139</td>\n",
       "    </tr>\n",
       "    <tr>\n",
       "      <td>2</td>\n",
       "      <td>1.000000</td>\n",
       "      <td>0.244014</td>\n",
       "      <td>0.084379</td>\n",
       "      <td>4.461802</td>\n",
       "      <td>1.000000</td>\n",
       "      <td>29.458381</td>\n",
       "      <td>146.463808</td>\n",
       "      <td>2.850627</td>\n",
       "      <td>1.920231</td>\n",
       "      <td>0.224629</td>\n",
       "    </tr>\n",
       "    <tr>\n",
       "      <td>3</td>\n",
       "      <td>0.000000</td>\n",
       "      <td>0.490000</td>\n",
       "      <td>0.071667</td>\n",
       "      <td>2.945000</td>\n",
       "      <td>0.228333</td>\n",
       "      <td>28.681667</td>\n",
       "      <td>136.832314</td>\n",
       "      <td>2.783333</td>\n",
       "      <td>1.765080</td>\n",
       "      <td>0.408333</td>\n",
       "    </tr>\n",
       "    <tr>\n",
       "      <td>0</td>\n",
       "      <td>1.000000</td>\n",
       "      <td>0.246776</td>\n",
       "      <td>0.058469</td>\n",
       "      <td>2.950129</td>\n",
       "      <td>0.000000</td>\n",
       "      <td>28.584695</td>\n",
       "      <td>140.112487</td>\n",
       "      <td>2.444540</td>\n",
       "      <td>1.764249</td>\n",
       "      <td>0.414445</td>\n",
       "    </tr>\n",
       "  </tbody>\n",
       "</table>\n",
       "</div>"
      ],
      "text/plain": [
       "        Near_Location   Partner  Promo_friends  Contract_period  Group_visits  \\\n",
       "number                                                                          \n",
       "4            0.954683  0.495468       0.241692         5.888218      0.429003   \n",
       "1            0.996113  0.960155       0.941691         7.448980      0.479106   \n",
       "2            1.000000  0.244014       0.084379         4.461802      1.000000   \n",
       "3            0.000000  0.490000       0.071667         2.945000      0.228333   \n",
       "0            1.000000  0.246776       0.058469         2.950129      0.000000   \n",
       "\n",
       "              Age  Avg_additional_charges_total   Lifetime  \\\n",
       "number                                                       \n",
       "4       30.262840                    167.061566  12.525680   \n",
       "1       29.574344                    154.498117   3.634597   \n",
       "2       29.458381                    146.463808   2.850627   \n",
       "3       28.681667                    136.832314   2.783333   \n",
       "0       28.584695                    140.112487   2.444540   \n",
       "\n",
       "        Avg_class_frequency_total     Churn  \n",
       "number                                       \n",
       "4                        2.217033  0.000000  \n",
       "1                        1.931320  0.133139  \n",
       "2                        1.920231  0.224629  \n",
       "3                        1.765080  0.408333  \n",
       "0                        1.764249  0.414445  "
      ]
     },
     "execution_count": 26,
     "metadata": {},
     "output_type": "execute_result"
    }
   ],
   "source": [
    "# сохраним метки кластера в поле нашего датасета\n",
    "sport['number'] = labels\n",
    "sport.groupby('number').mean().sort_values(by = 'Churn')"
   ]
  },
  {
   "cell_type": "markdown",
   "metadata": {},
   "source": [
    "<div class=\"alert alert-info\"> <b> </b> \n",
    "    \n",
    "**Группа № 1 и 4** - активные пользователи услугами клуба, большая часть является сотрудниками компаний-партнёров клуба, пришли по приглашению друга, длительность действующего абоненмента у них выше, посещают груповые занятия 50%. Группа № 4 значительно дольше являются пользователями клуба. Отток у этих групп минимальный.\n",
    "    \n",
    "**Группы № 0,3** - не посещают и мало посещают групповые занятия, не использовали промо-код от знакомого при оплате первого абонемента, т.е. сработало не сарафанное радио, длительность действующего абоненмента у них низкая, груп.занятия не посещают, не долго являются пользователями клуба. Отток у этих групп высокий - 40%.\n",
    "    \n",
    "**Группа № 2** - имеет средние показатели относительно Групп №1,4 и № 0,3. \n",
    "    \n",
    "Самая заинтересованная, спортивноориентированная, лояльная к клубу группа - **№ 4**.\n",
    "    \n",
    "</div>"
   ]
  },
  {
   "cell_type": "markdown",
   "metadata": {},
   "source": [
    "### Распределение признаков для каждого кластера"
   ]
  },
  {
   "cell_type": "code",
   "execution_count": 27,
   "metadata": {},
   "outputs": [
    {
     "data": {
      "text/plain": [
       "Index(['Near_Location', 'Partner', 'Promo_friends', 'Contract_period',\n",
       "       'Group_visits', 'Age', 'Avg_additional_charges_total', 'Lifetime',\n",
       "       'Avg_class_frequency_total', 'Churn', 'number'],\n",
       "      dtype='object')"
      ]
     },
     "execution_count": 27,
     "metadata": {},
     "output_type": "execute_result"
    }
   ],
   "source": [
    "sport.columns"
   ]
  },
  {
   "cell_type": "code",
   "execution_count": 28,
   "metadata": {
    "scrolled": true
   },
   "outputs": [
    {
     "data": {
      "image/png": "[encoded data removed]",
      "text/plain": [
       "<Figure size 432x288 with 1 Axes>"
      ]
     },
     "metadata": {},
     "output_type": "display_data"
    },
    {
     "data": {
      "image/png": "[encoded data removed]",
      "text/plain": [
       "<Figure size 432x288 with 1 Axes>"
      ]
     },
     "metadata": {},
     "output_type": "display_data"
    },
    {
     "data": {
      "image/png": "[encoded data removed]",
      "text/plain": [
       "<Figure size 432x288 with 1 Axes>"
      ]
     },
     "metadata": {},
     "output_type": "display_data"
    },
    {
     "data": {
      "image/png": "[encoded data removed]",
      "text/plain": [
       "<Figure size 432x288 with 1 Axes>"
      ]
     },
     "metadata": {},
     "output_type": "display_data"
    },
    {
     "data": {
      "image/png": "[encoded data removed]",
      "text/plain": [
       "<Figure size 432x288 with 1 Axes>"
      ]
     },
     "metadata": {},
     "output_type": "display_data"
    },
    {
     "data": {
      "image/png": "[encoded data removed]",
      "text/plain": [
       "<Figure size 432x288 with 1 Axes>"
      ]
     },
     "metadata": {},
     "output_type": "display_data"
    }
   ],
   "source": [
    "for i in ['Near_Location', 'Partner', 'Promo_friends', 'Contract_period',\n",
    "       'Group_visits', 'Churn']:\n",
    "    sns.countplot(x=\"number\", hue=i, data=sport)\n",
    "    plt.show() "
   ]
  },
  {
   "cell_type": "markdown",
   "metadata": {},
   "source": [
    "<div class=\"alert alert-info\"> <b> </b> \n",
    "    \n",
    "Кластеры явно распределены по 'Near_Location', 'Promo_friends', 'Contract_period',\n",
    "'Group_visits', 'Churn'.  И только одна группа явно выделяется по 'Lifetime'.\n",
    "    \n",
    "</div>"
   ]
  },
  {
   "cell_type": "code",
   "execution_count": 29,
   "metadata": {
    "scrolled": true
   },
   "outputs": [
    {
     "data": {
      "image/png": "[encoded data removed]",
      "text/plain": [
       "<Figure size 432x288 with 1 Axes>"
      ]
     },
     "metadata": {},
     "output_type": "display_data"
    },
    {
     "data": {
      "image/png": "[encoded data removed]",
      "text/plain": [
       "<Figure size 432x288 with 1 Axes>"
      ]
     },
     "metadata": {},
     "output_type": "display_data"
    },
    {
     "data": {
      "image/png": "[encoded data removed]",
      "text/plain": [
       "<Figure size 432x288 with 1 Axes>"
      ]
     },
     "metadata": {},
     "output_type": "display_data"
    },
    {
     "data": {
      "image/png": "[encoded data removed]",
      "text/plain": [
       "<Figure size 432x288 with 1 Axes>"
      ]
     },
     "metadata": {},
     "output_type": "display_data"
    }
   ],
   "source": [
    "for i in ['Age', 'Avg_additional_charges_total', 'Lifetime',\n",
    "       'Avg_class_frequency_total']:\n",
    "    sns.boxplot(x='number',y=i, data=sport)\n",
    "    plt.show() "
   ]
  },
  {
   "cell_type": "code",
   "execution_count": 30,
   "metadata": {},
   "outputs": [
    {
     "data": {
      "text/html": [
       "<div>\n",
       "<style scoped>\n",
       "    .dataframe tbody tr th:only-of-type {\n",
       "        vertical-align: middle;\n",
       "    }\n",
       "\n",
       "    .dataframe tbody tr th {\n",
       "        vertical-align: top;\n",
       "    }\n",
       "\n",
       "    .dataframe thead th {\n",
       "        text-align: right;\n",
       "    }\n",
       "</style>\n",
       "<table border=\"1\" class=\"dataframe\">\n",
       "  <thead>\n",
       "    <tr style=\"text-align: right;\">\n",
       "      <th></th>\n",
       "      <th>cluster</th>\n",
       "      <th>Близость к клубу</th>\n",
       "      <th>Партнер клуба</th>\n",
       "      <th>По акции «приведи друга»</th>\n",
       "      <th>Длительность абонемента</th>\n",
       "      <th>Факт посещения груп.занятий</th>\n",
       "      <th>Lifetime</th>\n",
       "      <th>Ср.частота посещений в неделю ALL, d</th>\n",
       "      <th>Ср.частота посещений за пред.мес,d</th>\n",
       "      <th>Факт оттока</th>\n",
       "    </tr>\n",
       "  </thead>\n",
       "  <tbody>\n",
       "    <tr>\n",
       "      <td>0</td>\n",
       "      <td>0</td>\n",
       "      <td>-</td>\n",
       "      <td>50/50</td>\n",
       "      <td>-</td>\n",
       "      <td>min</td>\n",
       "      <td>-</td>\n",
       "      <td>min</td>\n",
       "      <td>d&lt;2</td>\n",
       "      <td>d&lt;2</td>\n",
       "      <td>max</td>\n",
       "    </tr>\n",
       "    <tr>\n",
       "      <td>1</td>\n",
       "      <td>1</td>\n",
       "      <td>+</td>\n",
       "      <td>+</td>\n",
       "      <td>+</td>\n",
       "      <td>7</td>\n",
       "      <td>+</td>\n",
       "      <td>norm</td>\n",
       "      <td>d&lt;2</td>\n",
       "      <td>d&lt;2</td>\n",
       "      <td>norm</td>\n",
       "    </tr>\n",
       "    <tr>\n",
       "      <td>2</td>\n",
       "      <td>2</td>\n",
       "      <td>+</td>\n",
       "      <td>-</td>\n",
       "      <td>-</td>\n",
       "      <td>4</td>\n",
       "      <td>+</td>\n",
       "      <td>norm</td>\n",
       "      <td>+d&gt;2</td>\n",
       "      <td>+d&gt;2</td>\n",
       "      <td>min</td>\n",
       "    </tr>\n",
       "    <tr>\n",
       "      <td>3</td>\n",
       "      <td>3</td>\n",
       "      <td>+</td>\n",
       "      <td>+</td>\n",
       "      <td>+</td>\n",
       "      <td>8</td>\n",
       "      <td>+</td>\n",
       "      <td>norm</td>\n",
       "      <td>+d&gt;2</td>\n",
       "      <td>+d&gt;2</td>\n",
       "      <td>min</td>\n",
       "    </tr>\n",
       "    <tr>\n",
       "      <td>4</td>\n",
       "      <td>4</td>\n",
       "      <td>+</td>\n",
       "      <td>-</td>\n",
       "      <td>-</td>\n",
       "      <td>min</td>\n",
       "      <td>-</td>\n",
       "      <td>min</td>\n",
       "      <td>d&lt;2</td>\n",
       "      <td>d&lt;2</td>\n",
       "      <td>max</td>\n",
       "    </tr>\n",
       "  </tbody>\n",
       "</table>\n",
       "</div>"
      ],
      "text/plain": [
       "   cluster Близость к клубу Партнер клуба По акции «приведи друга»   \\\n",
       "0        0                -         50/50                         -   \n",
       "1        1                +             +                         +   \n",
       "2        2                +             -                         -   \n",
       "3        3                +             +                         +   \n",
       "4        4                +             -                         -   \n",
       "\n",
       "  Длительность абонемента Факт посещения груп.занятий Lifetime  \\\n",
       "0                     min                           -      min   \n",
       "1                       7                           +     norm   \n",
       "2                       4                           +     norm   \n",
       "3                       8                           +     norm   \n",
       "4                     min                           -      min   \n",
       "\n",
       "  Ср.частота посещений в неделю ALL, d Ср.частота посещений за пред.мес,d  \\\n",
       "0                                  d<2                                d<2   \n",
       "1                                  d<2                                d<2   \n",
       "2                                 +d>2                               +d>2   \n",
       "3                                 +d>2                               +d>2   \n",
       "4                                  d<2                                d<2   \n",
       "\n",
       "  Факт оттока  \n",
       "0         max  \n",
       "1        norm  \n",
       "2         min  \n",
       "3         min  \n",
       "4         max  "
      ]
     },
     "execution_count": 30,
     "metadata": {},
     "output_type": "execute_result"
    }
   ],
   "source": [
    "df = pd.DataFrame(\n",
    "    {\n",
    "        'cluster': [0,1,2,3,4],\n",
    "        'Близость к клубу': ['-', '+', '+', '+', '+'],\n",
    "        'Партнер клуба': ['50/50', '+', '-', '+', '-'],\n",
    "        'По акции «приведи друга» ': ['-', '+', '-', '+', '-'],\n",
    "        'Длительность абонемента': ['min', 7, 4, 8, 'min'],\n",
    "        'Факт посещения груп.занятий': ['-', '+', '+', '+', '-'],\n",
    "        'Lifetime': ['min', 'norm', 'norm', 'norm', 'min'],\n",
    "        'Ср.частота посещений в неделю ALL, d': ['d<2','d<2','+d>2','+d>2','d<2'],\n",
    "        'Ср.частота посещений за пред.мес,d': ['d<2','d<2','+d>2','+d>2','d<2'],\n",
    "        'Факт оттока': ['max', 'norm', 'min', 'min', 'max'],\n",
    "    }\n",
    ")\n",
    "df"
   ]
  },
  {
   "cell_type": "markdown",
   "metadata": {},
   "source": [
    "### Доля оттока для каждого кластера"
   ]
  },
  {
   "cell_type": "code",
   "execution_count": 31,
   "metadata": {},
   "outputs": [
    {
     "data": {
      "text/plain": [
       "number\n",
       "0    0.414445\n",
       "1    0.133139\n",
       "2    0.224629\n",
       "3    0.408333\n",
       "4    0.000000\n",
       "Name: Churn, dtype: float64"
      ]
     },
     "execution_count": 31,
     "metadata": {},
     "output_type": "execute_result"
    }
   ],
   "source": [
    "sport.groupby('number')['Churn'].mean()"
   ]
  },
  {
   "cell_type": "markdown",
   "metadata": {},
   "source": [
    "<div class=\"alert alert-info\"> <b> </b> \n",
    "    \n",
    "**В кластерах  № 0, 1 отток клиентов минимальный. В кластере №2 немного выше. В кластерах № 3 и 4 отток значительно выше, чем в № 0 и 1.**\n",
    "    \n",
    "    \n",
    "    \n",
    "    \n",
    "</div>"
   ]
  },
  {
   "cell_type": "markdown",
   "metadata": {},
   "source": [
    "## Выводы и базовые рекомендации по работе с клиентами"
   ]
  },
  {
   "cell_type": "markdown",
   "metadata": {},
   "source": [
    "<div class=\"alert alert-info\"> <b> </b> \n",
    "    \n",
    "Большая часть клиентов пользуется месячным абонементом, что не очень хорошо для клуба, возможно, стоит подумать над хорошим предложением по более длительным абонементам. Значительно увеличился поток клиентов, впервые обратившихся, 1-2 месяца назад (исходя из уникальных значений\t'Lifetime' — Когорта 1 +2) 1450 человек, а это 36% от всех. Есть смысл обратить внимание на акции, предложения в это время и, возможно, повторить.\n",
    "\n",
    "\n",
    "<b> Самым важными признаками, влияющими на отток являются: </b>     \n",
    "   \n",
    "Lifetime - время с момента первого обращения в фитнес-центр (влияет в бОльшей степени на отток),\n",
    "    \n",
    "средняя частота посещений в неделю за предыдущий месяц, \n",
    "    \n",
    "средняя частота посещений в неделю за все время с начала действия абонемента.\n",
    "<b>Чем больше вышеуказанные показатели, тем менее вероятен отток</b>     \n",
    "   \n",
    "Самым НЕ важными являются: Near_Location (проживание или работа в районе, где находится фитнес-центр),  использование промо-кода от знакомого при оплате первого абонемента, сотрудник компании-партнёра клуба,  факт посещения групповых занятий.\n",
    "    \n",
    "Есть смысл предложить дополнительные бонусы, наример, в качестве доп.занятий, кофе или предложений от партнеров, в случаях посещений в неделю не меньше 2-х. Новому клиенту к концу первого месяца предложить следующий месяц по спец.цене.\n",
    "    \n",
    "**Маркетинговые действия должны быть направлены на увеличение кол-ва посещений еженедельно, а также на переход клиента во второй месяц.**    \n",
    "    \n",
    "\n",
    "\n",
    "    \n",
    "    \n",
    "    \n",
    "    \n",
    "    \n",
    "</div>"
   ]
  }
 ],
 "metadata": {
  "ExecuteTimeLog": [
   {
    "duration": 1108,
    "start_time": "2021-07-23T09:52:21.535Z"
   },
   {
    "duration": 4,
    "start_time": "2021-07-23T09:55:05.207Z"
   },
   {
    "duration": 45,
    "start_time": "2021-07-23T09:55:28.818Z"
   },
   {
    "duration": 8,
    "start_time": "2021-07-23T09:55:45.187Z"
   },
   {
    "duration": 503,
    "start_time": "2021-07-23T13:03:09.329Z"
   },
   {
    "duration": 1486,
    "start_time": "2021-07-23T13:03:34.746Z"
   },
   {
    "duration": 308,
    "start_time": "2021-07-23T13:03:36.235Z"
   },
   {
    "duration": 13,
    "start_time": "2021-07-23T13:03:36.547Z"
   },
   {
    "duration": 440,
    "start_time": "2021-07-23T13:03:36.563Z"
   },
   {
    "duration": 19,
    "start_time": "2021-07-23T13:06:08.590Z"
   },
   {
    "duration": 8,
    "start_time": "2021-07-23T13:07:04.941Z"
   },
   {
    "duration": 7,
    "start_time": "2021-07-23T13:07:40.998Z"
   },
   {
    "duration": 11,
    "start_time": "2021-07-23T13:09:28.967Z"
   },
   {
    "duration": 10,
    "start_time": "2021-07-23T13:09:47.171Z"
   },
   {
    "duration": 10,
    "start_time": "2021-07-23T13:10:02.133Z"
   },
   {
    "duration": 14,
    "start_time": "2021-07-23T13:10:51.844Z"
   },
   {
    "duration": 37,
    "start_time": "2021-07-23T13:16:22.722Z"
   },
   {
    "duration": 425,
    "start_time": "2021-07-23T13:18:07.458Z"
   },
   {
    "duration": 422,
    "start_time": "2021-07-23T13:19:27.826Z"
   },
   {
    "duration": 517,
    "start_time": "2021-07-23T13:20:15.058Z"
   },
   {
    "duration": 427,
    "start_time": "2021-07-23T13:20:58.594Z"
   },
   {
    "duration": 466,
    "start_time": "2021-07-23T13:26:05.048Z"
   },
   {
    "duration": 9,
    "start_time": "2021-07-23T13:26:17.761Z"
   },
   {
    "duration": 10,
    "start_time": "2021-07-23T13:26:34.649Z"
   },
   {
    "duration": 9,
    "start_time": "2021-07-23T13:26:39.887Z"
   },
   {
    "duration": 8,
    "start_time": "2021-07-23T13:26:45.402Z"
   },
   {
    "duration": 9,
    "start_time": "2021-07-23T13:27:40.864Z"
   },
   {
    "duration": 8,
    "start_time": "2021-07-23T13:28:20.486Z"
   },
   {
    "duration": 8,
    "start_time": "2021-07-23T13:28:28.223Z"
   },
   {
    "duration": 9,
    "start_time": "2021-07-23T13:29:05.191Z"
   },
   {
    "duration": 9,
    "start_time": "2021-07-23T13:31:14.918Z"
   },
   {
    "duration": 8,
    "start_time": "2021-07-23T13:32:35.070Z"
   },
   {
    "duration": 8,
    "start_time": "2021-07-23T13:32:45.375Z"
   },
   {
    "duration": 8,
    "start_time": "2021-07-23T13:33:03.350Z"
   },
   {
    "duration": 8,
    "start_time": "2021-07-23T13:33:17.813Z"
   },
   {
    "duration": 8,
    "start_time": "2021-07-23T13:34:40.710Z"
   },
   {
    "duration": 39,
    "start_time": "2021-07-23T13:37:16.519Z"
   },
   {
    "duration": 37,
    "start_time": "2021-07-23T13:37:44.622Z"
   },
   {
    "duration": 7,
    "start_time": "2021-07-23T13:40:05.848Z"
   },
   {
    "duration": 1535,
    "start_time": "2021-07-23T13:40:23.603Z"
   },
   {
    "duration": 1763,
    "start_time": "2021-07-23T13:42:49.296Z"
   },
   {
    "duration": 1890,
    "start_time": "2021-07-23T13:43:16.365Z"
   },
   {
    "duration": 1950,
    "start_time": "2021-07-23T13:43:34.427Z"
   },
   {
    "duration": 2177,
    "start_time": "2021-07-23T13:44:00.179Z"
   },
   {
    "duration": 574,
    "start_time": "2021-07-23T13:47:12.498Z"
   },
   {
    "duration": 580,
    "start_time": "2021-07-23T13:48:37.897Z"
   },
   {
    "duration": 565,
    "start_time": "2021-07-23T13:50:05.525Z"
   },
   {
    "duration": 625,
    "start_time": "2021-07-23T13:51:09.361Z"
   },
   {
    "duration": 422,
    "start_time": "2021-07-24T05:33:26.264Z"
   },
   {
    "duration": 1519,
    "start_time": "2021-07-24T05:33:33.647Z"
   },
   {
    "duration": 43,
    "start_time": "2021-07-24T05:33:35.169Z"
   },
   {
    "duration": 10,
    "start_time": "2021-07-24T05:33:35.215Z"
   },
   {
    "duration": 17,
    "start_time": "2021-07-24T05:33:35.228Z"
   },
   {
    "duration": 102,
    "start_time": "2021-07-24T05:33:35.248Z"
   },
   {
    "duration": 557,
    "start_time": "2021-07-24T05:33:35.353Z"
   },
   {
    "duration": 15,
    "start_time": "2021-07-24T05:33:35.913Z"
   },
   {
    "duration": 475,
    "start_time": "2021-07-24T05:33:35.933Z"
   },
   {
    "duration": 9,
    "start_time": "2021-07-24T05:33:36.412Z"
   },
   {
    "duration": 461,
    "start_time": "2021-07-24T05:33:36.424Z"
   },
   {
    "duration": 16,
    "start_time": "2021-07-24T05:33:36.888Z"
   },
   {
    "duration": 124,
    "start_time": "2021-07-24T05:33:36.906Z"
   },
   {
    "duration": 1995,
    "start_time": "2021-07-24T05:33:37.032Z"
   },
   {
    "duration": 541,
    "start_time": "2021-07-24T05:33:39.029Z"
   },
   {
    "duration": 571,
    "start_time": "2021-07-24T05:33:39.573Z"
   },
   {
    "duration": 589,
    "start_time": "2021-07-24T05:33:40.147Z"
   },
   {
    "duration": 12,
    "start_time": "2021-07-24T05:34:42.948Z"
   },
   {
    "duration": 16,
    "start_time": "2021-07-24T05:34:58.661Z"
   },
   {
    "duration": 23,
    "start_time": "2021-07-24T05:36:08.802Z"
   },
   {
    "duration": 889,
    "start_time": "2021-07-24T05:37:46.925Z"
   },
   {
    "duration": 560,
    "start_time": "2021-07-24T05:37:54.257Z"
   },
   {
    "duration": 563,
    "start_time": "2021-07-24T05:38:27.794Z"
   },
   {
    "duration": 706,
    "start_time": "2021-07-24T05:38:46.646Z"
   },
   {
    "duration": 602,
    "start_time": "2021-07-24T05:40:41.894Z"
   },
   {
    "duration": 527,
    "start_time": "2021-07-24T05:40:45.737Z"
   },
   {
    "duration": 576,
    "start_time": "2021-07-24T05:41:31.384Z"
   },
   {
    "duration": 576,
    "start_time": "2021-07-24T05:41:51.124Z"
   },
   {
    "duration": 591,
    "start_time": "2021-07-24T05:42:37.169Z"
   },
   {
    "duration": 703,
    "start_time": "2021-07-24T05:42:51.545Z"
   },
   {
    "duration": 545,
    "start_time": "2021-07-24T05:43:12.730Z"
   },
   {
    "duration": 2352,
    "start_time": "2021-07-24T05:48:57.881Z"
   },
   {
    "duration": 1928,
    "start_time": "2021-07-24T05:49:07.977Z"
   },
   {
    "duration": 9,
    "start_time": "2021-07-24T06:11:07.651Z"
   },
   {
    "duration": 18,
    "start_time": "2021-07-24T06:11:17.770Z"
   },
   {
    "duration": 6216,
    "start_time": "2021-07-24T07:19:59.715Z"
   },
   {
    "duration": 6173,
    "start_time": "2021-07-24T07:21:07.316Z"
   },
   {
    "duration": 6016,
    "start_time": "2021-07-24T07:23:04.854Z"
   },
   {
    "duration": 5326,
    "start_time": "2021-07-24T07:25:30.089Z"
   },
   {
    "duration": 5747,
    "start_time": "2021-07-24T07:26:04.110Z"
   },
   {
    "duration": 5689,
    "start_time": "2021-07-24T07:27:37.271Z"
   },
   {
    "duration": 5448,
    "start_time": "2021-07-24T07:29:22.968Z"
   },
   {
    "duration": 5526,
    "start_time": "2021-07-24T07:29:39.566Z"
   },
   {
    "duration": 6,
    "start_time": "2021-07-24T08:09:43.620Z"
   },
   {
    "duration": 10,
    "start_time": "2021-07-24T08:10:58.694Z"
   },
   {
    "duration": 9,
    "start_time": "2021-07-24T08:12:13.969Z"
   },
   {
    "duration": 5,
    "start_time": "2021-07-24T08:18:37.398Z"
   },
   {
    "duration": 5,
    "start_time": "2021-07-24T08:21:15.825Z"
   },
   {
    "duration": 8,
    "start_time": "2021-07-24T08:23:51.945Z"
   },
   {
    "duration": 4,
    "start_time": "2021-07-24T08:23:53.646Z"
   },
   {
    "duration": 53,
    "start_time": "2021-07-24T08:25:59.715Z"
   },
   {
    "duration": 4,
    "start_time": "2021-07-24T08:27:05.589Z"
   },
   {
    "duration": 52,
    "start_time": "2021-07-24T08:27:06.975Z"
   },
   {
    "duration": 42,
    "start_time": "2021-07-24T08:27:50.991Z"
   },
   {
    "duration": 4,
    "start_time": "2021-07-24T08:39:21.810Z"
   },
   {
    "duration": 1510,
    "start_time": "2021-07-24T08:45:28.928Z"
   },
   {
    "duration": 43,
    "start_time": "2021-07-24T08:45:30.440Z"
   },
   {
    "duration": 14,
    "start_time": "2021-07-24T08:45:30.486Z"
   },
   {
    "duration": 37,
    "start_time": "2021-07-24T08:45:30.504Z"
   },
   {
    "duration": 8,
    "start_time": "2021-07-24T08:45:30.543Z"
   },
   {
    "duration": 54,
    "start_time": "2021-07-24T08:45:30.553Z"
   },
   {
    "duration": 70,
    "start_time": "2021-07-24T08:45:30.610Z"
   },
   {
    "duration": 23,
    "start_time": "2021-07-24T08:45:30.702Z"
   },
   {
    "duration": 3838,
    "start_time": "2021-07-24T08:45:30.729Z"
   },
   {
    "duration": 3721,
    "start_time": "2021-07-24T08:45:34.569Z"
   },
   {
    "duration": 2205,
    "start_time": "2021-07-24T08:45:38.300Z"
   },
   {
    "duration": 7,
    "start_time": "2021-07-24T08:45:40.508Z"
   },
   {
    "duration": 9,
    "start_time": "2021-07-24T08:45:40.518Z"
   },
   {
    "duration": 6,
    "start_time": "2021-07-24T08:45:40.529Z"
   },
   {
    "duration": 8,
    "start_time": "2021-07-24T08:45:40.537Z"
   },
   {
    "duration": 4,
    "start_time": "2021-07-24T08:45:40.547Z"
   },
   {
    "duration": 45,
    "start_time": "2021-07-24T08:45:40.601Z"
   },
   {
    "duration": 45,
    "start_time": "2021-07-24T08:47:16.990Z"
   },
   {
    "duration": 43,
    "start_time": "2021-07-24T08:47:45.903Z"
   },
   {
    "duration": 526,
    "start_time": "2021-07-24T08:48:10.817Z"
   },
   {
    "duration": 5,
    "start_time": "2021-07-24T08:49:41.316Z"
   },
   {
    "duration": 602,
    "start_time": "2021-07-24T08:49:46.405Z"
   },
   {
    "duration": 4,
    "start_time": "2021-07-24T08:53:27.496Z"
   },
   {
    "duration": 896,
    "start_time": "2021-07-24T08:53:29.536Z"
   },
   {
    "duration": 5,
    "start_time": "2021-07-24T08:54:13.528Z"
   },
   {
    "duration": 11,
    "start_time": "2021-07-24T08:54:19.524Z"
   },
   {
    "duration": 11,
    "start_time": "2021-07-24T08:54:22.572Z"
   },
   {
    "duration": 362,
    "start_time": "2021-07-24T08:55:40.402Z"
   },
   {
    "duration": 358,
    "start_time": "2021-07-24T08:56:10.359Z"
   },
   {
    "duration": 8,
    "start_time": "2021-07-24T08:56:31.214Z"
   },
   {
    "duration": 8,
    "start_time": "2021-07-24T08:57:12.390Z"
   },
   {
    "duration": 18,
    "start_time": "2021-07-24T08:57:23.844Z"
   },
   {
    "duration": 362,
    "start_time": "2021-07-24T08:58:00.733Z"
   },
   {
    "duration": 7,
    "start_time": "2021-07-24T08:58:10.282Z"
   },
   {
    "duration": 7,
    "start_time": "2021-07-24T08:58:27.443Z"
   },
   {
    "duration": 1481,
    "start_time": "2021-07-24T09:00:18.042Z"
   },
   {
    "duration": 51,
    "start_time": "2021-07-24T09:00:19.526Z"
   },
   {
    "duration": 19,
    "start_time": "2021-07-24T09:00:19.581Z"
   },
   {
    "duration": 38,
    "start_time": "2021-07-24T09:00:19.603Z"
   },
   {
    "duration": 8,
    "start_time": "2021-07-24T09:00:19.644Z"
   },
   {
    "duration": 51,
    "start_time": "2021-07-24T09:00:19.654Z"
   },
   {
    "duration": 68,
    "start_time": "2021-07-24T09:00:19.707Z"
   },
   {
    "duration": 41,
    "start_time": "2021-07-24T09:00:19.779Z"
   },
   {
    "duration": 3811,
    "start_time": "2021-07-24T09:00:19.823Z"
   },
   {
    "duration": 3626,
    "start_time": "2021-07-24T09:00:23.637Z"
   },
   {
    "duration": 2020,
    "start_time": "2021-07-24T09:00:27.266Z"
   },
   {
    "duration": 14,
    "start_time": "2021-07-24T09:00:29.288Z"
   },
   {
    "duration": 13,
    "start_time": "2021-07-24T09:00:29.304Z"
   },
   {
    "duration": 6,
    "start_time": "2021-07-24T09:00:29.319Z"
   },
   {
    "duration": 13,
    "start_time": "2021-07-24T09:00:29.328Z"
   },
   {
    "duration": 5,
    "start_time": "2021-07-24T09:00:29.343Z"
   },
   {
    "duration": 78,
    "start_time": "2021-07-24T09:00:29.350Z"
   },
   {
    "duration": 518,
    "start_time": "2021-07-24T09:00:29.430Z"
   },
   {
    "duration": 5,
    "start_time": "2021-07-24T09:00:29.950Z"
   },
   {
    "duration": 12,
    "start_time": "2021-07-24T09:00:29.957Z"
   },
   {
    "duration": 32,
    "start_time": "2021-07-24T09:00:29.971Z"
   },
   {
    "duration": 1541,
    "start_time": "2021-07-24T09:45:24.388Z"
   },
   {
    "duration": 44,
    "start_time": "2021-07-24T09:45:25.932Z"
   },
   {
    "duration": 10,
    "start_time": "2021-07-24T09:45:25.979Z"
   },
   {
    "duration": 40,
    "start_time": "2021-07-24T09:45:26.001Z"
   },
   {
    "duration": 8,
    "start_time": "2021-07-24T09:45:26.044Z"
   },
   {
    "duration": 49,
    "start_time": "2021-07-24T09:45:26.054Z"
   },
   {
    "duration": 68,
    "start_time": "2021-07-24T09:45:26.106Z"
   },
   {
    "duration": 42,
    "start_time": "2021-07-24T09:45:26.178Z"
   },
   {
    "duration": 3865,
    "start_time": "2021-07-24T09:45:26.224Z"
   },
   {
    "duration": 3775,
    "start_time": "2021-07-24T09:45:30.092Z"
   },
   {
    "duration": 2071,
    "start_time": "2021-07-24T09:45:33.869Z"
   },
   {
    "duration": 5,
    "start_time": "2021-07-24T09:45:35.943Z"
   },
   {
    "duration": 11,
    "start_time": "2021-07-24T09:45:35.951Z"
   },
   {
    "duration": 39,
    "start_time": "2021-07-24T09:45:35.964Z"
   },
   {
    "duration": 10,
    "start_time": "2021-07-24T09:45:36.005Z"
   },
   {
    "duration": 6,
    "start_time": "2021-07-24T09:45:36.018Z"
   },
   {
    "duration": 35,
    "start_time": "2021-07-24T09:45:36.027Z"
   },
   {
    "duration": 549,
    "start_time": "2021-07-24T09:45:36.065Z"
   },
   {
    "duration": 4,
    "start_time": "2021-07-24T09:45:36.617Z"
   },
   {
    "duration": 19,
    "start_time": "2021-07-24T09:45:36.624Z"
   },
   {
    "duration": 10,
    "start_time": "2021-07-24T09:45:36.645Z"
   },
   {
    "duration": 1572,
    "start_time": "2021-07-24T09:46:54.110Z"
   },
   {
    "duration": 48,
    "start_time": "2021-07-24T09:46:55.685Z"
   },
   {
    "duration": 16,
    "start_time": "2021-07-24T09:46:55.737Z"
   },
   {
    "duration": 82,
    "start_time": "2021-07-24T09:46:55.757Z"
   },
   {
    "duration": 10,
    "start_time": "2021-07-24T09:46:55.843Z"
   },
   {
    "duration": 54,
    "start_time": "2021-07-24T09:46:55.857Z"
   },
   {
    "duration": 121,
    "start_time": "2021-07-24T09:46:55.914Z"
   },
   {
    "duration": 36,
    "start_time": "2021-07-24T09:46:56.040Z"
   },
   {
    "duration": 4959,
    "start_time": "2021-07-24T09:46:56.080Z"
   },
   {
    "duration": 3709,
    "start_time": "2021-07-24T09:47:01.041Z"
   },
   {
    "duration": 2035,
    "start_time": "2021-07-24T09:47:04.753Z"
   },
   {
    "duration": 6,
    "start_time": "2021-07-24T09:47:06.799Z"
   },
   {
    "duration": 8,
    "start_time": "2021-07-24T09:47:06.808Z"
   },
   {
    "duration": 10,
    "start_time": "2021-07-24T09:47:06.819Z"
   },
   {
    "duration": 10,
    "start_time": "2021-07-24T09:47:06.831Z"
   },
   {
    "duration": 12,
    "start_time": "2021-07-24T09:47:06.843Z"
   },
   {
    "duration": 63,
    "start_time": "2021-07-24T09:47:06.857Z"
   },
   {
    "duration": 452,
    "start_time": "2021-07-24T09:47:06.922Z"
   },
   {
    "duration": 5,
    "start_time": "2021-07-24T09:47:07.376Z"
   },
   {
    "duration": 22,
    "start_time": "2021-07-24T09:47:07.383Z"
   },
   {
    "duration": 12,
    "start_time": "2021-07-24T09:47:07.407Z"
   },
   {
    "duration": 1610,
    "start_time": "2021-07-24T09:47:55.299Z"
   },
   {
    "duration": 45,
    "start_time": "2021-07-24T09:47:56.913Z"
   },
   {
    "duration": 10,
    "start_time": "2021-07-24T09:47:56.964Z"
   },
   {
    "duration": 59,
    "start_time": "2021-07-24T09:47:56.976Z"
   },
   {
    "duration": 8,
    "start_time": "2021-07-24T09:47:57.037Z"
   },
   {
    "duration": 18,
    "start_time": "2021-07-24T09:47:57.048Z"
   },
   {
    "duration": 101,
    "start_time": "2021-07-24T09:47:57.069Z"
   },
   {
    "duration": 50,
    "start_time": "2021-07-24T09:47:57.174Z"
   },
   {
    "duration": 3916,
    "start_time": "2021-07-24T09:47:57.227Z"
   },
   {
    "duration": 3891,
    "start_time": "2021-07-24T09:48:01.146Z"
   },
   {
    "duration": 2186,
    "start_time": "2021-07-24T09:48:05.040Z"
   },
   {
    "duration": 7,
    "start_time": "2021-07-24T09:48:07.229Z"
   },
   {
    "duration": 14,
    "start_time": "2021-07-24T09:48:07.238Z"
   },
   {
    "duration": 9,
    "start_time": "2021-07-24T09:48:07.254Z"
   },
   {
    "duration": 8,
    "start_time": "2021-07-24T09:48:07.300Z"
   },
   {
    "duration": 8,
    "start_time": "2021-07-24T09:48:07.310Z"
   },
   {
    "duration": 40,
    "start_time": "2021-07-24T09:48:07.321Z"
   },
   {
    "duration": 544,
    "start_time": "2021-07-24T09:48:07.363Z"
   },
   {
    "duration": 5,
    "start_time": "2021-07-24T09:48:07.910Z"
   },
   {
    "duration": 22,
    "start_time": "2021-07-24T09:48:07.917Z"
   },
   {
    "duration": 17,
    "start_time": "2021-07-24T09:48:07.942Z"
   },
   {
    "duration": 1523,
    "start_time": "2021-07-24T09:50:30.321Z"
   },
   {
    "duration": 43,
    "start_time": "2021-07-24T09:50:31.847Z"
   },
   {
    "duration": 13,
    "start_time": "2021-07-24T09:50:31.893Z"
   },
   {
    "duration": 38,
    "start_time": "2021-07-24T09:50:31.909Z"
   },
   {
    "duration": 8,
    "start_time": "2021-07-24T09:50:31.949Z"
   },
   {
    "duration": 50,
    "start_time": "2021-07-24T09:50:31.959Z"
   },
   {
    "duration": 91,
    "start_time": "2021-07-24T09:50:32.012Z"
   },
   {
    "duration": 24,
    "start_time": "2021-07-24T09:50:32.108Z"
   },
   {
    "duration": 3833,
    "start_time": "2021-07-24T09:50:32.134Z"
   },
   {
    "duration": 3753,
    "start_time": "2021-07-24T09:50:35.970Z"
   },
   {
    "duration": 2069,
    "start_time": "2021-07-24T09:50:39.725Z"
   },
   {
    "duration": 5,
    "start_time": "2021-07-24T09:50:41.801Z"
   },
   {
    "duration": 27,
    "start_time": "2021-07-24T09:50:41.808Z"
   },
   {
    "duration": 18,
    "start_time": "2021-07-24T09:50:41.837Z"
   },
   {
    "duration": 14,
    "start_time": "2021-07-24T09:50:41.857Z"
   },
   {
    "duration": 11,
    "start_time": "2021-07-24T09:50:41.874Z"
   },
   {
    "duration": 38,
    "start_time": "2021-07-24T09:50:41.887Z"
   },
   {
    "duration": 434,
    "start_time": "2021-07-24T09:50:41.927Z"
   },
   {
    "duration": 5,
    "start_time": "2021-07-24T09:50:42.363Z"
   },
   {
    "duration": 31,
    "start_time": "2021-07-24T09:50:42.370Z"
   },
   {
    "duration": 11,
    "start_time": "2021-07-24T09:50:42.403Z"
   },
   {
    "duration": 1622,
    "start_time": "2021-07-24T09:52:15.194Z"
   },
   {
    "duration": 46,
    "start_time": "2021-07-24T09:52:16.819Z"
   },
   {
    "duration": 28,
    "start_time": "2021-07-24T09:52:16.873Z"
   },
   {
    "duration": 38,
    "start_time": "2021-07-24T09:52:16.903Z"
   },
   {
    "duration": 8,
    "start_time": "2021-07-24T09:52:16.943Z"
   },
   {
    "duration": 51,
    "start_time": "2021-07-24T09:52:16.953Z"
   },
   {
    "duration": 70,
    "start_time": "2021-07-24T09:52:17.007Z"
   },
   {
    "duration": 39,
    "start_time": "2021-07-24T09:52:17.081Z"
   },
   {
    "duration": 3839,
    "start_time": "2021-07-24T09:52:17.122Z"
   },
   {
    "duration": 3757,
    "start_time": "2021-07-24T09:52:20.963Z"
   },
   {
    "duration": 2002,
    "start_time": "2021-07-24T09:52:24.723Z"
   },
   {
    "duration": 5,
    "start_time": "2021-07-24T09:52:26.728Z"
   },
   {
    "duration": 20,
    "start_time": "2021-07-24T09:52:26.736Z"
   },
   {
    "duration": 6,
    "start_time": "2021-07-24T09:52:26.758Z"
   },
   {
    "duration": 36,
    "start_time": "2021-07-24T09:52:26.767Z"
   },
   {
    "duration": 4,
    "start_time": "2021-07-24T09:52:26.805Z"
   },
   {
    "duration": 28,
    "start_time": "2021-07-24T09:52:26.812Z"
   },
   {
    "duration": 469,
    "start_time": "2021-07-24T09:52:26.842Z"
   },
   {
    "duration": 10,
    "start_time": "2021-07-24T09:52:27.313Z"
   },
   {
    "duration": 11,
    "start_time": "2021-07-24T09:52:27.326Z"
   },
   {
    "duration": 11,
    "start_time": "2021-07-24T09:52:27.339Z"
   },
   {
    "duration": 1531,
    "start_time": "2021-07-24T09:53:25.828Z"
   },
   {
    "duration": 43,
    "start_time": "2021-07-24T09:53:27.361Z"
   },
   {
    "duration": 15,
    "start_time": "2021-07-24T09:53:27.407Z"
   },
   {
    "duration": 39,
    "start_time": "2021-07-24T09:53:27.425Z"
   },
   {
    "duration": 39,
    "start_time": "2021-07-24T09:53:27.466Z"
   },
   {
    "duration": 16,
    "start_time": "2021-07-24T09:53:27.508Z"
   },
   {
    "duration": 92,
    "start_time": "2021-07-24T09:53:27.526Z"
   },
   {
    "duration": 22,
    "start_time": "2021-07-24T09:53:27.622Z"
   },
   {
    "duration": 3953,
    "start_time": "2021-07-24T09:53:27.647Z"
   },
   {
    "duration": 3901,
    "start_time": "2021-07-24T09:53:31.602Z"
   },
   {
    "duration": 2025,
    "start_time": "2021-07-24T09:53:35.505Z"
   },
   {
    "duration": 6,
    "start_time": "2021-07-24T09:53:37.534Z"
   },
   {
    "duration": 12,
    "start_time": "2021-07-24T09:53:37.543Z"
   },
   {
    "duration": 45,
    "start_time": "2021-07-24T09:53:37.557Z"
   },
   {
    "duration": 10,
    "start_time": "2021-07-24T09:53:37.605Z"
   },
   {
    "duration": 4,
    "start_time": "2021-07-24T09:53:37.617Z"
   },
   {
    "duration": 36,
    "start_time": "2021-07-24T09:53:37.624Z"
   },
   {
    "duration": 539,
    "start_time": "2021-07-24T09:53:37.663Z"
   },
   {
    "duration": 6,
    "start_time": "2021-07-24T09:53:38.205Z"
   },
   {
    "duration": 12,
    "start_time": "2021-07-24T09:53:38.214Z"
   },
   {
    "duration": 12,
    "start_time": "2021-07-24T09:53:38.229Z"
   },
   {
    "duration": 14,
    "start_time": "2021-07-24T10:09:46.288Z"
   },
   {
    "duration": 12,
    "start_time": "2021-07-24T10:09:53.386Z"
   },
   {
    "duration": 5,
    "start_time": "2021-07-24T10:11:52.782Z"
   },
   {
    "duration": 26,
    "start_time": "2021-07-24T10:16:44.313Z"
   },
   {
    "duration": 14,
    "start_time": "2021-07-24T10:31:50.957Z"
   },
   {
    "duration": 136381,
    "start_time": "2021-07-24T10:32:38.522Z"
   },
   {
    "duration": 2231,
    "start_time": "2021-07-24T10:36:42.569Z"
   },
   {
    "duration": 7,
    "start_time": "2021-07-24T10:36:52.128Z"
   },
   {
    "duration": 2529,
    "start_time": "2021-07-24T10:36:57.559Z"
   },
   {
    "duration": 2334,
    "start_time": "2021-07-24T10:37:27.266Z"
   },
   {
    "duration": 2582,
    "start_time": "2021-07-24T10:37:39.132Z"
   },
   {
    "duration": 2418,
    "start_time": "2021-07-24T10:37:46.076Z"
   },
   {
    "duration": 2422,
    "start_time": "2021-07-24T10:37:55.015Z"
   },
   {
    "duration": 2627,
    "start_time": "2021-07-24T10:38:04.560Z"
   },
   {
    "duration": 2403,
    "start_time": "2021-07-24T10:38:10.965Z"
   },
   {
    "duration": 2530,
    "start_time": "2021-07-24T10:38:16.646Z"
   },
   {
    "duration": 2809,
    "start_time": "2021-07-24T10:38:23.179Z"
   },
   {
    "duration": 2209,
    "start_time": "2021-07-24T10:38:28.978Z"
   },
   {
    "duration": 25,
    "start_time": "2021-07-24T10:42:32.192Z"
   },
   {
    "duration": 27,
    "start_time": "2021-07-24T10:43:49.328Z"
   },
   {
    "duration": 635,
    "start_time": "2021-07-24T11:01:55.562Z"
   },
   {
    "duration": 2186,
    "start_time": "2021-07-24T11:02:18.805Z"
   },
   {
    "duration": 2355,
    "start_time": "2021-07-24T11:02:42.025Z"
   },
   {
    "duration": 24,
    "start_time": "2021-07-24T11:05:45.426Z"
   },
   {
    "duration": 2610,
    "start_time": "2021-07-24T11:07:03.376Z"
   },
   {
    "duration": 666,
    "start_time": "2021-07-24T11:07:05.989Z"
   },
   {
    "duration": 22,
    "start_time": "2021-07-24T11:07:07.990Z"
   },
   {
    "duration": 23,
    "start_time": "2021-07-24T11:09:07.099Z"
   },
   {
    "duration": 23,
    "start_time": "2021-07-24T11:10:53.258Z"
   },
   {
    "duration": 348,
    "start_time": "2021-07-24T11:16:47.219Z"
   },
   {
    "duration": 366,
    "start_time": "2021-07-24T11:17:50.558Z"
   },
   {
    "duration": 370,
    "start_time": "2021-07-24T11:18:41.379Z"
   },
   {
    "duration": 386,
    "start_time": "2021-07-24T11:19:39.692Z"
   },
   {
    "duration": 4981,
    "start_time": "2021-07-24T11:20:46.720Z"
   },
   {
    "duration": 145,
    "start_time": "2021-07-24T11:21:56.364Z"
   },
   {
    "duration": 398,
    "start_time": "2021-07-24T11:22:03.447Z"
   },
   {
    "duration": 1545,
    "start_time": "2021-07-24T11:44:30.621Z"
   },
   {
    "duration": 43,
    "start_time": "2021-07-24T11:44:32.169Z"
   },
   {
    "duration": 10,
    "start_time": "2021-07-24T11:44:32.215Z"
   },
   {
    "duration": 49,
    "start_time": "2021-07-24T11:44:32.228Z"
   },
   {
    "duration": 25,
    "start_time": "2021-07-24T11:44:32.279Z"
   },
   {
    "duration": 27,
    "start_time": "2021-07-24T11:44:32.307Z"
   },
   {
    "duration": 87,
    "start_time": "2021-07-24T11:44:32.337Z"
   },
   {
    "duration": 23,
    "start_time": "2021-07-24T11:44:32.428Z"
   },
   {
    "duration": 3909,
    "start_time": "2021-07-24T11:44:32.454Z"
   },
   {
    "duration": 3734,
    "start_time": "2021-07-24T11:44:36.366Z"
   },
   {
    "duration": 2142,
    "start_time": "2021-07-24T11:44:40.103Z"
   },
   {
    "duration": 5,
    "start_time": "2021-07-24T11:44:42.248Z"
   },
   {
    "duration": 8,
    "start_time": "2021-07-24T11:44:42.256Z"
   },
   {
    "duration": 35,
    "start_time": "2021-07-24T11:44:42.266Z"
   },
   {
    "duration": 9,
    "start_time": "2021-07-24T11:44:42.303Z"
   },
   {
    "duration": 4,
    "start_time": "2021-07-24T11:44:42.315Z"
   },
   {
    "duration": 36,
    "start_time": "2021-07-24T11:44:42.321Z"
   },
   {
    "duration": 533,
    "start_time": "2021-07-24T11:44:42.360Z"
   },
   {
    "duration": 4,
    "start_time": "2021-07-24T11:44:42.900Z"
   },
   {
    "duration": 14,
    "start_time": "2021-07-24T11:44:42.907Z"
   },
   {
    "duration": 10,
    "start_time": "2021-07-24T11:44:42.924Z"
   },
   {
    "duration": 25,
    "start_time": "2021-07-24T11:44:42.936Z"
   },
   {
    "duration": 12,
    "start_time": "2021-07-24T11:44:43.003Z"
   },
   {
    "duration": 135058,
    "start_time": "2021-07-24T11:44:43.018Z"
   },
   {
    "duration": 2147,
    "start_time": "2021-07-24T11:46:58.079Z"
   },
   {
    "duration": -10,
    "start_time": "2021-07-24T11:47:00.240Z"
   },
   {
    "duration": -14,
    "start_time": "2021-07-24T11:47:00.246Z"
   },
   {
    "duration": -32,
    "start_time": "2021-07-24T11:47:00.266Z"
   },
   {
    "duration": -36,
    "start_time": "2021-07-24T11:47:00.272Z"
   },
   {
    "duration": 2612,
    "start_time": "2021-07-24T11:50:39.591Z"
   },
   {
    "duration": 23,
    "start_time": "2021-07-24T11:50:58.045Z"
   },
   {
    "duration": 4869,
    "start_time": "2021-07-24T11:52:35.025Z"
   },
   {
    "duration": 6,
    "start_time": "2021-07-24T11:56:34.505Z"
   },
   {
    "duration": 4297,
    "start_time": "2021-07-24T11:57:12.749Z"
   },
   {
    "duration": 4126,
    "start_time": "2021-07-24T11:58:56.402Z"
   },
   {
    "duration": 4205,
    "start_time": "2021-07-24T11:59:48.889Z"
   },
   {
    "duration": 799,
    "start_time": "2021-07-24T12:01:02.996Z"
   },
   {
    "duration": 4169,
    "start_time": "2021-07-24T12:01:12.586Z"
   },
   {
    "duration": 4186,
    "start_time": "2021-07-24T12:03:48.714Z"
   },
   {
    "duration": 9,
    "start_time": "2021-07-24T12:07:06.005Z"
   },
   {
    "duration": 10,
    "start_time": "2021-07-24T12:08:19.341Z"
   },
   {
    "duration": 10,
    "start_time": "2021-07-24T12:08:25.677Z"
   },
   {
    "duration": 11,
    "start_time": "2021-07-24T12:08:58.173Z"
   },
   {
    "duration": 9,
    "start_time": "2021-07-24T12:09:09.281Z"
   },
   {
    "duration": 10,
    "start_time": "2021-07-24T12:09:58.557Z"
   },
   {
    "duration": 9,
    "start_time": "2021-07-24T12:10:09.278Z"
   },
   {
    "duration": 11,
    "start_time": "2021-07-24T12:10:14.672Z"
   },
   {
    "duration": 10,
    "start_time": "2021-07-24T12:10:39.881Z"
   },
   {
    "duration": 10,
    "start_time": "2021-07-24T12:11:16.973Z"
   },
   {
    "duration": 4100,
    "start_time": "2021-07-24T12:23:24.754Z"
   },
   {
    "duration": 4179,
    "start_time": "2021-07-24T12:23:37.250Z"
   },
   {
    "duration": 4063,
    "start_time": "2021-07-24T12:26:15.430Z"
   },
   {
    "duration": 10,
    "start_time": "2021-07-24T12:27:21.772Z"
   },
   {
    "duration": 10,
    "start_time": "2021-07-24T12:33:14.608Z"
   },
   {
    "duration": 15,
    "start_time": "2021-07-24T12:35:43.710Z"
   },
   {
    "duration": 14,
    "start_time": "2021-07-24T12:35:56.760Z"
   },
   {
    "duration": 14,
    "start_time": "2021-07-24T12:36:58.790Z"
   },
   {
    "duration": 14,
    "start_time": "2021-07-24T12:53:28.615Z"
   },
   {
    "duration": 9,
    "start_time": "2021-07-24T12:55:13.130Z"
   },
   {
    "duration": 365,
    "start_time": "2021-07-24T12:56:35.419Z"
   },
   {
    "duration": 7,
    "start_time": "2021-07-24T12:57:02.731Z"
   },
   {
    "duration": 354,
    "start_time": "2021-07-24T12:57:12.857Z"
   },
   {
    "duration": 348,
    "start_time": "2021-07-24T12:57:19.006Z"
   },
   {
    "duration": 10,
    "start_time": "2021-07-24T12:57:34.229Z"
   },
   {
    "duration": 13,
    "start_time": "2021-07-24T12:57:51.529Z"
   },
   {
    "duration": 96,
    "start_time": "2021-07-24T12:58:07.955Z"
   },
   {
    "duration": 355,
    "start_time": "2021-07-24T12:58:23.236Z"
   },
   {
    "duration": 9,
    "start_time": "2021-07-24T12:59:20.668Z"
   },
   {
    "duration": 2343,
    "start_time": "2021-07-24T13:45:56.839Z"
   },
   {
    "duration": 31,
    "start_time": "2021-07-24T13:45:59.184Z"
   },
   {
    "duration": 2338,
    "start_time": "2021-07-24T13:47:13.310Z"
   },
   {
    "duration": 23,
    "start_time": "2021-07-24T13:47:18.788Z"
   },
   {
    "duration": 10,
    "start_time": "2021-07-24T14:08:05.796Z"
   },
   {
    "duration": 10,
    "start_time": "2021-07-24T14:08:19.488Z"
   },
   {
    "duration": 796,
    "start_time": "2021-07-24T14:13:37.210Z"
   },
   {
    "duration": 4263,
    "start_time": "2021-07-24T14:14:28.579Z"
   },
   {
    "duration": 4398,
    "start_time": "2021-07-24T14:15:45.009Z"
   },
   {
    "duration": 5734,
    "start_time": "2021-07-24T14:17:23.197Z"
   },
   {
    "duration": 4370,
    "start_time": "2021-07-24T14:17:38.655Z"
   },
   {
    "duration": 4589,
    "start_time": "2021-07-24T14:18:17.098Z"
   },
   {
    "duration": 8655,
    "start_time": "2021-07-24T14:26:48.975Z"
   },
   {
    "duration": 682,
    "start_time": "2021-07-24T14:34:32.470Z"
   },
   {
    "duration": 686,
    "start_time": "2021-07-24T14:34:50.460Z"
   },
   {
    "duration": 697,
    "start_time": "2021-07-24T14:35:08.967Z"
   },
   {
    "duration": 756,
    "start_time": "2021-07-24T14:35:19.064Z"
   },
   {
    "duration": 1008,
    "start_time": "2021-07-24T14:36:43.017Z"
   },
   {
    "duration": 998,
    "start_time": "2021-07-24T14:37:12.974Z"
   },
   {
    "duration": 1399,
    "start_time": "2021-07-24T14:37:26.162Z"
   },
   {
    "duration": 5112,
    "start_time": "2021-07-24T14:39:00.680Z"
   },
   {
    "duration": 14551,
    "start_time": "2021-07-24T14:39:57.854Z"
   },
   {
    "duration": 13766,
    "start_time": "2021-07-24T14:40:20.237Z"
   },
   {
    "duration": 5364,
    "start_time": "2021-07-24T14:40:48.697Z"
   },
   {
    "duration": 4156,
    "start_time": "2021-07-24T14:45:05.153Z"
   },
   {
    "duration": 354,
    "start_time": "2021-07-24T14:47:01.649Z"
   },
   {
    "duration": 4429,
    "start_time": "2021-07-24T14:47:42.463Z"
   },
   {
    "duration": 4500,
    "start_time": "2021-07-24T14:48:11.892Z"
   },
   {
    "duration": 129,
    "start_time": "2021-07-24T14:48:54.579Z"
   },
   {
    "duration": 4121,
    "start_time": "2021-07-24T14:49:01.640Z"
   },
   {
    "duration": 4254,
    "start_time": "2021-07-24T14:49:43.395Z"
   },
   {
    "duration": 379,
    "start_time": "2021-07-24T14:54:08.228Z"
   },
   {
    "duration": 367,
    "start_time": "2021-07-24T14:54:23.205Z"
   },
   {
    "duration": 701,
    "start_time": "2021-07-24T14:54:53.013Z"
   },
   {
    "duration": 888,
    "start_time": "2021-07-24T14:59:26.799Z"
   },
   {
    "duration": 351,
    "start_time": "2021-07-24T14:59:53.607Z"
   },
   {
    "duration": 369,
    "start_time": "2021-07-24T15:00:04.572Z"
   },
   {
    "duration": 371,
    "start_time": "2021-07-24T15:00:18.896Z"
   },
   {
    "duration": 371,
    "start_time": "2021-07-24T15:01:40.047Z"
   },
   {
    "duration": 357,
    "start_time": "2021-07-24T15:01:47.161Z"
   },
   {
    "duration": 421,
    "start_time": "2021-07-24T15:01:51.195Z"
   },
   {
    "duration": 372,
    "start_time": "2021-07-24T15:01:56.494Z"
   },
   {
    "duration": 380,
    "start_time": "2021-07-24T15:02:05.858Z"
   },
   {
    "duration": 367,
    "start_time": "2021-07-24T15:02:33.562Z"
   },
   {
    "duration": 978,
    "start_time": "2021-07-24T15:02:49.504Z"
   },
   {
    "duration": 365,
    "start_time": "2021-07-24T15:03:24.374Z"
   },
   {
    "duration": 357,
    "start_time": "2021-07-24T15:03:45.889Z"
   },
   {
    "duration": 358,
    "start_time": "2021-07-24T15:04:23.958Z"
   },
   {
    "duration": 125,
    "start_time": "2021-07-24T15:04:43.987Z"
   },
   {
    "duration": 362,
    "start_time": "2021-07-24T15:04:53.354Z"
   },
   {
    "duration": 347,
    "start_time": "2021-07-24T15:05:19.858Z"
   },
   {
    "duration": 1361,
    "start_time": "2021-07-24T15:14:40.739Z"
   },
   {
    "duration": 1418,
    "start_time": "2021-07-24T15:14:51.277Z"
   },
   {
    "duration": 1525,
    "start_time": "2021-07-24T15:15:08.824Z"
   },
   {
    "duration": 1588,
    "start_time": "2021-07-24T15:15:15.535Z"
   },
   {
    "duration": 340,
    "start_time": "2021-07-24T15:17:47.399Z"
   },
   {
    "duration": 1574,
    "start_time": "2021-07-24T15:18:41.741Z"
   },
   {
    "duration": 1609,
    "start_time": "2021-07-24T15:19:20.486Z"
   },
   {
    "duration": 1539,
    "start_time": "2021-07-24T15:19:49.344Z"
   },
   {
    "duration": 1680,
    "start_time": "2021-07-24T15:20:03.016Z"
   },
   {
    "duration": 2504,
    "start_time": "2021-07-24T15:21:05.507Z"
   },
   {
    "duration": 2420,
    "start_time": "2021-07-24T15:21:14.801Z"
   },
   {
    "duration": 2314,
    "start_time": "2021-07-24T15:21:26.089Z"
   },
   {
    "duration": 2229,
    "start_time": "2021-07-24T15:21:47.890Z"
   },
   {
    "duration": 2345,
    "start_time": "2021-07-24T15:22:01.080Z"
   },
   {
    "duration": 2748,
    "start_time": "2021-07-24T15:25:09.341Z"
   },
   {
    "duration": 26783,
    "start_time": "2021-07-24T15:27:36.255Z"
   },
   {
    "duration": 3,
    "start_time": "2021-07-24T15:28:49.742Z"
   },
   {
    "duration": 27115,
    "start_time": "2021-07-24T15:30:49.218Z"
   },
   {
    "duration": 26183,
    "start_time": "2021-07-24T15:31:30.263Z"
   },
   {
    "duration": 24641,
    "start_time": "2021-07-24T15:32:46.376Z"
   },
   {
    "duration": 22614,
    "start_time": "2021-07-24T15:36:55.271Z"
   },
   {
    "duration": 20,
    "start_time": "2021-07-24T15:41:28.100Z"
   },
   {
    "duration": 20800,
    "start_time": "2021-07-24T15:43:38.861Z"
   },
   {
    "duration": 21661,
    "start_time": "2021-07-24T15:44:20.222Z"
   },
   {
    "duration": 20975,
    "start_time": "2021-07-24T15:45:09.302Z"
   },
   {
    "duration": 24326,
    "start_time": "2021-07-24T15:45:57.359Z"
   },
   {
    "duration": 22833,
    "start_time": "2021-07-24T15:46:48.649Z"
   },
   {
    "duration": 26496,
    "start_time": "2021-07-24T15:53:26.332Z"
   },
   {
    "duration": 22984,
    "start_time": "2021-07-24T15:54:46.663Z"
   },
   {
    "duration": 23804,
    "start_time": "2021-07-24T15:55:16.351Z"
   },
   {
    "duration": 373,
    "start_time": "2021-07-24T15:58:40.585Z"
   },
   {
    "duration": 378,
    "start_time": "2021-07-24T15:59:12.770Z"
   },
   {
    "duration": 359,
    "start_time": "2021-07-24T16:00:09.226Z"
   },
   {
    "duration": 363,
    "start_time": "2021-07-24T16:02:10.422Z"
   },
   {
    "duration": 22301,
    "start_time": "2021-07-24T16:02:17.676Z"
   },
   {
    "duration": 25729,
    "start_time": "2021-07-24T16:03:14.751Z"
   },
   {
    "duration": 28993,
    "start_time": "2021-07-24T16:03:42.777Z"
   },
   {
    "duration": 24040,
    "start_time": "2021-07-24T16:05:29.315Z"
   },
   {
    "duration": 14,
    "start_time": "2021-07-24T16:24:27.872Z"
   },
   {
    "duration": 15,
    "start_time": "2021-07-24T16:24:50.054Z"
   },
   {
    "duration": 15,
    "start_time": "2021-07-24T16:25:58.719Z"
   },
   {
    "duration": 14,
    "start_time": "2021-07-24T16:26:17.101Z"
   },
   {
    "duration": 15,
    "start_time": "2021-07-24T16:26:28.519Z"
   },
   {
    "duration": 15,
    "start_time": "2021-07-24T16:26:34.316Z"
   },
   {
    "duration": 18,
    "start_time": "2021-07-24T16:29:41.333Z"
   },
   {
    "duration": 9,
    "start_time": "2021-07-24T16:43:33.284Z"
   },
   {
    "duration": 23,
    "start_time": "2021-07-24T16:43:39.395Z"
   },
   {
    "duration": 23,
    "start_time": "2021-07-24T16:48:12.786Z"
   },
   {
    "duration": 1810,
    "start_time": "2021-07-24T17:20:05.347Z"
   },
   {
    "duration": 45,
    "start_time": "2021-07-24T17:20:07.160Z"
   },
   {
    "duration": 15,
    "start_time": "2021-07-24T17:20:07.208Z"
   },
   {
    "duration": 39,
    "start_time": "2021-07-24T17:20:07.225Z"
   },
   {
    "duration": 39,
    "start_time": "2021-07-24T17:20:07.267Z"
   },
   {
    "duration": 18,
    "start_time": "2021-07-24T17:20:07.309Z"
   },
   {
    "duration": 94,
    "start_time": "2021-07-24T17:20:07.330Z"
   },
   {
    "duration": 25,
    "start_time": "2021-07-24T17:20:07.426Z"
   },
   {
    "duration": 3949,
    "start_time": "2021-07-24T17:20:07.455Z"
   },
   {
    "duration": 3737,
    "start_time": "2021-07-24T17:20:11.409Z"
   },
   {
    "duration": 2043,
    "start_time": "2021-07-24T17:20:15.148Z"
   },
   {
    "duration": 9,
    "start_time": "2021-07-24T17:20:17.194Z"
   },
   {
    "duration": 16,
    "start_time": "2021-07-24T17:20:17.206Z"
   },
   {
    "duration": 6,
    "start_time": "2021-07-24T17:20:17.225Z"
   },
   {
    "duration": 9,
    "start_time": "2021-07-24T17:20:17.234Z"
   },
   {
    "duration": 6,
    "start_time": "2021-07-24T17:20:17.245Z"
   },
   {
    "duration": 72,
    "start_time": "2021-07-24T17:20:17.254Z"
   },
   {
    "duration": 494,
    "start_time": "2021-07-24T17:20:17.328Z"
   },
   {
    "duration": 4,
    "start_time": "2021-07-24T17:20:17.825Z"
   },
   {
    "duration": 20,
    "start_time": "2021-07-24T17:20:17.831Z"
   },
   {
    "duration": 18,
    "start_time": "2021-07-24T17:20:17.853Z"
   },
   {
    "duration": 45,
    "start_time": "2021-07-24T17:20:17.873Z"
   },
   {
    "duration": 11,
    "start_time": "2021-07-24T17:20:17.920Z"
   },
   {
    "duration": 139211,
    "start_time": "2021-07-24T17:20:17.934Z"
   },
   {
    "duration": 2262,
    "start_time": "2021-07-24T17:22:37.148Z"
   },
   {
    "duration": 26,
    "start_time": "2021-07-24T17:22:39.413Z"
   },
   {
    "duration": 24798,
    "start_time": "2021-07-24T17:22:39.444Z"
   },
   {
    "duration": 5,
    "start_time": "2021-07-24T17:23:04.246Z"
   },
   {
    "duration": 15,
    "start_time": "2021-07-24T17:23:04.254Z"
   },
   {
    "duration": 28,
    "start_time": "2021-07-24T17:23:04.302Z"
   },
   {
    "duration": 27,
    "start_time": "2021-07-24T17:23:04.334Z"
   },
   {
    "duration": 1677,
    "start_time": "2021-07-25T09:18:20.017Z"
   },
   {
    "duration": 41,
    "start_time": "2021-07-25T09:18:21.697Z"
   },
   {
    "duration": 16,
    "start_time": "2021-07-25T09:18:21.740Z"
   },
   {
    "duration": 38,
    "start_time": "2021-07-25T09:18:21.759Z"
   },
   {
    "duration": 10,
    "start_time": "2021-07-25T09:18:21.800Z"
   },
   {
    "duration": 56,
    "start_time": "2021-07-25T09:18:21.812Z"
   },
   {
    "duration": 63,
    "start_time": "2021-07-25T09:18:21.870Z"
   },
   {
    "duration": 39,
    "start_time": "2021-07-25T09:18:21.937Z"
   },
   {
    "duration": 3647,
    "start_time": "2021-07-25T09:18:21.979Z"
   },
   {
    "duration": 3544,
    "start_time": "2021-07-25T09:18:25.629Z"
   },
   {
    "duration": 2040,
    "start_time": "2021-07-25T09:18:29.175Z"
   },
   {
    "duration": 6,
    "start_time": "2021-07-25T09:18:31.217Z"
   },
   {
    "duration": 30,
    "start_time": "2021-07-25T09:18:31.226Z"
   },
   {
    "duration": 6,
    "start_time": "2021-07-25T09:18:31.259Z"
   },
   {
    "duration": 12,
    "start_time": "2021-07-25T09:18:31.268Z"
   },
   {
    "duration": 7,
    "start_time": "2021-07-25T09:18:31.282Z"
   },
   {
    "duration": 42,
    "start_time": "2021-07-25T09:18:31.291Z"
   },
   {
    "duration": 470,
    "start_time": "2021-07-25T09:18:31.357Z"
   },
   {
    "duration": 5,
    "start_time": "2021-07-25T09:18:31.830Z"
   },
   {
    "duration": 27,
    "start_time": "2021-07-25T09:18:31.838Z"
   },
   {
    "duration": 12,
    "start_time": "2021-07-25T09:18:31.867Z"
   },
   {
    "duration": 26,
    "start_time": "2021-07-25T09:18:31.881Z"
   },
   {
    "duration": 54,
    "start_time": "2021-07-25T09:18:31.912Z"
   },
   {
    "duration": 133581,
    "start_time": "2021-07-25T09:18:31.969Z"
   },
   {
    "duration": 2645,
    "start_time": "2021-07-25T09:20:45.556Z"
   },
   {
    "duration": 24,
    "start_time": "2021-07-25T09:20:48.204Z"
   },
   {
    "duration": 21412,
    "start_time": "2021-07-25T09:20:48.230Z"
   },
   {
    "duration": 14,
    "start_time": "2021-07-25T09:21:09.644Z"
   },
   {
    "duration": 15,
    "start_time": "2021-07-25T09:21:09.660Z"
   },
   {
    "duration": 21,
    "start_time": "2021-07-25T09:21:09.678Z"
   },
   {
    "duration": 11,
    "start_time": "2021-07-25T09:21:09.701Z"
   },
   {
    "duration": 1643,
    "start_time": "2021-07-25T11:29:23.211Z"
   },
   {
    "duration": 42,
    "start_time": "2021-07-25T11:29:24.857Z"
   },
   {
    "duration": 10,
    "start_time": "2021-07-25T11:29:24.901Z"
   },
   {
    "duration": 38,
    "start_time": "2021-07-25T11:29:24.914Z"
   },
   {
    "duration": 33,
    "start_time": "2021-07-25T11:29:24.955Z"
   },
   {
    "duration": 17,
    "start_time": "2021-07-25T11:29:24.990Z"
   },
   {
    "duration": 91,
    "start_time": "2021-07-25T11:29:25.010Z"
   },
   {
    "duration": 25,
    "start_time": "2021-07-25T11:29:25.105Z"
   },
   {
    "duration": 4023,
    "start_time": "2021-07-25T11:29:25.133Z"
   },
   {
    "duration": 3860,
    "start_time": "2021-07-25T11:29:29.160Z"
   },
   {
    "duration": 2076,
    "start_time": "2021-07-25T11:29:33.022Z"
   },
   {
    "duration": 6,
    "start_time": "2021-07-25T11:29:35.100Z"
   },
   {
    "duration": 11,
    "start_time": "2021-07-25T11:29:35.110Z"
   },
   {
    "duration": 8,
    "start_time": "2021-07-25T11:29:35.123Z"
   },
   {
    "duration": 49,
    "start_time": "2021-07-25T11:29:35.134Z"
   },
   {
    "duration": 4,
    "start_time": "2021-07-25T11:29:35.185Z"
   },
   {
    "duration": 35,
    "start_time": "2021-07-25T11:29:35.191Z"
   },
   {
    "duration": 492,
    "start_time": "2021-07-25T11:29:35.228Z"
   },
   {
    "duration": 4,
    "start_time": "2021-07-25T11:29:35.722Z"
   },
   {
    "duration": 15,
    "start_time": "2021-07-25T11:29:35.728Z"
   },
   {
    "duration": 9,
    "start_time": "2021-07-25T11:29:35.745Z"
   },
   {
    "duration": 49,
    "start_time": "2021-07-25T11:29:35.757Z"
   },
   {
    "duration": 12,
    "start_time": "2021-07-25T11:29:35.811Z"
   },
   {
    "duration": 137259,
    "start_time": "2021-07-25T11:29:35.826Z"
   },
   {
    "duration": 2392,
    "start_time": "2021-07-25T11:31:53.087Z"
   },
   {
    "duration": 24,
    "start_time": "2021-07-25T11:31:55.482Z"
   },
   {
    "duration": 23032,
    "start_time": "2021-07-25T11:31:55.508Z"
   },
   {
    "duration": 5,
    "start_time": "2021-07-25T11:32:18.542Z"
   },
   {
    "duration": 34,
    "start_time": "2021-07-25T11:32:18.549Z"
   },
   {
    "duration": 22,
    "start_time": "2021-07-25T11:32:18.586Z"
   },
   {
    "duration": 14,
    "start_time": "2021-07-25T11:32:18.610Z"
   },
   {
    "duration": 6,
    "start_time": "2021-07-25T11:33:54.558Z"
   },
   {
    "duration": 39,
    "start_time": "2021-07-25T11:33:54.567Z"
   },
   {
    "duration": 9,
    "start_time": "2021-07-25T11:33:54.610Z"
   },
   {
    "duration": 60,
    "start_time": "2021-07-25T11:33:54.622Z"
   },
   {
    "duration": 6,
    "start_time": "2021-07-25T11:33:54.685Z"
   },
   {
    "duration": 18,
    "start_time": "2021-07-25T11:33:54.693Z"
   },
   {
    "duration": 108,
    "start_time": "2021-07-25T11:33:54.714Z"
   },
   {
    "duration": 22,
    "start_time": "2021-07-25T11:33:54.825Z"
   },
   {
    "duration": 5722,
    "start_time": "2021-07-25T11:33:54.849Z"
   },
   {
    "duration": 5751,
    "start_time": "2021-07-25T11:34:00.574Z"
   },
   {
    "duration": 2065,
    "start_time": "2021-07-25T11:34:06.328Z"
   },
   {
    "duration": 6,
    "start_time": "2021-07-25T11:34:08.395Z"
   },
   {
    "duration": 256,
    "start_time": "2021-07-25T11:34:08.404Z"
   },
   {
    "duration": 16,
    "start_time": "2021-07-25T11:34:08.663Z"
   },
   {
    "duration": 16,
    "start_time": "2021-07-25T11:34:08.681Z"
   },
   {
    "duration": 7,
    "start_time": "2021-07-25T11:34:08.700Z"
   },
   {
    "duration": 37,
    "start_time": "2021-07-25T11:34:08.711Z"
   },
   {
    "duration": 453,
    "start_time": "2021-07-25T11:34:08.751Z"
   },
   {
    "duration": 5,
    "start_time": "2021-07-25T11:34:09.206Z"
   },
   {
    "duration": 15,
    "start_time": "2021-07-25T11:34:09.214Z"
   },
   {
    "duration": 10,
    "start_time": "2021-07-25T11:34:09.231Z"
   },
   {
    "duration": 6,
    "start_time": "2021-07-25T11:36:08.467Z"
   },
   {
    "duration": 36,
    "start_time": "2021-07-25T11:36:08.480Z"
   },
   {
    "duration": 473,
    "start_time": "2021-07-25T11:36:08.518Z"
   },
   {
    "duration": 39,
    "start_time": "2021-07-25T11:36:08.995Z"
   },
   {
    "duration": 7,
    "start_time": "2021-07-25T11:36:09.036Z"
   },
   {
    "duration": 46,
    "start_time": "2021-07-25T11:36:09.046Z"
   },
   {
    "duration": 92,
    "start_time": "2021-07-25T11:36:09.095Z"
   },
   {
    "duration": 24,
    "start_time": "2021-07-25T11:36:09.190Z"
   },
   {
    "duration": 5881,
    "start_time": "2021-07-25T11:36:09.218Z"
   },
   {
    "duration": 5572,
    "start_time": "2021-07-25T11:36:15.101Z"
   },
   {
    "duration": 1960,
    "start_time": "2021-07-25T11:36:20.683Z"
   },
   {
    "duration": 7,
    "start_time": "2021-07-25T11:36:22.646Z"
   },
   {
    "duration": 31,
    "start_time": "2021-07-25T11:36:22.657Z"
   },
   {
    "duration": 6,
    "start_time": "2021-07-25T11:36:22.691Z"
   },
   {
    "duration": 12,
    "start_time": "2021-07-25T11:36:22.699Z"
   },
   {
    "duration": 3,
    "start_time": "2021-07-25T11:36:22.714Z"
   },
   {
    "duration": 92,
    "start_time": "2021-07-25T11:36:22.719Z"
   },
   {
    "duration": 510,
    "start_time": "2021-07-25T11:36:22.813Z"
   },
   {
    "duration": 5,
    "start_time": "2021-07-25T11:36:23.325Z"
   },
   {
    "duration": 14,
    "start_time": "2021-07-25T11:36:23.332Z"
   },
   {
    "duration": 38,
    "start_time": "2021-07-25T11:36:23.349Z"
   },
   {
    "duration": 5,
    "start_time": "2021-07-25T11:39:09.702Z"
   },
   {
    "duration": 41,
    "start_time": "2021-07-25T11:39:09.710Z"
   },
   {
    "duration": 9,
    "start_time": "2021-07-25T11:39:09.754Z"
   },
   {
    "duration": 49,
    "start_time": "2021-07-25T11:39:09.766Z"
   },
   {
    "duration": 7,
    "start_time": "2021-07-25T11:39:09.817Z"
   },
   {
    "duration": 18,
    "start_time": "2021-07-25T11:39:09.827Z"
   },
   {
    "duration": 96,
    "start_time": "2021-07-25T11:39:09.848Z"
   },
   {
    "duration": 42,
    "start_time": "2021-07-25T11:39:09.947Z"
   },
   {
    "duration": 5589,
    "start_time": "2021-07-25T11:39:09.993Z"
   },
   {
    "duration": 5755,
    "start_time": "2021-07-25T11:39:15.585Z"
   },
   {
    "duration": 2006,
    "start_time": "2021-07-25T11:39:21.343Z"
   },
   {
    "duration": 7,
    "start_time": "2021-07-25T11:39:23.352Z"
   },
   {
    "duration": 27,
    "start_time": "2021-07-25T11:39:23.362Z"
   },
   {
    "duration": 7,
    "start_time": "2021-07-25T11:39:23.392Z"
   },
   {
    "duration": 12,
    "start_time": "2021-07-25T11:39:23.402Z"
   },
   {
    "duration": 4,
    "start_time": "2021-07-25T11:39:23.417Z"
   },
   {
    "duration": 84,
    "start_time": "2021-07-25T11:39:23.424Z"
   },
   {
    "duration": 443,
    "start_time": "2021-07-25T11:39:23.511Z"
   },
   {
    "duration": 6,
    "start_time": "2021-07-25T11:39:23.957Z"
   },
   {
    "duration": 24,
    "start_time": "2021-07-25T11:39:23.967Z"
   },
   {
    "duration": 12,
    "start_time": "2021-07-25T11:39:23.994Z"
   },
   {
    "duration": 8,
    "start_time": "2021-07-25T11:41:40.930Z"
   },
   {
    "duration": 40,
    "start_time": "2021-07-25T11:41:40.940Z"
   },
   {
    "duration": 9,
    "start_time": "2021-07-25T11:41:40.983Z"
   },
   {
    "duration": 38,
    "start_time": "2021-07-25T11:41:40.995Z"
   },
   {
    "duration": 8,
    "start_time": "2021-07-25T11:41:41.035Z"
   },
   {
    "duration": 18,
    "start_time": "2021-07-25T11:41:41.084Z"
   },
   {
    "duration": 86,
    "start_time": "2021-07-25T11:41:41.105Z"
   },
   {
    "duration": 24,
    "start_time": "2021-07-25T11:41:41.194Z"
   },
   {
    "duration": 6013,
    "start_time": "2021-07-25T11:41:41.220Z"
   },
   {
    "duration": 5424,
    "start_time": "2021-07-25T11:41:47.235Z"
   },
   {
    "duration": 2177,
    "start_time": "2021-07-25T11:41:52.661Z"
   },
   {
    "duration": 6,
    "start_time": "2021-07-25T11:41:54.841Z"
   },
   {
    "duration": 34,
    "start_time": "2021-07-25T11:41:54.850Z"
   },
   {
    "duration": 6,
    "start_time": "2021-07-25T11:41:54.886Z"
   },
   {
    "duration": 13,
    "start_time": "2021-07-25T11:41:54.894Z"
   },
   {
    "duration": 4,
    "start_time": "2021-07-25T11:41:54.909Z"
   },
   {
    "duration": 71,
    "start_time": "2021-07-25T11:41:54.915Z"
   },
   {
    "duration": 515,
    "start_time": "2021-07-25T11:41:54.989Z"
   },
   {
    "duration": 4,
    "start_time": "2021-07-25T11:41:55.508Z"
   },
   {
    "duration": 15,
    "start_time": "2021-07-25T11:41:55.515Z"
   },
   {
    "duration": 16,
    "start_time": "2021-07-25T11:41:55.532Z"
   },
   {
    "duration": 26,
    "start_time": "2021-07-25T11:43:06.483Z"
   },
   {
    "duration": 749,
    "start_time": "2021-07-25T11:47:21.970Z"
   },
   {
    "duration": 3026,
    "start_time": "2021-07-25T11:47:48.556Z"
   },
   {
    "duration": 6,
    "start_time": "2021-07-25T11:48:15.147Z"
   },
   {
    "duration": 1429,
    "start_time": "2021-07-25T11:49:26.746Z"
   },
   {
    "duration": 626,
    "start_time": "2021-07-25T11:51:38.061Z"
   },
   {
    "duration": 7,
    "start_time": "2021-07-25T11:54:31.679Z"
   },
   {
    "duration": 8,
    "start_time": "2021-07-25T11:55:01.712Z"
   },
   {
    "duration": 55,
    "start_time": "2021-07-25T11:55:01.723Z"
   },
   {
    "duration": 10,
    "start_time": "2021-07-25T11:55:01.781Z"
   },
   {
    "duration": 45,
    "start_time": "2021-07-25T11:55:01.793Z"
   },
   {
    "duration": 9,
    "start_time": "2021-07-25T11:55:01.840Z"
   },
   {
    "duration": 47,
    "start_time": "2021-07-25T11:55:01.851Z"
   },
   {
    "duration": 93,
    "start_time": "2021-07-25T11:55:01.902Z"
   },
   {
    "duration": 23,
    "start_time": "2021-07-25T11:55:01.998Z"
   },
   {
    "duration": 5883,
    "start_time": "2021-07-25T11:55:02.024Z"
   },
   {
    "duration": 5825,
    "start_time": "2021-07-25T11:55:07.910Z"
   },
   {
    "duration": 2013,
    "start_time": "2021-07-25T11:55:13.738Z"
   },
   {
    "duration": 7,
    "start_time": "2021-07-25T11:55:15.753Z"
   },
   {
    "duration": 30,
    "start_time": "2021-07-25T11:55:15.762Z"
   },
   {
    "duration": 8,
    "start_time": "2021-07-25T11:55:15.795Z"
   },
   {
    "duration": 13,
    "start_time": "2021-07-25T11:55:15.806Z"
   },
   {
    "duration": 3,
    "start_time": "2021-07-25T11:55:15.822Z"
   },
   {
    "duration": 74,
    "start_time": "2021-07-25T11:55:15.827Z"
   },
   {
    "duration": 520,
    "start_time": "2021-07-25T11:55:15.903Z"
   },
   {
    "duration": 5,
    "start_time": "2021-07-25T11:55:16.427Z"
   },
   {
    "duration": 15,
    "start_time": "2021-07-25T11:55:16.434Z"
   },
   {
    "duration": 36,
    "start_time": "2021-07-25T11:55:16.451Z"
   },
   {
    "duration": 27,
    "start_time": "2021-07-25T11:55:16.490Z"
   },
   {
    "duration": 12,
    "start_time": "2021-07-25T11:55:16.519Z"
   },
   {
    "duration": 139836,
    "start_time": "2021-07-25T11:55:16.533Z"
   },
   {
    "duration": 2598,
    "start_time": "2021-07-25T11:57:36.372Z"
   },
   {
    "duration": 22,
    "start_time": "2021-07-25T11:57:38.973Z"
   },
   {
    "duration": 22867,
    "start_time": "2021-07-25T11:57:38.997Z"
   },
   {
    "duration": 15,
    "start_time": "2021-07-25T11:58:01.867Z"
   },
   {
    "duration": 1554,
    "start_time": "2021-07-25T11:58:01.885Z"
   },
   {
    "duration": 9726,
    "start_time": "2021-07-25T11:58:03.442Z"
   },
   {
    "duration": 12,
    "start_time": "2021-07-25T11:58:13.171Z"
   },
   {
    "duration": 17,
    "start_time": "2021-07-25T11:58:13.186Z"
   },
   {
    "duration": 154,
    "start_time": "2021-07-25T11:58:13.206Z"
   },
   {
    "duration": 22,
    "start_time": "2021-07-25T11:58:13.362Z"
   },
   {
    "duration": 7202,
    "start_time": "2021-07-25T12:00:07.924Z"
   },
   {
    "duration": 926,
    "start_time": "2021-07-25T12:03:21.379Z"
   },
   {
    "duration": 1026,
    "start_time": "2021-07-25T12:04:04.650Z"
   },
   {
    "duration": 7553,
    "start_time": "2021-07-25T12:04:20.189Z"
   },
   {
    "duration": 372,
    "start_time": "2021-07-25T12:04:44.021Z"
   },
   {
    "duration": 344,
    "start_time": "2021-07-25T12:05:01.186Z"
   },
   {
    "duration": 6530,
    "start_time": "2021-07-25T12:05:21.702Z"
   },
   {
    "duration": 351,
    "start_time": "2021-07-25T12:07:18.560Z"
   },
   {
    "duration": 1384,
    "start_time": "2021-07-25T12:08:37.281Z"
   },
   {
    "duration": 1844,
    "start_time": "2021-07-25T12:11:41.358Z"
   },
   {
    "duration": 222,
    "start_time": "2021-07-25T12:12:56.627Z"
   },
   {
    "duration": 1626,
    "start_time": "2021-07-25T12:17:38.714Z"
   },
   {
    "duration": 41,
    "start_time": "2021-07-25T12:17:40.343Z"
   },
   {
    "duration": 10,
    "start_time": "2021-07-25T12:17:40.387Z"
   },
   {
    "duration": 44,
    "start_time": "2021-07-25T12:17:40.400Z"
   },
   {
    "duration": 37,
    "start_time": "2021-07-25T12:17:40.447Z"
   },
   {
    "duration": 18,
    "start_time": "2021-07-25T12:17:40.487Z"
   },
   {
    "duration": 90,
    "start_time": "2021-07-25T12:17:40.507Z"
   },
   {
    "duration": 24,
    "start_time": "2021-07-25T12:17:40.601Z"
   },
   {
    "duration": 3907,
    "start_time": "2021-07-25T12:17:40.628Z"
   },
   {
    "duration": 3951,
    "start_time": "2021-07-25T12:17:44.537Z"
   },
   {
    "duration": 2171,
    "start_time": "2021-07-25T12:17:48.490Z"
   },
   {
    "duration": 20,
    "start_time": "2021-07-25T12:17:50.665Z"
   },
   {
    "duration": 15,
    "start_time": "2021-07-25T12:17:50.687Z"
   },
   {
    "duration": 9,
    "start_time": "2021-07-25T12:17:50.704Z"
   },
   {
    "duration": 14,
    "start_time": "2021-07-25T12:17:50.715Z"
   },
   {
    "duration": 5,
    "start_time": "2021-07-25T12:17:50.732Z"
   },
   {
    "duration": 84,
    "start_time": "2021-07-25T12:17:50.740Z"
   },
   {
    "duration": 619,
    "start_time": "2021-07-25T12:17:50.827Z"
   },
   {
    "duration": 4,
    "start_time": "2021-07-25T12:17:51.448Z"
   },
   {
    "duration": 30,
    "start_time": "2021-07-25T12:17:51.454Z"
   },
   {
    "duration": 10,
    "start_time": "2021-07-25T12:17:51.486Z"
   },
   {
    "duration": 27,
    "start_time": "2021-07-25T12:17:51.498Z"
   },
   {
    "duration": 12,
    "start_time": "2021-07-25T12:17:51.529Z"
   },
   {
    "duration": 144212,
    "start_time": "2021-07-25T12:17:51.543Z"
   },
   {
    "duration": 2698,
    "start_time": "2021-07-25T12:20:15.757Z"
   },
   {
    "duration": 34,
    "start_time": "2021-07-25T12:20:18.457Z"
   },
   {
    "duration": 5,
    "start_time": "2021-07-25T12:20:18.493Z"
   },
   {
    "duration": 251996,
    "start_time": "2021-07-25T12:20:18.500Z"
   },
   {
    "duration": 380,
    "start_time": "2021-07-25T12:24:32.825Z"
   },
   {
    "duration": 2474,
    "start_time": "2021-07-25T12:24:33.208Z"
   },
   {
    "duration": 5,
    "start_time": "2021-07-25T12:24:35.685Z"
   },
   {
    "duration": 19,
    "start_time": "2021-07-25T12:24:35.692Z"
   },
   {
    "duration": 23,
    "start_time": "2021-07-25T12:24:35.713Z"
   },
   {
    "duration": 46,
    "start_time": "2021-07-25T12:24:35.738Z"
   },
   {
    "duration": 394,
    "start_time": "2021-07-25T12:26:27.061Z"
   },
   {
    "duration": 301,
    "start_time": "2021-07-25T12:27:16.200Z"
   },
   {
    "duration": 781,
    "start_time": "2021-07-25T12:28:41.343Z"
   },
   {
    "duration": 1753,
    "start_time": "2021-07-25T12:37:44.011Z"
   },
   {
    "duration": 859,
    "start_time": "2021-07-25T12:38:08.805Z"
   },
   {
    "duration": 861,
    "start_time": "2021-07-25T12:40:50.850Z"
   },
   {
    "duration": 1569,
    "start_time": "2021-07-25T12:41:19.026Z"
   },
   {
    "duration": 781,
    "start_time": "2021-07-25T12:41:31.701Z"
   },
   {
    "duration": 295,
    "start_time": "2021-07-25T12:47:03.814Z"
   },
   {
    "duration": 302,
    "start_time": "2021-07-25T12:47:11.976Z"
   },
   {
    "duration": 327,
    "start_time": "2021-07-25T12:47:46.535Z"
   },
   {
    "duration": 293,
    "start_time": "2021-07-25T12:48:53.666Z"
   },
   {
    "duration": 379,
    "start_time": "2021-07-25T12:49:14.360Z"
   },
   {
    "duration": 1491,
    "start_time": "2021-07-25T12:58:36.738Z"
   },
   {
    "duration": 43,
    "start_time": "2021-07-25T12:58:38.231Z"
   },
   {
    "duration": 14,
    "start_time": "2021-07-25T12:58:38.277Z"
   },
   {
    "duration": 40,
    "start_time": "2021-07-25T12:58:38.294Z"
   },
   {
    "duration": 9,
    "start_time": "2021-07-25T12:58:38.336Z"
   },
   {
    "duration": 51,
    "start_time": "2021-07-25T12:58:38.347Z"
   },
   {
    "duration": 86,
    "start_time": "2021-07-25T12:58:38.401Z"
   },
   {
    "duration": 22,
    "start_time": "2021-07-25T12:58:38.491Z"
   },
   {
    "duration": 3919,
    "start_time": "2021-07-25T12:58:38.516Z"
   },
   {
    "duration": 3708,
    "start_time": "2021-07-25T12:58:42.437Z"
   },
   {
    "duration": 2180,
    "start_time": "2021-07-25T12:58:46.147Z"
   },
   {
    "duration": 5,
    "start_time": "2021-07-25T12:58:48.329Z"
   },
   {
    "duration": 14,
    "start_time": "2021-07-25T12:58:48.336Z"
   },
   {
    "duration": 29,
    "start_time": "2021-07-25T12:58:48.353Z"
   },
   {
    "duration": 13,
    "start_time": "2021-07-25T12:58:48.385Z"
   },
   {
    "duration": 5,
    "start_time": "2021-07-25T12:58:48.400Z"
   },
   {
    "duration": 47,
    "start_time": "2021-07-25T12:58:48.408Z"
   },
   {
    "duration": 519,
    "start_time": "2021-07-25T12:58:48.457Z"
   },
   {
    "duration": 4,
    "start_time": "2021-07-25T12:58:48.979Z"
   },
   {
    "duration": 14,
    "start_time": "2021-07-25T12:58:48.985Z"
   },
   {
    "duration": 10,
    "start_time": "2021-07-25T12:58:49.002Z"
   },
   {
    "duration": 25,
    "start_time": "2021-07-25T12:58:49.015Z"
   },
   {
    "duration": 47,
    "start_time": "2021-07-25T12:58:49.044Z"
   },
   {
    "duration": 141388,
    "start_time": "2021-07-25T12:58:49.094Z"
   },
   {
    "duration": 2412,
    "start_time": "2021-07-25T13:01:10.484Z"
   },
   {
    "duration": 25,
    "start_time": "2021-07-25T13:01:12.899Z"
   },
   {
    "duration": 6,
    "start_time": "2021-07-25T13:01:12.926Z"
   },
   {
    "duration": 1636,
    "start_time": "2021-07-25T13:05:24.204Z"
   },
   {
    "duration": 14,
    "start_time": "2021-07-25T13:05:25.842Z"
   },
   {
    "duration": 51,
    "start_time": "2021-07-25T13:05:25.860Z"
   },
   {
    "duration": 11,
    "start_time": "2021-07-25T13:05:25.913Z"
   },
   {
    "duration": 1966,
    "start_time": "2021-07-25T13:05:25.927Z"
   },
   {
    "duration": 1544,
    "start_time": "2021-07-25T13:52:47.095Z"
   },
   {
    "duration": 43,
    "start_time": "2021-07-25T13:52:48.641Z"
   },
   {
    "duration": 9,
    "start_time": "2021-07-25T13:52:48.687Z"
   },
   {
    "duration": 36,
    "start_time": "2021-07-25T13:52:48.699Z"
   },
   {
    "duration": 7,
    "start_time": "2021-07-25T13:52:48.737Z"
   },
   {
    "duration": 51,
    "start_time": "2021-07-25T13:52:48.746Z"
   },
   {
    "duration": 85,
    "start_time": "2021-07-25T13:52:48.799Z"
   },
   {
    "duration": 23,
    "start_time": "2021-07-25T13:52:48.888Z"
   },
   {
    "duration": 3892,
    "start_time": "2021-07-25T13:52:48.914Z"
   },
   {
    "duration": 3791,
    "start_time": "2021-07-25T13:52:52.808Z"
   },
   {
    "duration": 2162,
    "start_time": "2021-07-25T13:52:56.602Z"
   },
   {
    "duration": 20,
    "start_time": "2021-07-25T13:52:58.766Z"
   },
   {
    "duration": 19,
    "start_time": "2021-07-25T13:52:58.788Z"
   },
   {
    "duration": 10,
    "start_time": "2021-07-25T13:52:58.809Z"
   },
   {
    "duration": 24,
    "start_time": "2021-07-25T13:52:58.822Z"
   },
   {
    "duration": 6,
    "start_time": "2021-07-25T13:52:58.849Z"
   },
   {
    "duration": 55,
    "start_time": "2021-07-25T13:52:58.857Z"
   },
   {
    "duration": 507,
    "start_time": "2021-07-25T13:52:58.914Z"
   },
   {
    "duration": 5,
    "start_time": "2021-07-25T13:52:59.423Z"
   },
   {
    "duration": 17,
    "start_time": "2021-07-25T13:52:59.430Z"
   },
   {
    "duration": 32,
    "start_time": "2021-07-25T13:52:59.450Z"
   },
   {
    "duration": 24,
    "start_time": "2021-07-25T13:52:59.484Z"
   },
   {
    "duration": 12,
    "start_time": "2021-07-25T13:52:59.512Z"
   },
   {
    "duration": 142985,
    "start_time": "2021-07-25T13:52:59.527Z"
   },
   {
    "duration": 2467,
    "start_time": "2021-07-25T13:55:22.515Z"
   },
   {
    "duration": 23,
    "start_time": "2021-07-25T13:55:24.985Z"
   },
   {
    "duration": 4,
    "start_time": "2021-07-25T13:55:25.011Z"
   },
   {
    "duration": 2142,
    "start_time": "2021-07-25T13:55:25.018Z"
   },
   {
    "duration": 1538,
    "start_time": "2021-07-25T13:55:27.163Z"
   },
   {
    "duration": 21,
    "start_time": "2021-07-25T13:55:28.703Z"
   },
   {
    "duration": 15,
    "start_time": "2021-07-25T13:55:28.727Z"
   }
  ],
  "kernelspec": {
   "display_name": "Python 3",
   "language": "python",
   "name": "python3"
  },
  "language_info": {
   "codemirror_mode": {
    "name": "ipython",
    "version": 3
   },
   "file_extension": ".py",
   "mimetype": "text/x-python",
   "name": "python",
   "nbconvert_exporter": "python",
   "pygments_lexer": "ipython3",
   "version": "3.7.8"
  },
  "toc": {
   "base_numbering": 1,
   "nav_menu": {},
   "number_sections": true,
   "sideBar": true,
   "skip_h1_title": true,
   "title_cell": "Table of Contents",
   "title_sidebar": "Contents",
   "toc_cell": false,
   "toc_position": {
    "height": "calc(100% - 180px)",
    "left": "10px",
    "top": "150px",
    "width": "302.391px"
   },
   "toc_section_display": true,
   "toc_window_display": true
  }
 },
 "nbformat": 4,
 "nbformat_minor": 2
}
