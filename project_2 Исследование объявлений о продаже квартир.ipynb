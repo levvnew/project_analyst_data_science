{
 "cells": [
  {
   "cell_type": "markdown",
   "metadata": {
    "toc": true
   },
   "source": [
    "<h1>Содержание<span class=\"tocSkip\"></span></h1>\n",
    "<div class=\"toc\"><ul class=\"toc-item\"><li><span><a href=\"#Изучение-данных-из-файла\" data-toc-modified-id=\"Изучение-данных-из-файла-1\"><span class=\"toc-item-num\">1&nbsp;&nbsp;</span>Изучение данных из файла</a></span><ul class=\"toc-item\"><li><span><a href=\"#Вывод\" data-toc-modified-id=\"Вывод-1.1\"><span class=\"toc-item-num\">1.1&nbsp;&nbsp;</span>Вывод</a></span></li></ul></li><li><span><a href=\"#Предобработка-данных\" data-toc-modified-id=\"Предобработка-данных-2\"><span class=\"toc-item-num\">2&nbsp;&nbsp;</span>Предобработка данных</a></span><ul class=\"toc-item\"><li><span><a href=\"#Расчет-высоты-потолков\" data-toc-modified-id=\"Расчет-высоты-потолков-2.1\"><span class=\"toc-item-num\">2.1&nbsp;&nbsp;</span>Расчет высоты потолков</a></span></li></ul></li><li><span><a href=\"#Рассчёты-и-добавление-результатов-в-таблицу\" data-toc-modified-id=\"Рассчёты-и-добавление-результатов-в-таблицу-3\"><span class=\"toc-item-num\">3&nbsp;&nbsp;</span>Рассчёты и добавление результатов в таблицу</a></span><ul class=\"toc-item\"><li><span><a href=\"#Категория-этажа\" data-toc-modified-id=\"Категория-этажа-3.1\"><span class=\"toc-item-num\">3.1&nbsp;&nbsp;</span>Категория этажа</a></span></li><li><span><a href=\"#День,-месяц,-год\" data-toc-modified-id=\"День,-месяц,-год-3.2\"><span class=\"toc-item-num\">3.2&nbsp;&nbsp;</span>День, месяц, год</a></span></li><li><span><a href=\"#Стоимость-и-площадь\" data-toc-modified-id=\"Стоимость-и-площадь-3.3\"><span class=\"toc-item-num\">3.3&nbsp;&nbsp;</span>Стоимость и площадь</a></span></li></ul></li><li><span><a href=\"#Исследовательский-анализ-данных\" data-toc-modified-id=\"Исследовательский-анализ-данных-4\"><span class=\"toc-item-num\">4&nbsp;&nbsp;</span>Исследовательский анализ данных</a></span><ul class=\"toc-item\"><li><span><a href=\"#Гистограммы-характеристик-недвижимости\" data-toc-modified-id=\"Гистограммы-характеристик-недвижимости-4.1\"><span class=\"toc-item-num\">4.1&nbsp;&nbsp;</span>Гистограммы характеристик недвижимости</a></span><ul class=\"toc-item\"><li><span><a href=\"#Гистограмма-площади\" data-toc-modified-id=\"Гистограмма-площади-4.1.1\"><span class=\"toc-item-num\">4.1.1&nbsp;&nbsp;</span>Гистограмма площади</a></span></li><li><span><a href=\"#Гистограмма-комнат\" data-toc-modified-id=\"Гистограмма-комнат-4.1.2\"><span class=\"toc-item-num\">4.1.2&nbsp;&nbsp;</span>Гистограмма комнат</a></span></li><li><span><a href=\"#Гистограмма-стоимости-жилья\" data-toc-modified-id=\"Гистограмма-стоимости-жилья-4.1.3\"><span class=\"toc-item-num\">4.1.3&nbsp;&nbsp;</span>Гистограмма стоимости жилья</a></span></li><li><span><a href=\"#Гистограмма-высоты-потолков\" data-toc-modified-id=\"Гистограмма-высоты-потолков-4.1.4\"><span class=\"toc-item-num\">4.1.4&nbsp;&nbsp;</span>Гистограмма высоты потолков</a></span></li><li><span><a href=\"#Гистограмма-дней-публикации\" data-toc-modified-id=\"Гистограмма-дней-публикации-4.1.5\"><span class=\"toc-item-num\">4.1.5&nbsp;&nbsp;</span>Гистограмма дней публикации</a></span></li></ul></li><li><span><a href=\"#Анализ-взаимосвязей-характеристик-недвижимости\" data-toc-modified-id=\"Анализ-взаимосвязей-характеристик-недвижимости-4.2\"><span class=\"toc-item-num\">4.2&nbsp;&nbsp;</span>Анализ взаимосвязей характеристик недвижимости</a></span><ul class=\"toc-item\"><li><span><a href=\"#Зависимость-цены-от-общей-площади\" data-toc-modified-id=\"Зависимость-цены-от-общей-площади-4.2.1\"><span class=\"toc-item-num\">4.2.1&nbsp;&nbsp;</span>Зависимость цены от общей площади</a></span></li><li><span><a href=\"#Зависимость-цены-от-кухни-и-жилой-площади\" data-toc-modified-id=\"Зависимость-цены-от-кухни-и-жилой-площади-4.2.2\"><span class=\"toc-item-num\">4.2.2&nbsp;&nbsp;</span>Зависимость цены от кухни и жилой площади</a></span></li><li><span><a href=\"#Зависимость-цены-от-количества-комнат\" data-toc-modified-id=\"Зависимость-цены-от-количества-комнат-4.2.3\"><span class=\"toc-item-num\">4.2.3&nbsp;&nbsp;</span>Зависимость цены от количества комнат</a></span></li><li><span><a href=\"#Зависимость-цены-от-удаленности-от-центра\" data-toc-modified-id=\"Зависимость-цены-от-удаленности-от-центра-4.2.4\"><span class=\"toc-item-num\">4.2.4&nbsp;&nbsp;</span>Зависимость цены от удаленности от центра</a></span></li><li><span><a href=\"#Зависимость-цены-от-парков-в-радиусе-3км\" data-toc-modified-id=\"Зависимость-цены-от-парков-в-радиусе-3км-4.2.5\"><span class=\"toc-item-num\">4.2.5&nbsp;&nbsp;</span>Зависимость цены от парков в радиусе 3км</a></span></li><li><span><a href=\"#Зависимость-цены-от-этажа\" data-toc-modified-id=\"Зависимость-цены-от-этажа-4.2.6\"><span class=\"toc-item-num\">4.2.6&nbsp;&nbsp;</span>Зависимость цены от этажа</a></span></li><li><span><a href=\"#Зависимость-цены-от-даты-публикации\" data-toc-modified-id=\"Зависимость-цены-от-даты-публикации-4.2.7\"><span class=\"toc-item-num\">4.2.7&nbsp;&nbsp;</span>Зависимость цены от даты публикации</a></span></li></ul></li><li><span><a href=\"#Анализ-локации-недвижимости\" data-toc-modified-id=\"Анализ-локации-недвижимости-4.3\"><span class=\"toc-item-num\">4.3&nbsp;&nbsp;</span>Анализ локации недвижимости</a></span><ul class=\"toc-item\"><li><span><a href=\"#Анализ-населенных-пунктов\" data-toc-modified-id=\"Анализ-населенных-пунктов-4.3.1\"><span class=\"toc-item-num\">4.3.1&nbsp;&nbsp;</span>Анализ населенных пунктов</a></span></li><li><span><a href=\"#Анализ-квартир-в-Санкт-Петербурге\" data-toc-modified-id=\"Анализ-квартир-в-Санкт-Петербурге-4.3.2\"><span class=\"toc-item-num\">4.3.2&nbsp;&nbsp;</span>Анализ квартир в Санкт-Петербурге</a></span></li><li><span><a href=\"#Анализ-квартир-в-центре\" data-toc-modified-id=\"Анализ-квартир-в-центре-4.3.3\"><span class=\"toc-item-num\">4.3.3&nbsp;&nbsp;</span>Анализ квартир в центре</a></span></li><li><span><a href=\"#Анализ-долгих-продаж\" data-toc-modified-id=\"Анализ-долгих-продаж-4.3.4\"><span class=\"toc-item-num\">4.3.4&nbsp;&nbsp;</span>Анализ долгих продаж</a></span></li></ul></li><li><span><a href=\"#Скорость-продаж\" data-toc-modified-id=\"Скорость-продаж-4.4\"><span class=\"toc-item-num\">4.4&nbsp;&nbsp;</span>Скорость продаж</a></span></li></ul></li><li><span><a href=\"#Общий-вывод\" data-toc-modified-id=\"Общий-вывод-5\"><span class=\"toc-item-num\">5&nbsp;&nbsp;</span>Общий вывод</a></span></li></ul></div>"
   ]
  },
  {
   "cell_type": "markdown",
   "metadata": {},
   "source": [
    "# Исследование объявлений о продаже квартир\n",
    "\n",
    "В вашем распоряжении — архив объявлений о продаже квартир в Санкт-Петербурге и соседних населённых пунктах за несколько лет. Нужно научиться определять рыночную стоимость объектов недвижимости. Ваша задача — установить параметры. Это позволит построить автоматизированную систему: она отследит аномалии и мошенническую деятельность. \n",
    "\n",
    "По каждой квартире на продажу доступны два вида данных. Первые вписаны пользователем, вторые получены автоматически на основе картографических данных. Например, расстояние до центра, аэропорта, ближайшего парка и водоёма. "
   ]
  },
  {
   "cell_type": "markdown",
   "metadata": {},
   "source": [
    "## Изучение данных из файла"
   ]
  },
  {
   "cell_type": "code",
   "execution_count": 63,
   "metadata": {},
   "outputs": [
    {
     "data": {
      "text/html": [
       "<div>\n",
       "<style scoped>\n",
       "    .dataframe tbody tr th:only-of-type {\n",
       "        vertical-align: middle;\n",
       "    }\n",
       "\n",
       "    .dataframe tbody tr th {\n",
       "        vertical-align: top;\n",
       "    }\n",
       "\n",
       "    .dataframe thead th {\n",
       "        text-align: right;\n",
       "    }\n",
       "</style>\n",
       "<table border=\"1\" class=\"dataframe\">\n",
       "  <thead>\n",
       "    <tr style=\"text-align: right;\">\n",
       "      <th></th>\n",
       "      <th>total_images</th>\n",
       "      <th>last_price</th>\n",
       "      <th>total_area</th>\n",
       "      <th>first_day_exposition</th>\n",
       "      <th>rooms</th>\n",
       "      <th>ceiling_height</th>\n",
       "      <th>floors_total</th>\n",
       "      <th>living_area</th>\n",
       "      <th>floor</th>\n",
       "      <th>is_apartment</th>\n",
       "      <th>...</th>\n",
       "      <th>kitchen_area</th>\n",
       "      <th>balcony</th>\n",
       "      <th>locality_name</th>\n",
       "      <th>airports_nearest</th>\n",
       "      <th>cityCenters_nearest</th>\n",
       "      <th>parks_around3000</th>\n",
       "      <th>parks_nearest</th>\n",
       "      <th>ponds_around3000</th>\n",
       "      <th>ponds_nearest</th>\n",
       "      <th>days_exposition</th>\n",
       "    </tr>\n",
       "  </thead>\n",
       "  <tbody>\n",
       "    <tr>\n",
       "      <td>0</td>\n",
       "      <td>20</td>\n",
       "      <td>13000000.0</td>\n",
       "      <td>108.00</td>\n",
       "      <td>2019-03-07T00:00:00</td>\n",
       "      <td>3</td>\n",
       "      <td>2.70</td>\n",
       "      <td>16.0</td>\n",
       "      <td>51.00</td>\n",
       "      <td>8</td>\n",
       "      <td>NaN</td>\n",
       "      <td>...</td>\n",
       "      <td>25.00</td>\n",
       "      <td>NaN</td>\n",
       "      <td>Санкт-Петербург</td>\n",
       "      <td>18863.0</td>\n",
       "      <td>16028.0</td>\n",
       "      <td>1.0</td>\n",
       "      <td>482.0</td>\n",
       "      <td>2.0</td>\n",
       "      <td>755.0</td>\n",
       "      <td>NaN</td>\n",
       "    </tr>\n",
       "    <tr>\n",
       "      <td>1</td>\n",
       "      <td>7</td>\n",
       "      <td>3350000.0</td>\n",
       "      <td>40.40</td>\n",
       "      <td>2018-12-04T00:00:00</td>\n",
       "      <td>1</td>\n",
       "      <td>NaN</td>\n",
       "      <td>11.0</td>\n",
       "      <td>18.60</td>\n",
       "      <td>1</td>\n",
       "      <td>NaN</td>\n",
       "      <td>...</td>\n",
       "      <td>11.00</td>\n",
       "      <td>2.0</td>\n",
       "      <td>посёлок Шушары</td>\n",
       "      <td>12817.0</td>\n",
       "      <td>18603.0</td>\n",
       "      <td>0.0</td>\n",
       "      <td>NaN</td>\n",
       "      <td>0.0</td>\n",
       "      <td>NaN</td>\n",
       "      <td>81.0</td>\n",
       "    </tr>\n",
       "    <tr>\n",
       "      <td>2</td>\n",
       "      <td>10</td>\n",
       "      <td>5196000.0</td>\n",
       "      <td>56.00</td>\n",
       "      <td>2015-08-20T00:00:00</td>\n",
       "      <td>2</td>\n",
       "      <td>NaN</td>\n",
       "      <td>5.0</td>\n",
       "      <td>34.30</td>\n",
       "      <td>4</td>\n",
       "      <td>NaN</td>\n",
       "      <td>...</td>\n",
       "      <td>8.30</td>\n",
       "      <td>0.0</td>\n",
       "      <td>Санкт-Петербург</td>\n",
       "      <td>21741.0</td>\n",
       "      <td>13933.0</td>\n",
       "      <td>1.0</td>\n",
       "      <td>90.0</td>\n",
       "      <td>2.0</td>\n",
       "      <td>574.0</td>\n",
       "      <td>558.0</td>\n",
       "    </tr>\n",
       "    <tr>\n",
       "      <td>3</td>\n",
       "      <td>0</td>\n",
       "      <td>64900000.0</td>\n",
       "      <td>159.00</td>\n",
       "      <td>2015-07-24T00:00:00</td>\n",
       "      <td>3</td>\n",
       "      <td>NaN</td>\n",
       "      <td>14.0</td>\n",
       "      <td>NaN</td>\n",
       "      <td>9</td>\n",
       "      <td>NaN</td>\n",
       "      <td>...</td>\n",
       "      <td>NaN</td>\n",
       "      <td>0.0</td>\n",
       "      <td>Санкт-Петербург</td>\n",
       "      <td>28098.0</td>\n",
       "      <td>6800.0</td>\n",
       "      <td>2.0</td>\n",
       "      <td>84.0</td>\n",
       "      <td>3.0</td>\n",
       "      <td>234.0</td>\n",
       "      <td>424.0</td>\n",
       "    </tr>\n",
       "    <tr>\n",
       "      <td>4</td>\n",
       "      <td>2</td>\n",
       "      <td>10000000.0</td>\n",
       "      <td>100.00</td>\n",
       "      <td>2018-06-19T00:00:00</td>\n",
       "      <td>2</td>\n",
       "      <td>3.03</td>\n",
       "      <td>14.0</td>\n",
       "      <td>32.00</td>\n",
       "      <td>13</td>\n",
       "      <td>NaN</td>\n",
       "      <td>...</td>\n",
       "      <td>41.00</td>\n",
       "      <td>NaN</td>\n",
       "      <td>Санкт-Петербург</td>\n",
       "      <td>31856.0</td>\n",
       "      <td>8098.0</td>\n",
       "      <td>2.0</td>\n",
       "      <td>112.0</td>\n",
       "      <td>1.0</td>\n",
       "      <td>48.0</td>\n",
       "      <td>121.0</td>\n",
       "    </tr>\n",
       "    <tr>\n",
       "      <td>5</td>\n",
       "      <td>10</td>\n",
       "      <td>2890000.0</td>\n",
       "      <td>30.40</td>\n",
       "      <td>2018-09-10T00:00:00</td>\n",
       "      <td>1</td>\n",
       "      <td>NaN</td>\n",
       "      <td>12.0</td>\n",
       "      <td>14.40</td>\n",
       "      <td>5</td>\n",
       "      <td>NaN</td>\n",
       "      <td>...</td>\n",
       "      <td>9.10</td>\n",
       "      <td>NaN</td>\n",
       "      <td>городской посёлок Янино-1</td>\n",
       "      <td>NaN</td>\n",
       "      <td>NaN</td>\n",
       "      <td>NaN</td>\n",
       "      <td>NaN</td>\n",
       "      <td>NaN</td>\n",
       "      <td>NaN</td>\n",
       "      <td>55.0</td>\n",
       "    </tr>\n",
       "    <tr>\n",
       "      <td>6</td>\n",
       "      <td>6</td>\n",
       "      <td>3700000.0</td>\n",
       "      <td>37.30</td>\n",
       "      <td>2017-11-02T00:00:00</td>\n",
       "      <td>1</td>\n",
       "      <td>NaN</td>\n",
       "      <td>26.0</td>\n",
       "      <td>10.60</td>\n",
       "      <td>6</td>\n",
       "      <td>NaN</td>\n",
       "      <td>...</td>\n",
       "      <td>14.40</td>\n",
       "      <td>1.0</td>\n",
       "      <td>посёлок Парголово</td>\n",
       "      <td>52996.0</td>\n",
       "      <td>19143.0</td>\n",
       "      <td>0.0</td>\n",
       "      <td>NaN</td>\n",
       "      <td>0.0</td>\n",
       "      <td>NaN</td>\n",
       "      <td>155.0</td>\n",
       "    </tr>\n",
       "    <tr>\n",
       "      <td>7</td>\n",
       "      <td>5</td>\n",
       "      <td>7915000.0</td>\n",
       "      <td>71.60</td>\n",
       "      <td>2019-04-18T00:00:00</td>\n",
       "      <td>2</td>\n",
       "      <td>NaN</td>\n",
       "      <td>24.0</td>\n",
       "      <td>NaN</td>\n",
       "      <td>22</td>\n",
       "      <td>NaN</td>\n",
       "      <td>...</td>\n",
       "      <td>18.90</td>\n",
       "      <td>2.0</td>\n",
       "      <td>Санкт-Петербург</td>\n",
       "      <td>23982.0</td>\n",
       "      <td>11634.0</td>\n",
       "      <td>0.0</td>\n",
       "      <td>NaN</td>\n",
       "      <td>0.0</td>\n",
       "      <td>NaN</td>\n",
       "      <td>NaN</td>\n",
       "    </tr>\n",
       "    <tr>\n",
       "      <td>8</td>\n",
       "      <td>20</td>\n",
       "      <td>2900000.0</td>\n",
       "      <td>33.16</td>\n",
       "      <td>2018-05-23T00:00:00</td>\n",
       "      <td>1</td>\n",
       "      <td>NaN</td>\n",
       "      <td>27.0</td>\n",
       "      <td>15.43</td>\n",
       "      <td>26</td>\n",
       "      <td>NaN</td>\n",
       "      <td>...</td>\n",
       "      <td>8.81</td>\n",
       "      <td>NaN</td>\n",
       "      <td>посёлок Мурино</td>\n",
       "      <td>NaN</td>\n",
       "      <td>NaN</td>\n",
       "      <td>NaN</td>\n",
       "      <td>NaN</td>\n",
       "      <td>NaN</td>\n",
       "      <td>NaN</td>\n",
       "      <td>189.0</td>\n",
       "    </tr>\n",
       "    <tr>\n",
       "      <td>9</td>\n",
       "      <td>18</td>\n",
       "      <td>5400000.0</td>\n",
       "      <td>61.00</td>\n",
       "      <td>2017-02-26T00:00:00</td>\n",
       "      <td>3</td>\n",
       "      <td>2.50</td>\n",
       "      <td>9.0</td>\n",
       "      <td>43.60</td>\n",
       "      <td>7</td>\n",
       "      <td>NaN</td>\n",
       "      <td>...</td>\n",
       "      <td>6.50</td>\n",
       "      <td>2.0</td>\n",
       "      <td>Санкт-Петербург</td>\n",
       "      <td>50898.0</td>\n",
       "      <td>15008.0</td>\n",
       "      <td>0.0</td>\n",
       "      <td>NaN</td>\n",
       "      <td>0.0</td>\n",
       "      <td>NaN</td>\n",
       "      <td>289.0</td>\n",
       "    </tr>\n",
       "  </tbody>\n",
       "</table>\n",
       "<p>10 rows × 22 columns</p>\n",
       "</div>"
      ],
      "text/plain": [
       "   total_images  last_price  total_area first_day_exposition  rooms  \\\n",
       "0            20  13000000.0      108.00  2019-03-07T00:00:00      3   \n",
       "1             7   3350000.0       40.40  2018-12-04T00:00:00      1   \n",
       "2            10   5196000.0       56.00  2015-08-20T00:00:00      2   \n",
       "3             0  64900000.0      159.00  2015-07-24T00:00:00      3   \n",
       "4             2  10000000.0      100.00  2018-06-19T00:00:00      2   \n",
       "5            10   2890000.0       30.40  2018-09-10T00:00:00      1   \n",
       "6             6   3700000.0       37.30  2017-11-02T00:00:00      1   \n",
       "7             5   7915000.0       71.60  2019-04-18T00:00:00      2   \n",
       "8            20   2900000.0       33.16  2018-05-23T00:00:00      1   \n",
       "9            18   5400000.0       61.00  2017-02-26T00:00:00      3   \n",
       "\n",
       "   ceiling_height  floors_total  living_area  floor is_apartment  ...  \\\n",
       "0            2.70          16.0        51.00      8          NaN  ...   \n",
       "1             NaN          11.0        18.60      1          NaN  ...   \n",
       "2             NaN           5.0        34.30      4          NaN  ...   \n",
       "3             NaN          14.0          NaN      9          NaN  ...   \n",
       "4            3.03          14.0        32.00     13          NaN  ...   \n",
       "5             NaN          12.0        14.40      5          NaN  ...   \n",
       "6             NaN          26.0        10.60      6          NaN  ...   \n",
       "7             NaN          24.0          NaN     22          NaN  ...   \n",
       "8             NaN          27.0        15.43     26          NaN  ...   \n",
       "9            2.50           9.0        43.60      7          NaN  ...   \n",
       "\n",
       "   kitchen_area  balcony              locality_name  airports_nearest  \\\n",
       "0         25.00      NaN            Санкт-Петербург           18863.0   \n",
       "1         11.00      2.0             посёлок Шушары           12817.0   \n",
       "2          8.30      0.0            Санкт-Петербург           21741.0   \n",
       "3           NaN      0.0            Санкт-Петербург           28098.0   \n",
       "4         41.00      NaN            Санкт-Петербург           31856.0   \n",
       "5          9.10      NaN  городской посёлок Янино-1               NaN   \n",
       "6         14.40      1.0          посёлок Парголово           52996.0   \n",
       "7         18.90      2.0            Санкт-Петербург           23982.0   \n",
       "8          8.81      NaN             посёлок Мурино               NaN   \n",
       "9          6.50      2.0            Санкт-Петербург           50898.0   \n",
       "\n",
       "  cityCenters_nearest  parks_around3000  parks_nearest  ponds_around3000  \\\n",
       "0             16028.0               1.0          482.0               2.0   \n",
       "1             18603.0               0.0            NaN               0.0   \n",
       "2             13933.0               1.0           90.0               2.0   \n",
       "3              6800.0               2.0           84.0               3.0   \n",
       "4              8098.0               2.0          112.0               1.0   \n",
       "5                 NaN               NaN            NaN               NaN   \n",
       "6             19143.0               0.0            NaN               0.0   \n",
       "7             11634.0               0.0            NaN               0.0   \n",
       "8                 NaN               NaN            NaN               NaN   \n",
       "9             15008.0               0.0            NaN               0.0   \n",
       "\n",
       "   ponds_nearest  days_exposition  \n",
       "0          755.0              NaN  \n",
       "1            NaN             81.0  \n",
       "2          574.0            558.0  \n",
       "3          234.0            424.0  \n",
       "4           48.0            121.0  \n",
       "5            NaN             55.0  \n",
       "6            NaN            155.0  \n",
       "7            NaN              NaN  \n",
       "8            NaN            189.0  \n",
       "9            NaN            289.0  \n",
       "\n",
       "[10 rows x 22 columns]"
      ]
     },
     "execution_count": 63,
     "metadata": {},
     "output_type": "execute_result"
    }
   ],
   "source": [
    "import pandas as pd\n",
    "data = pd.read_csv('/datasets/real_estate_data.csv', sep='\\t', decimal='.')\n",
    "from IPython.display import display\n",
    "data.head(10)\n"
   ]
  },
  {
   "cell_type": "code",
   "execution_count": 64,
   "metadata": {},
   "outputs": [
    {
     "name": "stdout",
     "output_type": "stream",
     "text": [
      "<class 'pandas.core.frame.DataFrame'>\n",
      "RangeIndex: 23699 entries, 0 to 23698\n",
      "Data columns (total 22 columns):\n",
      "total_images            23699 non-null int64\n",
      "last_price              23699 non-null float64\n",
      "total_area              23699 non-null float64\n",
      "first_day_exposition    23699 non-null object\n",
      "rooms                   23699 non-null int64\n",
      "ceiling_height          14504 non-null float64\n",
      "floors_total            23613 non-null float64\n",
      "living_area             21796 non-null float64\n",
      "floor                   23699 non-null int64\n",
      "is_apartment            2775 non-null object\n",
      "studio                  23699 non-null bool\n",
      "open_plan               23699 non-null bool\n",
      "kitchen_area            21421 non-null float64\n",
      "balcony                 12180 non-null float64\n",
      "locality_name           23650 non-null object\n",
      "airports_nearest        18157 non-null float64\n",
      "cityCenters_nearest     18180 non-null float64\n",
      "parks_around3000        18181 non-null float64\n",
      "parks_nearest           8079 non-null float64\n",
      "ponds_around3000        18181 non-null float64\n",
      "ponds_nearest           9110 non-null float64\n",
      "days_exposition         20518 non-null float64\n",
      "dtypes: bool(2), float64(14), int64(3), object(3)\n",
      "memory usage: 3.7+ MB\n"
     ]
    }
   ],
   "source": [
    "data.info()"
   ]
  },
  {
   "cell_type": "code",
   "execution_count": 65,
   "metadata": {},
   "outputs": [],
   "source": [
    "#Проверим, есть ли дубликаты. Для этого разделим таблицу на 2 части.\n",
    "#во вторую поместим цену, дни публикации, т.к. продавец мог повторно выставить квартиру на продажу\n",
    "# а эти данные изменились\n",
    "\n",
    "\n",
    "data_1 = data[\n",
    "    ['total_images', 'total_area', 'rooms', 'ceiling_height', 'floors_total',\n",
    "     'living_area', 'floor', 'is_apartment', 'studio', 'open_plan', 'kitchen_area',\n",
    "    'balcony', 'locality_name', 'airports_nearest', 'cityCenters_nearest',\n",
    "     'parks_around3000', 'parks_nearest', 'ponds_around3000', 'ponds_nearest']\n",
    "]\n",
    "data_2=data[['last_price', 'first_day_exposition', 'days_exposition']]\n"
   ]
  },
  {
   "cell_type": "code",
   "execution_count": 66,
   "metadata": {},
   "outputs": [
    {
     "name": "stdout",
     "output_type": "stream",
     "text": [
      "<class 'pandas.core.frame.DataFrame'>\n",
      "Int64Index: 23695 entries, 0 to 23698\n",
      "Data columns (total 19 columns):\n",
      "total_images           23695 non-null int64\n",
      "total_area             23695 non-null float64\n",
      "rooms                  23695 non-null int64\n",
      "ceiling_height         14501 non-null float64\n",
      "floors_total           23609 non-null float64\n",
      "living_area            21792 non-null float64\n",
      "floor                  23695 non-null int64\n",
      "is_apartment           2774 non-null object\n",
      "studio                 23695 non-null bool\n",
      "open_plan              23695 non-null bool\n",
      "kitchen_area           21418 non-null float64\n",
      "balcony                12178 non-null float64\n",
      "locality_name          23646 non-null object\n",
      "airports_nearest       18155 non-null float64\n",
      "cityCenters_nearest    18178 non-null float64\n",
      "parks_around3000       18179 non-null float64\n",
      "parks_nearest          8077 non-null float64\n",
      "ponds_around3000       18179 non-null float64\n",
      "ponds_nearest          9108 non-null float64\n",
      "dtypes: bool(2), float64(12), int64(3), object(2)\n",
      "memory usage: 3.3+ MB\n"
     ]
    }
   ],
   "source": [
    "# удалим дубликаты в первой таблице\n",
    "data_1 = data_1.drop_duplicates()\n",
    "data_1.info() # проверим кол-во оставшихся строк\n",
    "\n",
    "\n"
   ]
  },
  {
   "cell_type": "code",
   "execution_count": 67,
   "metadata": {},
   "outputs": [
    {
     "name": "stdout",
     "output_type": "stream",
     "text": [
      "<class 'pandas.core.frame.DataFrame'>\n",
      "RangeIndex: 23695 entries, 0 to 23694\n",
      "Data columns (total 22 columns):\n",
      "total_images            23695 non-null int64\n",
      "total_area              23695 non-null float64\n",
      "rooms                   23695 non-null int64\n",
      "ceiling_height          14501 non-null float64\n",
      "floors_total            23609 non-null float64\n",
      "living_area             21792 non-null float64\n",
      "floor                   23695 non-null int64\n",
      "is_apartment            2774 non-null object\n",
      "studio                  23695 non-null bool\n",
      "open_plan               23695 non-null bool\n",
      "kitchen_area            21418 non-null float64\n",
      "balcony                 12178 non-null float64\n",
      "locality_name           23646 non-null object\n",
      "airports_nearest        18155 non-null float64\n",
      "cityCenters_nearest     18178 non-null float64\n",
      "parks_around3000        18179 non-null float64\n",
      "parks_nearest           8077 non-null float64\n",
      "ponds_around3000        18179 non-null float64\n",
      "ponds_nearest           9108 non-null float64\n",
      "last_price              23695 non-null float64\n",
      "first_day_exposition    23695 non-null object\n",
      "days_exposition         20514 non-null float64\n",
      "dtypes: bool(2), float64(14), int64(3), object(3)\n",
      "memory usage: 3.7+ MB\n"
     ]
    }
   ],
   "source": [
    "data=data_1.join(data_2).reset_index(drop=True) #объединим две таблицы по индексам\n",
    "data.info() #проверим кол-во строк и столбцов у итоговой таблицы"
   ]
  },
  {
   "cell_type": "markdown",
   "metadata": {},
   "source": [
    "<div class=\"alert alert-info\">\n",
    "<b> </b>\n",
    "\n",
    "Удалилось всего 4 строки, думаю, что остались еще квартиры которые выставлялись повторно, но пользователи могут \n",
    "менять/добавлять информацию, поэтому все дубликаты удалить не получится. Удалились только те, которые полностью идентичны.\n",
    "\n",
    "    \n",
    "</div>"
   ]
  },
  {
   "cell_type": "code",
   "execution_count": 68,
   "metadata": {},
   "outputs": [],
   "source": [
    "data = data.rename(columns={'apartment': 'apartment'})"
   ]
  },
  {
   "cell_type": "code",
   "execution_count": 69,
   "metadata": {},
   "outputs": [
    {
     "name": "stdout",
     "output_type": "stream",
     "text": [
      "Уникальные значения в столбце open_plan\n",
      "False    23628\n",
      "True        67\n",
      "Name: open_plan, dtype: int64\n",
      "Уникальные значения в столбце rooms\n",
      "1     8046\n",
      "2     7940\n",
      "3     5812\n",
      "4     1179\n",
      "5      326\n",
      "0      197\n",
      "6      105\n",
      "7       59\n",
      "8       12\n",
      "9        8\n",
      "10       3\n",
      "14       2\n",
      "11       2\n",
      "19       1\n",
      "12       1\n",
      "16       1\n",
      "15       1\n",
      "Name: rooms, dtype: int64\n",
      "Уникальные значения в столбце ceiling_height\n",
      "2.50      3515\n",
      "2.60      1646\n",
      "2.70      1573\n",
      "3.00      1112\n",
      "2.80       993\n",
      "          ... \n",
      "27.50        1\n",
      "5.00         1\n",
      "3.59         1\n",
      "4.80         1\n",
      "100.00       1\n",
      "Name: ceiling_height, Length: 183, dtype: int64\n",
      "Уникальные значения в столбце floor\n",
      "2     3368\n",
      "3     3072\n",
      "1     2916\n",
      "4     2804\n",
      "5     2621\n",
      "6     1305\n",
      "7     1217\n",
      "8     1083\n",
      "9     1050\n",
      "10     687\n",
      "12     526\n",
      "11     523\n",
      "13     379\n",
      "15     343\n",
      "14     337\n",
      "16     315\n",
      "17     227\n",
      "18     178\n",
      "19     147\n",
      "21     125\n",
      "22     113\n",
      "20     110\n",
      "23     100\n",
      "24      63\n",
      "25      46\n",
      "26      24\n",
      "27      10\n",
      "28       1\n",
      "33       1\n",
      "29       1\n",
      "30       1\n",
      "32       1\n",
      "31       1\n",
      "Name: floor, dtype: int64\n",
      "Уникальные значения в столбце floors_total\n",
      "5.0     5787\n",
      "9.0     3761\n",
      "16.0    1375\n",
      "12.0    1362\n",
      "4.0     1199\n",
      "10.0    1174\n",
      "25.0    1075\n",
      "6.0      914\n",
      "17.0     833\n",
      "3.0      668\n",
      "7.0      592\n",
      "14.0     553\n",
      "18.0     504\n",
      "24.0     469\n",
      "8.0      390\n",
      "2.0      383\n",
      "15.0     365\n",
      "23.0     352\n",
      "19.0     339\n",
      "22.0     286\n",
      "20.0     271\n",
      "13.0     229\n",
      "11.0     203\n",
      "27.0     164\n",
      "21.0     158\n",
      "26.0     124\n",
      "1.0       25\n",
      "35.0      24\n",
      "28.0      21\n",
      "36.0       3\n",
      "29.0       1\n",
      "60.0       1\n",
      "33.0       1\n",
      "52.0       1\n",
      "37.0       1\n",
      "34.0       1\n",
      "Name: floors_total, dtype: int64\n",
      "Уникальные значения в столбце is_apartment\n",
      "False    2724\n",
      "True       50\n",
      "Name: is_apartment, dtype: int64\n",
      "Уникальные значения в столбце studio\n",
      "False    23546\n",
      "True       149\n",
      "Name: studio, dtype: int64\n",
      "Уникальные значения в столбце balcony\n",
      "1.0    4195\n",
      "0.0    3758\n",
      "2.0    3659\n",
      "5.0     304\n",
      "4.0     181\n",
      "3.0      81\n",
      "Name: balcony, dtype: int64\n",
      "Уникальные значения в столбце locality_name\n",
      "Санкт-Петербург                       15719\n",
      "посёлок Мурино                          522\n",
      "посёлок Шушары                          440\n",
      "Всеволожск                              398\n",
      "Пушкин                                  369\n",
      "                                      ...  \n",
      "деревня Шпаньково                         1\n",
      "коттеджный поселок Кивеннапа Север        1\n",
      "деревня Чудской Бор                       1\n",
      "поселок Коробицыно                        1\n",
      "деревня Мануйлово                         1\n",
      "Name: locality_name, Length: 364, dtype: int64\n",
      "Уникальные значения в столбце days_exposition\n",
      "45.0      880\n",
      "60.0      538\n",
      "7.0       234\n",
      "30.0      208\n",
      "90.0      204\n",
      "         ... \n",
      "1110.0      1\n",
      "1049.0      1\n",
      "951.0       1\n",
      "693.0       1\n",
      "773.0       1\n",
      "Name: days_exposition, Length: 1141, dtype: int64\n"
     ]
    }
   ],
   "source": [
    "print('Уникальные значения в столбце open_plan')\n",
    "print(data['open_plan'].value_counts())\n",
    "\n",
    "print('Уникальные значения в столбце rooms')\n",
    "print(data['rooms'].value_counts())\n",
    "\n",
    "print('Уникальные значения в столбце ceiling_height')\n",
    "print(data['ceiling_height'].value_counts())\n",
    "\n",
    "print('Уникальные значения в столбце floor')\n",
    "print(data['floor'].value_counts())\n",
    "\n",
    "print('Уникальные значения в столбце floors_total')\n",
    "print(data['floors_total'].value_counts())\n",
    "\n",
    "print('Уникальные значения в столбце is_apartment')\n",
    "print(data['is_apartment'].value_counts())\n",
    "\n",
    "print('Уникальные значения в столбце studio')\n",
    "print(data['studio'].value_counts())\n",
    "\n",
    "print('Уникальные значения в столбце balcony')\n",
    "print(data['balcony'].value_counts())\n",
    "\n",
    "print('Уникальные значения в столбце locality_name')\n",
    "print(data['locality_name'].value_counts())\n",
    "\n",
    "print('Уникальные значения в столбце days_exposition')\n",
    "print(data['days_exposition'].value_counts())"
   ]
  },
  {
   "cell_type": "code",
   "execution_count": 70,
   "metadata": {},
   "outputs": [
    {
     "name": "stdout",
     "output_type": "stream",
     "text": [
      "Минимальная total_area: 12.0\n",
      "Максимальная total_area: 900.0\n",
      "Минимальная living_area: 2.0\n",
      "Максимальная living_area: 409.7\n",
      "Минимальная kitchen_area: 1.3\n",
      "Максимальная kitchen_area: 112.0\n",
      "Минимальная ceiling_height: 1.0\n",
      "Максимальная ceiling_height: 100.0\n",
      "Минимальная last_price: 12190.0\n",
      "Максимальная last_price: 763000000.0\n",
      "Минимальная days_exposition: 1.0\n",
      "Максимальная days_exposition: 1580.0\n",
      "Минимальная cityCenters_nearest: 181.0\n",
      "Максимальная cityCenters_nearest: 65968.0\n",
      "Кол-во квартир стоимостью выше 30 млн:  316\n",
      "Кол-во квартир площадью больше 200 м2:  227\n"
     ]
    }
   ],
   "source": [
    "print('Минимальная total_area:', data['total_area'].min())\n",
    "print('Максимальная total_area:', data['total_area'].max())\n",
    "\n",
    "print('Минимальная living_area:', data['living_area'].min())\n",
    "print('Максимальная living_area:', data['living_area'].max())\n",
    "\n",
    "print('Минимальная kitchen_area:', data['kitchen_area'].min())\n",
    "print('Максимальная kitchen_area:', data['kitchen_area'].max())\n",
    "\n",
    "print('Минимальная ceiling_height:', data['ceiling_height'].min())\n",
    "print('Максимальная ceiling_height:', data['ceiling_height'].max())\n",
    "\n",
    "\n",
    "print('Минимальная last_price:', data['last_price'].min())\n",
    "print('Максимальная last_price:', data['last_price'].max())\n",
    "\n",
    "print('Минимальная days_exposition:', data['days_exposition'].min())\n",
    "print('Максимальная days_exposition:', data['days_exposition'].max())\n",
    "\n",
    "\n",
    "print('Минимальная cityCenters_nearest:', data['cityCenters_nearest'].min())\n",
    "print('Максимальная cityCenters_nearest:', data['cityCenters_nearest'].max())\n",
    "\n",
    "print('Кол-во квартир стоимостью выше 30 млн: ', data.query('last_price > 30000000')['last_price'].count())\n",
    "print('Кол-во квартир площадью больше 200 м2: ', data.query('total_area > 200')['total_area'].count())"
   ]
  },
  {
   "cell_type": "code",
   "execution_count": 71,
   "metadata": {},
   "outputs": [
    {
     "data": {
      "text/html": [
       "<div>\n",
       "<style scoped>\n",
       "    .dataframe tbody tr th:only-of-type {\n",
       "        vertical-align: middle;\n",
       "    }\n",
       "\n",
       "    .dataframe tbody tr th {\n",
       "        vertical-align: top;\n",
       "    }\n",
       "\n",
       "    .dataframe thead th {\n",
       "        text-align: right;\n",
       "    }\n",
       "</style>\n",
       "<table border=\"1\" class=\"dataframe\">\n",
       "  <thead>\n",
       "    <tr style=\"text-align: right;\">\n",
       "      <th></th>\n",
       "      <th>total_images</th>\n",
       "      <th>total_area</th>\n",
       "      <th>rooms</th>\n",
       "      <th>ceiling_height</th>\n",
       "      <th>floors_total</th>\n",
       "      <th>living_area</th>\n",
       "      <th>floor</th>\n",
       "      <th>kitchen_area</th>\n",
       "      <th>balcony</th>\n",
       "      <th>airports_nearest</th>\n",
       "      <th>cityCenters_nearest</th>\n",
       "      <th>parks_around3000</th>\n",
       "      <th>parks_nearest</th>\n",
       "      <th>ponds_around3000</th>\n",
       "      <th>ponds_nearest</th>\n",
       "      <th>last_price</th>\n",
       "      <th>days_exposition</th>\n",
       "    </tr>\n",
       "  </thead>\n",
       "  <tbody>\n",
       "    <tr>\n",
       "      <td>count</td>\n",
       "      <td>23695.000000</td>\n",
       "      <td>23695.000000</td>\n",
       "      <td>23695.000000</td>\n",
       "      <td>14501.000000</td>\n",
       "      <td>23609.000000</td>\n",
       "      <td>21792.000000</td>\n",
       "      <td>23695.000000</td>\n",
       "      <td>21418.000000</td>\n",
       "      <td>12178.000000</td>\n",
       "      <td>18155.000000</td>\n",
       "      <td>18178.000000</td>\n",
       "      <td>18179.000000</td>\n",
       "      <td>8077.000000</td>\n",
       "      <td>18179.000000</td>\n",
       "      <td>9108.000000</td>\n",
       "      <td>2.369500e+04</td>\n",
       "      <td>20514.000000</td>\n",
       "    </tr>\n",
       "    <tr>\n",
       "      <td>mean</td>\n",
       "      <td>9.858915</td>\n",
       "      <td>60.344245</td>\n",
       "      <td>2.070521</td>\n",
       "      <td>2.771482</td>\n",
       "      <td>10.673811</td>\n",
       "      <td>34.454915</td>\n",
       "      <td>5.892509</td>\n",
       "      <td>10.569358</td>\n",
       "      <td>1.149614</td>\n",
       "      <td>28793.025172</td>\n",
       "      <td>14192.149356</td>\n",
       "      <td>0.611365</td>\n",
       "      <td>490.783831</td>\n",
       "      <td>0.770119</td>\n",
       "      <td>518.000220</td>\n",
       "      <td>6.540600e+06</td>\n",
       "      <td>180.878571</td>\n",
       "    </tr>\n",
       "    <tr>\n",
       "      <td>std</td>\n",
       "      <td>5.682177</td>\n",
       "      <td>35.652646</td>\n",
       "      <td>1.078367</td>\n",
       "      <td>1.261177</td>\n",
       "      <td>6.597222</td>\n",
       "      <td>22.029266</td>\n",
       "      <td>4.885475</td>\n",
       "      <td>5.905551</td>\n",
       "      <td>1.070766</td>\n",
       "      <td>12631.392529</td>\n",
       "      <td>8608.428100</td>\n",
       "      <td>0.802107</td>\n",
       "      <td>342.351399</td>\n",
       "      <td>0.938309</td>\n",
       "      <td>277.748072</td>\n",
       "      <td>1.088710e+07</td>\n",
       "      <td>219.729676</td>\n",
       "    </tr>\n",
       "    <tr>\n",
       "      <td>min</td>\n",
       "      <td>0.000000</td>\n",
       "      <td>12.000000</td>\n",
       "      <td>0.000000</td>\n",
       "      <td>1.000000</td>\n",
       "      <td>1.000000</td>\n",
       "      <td>2.000000</td>\n",
       "      <td>1.000000</td>\n",
       "      <td>1.300000</td>\n",
       "      <td>0.000000</td>\n",
       "      <td>0.000000</td>\n",
       "      <td>181.000000</td>\n",
       "      <td>0.000000</td>\n",
       "      <td>1.000000</td>\n",
       "      <td>0.000000</td>\n",
       "      <td>13.000000</td>\n",
       "      <td>1.219000e+04</td>\n",
       "      <td>1.000000</td>\n",
       "    </tr>\n",
       "    <tr>\n",
       "      <td>25%</td>\n",
       "      <td>6.000000</td>\n",
       "      <td>40.000000</td>\n",
       "      <td>1.000000</td>\n",
       "      <td>2.520000</td>\n",
       "      <td>5.000000</td>\n",
       "      <td>18.600000</td>\n",
       "      <td>2.000000</td>\n",
       "      <td>7.000000</td>\n",
       "      <td>0.000000</td>\n",
       "      <td>18583.500000</td>\n",
       "      <td>9238.000000</td>\n",
       "      <td>0.000000</td>\n",
       "      <td>288.000000</td>\n",
       "      <td>0.000000</td>\n",
       "      <td>294.000000</td>\n",
       "      <td>3.400000e+06</td>\n",
       "      <td>45.000000</td>\n",
       "    </tr>\n",
       "    <tr>\n",
       "      <td>50%</td>\n",
       "      <td>9.000000</td>\n",
       "      <td>52.000000</td>\n",
       "      <td>2.000000</td>\n",
       "      <td>2.650000</td>\n",
       "      <td>9.000000</td>\n",
       "      <td>30.000000</td>\n",
       "      <td>4.000000</td>\n",
       "      <td>9.100000</td>\n",
       "      <td>1.000000</td>\n",
       "      <td>26726.000000</td>\n",
       "      <td>13100.000000</td>\n",
       "      <td>0.000000</td>\n",
       "      <td>455.000000</td>\n",
       "      <td>1.000000</td>\n",
       "      <td>502.000000</td>\n",
       "      <td>4.650000e+06</td>\n",
       "      <td>95.000000</td>\n",
       "    </tr>\n",
       "    <tr>\n",
       "      <td>75%</td>\n",
       "      <td>14.000000</td>\n",
       "      <td>69.800000</td>\n",
       "      <td>3.000000</td>\n",
       "      <td>2.800000</td>\n",
       "      <td>16.000000</td>\n",
       "      <td>42.300000</td>\n",
       "      <td>8.000000</td>\n",
       "      <td>12.000000</td>\n",
       "      <td>2.000000</td>\n",
       "      <td>37273.000000</td>\n",
       "      <td>16293.000000</td>\n",
       "      <td>1.000000</td>\n",
       "      <td>612.000000</td>\n",
       "      <td>1.000000</td>\n",
       "      <td>729.250000</td>\n",
       "      <td>6.799500e+06</td>\n",
       "      <td>232.000000</td>\n",
       "    </tr>\n",
       "    <tr>\n",
       "      <td>max</td>\n",
       "      <td>50.000000</td>\n",
       "      <td>900.000000</td>\n",
       "      <td>19.000000</td>\n",
       "      <td>100.000000</td>\n",
       "      <td>60.000000</td>\n",
       "      <td>409.700000</td>\n",
       "      <td>33.000000</td>\n",
       "      <td>112.000000</td>\n",
       "      <td>5.000000</td>\n",
       "      <td>84869.000000</td>\n",
       "      <td>65968.000000</td>\n",
       "      <td>3.000000</td>\n",
       "      <td>3190.000000</td>\n",
       "      <td>3.000000</td>\n",
       "      <td>1344.000000</td>\n",
       "      <td>7.630000e+08</td>\n",
       "      <td>1580.000000</td>\n",
       "    </tr>\n",
       "  </tbody>\n",
       "</table>\n",
       "</div>"
      ],
      "text/plain": [
       "       total_images    total_area         rooms  ceiling_height  floors_total  \\\n",
       "count  23695.000000  23695.000000  23695.000000    14501.000000  23609.000000   \n",
       "mean       9.858915     60.344245      2.070521        2.771482     10.673811   \n",
       "std        5.682177     35.652646      1.078367        1.261177      6.597222   \n",
       "min        0.000000     12.000000      0.000000        1.000000      1.000000   \n",
       "25%        6.000000     40.000000      1.000000        2.520000      5.000000   \n",
       "50%        9.000000     52.000000      2.000000        2.650000      9.000000   \n",
       "75%       14.000000     69.800000      3.000000        2.800000     16.000000   \n",
       "max       50.000000    900.000000     19.000000      100.000000     60.000000   \n",
       "\n",
       "        living_area         floor  kitchen_area       balcony  \\\n",
       "count  21792.000000  23695.000000  21418.000000  12178.000000   \n",
       "mean      34.454915      5.892509     10.569358      1.149614   \n",
       "std       22.029266      4.885475      5.905551      1.070766   \n",
       "min        2.000000      1.000000      1.300000      0.000000   \n",
       "25%       18.600000      2.000000      7.000000      0.000000   \n",
       "50%       30.000000      4.000000      9.100000      1.000000   \n",
       "75%       42.300000      8.000000     12.000000      2.000000   \n",
       "max      409.700000     33.000000    112.000000      5.000000   \n",
       "\n",
       "       airports_nearest  cityCenters_nearest  parks_around3000  parks_nearest  \\\n",
       "count      18155.000000         18178.000000      18179.000000    8077.000000   \n",
       "mean       28793.025172         14192.149356          0.611365     490.783831   \n",
       "std        12631.392529          8608.428100          0.802107     342.351399   \n",
       "min            0.000000           181.000000          0.000000       1.000000   \n",
       "25%        18583.500000          9238.000000          0.000000     288.000000   \n",
       "50%        26726.000000         13100.000000          0.000000     455.000000   \n",
       "75%        37273.000000         16293.000000          1.000000     612.000000   \n",
       "max        84869.000000         65968.000000          3.000000    3190.000000   \n",
       "\n",
       "       ponds_around3000  ponds_nearest    last_price  days_exposition  \n",
       "count      18179.000000    9108.000000  2.369500e+04     20514.000000  \n",
       "mean           0.770119     518.000220  6.540600e+06       180.878571  \n",
       "std            0.938309     277.748072  1.088710e+07       219.729676  \n",
       "min            0.000000      13.000000  1.219000e+04         1.000000  \n",
       "25%            0.000000     294.000000  3.400000e+06        45.000000  \n",
       "50%            1.000000     502.000000  4.650000e+06        95.000000  \n",
       "75%            1.000000     729.250000  6.799500e+06       232.000000  \n",
       "max            3.000000    1344.000000  7.630000e+08      1580.000000  "
      ]
     },
     "execution_count": 71,
     "metadata": {},
     "output_type": "execute_result"
    }
   ],
   "source": [
    "data.describe()"
   ]
  },
  {
   "cell_type": "code",
   "execution_count": 72,
   "metadata": {},
   "outputs": [
    {
     "name": "stdout",
     "output_type": "stream",
     "text": [
      "<class 'pandas.core.frame.DataFrame'>\n",
      "Int64Index: 149 entries, 144 to 23633\n",
      "Data columns (total 22 columns):\n",
      "total_images            149 non-null int64\n",
      "total_area              149 non-null float64\n",
      "rooms                   149 non-null int64\n",
      "ceiling_height          77 non-null float64\n",
      "floors_total            146 non-null float64\n",
      "living_area             139 non-null float64\n",
      "floor                   149 non-null int64\n",
      "is_apartment            15 non-null object\n",
      "studio                  149 non-null bool\n",
      "open_plan               149 non-null bool\n",
      "kitchen_area            0 non-null float64\n",
      "balcony                 91 non-null float64\n",
      "locality_name           149 non-null object\n",
      "airports_nearest        92 non-null float64\n",
      "cityCenters_nearest     92 non-null float64\n",
      "parks_around3000        92 non-null float64\n",
      "parks_nearest           21 non-null float64\n",
      "ponds_around3000        92 non-null float64\n",
      "ponds_nearest           51 non-null float64\n",
      "last_price              149 non-null float64\n",
      "first_day_exposition    149 non-null object\n",
      "days_exposition         135 non-null float64\n",
      "dtypes: bool(2), float64(14), int64(3), object(3)\n",
      "memory usage: 24.7+ KB\n"
     ]
    }
   ],
   "source": [
    "data.query('studio == True').info()\n",
    "#проверим есть ли данные по кухне и жилой площади в студиях"
   ]
  },
  {
   "cell_type": "code",
   "execution_count": 73,
   "metadata": {},
   "outputs": [
    {
     "name": "stdout",
     "output_type": "stream",
     "text": [
      "<class 'pandas.core.frame.DataFrame'>\n",
      "Int64Index: 67 entries, 349 to 23588\n",
      "Data columns (total 22 columns):\n",
      "total_images            67 non-null int64\n",
      "total_area              67 non-null float64\n",
      "rooms                   67 non-null int64\n",
      "ceiling_height          15 non-null float64\n",
      "floors_total            67 non-null float64\n",
      "living_area             62 non-null float64\n",
      "floor                   67 non-null int64\n",
      "is_apartment            7 non-null object\n",
      "studio                  67 non-null bool\n",
      "open_plan               67 non-null bool\n",
      "kitchen_area            0 non-null float64\n",
      "balcony                 54 non-null float64\n",
      "locality_name           67 non-null object\n",
      "airports_nearest        37 non-null float64\n",
      "cityCenters_nearest     37 non-null float64\n",
      "parks_around3000        37 non-null float64\n",
      "parks_nearest           11 non-null float64\n",
      "ponds_around3000        37 non-null float64\n",
      "ponds_nearest           24 non-null float64\n",
      "last_price              67 non-null float64\n",
      "first_day_exposition    67 non-null object\n",
      "days_exposition         67 non-null float64\n",
      "dtypes: bool(2), float64(14), int64(3), object(3)\n",
      "memory usage: 11.1+ KB\n"
     ]
    }
   ],
   "source": [
    "data.query('open_plan == True').info()\n",
    "#проверим есть ли данные по кухне и жилой площади в свободной планировке"
   ]
  },
  {
   "cell_type": "code",
   "execution_count": 74,
   "metadata": {},
   "outputs": [
    {
     "name": "stdout",
     "output_type": "stream",
     "text": [
      "<class 'pandas.core.frame.DataFrame'>\n",
      "Int64Index: 50 entries, 543 to 23233\n",
      "Data columns (total 22 columns):\n",
      "total_images            50 non-null int64\n",
      "total_area              50 non-null float64\n",
      "rooms                   50 non-null int64\n",
      "ceiling_height          44 non-null float64\n",
      "floors_total            50 non-null float64\n",
      "living_area             42 non-null float64\n",
      "floor                   50 non-null int64\n",
      "is_apartment            50 non-null object\n",
      "studio                  50 non-null bool\n",
      "open_plan               50 non-null bool\n",
      "kitchen_area            35 non-null float64\n",
      "balcony                 31 non-null float64\n",
      "locality_name           50 non-null object\n",
      "airports_nearest        41 non-null float64\n",
      "cityCenters_nearest     43 non-null float64\n",
      "parks_around3000        43 non-null float64\n",
      "parks_nearest           19 non-null float64\n",
      "ponds_around3000        43 non-null float64\n",
      "ponds_nearest           30 non-null float64\n",
      "last_price              50 non-null float64\n",
      "first_day_exposition    50 non-null object\n",
      "days_exposition         38 non-null float64\n",
      "dtypes: bool(2), float64(14), int64(3), object(3)\n",
      "memory usage: 8.3+ KB\n"
     ]
    }
   ],
   "source": [
    "data.query('is_apartment == True').info()\n",
    "#проверим есть ли данные по кухне и жилой площади в аппартаментах"
   ]
  },
  {
   "cell_type": "code",
   "execution_count": 75,
   "metadata": {},
   "outputs": [
    {
     "data": {
      "text/plain": [
       "36"
      ]
     },
     "execution_count": 75,
     "metadata": {},
     "output_type": "execute_result"
    }
   ],
   "source": [
    "data.query('ceiling_height > 5')['ceiling_height'].count()\n",
    "#проверим сколько квартир с потолком выше 5м"
   ]
  },
  {
   "cell_type": "markdown",
   "metadata": {},
   "source": [
    "### Вывод"
   ]
  },
  {
   "cell_type": "markdown",
   "metadata": {},
   "source": [
    "<div class=\"alert alert-info\">\n",
    "<b>Выводы по первоначальной таблице:</b>\n",
    "\n",
    "1. Следует удалить пустые строки в столбце **\"locality_name\"**, т.к. это категориальные переменные,\n",
    "заменить их не чем и они составляют меньше 1 %. А также анализ квартир с отсутствием места не имеет смысла,\n",
    "т.к. на стоимость квартиры этот фактор влияет сильно.\n",
    "    \n",
    "2. Следует удалить пустые строки в столбце **'floors_total'**, они составляют меньше 1 % и мешают определить последний этаж или нет,\n",
    "заодно это поможет перевести в тип int.\n",
    "\n",
    "3. Отсутствующие значения в **\"ceiling_height\"**  - люди не считают эту инф-ию важной, т.к. в большинстве случаев высота потолков стандартная - до 3-х метров. Квартир с высотой более 3,5м в этой выборке 302. Отсутствующие значения можно заменить медианой, т.к. высоких потолков очень мало. Но в данном случае медиана и среднее будут почти равны. \n",
    "\n",
    "4. Отсутствующит значения в **\"floors_total\"** менее 1 %, это категориальные значения, заменять ничем не буду, пользователи могли пропустить по невнимательности, это случайные пропуски.\n",
    "\n",
    "5. Пропуски в **\"living_area\" и \"kitchen_area\"** могут быть из-за свободной планировки и студии, таких объектов 216 в таблице\n",
    "(это кол-во меньше чем отсутствующие значения по площади), но некоторые пользователи могли не указать этот факт при подаче объявления, поэтому есть несоответствие. Поэтому отсутствующие значения заполнять ничем не надо.\n",
    "    \n",
    "6. Пропуски в **\"balcony\"**, скорее всего, связаны с тем, что их нет. Поэтому отсутствующие значения можно заменить на 0.\n",
    "    \n",
    "7. Пропусков в **\"is_apartment\"** много, большинство просто не выбирали этот параметр, возможно не все знают о чем он говорит и\n",
    "плюс к этом большая часть квартир не является аппартаментами, отсутствующие значения можно заменить на 'False'.\n",
    "    \n",
    "8. Пропуски в **\"airports_nearest\", \"cityCenters_nearest\", \"parks_around3000\", \"ponds_around3000\"** могут быть связаны с тем,\n",
    "что люди не указали точный адрес (улицу, дом)  и система на смогла автоматически рассчитать эти данные. Заполнять их не буду,\n",
    "т.к. это расстояние зависит только от адреса, здесь не может быть средней и медианы. Заменять отсутствующие значения в \"airports_nearest\", \"cityCenters_nearest\" на 0 не буду, т.к. в последствии придется искать цену 1м и км, а на \"0\" делить нельзя. Отсутствующие значения \"parks_around3000\", \"ponds_around3000\" заменю на \"0\".\n",
    "    \n",
    "9. Пропуски в **\"parks_nearest\", \"ponds_nearest\"** связаны, во-первых, с тем,\n",
    "что люди не указали точный адрес, а у тех кто указал нет рядом ближайшего водоема и парка. Заполнять отсутствующие данные не имеет смысла.\n",
    " \n",
    "10. Пропуски в **\"days_exposition\"** могут быть связаны с тем, что обявление еще не сняли с публикации, квартира не продалась еще. Минимальное значение -1 день. Поэтому отсутствующие заменю на 0, подразумевая 0 - квартира еще продается, не снята с публикации. \n",
    "Уникальные значения в столбце days_exposition\n",
    "\n",
    "    \n",
    "45.0 -880 раз\n",
    "\n",
    "    \n",
    "60.0 -538 раз\n",
    "\n",
    "Объявления удалялись с сайта, скорее всего, по причине окончания платного/бесплатного периода, т.е. квартиры не продались или продались, но люди не убрали публикацию. Выбивающиеся значения будут мешать анализу, поэтому имеет смысл убрать из рассмотрения строки с этими значениями.    \n",
    "    \n",
    "11. **Надо перевести в тип int** балконы, цену, кол-во этажей, дни публикации.\n",
    "    \n",
    "12. **Квартиры с высотой потолков выше 5 метров, комнат больше 6 (таких квартир мало), ценой выше 30 млн.рублей** надо убрать, т.к. или там ошибка, или объект нестандартный, там свое ценообразование не имеющее ничего общего со среднестатистическими квартирами. Тем более таких объектов менее 1%. \n",
    "    \n",
    "13. **Максимальное кол-во дней до продажи - 1580.** Если квартира висит так долго и не продается, значит или это связано с мошенничеством(т.е. цена будет занижена для привлечения внимания), или наоборот - цена завышена, не соответствует заявленным хар-кам и квартира поэтому не продается.\n",
    "    \n",
    "14. **Необходимо выделить в отдельный датасет квартиры, которые \"висят\" долго** и проанализирую их цену, чтобы узнать с чем связаны долгие продажи.\n",
    "    \n",
    "</div>"
   ]
  },
  {
   "cell_type": "markdown",
   "metadata": {},
   "source": [
    "## Предобработка данных"
   ]
  },
  {
   "cell_type": "markdown",
   "metadata": {},
   "source": [
    "### Расчет высоты потолков"
   ]
  },
  {
   "cell_type": "code",
   "execution_count": 76,
   "metadata": {},
   "outputs": [
    {
     "name": "stdout",
     "output_type": "stream",
     "text": [
      "2.65\n"
     ]
    },
    {
     "data": {
      "text/plain": [
       "2.7714819667609127"
      ]
     },
     "execution_count": 76,
     "metadata": {},
     "output_type": "execute_result"
    }
   ],
   "source": [
    "print(data['ceiling_height'].median())\n",
    "data['ceiling_height'].mean()"
   ]
  },
  {
   "cell_type": "code",
   "execution_count": 77,
   "metadata": {},
   "outputs": [
    {
     "name": "stdout",
     "output_type": "stream",
     "text": [
      "                 kol-vo objavl\n",
      "locality_name                 \n",
      "Санкт-Петербург          15719\n",
      "посёлок Мурино             522\n",
      "посёлок Шушары             440\n",
      "Всеволожск                 398\n",
      "Пушкин                     369\n",
      "                    высота потолков\n",
      "locality_name                      \n",
      "деревня Нижняя                27.00\n",
      "деревня Мины                  27.00\n",
      "поселок Новый Свет            13.85\n",
      "Бокситогорск                   3.90\n",
      "посёлок Ропша                  3.20\n"
     ]
    },
    {
     "data": {
      "text/html": [
       "<div>\n",
       "<style scoped>\n",
       "    .dataframe tbody tr th:only-of-type {\n",
       "        vertical-align: middle;\n",
       "    }\n",
       "\n",
       "    .dataframe tbody tr th {\n",
       "        vertical-align: top;\n",
       "    }\n",
       "\n",
       "    .dataframe thead th {\n",
       "        text-align: right;\n",
       "    }\n",
       "</style>\n",
       "<table border=\"1\" class=\"dataframe\">\n",
       "  <thead>\n",
       "    <tr style=\"text-align: right;\">\n",
       "      <th></th>\n",
       "      <th>kol-vo objavl</th>\n",
       "      <th>высота потолков</th>\n",
       "    </tr>\n",
       "    <tr>\n",
       "      <th>locality_name</th>\n",
       "      <th></th>\n",
       "      <th></th>\n",
       "    </tr>\n",
       "  </thead>\n",
       "  <tbody>\n",
       "    <tr>\n",
       "      <td>деревня Мины</td>\n",
       "      <td>2</td>\n",
       "      <td>27.000</td>\n",
       "    </tr>\n",
       "    <tr>\n",
       "      <td>деревня Нижняя</td>\n",
       "      <td>1</td>\n",
       "      <td>27.000</td>\n",
       "    </tr>\n",
       "    <tr>\n",
       "      <td>поселок Новый Свет</td>\n",
       "      <td>5</td>\n",
       "      <td>13.850</td>\n",
       "    </tr>\n",
       "    <tr>\n",
       "      <td>Бокситогорск</td>\n",
       "      <td>16</td>\n",
       "      <td>3.900</td>\n",
       "    </tr>\n",
       "    <tr>\n",
       "      <td>посёлок Ропша</td>\n",
       "      <td>1</td>\n",
       "      <td>3.200</td>\n",
       "    </tr>\n",
       "    <tr>\n",
       "      <td>деревня Ваганово</td>\n",
       "      <td>3</td>\n",
       "      <td>3.150</td>\n",
       "    </tr>\n",
       "    <tr>\n",
       "      <td>деревня Глинка</td>\n",
       "      <td>2</td>\n",
       "      <td>3.100</td>\n",
       "    </tr>\n",
       "    <tr>\n",
       "      <td>посёлок Лисий Нос</td>\n",
       "      <td>2</td>\n",
       "      <td>3.000</td>\n",
       "    </tr>\n",
       "    <tr>\n",
       "      <td>коттеджный поселок Счастье</td>\n",
       "      <td>1</td>\n",
       "      <td>3.000</td>\n",
       "    </tr>\n",
       "    <tr>\n",
       "      <td>деревня Каськово</td>\n",
       "      <td>1</td>\n",
       "      <td>3.000</td>\n",
       "    </tr>\n",
       "    <tr>\n",
       "      <td>деревня Бор</td>\n",
       "      <td>2</td>\n",
       "      <td>2.950</td>\n",
       "    </tr>\n",
       "    <tr>\n",
       "      <td>городской посёлок Новоселье</td>\n",
       "      <td>28</td>\n",
       "      <td>2.800</td>\n",
       "    </tr>\n",
       "    <tr>\n",
       "      <td>посёлок Репино</td>\n",
       "      <td>4</td>\n",
       "      <td>2.775</td>\n",
       "    </tr>\n",
       "    <tr>\n",
       "      <td>посёлок Александровская</td>\n",
       "      <td>2</td>\n",
       "      <td>2.770</td>\n",
       "    </tr>\n",
       "    <tr>\n",
       "      <td>посёлок Мичуринское</td>\n",
       "      <td>6</td>\n",
       "      <td>2.750</td>\n",
       "    </tr>\n",
       "    <tr>\n",
       "      <td>деревня Заневка</td>\n",
       "      <td>6</td>\n",
       "      <td>2.750</td>\n",
       "    </tr>\n",
       "    <tr>\n",
       "      <td>деревня Кальтино</td>\n",
       "      <td>7</td>\n",
       "      <td>2.750</td>\n",
       "    </tr>\n",
       "    <tr>\n",
       "      <td>поселок Зимитицы</td>\n",
       "      <td>3</td>\n",
       "      <td>2.750</td>\n",
       "    </tr>\n",
       "    <tr>\n",
       "      <td>село Павлово</td>\n",
       "      <td>7</td>\n",
       "      <td>2.750</td>\n",
       "    </tr>\n",
       "    <tr>\n",
       "      <td>посёлок городского типа Рябово</td>\n",
       "      <td>1</td>\n",
       "      <td>2.750</td>\n",
       "    </tr>\n",
       "    <tr>\n",
       "      <td>садовое товарищество Новая Ропша</td>\n",
       "      <td>1</td>\n",
       "      <td>2.750</td>\n",
       "    </tr>\n",
       "    <tr>\n",
       "      <td>деревня Куттузи</td>\n",
       "      <td>7</td>\n",
       "      <td>2.750</td>\n",
       "    </tr>\n",
       "    <tr>\n",
       "      <td>деревня Кудрово</td>\n",
       "      <td>299</td>\n",
       "      <td>2.750</td>\n",
       "    </tr>\n",
       "    <tr>\n",
       "      <td>деревня Мистолово</td>\n",
       "      <td>11</td>\n",
       "      <td>2.750</td>\n",
       "    </tr>\n",
       "    <tr>\n",
       "      <td>поселок городского типа Синявино</td>\n",
       "      <td>21</td>\n",
       "      <td>2.750</td>\n",
       "    </tr>\n",
       "    <tr>\n",
       "      <td>Кудрово</td>\n",
       "      <td>173</td>\n",
       "      <td>2.730</td>\n",
       "    </tr>\n",
       "    <tr>\n",
       "      <td>городской поселок Янино-1</td>\n",
       "      <td>7</td>\n",
       "      <td>2.725</td>\n",
       "    </tr>\n",
       "    <tr>\n",
       "      <td>деревня Юкки</td>\n",
       "      <td>5</td>\n",
       "      <td>2.725</td>\n",
       "    </tr>\n",
       "    <tr>\n",
       "      <td>деревня Фёдоровское</td>\n",
       "      <td>8</td>\n",
       "      <td>2.700</td>\n",
       "    </tr>\n",
       "    <tr>\n",
       "      <td>деревня Колтуши</td>\n",
       "      <td>11</td>\n",
       "      <td>2.700</td>\n",
       "    </tr>\n",
       "    <tr>\n",
       "      <td>посёлок городского типа Ульяновка</td>\n",
       "      <td>13</td>\n",
       "      <td>2.700</td>\n",
       "    </tr>\n",
       "    <tr>\n",
       "      <td>Мурино</td>\n",
       "      <td>34</td>\n",
       "      <td>2.700</td>\n",
       "    </tr>\n",
       "    <tr>\n",
       "      <td>посёлок городского типа Тайцы</td>\n",
       "      <td>6</td>\n",
       "      <td>2.700</td>\n",
       "    </tr>\n",
       "    <tr>\n",
       "      <td>деревня Вартемяги</td>\n",
       "      <td>20</td>\n",
       "      <td>2.700</td>\n",
       "    </tr>\n",
       "    <tr>\n",
       "      <td>посёлок Мурино</td>\n",
       "      <td>522</td>\n",
       "      <td>2.700</td>\n",
       "    </tr>\n",
       "    <tr>\n",
       "      <td>поселок городского типа Дубровка</td>\n",
       "      <td>15</td>\n",
       "      <td>2.700</td>\n",
       "    </tr>\n",
       "    <tr>\n",
       "      <td>Санкт-Петербург</td>\n",
       "      <td>15719</td>\n",
       "      <td>2.700</td>\n",
       "    </tr>\n",
       "    <tr>\n",
       "      <td>посёлок Кикерино</td>\n",
       "      <td>4</td>\n",
       "      <td>2.700</td>\n",
       "    </tr>\n",
       "    <tr>\n",
       "      <td>деревня Новое Девяткино</td>\n",
       "      <td>144</td>\n",
       "      <td>2.700</td>\n",
       "    </tr>\n",
       "    <tr>\n",
       "      <td>Всеволожск</td>\n",
       "      <td>398</td>\n",
       "      <td>2.700</td>\n",
       "    </tr>\n",
       "    <tr>\n",
       "      <td>коттеджный поселок Кивеннапа Север</td>\n",
       "      <td>1</td>\n",
       "      <td>2.700</td>\n",
       "    </tr>\n",
       "    <tr>\n",
       "      <td>поселок Лисий Нос</td>\n",
       "      <td>1</td>\n",
       "      <td>2.700</td>\n",
       "    </tr>\n",
       "    <tr>\n",
       "      <td>поселок Почап</td>\n",
       "      <td>1</td>\n",
       "      <td>2.700</td>\n",
       "    </tr>\n",
       "    <tr>\n",
       "      <td>поселок Пансионат Зелёный Бор</td>\n",
       "      <td>1</td>\n",
       "      <td>2.700</td>\n",
       "    </tr>\n",
       "    <tr>\n",
       "      <td>Сестрорецк</td>\n",
       "      <td>183</td>\n",
       "      <td>2.700</td>\n",
       "    </tr>\n",
       "    <tr>\n",
       "      <td>деревня Борисова Грива</td>\n",
       "      <td>1</td>\n",
       "      <td>2.700</td>\n",
       "    </tr>\n",
       "    <tr>\n",
       "      <td>поселок Лукаши</td>\n",
       "      <td>3</td>\n",
       "      <td>2.700</td>\n",
       "    </tr>\n",
       "    <tr>\n",
       "      <td>посёлок Торфяное</td>\n",
       "      <td>4</td>\n",
       "      <td>2.700</td>\n",
       "    </tr>\n",
       "    <tr>\n",
       "      <td>деревня Старая</td>\n",
       "      <td>64</td>\n",
       "      <td>2.700</td>\n",
       "    </tr>\n",
       "    <tr>\n",
       "      <td>посёлок Петровское</td>\n",
       "      <td>3</td>\n",
       "      <td>2.700</td>\n",
       "    </tr>\n",
       "  </tbody>\n",
       "</table>\n",
       "</div>"
      ],
      "text/plain": [
       "                                    kol-vo objavl  высота потолков\n",
       "locality_name                                                     \n",
       "деревня Мины                                    2           27.000\n",
       "деревня Нижняя                                  1           27.000\n",
       "поселок Новый Свет                              5           13.850\n",
       "Бокситогорск                                   16            3.900\n",
       "посёлок Ропша                                   1            3.200\n",
       "деревня Ваганово                                3            3.150\n",
       "деревня Глинка                                  2            3.100\n",
       "посёлок Лисий Нос                               2            3.000\n",
       "коттеджный поселок Счастье                      1            3.000\n",
       "деревня Каськово                                1            3.000\n",
       "деревня Бор                                     2            2.950\n",
       "городской посёлок Новоселье                    28            2.800\n",
       "посёлок Репино                                  4            2.775\n",
       "посёлок Александровская                         2            2.770\n",
       "посёлок Мичуринское                             6            2.750\n",
       "деревня Заневка                                 6            2.750\n",
       "деревня Кальтино                                7            2.750\n",
       "поселок Зимитицы                                3            2.750\n",
       "село Павлово                                    7            2.750\n",
       "посёлок городского типа Рябово                  1            2.750\n",
       "садовое товарищество Новая Ропша                1            2.750\n",
       "деревня Куттузи                                 7            2.750\n",
       "деревня Кудрово                               299            2.750\n",
       "деревня Мистолово                              11            2.750\n",
       "поселок городского типа Синявино               21            2.750\n",
       "Кудрово                                       173            2.730\n",
       "городской поселок Янино-1                       7            2.725\n",
       "деревня Юкки                                    5            2.725\n",
       "деревня Фёдоровское                             8            2.700\n",
       "деревня Колтуши                                11            2.700\n",
       "посёлок городского типа Ульяновка              13            2.700\n",
       "Мурино                                         34            2.700\n",
       "посёлок городского типа Тайцы                   6            2.700\n",
       "деревня Вартемяги                              20            2.700\n",
       "посёлок Мурино                                522            2.700\n",
       "поселок городского типа Дубровка               15            2.700\n",
       "Санкт-Петербург                             15719            2.700\n",
       "посёлок Кикерино                                4            2.700\n",
       "деревня Новое Девяткино                       144            2.700\n",
       "Всеволожск                                    398            2.700\n",
       "коттеджный поселок Кивеннапа Север              1            2.700\n",
       "поселок Лисий Нос                               1            2.700\n",
       "поселок Почап                                   1            2.700\n",
       "поселок Пансионат Зелёный Бор                   1            2.700\n",
       "Сестрорецк                                    183            2.700\n",
       "деревня Борисова Грива                          1            2.700\n",
       "поселок Лукаши                                  3            2.700\n",
       "посёлок Торфяное                                4            2.700\n",
       "деревня Старая                                 64            2.700\n",
       "посёлок Петровское                              3            2.700"
      ]
     },
     "execution_count": 77,
     "metadata": {},
     "output_type": "execute_result"
    }
   ],
   "source": [
    "#Постороение сводной таблицы для расчета высоты потолков\n",
    "\n",
    "#Таблица, которая сортирует по населенным пунктам и выводит кол-во объявлений\n",
    "data_pivot_locality_name = data.pivot_table(index='locality_name', values='rooms', aggfunc = 'count').sort_values(by = 'rooms', ascending = False)\n",
    "data_pivot_locality_name.columns=['kol-vo objavl']\n",
    "print(data_pivot_locality_name.head())\n",
    "\n",
    "#Таблица, которая сортирует по населенным пунктам и выводит медиану потолка по населенному\n",
    "data_pivot_ceiling = data.pivot_table(index='locality_name', values='ceiling_height', aggfunc = 'median').sort_values(by = 'ceiling_height', ascending = False)\n",
    "data_pivot_ceiling.columns=['высота потолков']\n",
    "print(data_pivot_ceiling.head())\n",
    "\n",
    "#объединение двух таблиц и сортирока по высоте потолков\n",
    "data_itog_ceiling = data_pivot_locality_name.join(data_pivot_ceiling)\n",
    "data_itog_ceiling.sort_values('высота потолков', ascending = False).head(50)"
   ]
  },
  {
   "cell_type": "markdown",
   "metadata": {},
   "source": [
    "<div class=\"alert alert-info\">\n",
    "<b> Расчет высоты потолков при выделении центра </b>\n",
    "\n",
    "    \n",
    "</div>"
   ]
  },
  {
   "cell_type": "code",
   "execution_count": 78,
   "metadata": {},
   "outputs": [
    {
     "data": {
      "text/html": [
       "<div>\n",
       "<style scoped>\n",
       "    .dataframe tbody tr th:only-of-type {\n",
       "        vertical-align: middle;\n",
       "    }\n",
       "\n",
       "    .dataframe tbody tr th {\n",
       "        vertical-align: top;\n",
       "    }\n",
       "\n",
       "    .dataframe thead th {\n",
       "        text-align: right;\n",
       "    }\n",
       "</style>\n",
       "<table border=\"1\" class=\"dataframe\">\n",
       "  <thead>\n",
       "    <tr style=\"text-align: right;\">\n",
       "      <th></th>\n",
       "      <th>высота потолков</th>\n",
       "    </tr>\n",
       "    <tr>\n",
       "      <th>locality_group</th>\n",
       "      <th></th>\n",
       "    </tr>\n",
       "  </thead>\n",
       "  <tbody>\n",
       "    <tr>\n",
       "      <td>центр</td>\n",
       "      <td>2.7</td>\n",
       "    </tr>\n",
       "    <tr>\n",
       "      <td>область</td>\n",
       "      <td>2.6</td>\n",
       "    </tr>\n",
       "  </tbody>\n",
       "</table>\n",
       "</div>"
      ],
      "text/plain": [
       "                высота потолков\n",
       "locality_group                 \n",
       "центр                       2.7\n",
       "область                     2.6"
      ]
     },
     "execution_count": 78,
     "metadata": {},
     "output_type": "execute_result"
    }
   ],
   "source": [
    "def locality_group(df): #\n",
    "    locality_name = df['locality_name']\n",
    "    \n",
    "    if locality_name == ('Санкт-Петербург' or 'Колпино' or 'Пушкин' or 'Гатчина'):\n",
    "        return 'центр'\n",
    "    else:\n",
    "        return 'область'\n",
    "    \n",
    "data['locality_group'] =  data.apply(locality_group, axis=1) #новый столбец, функцию ко всей строке  \n",
    "\n",
    "\n",
    "data_pivot_ceiling = data.pivot_table(index='locality_group', values='ceiling_height', aggfunc = 'median').sort_values(by = 'ceiling_height', ascending = False)\n",
    "data_pivot_ceiling.columns=['высота потолков']\n",
    "data_pivot_ceiling.head()\n",
    "\n"
   ]
  },
  {
   "cell_type": "code",
   "execution_count": 79,
   "metadata": {},
   "outputs": [
    {
     "data": {
      "text/plain": [
       "Index(['total_images', 'total_area', 'rooms', 'ceiling_height', 'floors_total',\n",
       "       'living_area', 'floor', 'is_apartment', 'studio', 'open_plan',\n",
       "       'kitchen_area', 'balcony', 'locality_name', 'airports_nearest',\n",
       "       'cityCenters_nearest', 'parks_around3000', 'parks_nearest',\n",
       "       'ponds_around3000', 'ponds_nearest', 'last_price',\n",
       "       'first_day_exposition', 'days_exposition', 'locality_group'],\n",
       "      dtype='object')"
      ]
     },
     "execution_count": 79,
     "metadata": {},
     "output_type": "execute_result"
    }
   ],
   "source": [
    "data_copy = data.copy()\n",
    "data_copy.columns"
   ]
  },
  {
   "cell_type": "code",
   "execution_count": 80,
   "metadata": {},
   "outputs": [],
   "source": [
    "# расстояние до центра округлим до километров\n",
    "data_copy['cityCenters_nearest_km'] = (data_copy['cityCenters_nearest']/1000).round(0).astype('Int64')"
   ]
  },
  {
   "cell_type": "code",
   "execution_count": 81,
   "metadata": {},
   "outputs": [
    {
     "data": {
      "text/plain": [
       "<matplotlib.axes._subplots.AxesSubplot at 0x7fd7696edfd0>"
      ]
     },
     "execution_count": 81,
     "metadata": {},
     "output_type": "execute_result"
    },
    {
     "data": {
      "image/png": "[encoded data removed]",
      "text/plain": [
       "<Figure size 864x288 with 1 Axes>"
      ]
     },
     "metadata": {
      "needs_background": "light"
     },
     "output_type": "display_data"
    }
   ],
   "source": [
    "data_copy.groupby('cityCenters_nearest_km')['ceiling_height'].median().plot(kind='bar', figsize=(12,4))"
   ]
  },
  {
   "cell_type": "code",
   "execution_count": 82,
   "metadata": {},
   "outputs": [
    {
     "name": "stdout",
     "output_type": "stream",
     "text": [
      "<class 'pandas.core.frame.DataFrame'>\n",
      "Int64Index: 23087 entries, 0 to 23694\n",
      "Data columns (total 23 columns):\n",
      "total_images            23087 non-null int64\n",
      "total_area              23087 non-null float64\n",
      "rooms                   23087 non-null int64\n",
      "ceiling_height          23087 non-null float64\n",
      "floors_total            23087 non-null int64\n",
      "living_area             21272 non-null float64\n",
      "floor                   23087 non-null int64\n",
      "is_apartment            23087 non-null bool\n",
      "studio                  23087 non-null bool\n",
      "open_plan               23087 non-null bool\n",
      "kitchen_area            20920 non-null float64\n",
      "balcony                 23087 non-null int64\n",
      "locality_name           23087 non-null object\n",
      "airports_nearest        17590 non-null float64\n",
      "cityCenters_nearest     17610 non-null float64\n",
      "parks_around3000        23087 non-null int64\n",
      "parks_nearest           7703 non-null float64\n",
      "ponds_around3000        23087 non-null int64\n",
      "ponds_nearest           8698 non-null float64\n",
      "last_price              23087 non-null int64\n",
      "first_day_exposition    23087 non-null datetime64[ns]\n",
      "days_exposition         23087 non-null int64\n",
      "locality_group          23087 non-null object\n",
      "dtypes: bool(3), datetime64[ns](1), float64(8), int64(9), object(2)\n",
      "memory usage: 3.8+ MB\n"
     ]
    },
    {
     "data": {
      "text/html": [
       "<div>\n",
       "<style scoped>\n",
       "    .dataframe tbody tr th:only-of-type {\n",
       "        vertical-align: middle;\n",
       "    }\n",
       "\n",
       "    .dataframe tbody tr th {\n",
       "        vertical-align: top;\n",
       "    }\n",
       "\n",
       "    .dataframe thead th {\n",
       "        text-align: right;\n",
       "    }\n",
       "</style>\n",
       "<table border=\"1\" class=\"dataframe\">\n",
       "  <thead>\n",
       "    <tr style=\"text-align: right;\">\n",
       "      <th></th>\n",
       "      <th>total_images</th>\n",
       "      <th>total_area</th>\n",
       "      <th>rooms</th>\n",
       "      <th>ceiling_height</th>\n",
       "      <th>floors_total</th>\n",
       "      <th>living_area</th>\n",
       "      <th>floor</th>\n",
       "      <th>is_apartment</th>\n",
       "      <th>studio</th>\n",
       "      <th>open_plan</th>\n",
       "      <th>...</th>\n",
       "      <th>airports_nearest</th>\n",
       "      <th>cityCenters_nearest</th>\n",
       "      <th>parks_around3000</th>\n",
       "      <th>parks_nearest</th>\n",
       "      <th>ponds_around3000</th>\n",
       "      <th>ponds_nearest</th>\n",
       "      <th>last_price</th>\n",
       "      <th>first_day_exposition</th>\n",
       "      <th>days_exposition</th>\n",
       "      <th>locality_group</th>\n",
       "    </tr>\n",
       "  </thead>\n",
       "  <tbody>\n",
       "    <tr>\n",
       "      <td>0</td>\n",
       "      <td>20</td>\n",
       "      <td>108.0</td>\n",
       "      <td>3</td>\n",
       "      <td>2.70</td>\n",
       "      <td>16</td>\n",
       "      <td>51.0</td>\n",
       "      <td>8</td>\n",
       "      <td>False</td>\n",
       "      <td>False</td>\n",
       "      <td>False</td>\n",
       "      <td>...</td>\n",
       "      <td>18863.0</td>\n",
       "      <td>16028.0</td>\n",
       "      <td>1</td>\n",
       "      <td>482.0</td>\n",
       "      <td>2</td>\n",
       "      <td>755.0</td>\n",
       "      <td>13000000</td>\n",
       "      <td>2019-03-07</td>\n",
       "      <td>0</td>\n",
       "      <td>центр</td>\n",
       "    </tr>\n",
       "    <tr>\n",
       "      <td>1</td>\n",
       "      <td>7</td>\n",
       "      <td>40.4</td>\n",
       "      <td>1</td>\n",
       "      <td>2.65</td>\n",
       "      <td>11</td>\n",
       "      <td>18.6</td>\n",
       "      <td>1</td>\n",
       "      <td>False</td>\n",
       "      <td>False</td>\n",
       "      <td>False</td>\n",
       "      <td>...</td>\n",
       "      <td>12817.0</td>\n",
       "      <td>18603.0</td>\n",
       "      <td>0</td>\n",
       "      <td>NaN</td>\n",
       "      <td>0</td>\n",
       "      <td>NaN</td>\n",
       "      <td>3350000</td>\n",
       "      <td>2018-12-04</td>\n",
       "      <td>81</td>\n",
       "      <td>область</td>\n",
       "    </tr>\n",
       "    <tr>\n",
       "      <td>2</td>\n",
       "      <td>10</td>\n",
       "      <td>56.0</td>\n",
       "      <td>2</td>\n",
       "      <td>2.65</td>\n",
       "      <td>5</td>\n",
       "      <td>34.3</td>\n",
       "      <td>4</td>\n",
       "      <td>False</td>\n",
       "      <td>False</td>\n",
       "      <td>False</td>\n",
       "      <td>...</td>\n",
       "      <td>21741.0</td>\n",
       "      <td>13933.0</td>\n",
       "      <td>1</td>\n",
       "      <td>90.0</td>\n",
       "      <td>2</td>\n",
       "      <td>574.0</td>\n",
       "      <td>5196000</td>\n",
       "      <td>2015-08-20</td>\n",
       "      <td>558</td>\n",
       "      <td>центр</td>\n",
       "    </tr>\n",
       "    <tr>\n",
       "      <td>4</td>\n",
       "      <td>2</td>\n",
       "      <td>100.0</td>\n",
       "      <td>2</td>\n",
       "      <td>3.03</td>\n",
       "      <td>14</td>\n",
       "      <td>32.0</td>\n",
       "      <td>13</td>\n",
       "      <td>False</td>\n",
       "      <td>False</td>\n",
       "      <td>False</td>\n",
       "      <td>...</td>\n",
       "      <td>31856.0</td>\n",
       "      <td>8098.0</td>\n",
       "      <td>2</td>\n",
       "      <td>112.0</td>\n",
       "      <td>1</td>\n",
       "      <td>48.0</td>\n",
       "      <td>10000000</td>\n",
       "      <td>2018-06-19</td>\n",
       "      <td>121</td>\n",
       "      <td>центр</td>\n",
       "    </tr>\n",
       "    <tr>\n",
       "      <td>5</td>\n",
       "      <td>10</td>\n",
       "      <td>30.4</td>\n",
       "      <td>1</td>\n",
       "      <td>2.65</td>\n",
       "      <td>12</td>\n",
       "      <td>14.4</td>\n",
       "      <td>5</td>\n",
       "      <td>False</td>\n",
       "      <td>False</td>\n",
       "      <td>False</td>\n",
       "      <td>...</td>\n",
       "      <td>NaN</td>\n",
       "      <td>NaN</td>\n",
       "      <td>0</td>\n",
       "      <td>NaN</td>\n",
       "      <td>0</td>\n",
       "      <td>NaN</td>\n",
       "      <td>2890000</td>\n",
       "      <td>2018-09-10</td>\n",
       "      <td>55</td>\n",
       "      <td>область</td>\n",
       "    </tr>\n",
       "  </tbody>\n",
       "</table>\n",
       "<p>5 rows × 23 columns</p>\n",
       "</div>"
      ],
      "text/plain": [
       "   total_images  total_area  rooms  ceiling_height  floors_total  living_area  \\\n",
       "0            20       108.0      3            2.70            16         51.0   \n",
       "1             7        40.4      1            2.65            11         18.6   \n",
       "2            10        56.0      2            2.65             5         34.3   \n",
       "4             2       100.0      2            3.03            14         32.0   \n",
       "5            10        30.4      1            2.65            12         14.4   \n",
       "\n",
       "   floor  is_apartment  studio  open_plan  ...  airports_nearest  \\\n",
       "0      8         False   False      False  ...           18863.0   \n",
       "1      1         False   False      False  ...           12817.0   \n",
       "2      4         False   False      False  ...           21741.0   \n",
       "4     13         False   False      False  ...           31856.0   \n",
       "5      5         False   False      False  ...               NaN   \n",
       "\n",
       "   cityCenters_nearest parks_around3000  parks_nearest  ponds_around3000  \\\n",
       "0              16028.0                1          482.0                 2   \n",
       "1              18603.0                0            NaN                 0   \n",
       "2              13933.0                1           90.0                 2   \n",
       "4               8098.0                2          112.0                 1   \n",
       "5                  NaN                0            NaN                 0   \n",
       "\n",
       "   ponds_nearest  last_price  first_day_exposition  days_exposition  \\\n",
       "0          755.0    13000000            2019-03-07                0   \n",
       "1            NaN     3350000            2018-12-04               81   \n",
       "2          574.0     5196000            2015-08-20              558   \n",
       "4           48.0    10000000            2018-06-19              121   \n",
       "5            NaN     2890000            2018-09-10               55   \n",
       "\n",
       "   locality_group  \n",
       "0           центр  \n",
       "1         область  \n",
       "2           центр  \n",
       "4           центр  \n",
       "5         область  \n",
       "\n",
       "[5 rows x 23 columns]"
      ]
     },
     "execution_count": 82,
     "metadata": {},
     "output_type": "execute_result"
    }
   ],
   "source": [
    "#уберем отсутствующие значения\n",
    "data.dropna(subset = ['locality_name'], inplace = True)\n",
    "data.dropna(subset = ['floors_total'], inplace = True)\n",
    "\n",
    "#заменим отсутствующую высоту медианой, а болконы - \"0\"\n",
    "data['ceiling_height'] = data['ceiling_height'].fillna(data['ceiling_height'].median())\n",
    "data['balcony'] = data['balcony'].fillna(0)\n",
    "\n",
    "#заменим отсутствующие значения на \"0\"\n",
    "data['parks_around3000'] = data['parks_around3000'].fillna(0)\n",
    "data['ponds_around3000'] = data['ponds_around3000'].fillna(0)\n",
    "\n",
    "#заменим отсутствующие значения на False\n",
    "#заменим отсутствующие дни на \"0\"\n",
    "data['is_apartment'] = data['is_apartment'].fillna(False)\n",
    "data['days_exposition'] = data['days_exposition'].fillna(0)\n",
    "data['first_day_exposition'] = pd.to_datetime(data['first_day_exposition'], format='%Y-%m-%dT%H:%M:%S')\n",
    "\n",
    "#уберем из рассмотрения квартиры с высотой потолков более 5м, ценой выше 30млн,\n",
    "#площадью больше 200м, комнатами больше 6\n",
    "data=data.query('ceiling_height < 5')\n",
    "data=data.query('last_price < 30000000')\n",
    "data=data.query('total_area < 200')\n",
    "data=data.query('rooms < 7')\n",
    "\n",
    "data = data.astype(\n",
    "    {\n",
    "        'last_price':'int',\n",
    "        'balcony':'int',\n",
    "        'floors_total':'int',\n",
    "        'days_exposition':'int',\n",
    "        'parks_around3000':'int',\n",
    "        'ponds_around3000':'int',\n",
    "        }\n",
    ")\n",
    "\n",
    "\n",
    "\n",
    "data.info()\n",
    "data.head()\n"
   ]
  },
  {
   "cell_type": "markdown",
   "metadata": {},
   "source": [
    "## Рассчёты и добавление результатов в таблицу"
   ]
  },
  {
   "cell_type": "markdown",
   "metadata": {},
   "source": [
    "### Категория этажа"
   ]
  },
  {
   "cell_type": "code",
   "execution_count": 83,
   "metadata": {},
   "outputs": [
    {
     "name": "stdout",
     "output_type": "stream",
     "text": [
      "Уникальные значения в столбце floor_group\n",
      "3    16987\n",
      "2     3221\n",
      "1     2879\n",
      "Name: floor_group, dtype: int64\n"
     ]
    }
   ],
   "source": [
    "def floor_group(df): #добавим первый (1), последний (2) и другой этаж (3)\n",
    "    floor = df['floor']\n",
    "    floors_total = df['floors_total']\n",
    "    if floor == 1:\n",
    "        return 1 #первый\n",
    "    elif floor == floors_total:\n",
    "        return 2 #последний\n",
    "    else:\n",
    "        return 3 #другой\n",
    "    \n",
    "data['floor_group'] =  data.apply(floor_group, axis=1) #новый столбец, функцию ко всей строке\n",
    "\n",
    "#проверка уникальных значений категории этажей\n",
    "print('Уникальные значения в столбце floor_group')\n",
    "print(data['floor_group'].value_counts())"
   ]
  },
  {
   "cell_type": "markdown",
   "metadata": {},
   "source": [
    "### День, месяц, год"
   ]
  },
  {
   "cell_type": "code",
   "execution_count": 84,
   "metadata": {},
   "outputs": [
    {
     "name": "stdout",
     "output_type": "stream",
     "text": [
      "<class 'pandas.core.frame.DataFrame'>\n",
      "Int64Index: 23087 entries, 0 to 23694\n",
      "Data columns (total 27 columns):\n",
      "total_images            23087 non-null int64\n",
      "total_area              23087 non-null float64\n",
      "rooms                   23087 non-null int64\n",
      "ceiling_height          23087 non-null float64\n",
      "floors_total            23087 non-null int64\n",
      "living_area             21272 non-null float64\n",
      "floor                   23087 non-null int64\n",
      "is_apartment            23087 non-null bool\n",
      "studio                  23087 non-null bool\n",
      "open_plan               23087 non-null bool\n",
      "kitchen_area            20920 non-null float64\n",
      "balcony                 23087 non-null int64\n",
      "locality_name           23087 non-null object\n",
      "airports_nearest        17590 non-null float64\n",
      "cityCenters_nearest     17610 non-null float64\n",
      "parks_around3000        23087 non-null int64\n",
      "parks_nearest           7703 non-null float64\n",
      "ponds_around3000        23087 non-null int64\n",
      "ponds_nearest           8698 non-null float64\n",
      "last_price              23087 non-null int64\n",
      "first_day_exposition    23087 non-null datetime64[ns]\n",
      "days_exposition         23087 non-null int64\n",
      "locality_group          23087 non-null object\n",
      "floor_group             23087 non-null int64\n",
      "weekday                 23087 non-null int64\n",
      "year                    23087 non-null int64\n",
      "month                   23087 non-null int64\n",
      "dtypes: bool(3), datetime64[ns](1), float64(8), int64(13), object(2)\n",
      "memory usage: 4.5+ MB\n"
     ]
    }
   ],
   "source": [
    "\n",
    "data['weekday'] = data['first_day_exposition'].dt.weekday #добавим день недели\n",
    "data['year'] = data['first_day_exposition'].dt.year #добавим год\n",
    "data['month'] = data['first_day_exposition'].dt.month #добавим месяц\n",
    "  \n",
    "data.info() #проверим наличие новых столбцов\n"
   ]
  },
  {
   "cell_type": "markdown",
   "metadata": {},
   "source": [
    "### Стоимость и площадь"
   ]
  },
  {
   "cell_type": "code",
   "execution_count": 85,
   "metadata": {},
   "outputs": [
    {
     "name": "stdout",
     "output_type": "stream",
     "text": [
      "<class 'pandas.core.frame.DataFrame'>\n",
      "Int64Index: 23087 entries, 0 to 23694\n",
      "Data columns (total 31 columns):\n",
      "total_images            23087 non-null int64\n",
      "total_area              23087 non-null float64\n",
      "rooms                   23087 non-null int64\n",
      "ceiling_height          23087 non-null float64\n",
      "floors_total            23087 non-null int64\n",
      "living_area             21272 non-null float64\n",
      "floor                   23087 non-null int64\n",
      "is_apartment            23087 non-null bool\n",
      "studio                  23087 non-null bool\n",
      "open_plan               23087 non-null bool\n",
      "kitchen_area            20920 non-null float64\n",
      "balcony                 23087 non-null int64\n",
      "locality_name           23087 non-null object\n",
      "airports_nearest        17590 non-null float64\n",
      "cityCenters_nearest     17610 non-null float64\n",
      "parks_around3000        23087 non-null int64\n",
      "parks_nearest           7703 non-null float64\n",
      "ponds_around3000        23087 non-null int64\n",
      "ponds_nearest           8698 non-null float64\n",
      "last_price              23087 non-null int64\n",
      "first_day_exposition    23087 non-null datetime64[ns]\n",
      "days_exposition         23087 non-null int64\n",
      "locality_group          23087 non-null object\n",
      "floor_group             23087 non-null int64\n",
      "weekday                 23087 non-null int64\n",
      "year                    23087 non-null int64\n",
      "month                   23087 non-null int64\n",
      "price_1m                23087 non-null float64\n",
      "area_living_total       21272 non-null float64\n",
      "area_kitchen_total      20920 non-null float64\n",
      "last_price_tr           23087 non-null int64\n",
      "dtypes: bool(3), datetime64[ns](1), float64(11), int64(14), object(2)\n",
      "memory usage: 5.2+ MB\n"
     ]
    }
   ],
   "source": [
    "data['price_1m']=data['last_price']/data['total_area'] #добавим в таблицу цену 1м2\n",
    "data['area_living_total'] = data['living_area']/data['total_area'] \n",
    "#добавим отношение жилой к общей площади\n",
    "data['area_kitchen_total'] = data['kitchen_area']/data['total_area']\n",
    "#добавим отношение кухни к общей площади\n",
    "data['last_price_tr']=data['last_price']/1000\n",
    "#переведем цену в тыс.р., т.е. 1 000 000 = 1 000 тыс.р.\n",
    "data['last_price_tr'] = data['last_price_tr'].astype('int')\n",
    "\n",
    "data.info() #проверим наличие новых столбцов"
   ]
  },
  {
   "cell_type": "markdown",
   "metadata": {},
   "source": [
    "## Исследовательский анализ данных"
   ]
  },
  {
   "cell_type": "markdown",
   "metadata": {},
   "source": [
    "### Гистограммы характеристик недвижимости"
   ]
  },
  {
   "cell_type": "markdown",
   "metadata": {},
   "source": [
    "#### Гистограмма площади"
   ]
  },
  {
   "cell_type": "code",
   "execution_count": 86,
   "metadata": {},
   "outputs": [
    {
     "data": {
      "image/png": "[encoded data removed]",
      "text/plain": [
       "<Figure size 432x288 with 1 Axes>"
      ]
     },
     "metadata": {
      "needs_background": "light"
     },
     "output_type": "display_data"
    },
    {
     "data": {
      "text/plain": [
       "count    23087.000000\n",
       "mean        57.327739\n",
       "std         25.029535\n",
       "min         12.000000\n",
       "25%         40.000000\n",
       "50%         51.200000\n",
       "75%         68.000000\n",
       "max        199.200000\n",
       "Name: total_area, dtype: float64"
      ]
     },
     "execution_count": 86,
     "metadata": {},
     "output_type": "execute_result"
    }
   ],
   "source": [
    "import matplotlib.pyplot as plt \n",
    "data.hist('total_area', bins=20) #в корзине 10 м2\n",
    "plt.show()\n",
    "data['total_area'].describe()"
   ]
  },
  {
   "cell_type": "markdown",
   "metadata": {},
   "source": [
    "<div class=\"alert alert-info\">\n",
    "<b> Большая часть квартир от 38 до 61 метр :</b>\n",
    "\n",
    "...\n",
    "\n",
    "    \n",
    "</div>"
   ]
  },
  {
   "cell_type": "markdown",
   "metadata": {},
   "source": [
    "#### Гистограмма комнат"
   ]
  },
  {
   "cell_type": "code",
   "execution_count": 87,
   "metadata": {},
   "outputs": [
    {
     "data": {
      "image/png": "[encoded data removed]",
      "text/plain": [
       "<Figure size 720x360 with 1 Axes>"
      ]
     },
     "metadata": {
      "needs_background": "light"
     },
     "output_type": "display_data"
    }
   ],
   "source": [
    "import matplotlib.pyplot as plt\n",
    "data.hist('rooms', bins=6, figsize=(10, 5))\n",
    "plt.show()\n",
    "\n"
   ]
  },
  {
   "cell_type": "markdown",
   "metadata": {},
   "source": [
    "<div class=\"alert alert-info\">\n",
    "<b> Большая часть квартир 1-2 комнатные, немного меньше трехкомнатных :</b>\n",
    "\n",
    "...\n",
    "\n",
    "    \n",
    "</div>"
   ]
  },
  {
   "cell_type": "markdown",
   "metadata": {},
   "source": [
    "#### Гистограмма стоимости жилья"
   ]
  },
  {
   "cell_type": "code",
   "execution_count": 88,
   "metadata": {},
   "outputs": [
    {
     "name": "stdout",
     "output_type": "stream",
     "text": [
      "count    23087.000000\n",
      "mean      5653.056958\n",
      "std       3857.714576\n",
      "min         12.000000\n",
      "25%       3400.000000\n",
      "50%       4600.000000\n",
      "75%       6598.500000\n",
      "max      29999.000000\n",
      "Name: last_price_tr, dtype: float64\n"
     ]
    },
    {
     "data": {
      "image/png": "[encoded data removed]",
      "text/plain": [
       "<Figure size 720x360 with 1 Axes>"
      ]
     },
     "metadata": {
      "needs_background": "light"
     },
     "output_type": "display_data"
    },
    {
     "data": {
      "image/png": "[encoded data removed]",
      "text/plain": [
       "<Figure size 720x360 with 1 Axes>"
      ]
     },
     "metadata": {
      "needs_background": "light"
     },
     "output_type": "display_data"
    }
   ],
   "source": [
    "print(data['last_price_tr'].describe())\n",
    "\n",
    "import matplotlib.pyplot as plt\n",
    "data.hist('last_price_tr', bins=30, figsize=(10, 5))#3 000 000 - корзина\n",
    "plt.show()\n",
    "\n",
    "import matplotlib.pyplot as plt\n",
    "data.hist('last_price_tr', bins=20, range=(0, 10000), figsize=(10, 5))# 500 000 - корзина\n",
    "plt.show()"
   ]
  },
  {
   "cell_type": "markdown",
   "metadata": {},
   "source": [
    "<div class=\"alert alert-info\">\n",
    "<b> Квартиры стоимость выше 15 млн.р. встречаются очень редко. Основная доля квартир \n",
    "до 11,5 млн.р. </b>\n",
    "\n",
    "...\n",
    "\n",
    "    \n",
    "</div>"
   ]
  },
  {
   "cell_type": "markdown",
   "metadata": {},
   "source": [
    "#### Гистограмма высоты потолков"
   ]
  },
  {
   "cell_type": "code",
   "execution_count": 89,
   "metadata": {},
   "outputs": [
    {
     "data": {
      "image/png": "[encoded data removed]",
      "text/plain": [
       "<Figure size 432x288 with 1 Axes>"
      ]
     },
     "metadata": {
      "needs_background": "light"
     },
     "output_type": "display_data"
    }
   ],
   "source": [
    "\n",
    "import matplotlib.pyplot as plt\n",
    "data.hist('ceiling_height', bins=5)\n",
    "plt.show()"
   ]
  },
  {
   "cell_type": "markdown",
   "metadata": {},
   "source": [
    "<div class=\"alert alert-info\">\n",
    "<b> В больше части квартир отсутствовало значение потолков (в больше степени она стандартная), поэтому заменила на медиану. В итоге большая часть квартир со средним стандартным потолком.\n",
    "    Врядли это поможет найти зависимость стоимости от потолка.\n",
    "    </b>\n",
    "\n",
    "...\n",
    "\n",
    "    \n",
    "</div>"
   ]
  },
  {
   "cell_type": "markdown",
   "metadata": {},
   "source": [
    "#### Гистограмма дней публикации"
   ]
  },
  {
   "cell_type": "code",
   "execution_count": 90,
   "metadata": {},
   "outputs": [
    {
     "name": "stdout",
     "output_type": "stream",
     "text": [
      "878\n",
      "538\n",
      "3053\n"
     ]
    }
   ],
   "source": [
    "#проверяем кол-во выбивающихся значений\n",
    "\n",
    "print(data.query('days_exposition == 45')['days_exposition'].count())\n",
    "print(data.query('days_exposition == 60')['days_exposition'].count())\n",
    "print(data.query('days_exposition == 0')['days_exposition'].count())\n"
   ]
  },
  {
   "cell_type": "markdown",
   "metadata": {},
   "source": [
    "<div class=\"alert alert-info\">\n",
    "<b> Проверила выбивающиеся значения </b>\n",
    "    \n",
    "\n",
    "    \n",
    "</div>"
   ]
  },
  {
   "cell_type": "markdown",
   "metadata": {},
   "source": [
    "<div class=\"alert alert-info\">\n",
    "<b> Чтобы верно определить время публикации, необходимо из  рассмотрения убрать \"0\",\n",
    "    т.к. \"0\" означает отсутствующие значения.\n",
    "    </b>\n",
    "\n",
    "...\n",
    "\n",
    "    \n",
    "</div>"
   ]
  },
  {
   "cell_type": "code",
   "execution_count": 91,
   "metadata": {},
   "outputs": [
    {
     "name": "stdout",
     "output_type": "stream",
     "text": [
      "Среднее days_exposition:  188.56509829197552\n",
      "Медиана days_exposition:  107.0\n",
      "count    18618.000000\n",
      "mean       188.565098\n",
      "std        222.647488\n",
      "min          1.000000\n",
      "25%         42.000000\n",
      "50%        107.000000\n",
      "75%        246.000000\n",
      "max       1580.000000\n",
      "Name: days_exposition, dtype: float64\n"
     ]
    },
    {
     "data": {
      "image/png": "[encoded data removed]",
      "text/plain": [
       "<Figure size 1152x360 with 1 Axes>"
      ]
     },
     "metadata": {
      "needs_background": "light"
     },
     "output_type": "display_data"
    },
    {
     "data": {
      "image/png": "[encoded data removed]",
      "text/plain": [
       "<Figure size 1440x360 with 1 Axes>"
      ]
     },
     "metadata": {
      "needs_background": "light"
     },
     "output_type": "display_data"
    },
    {
     "data": {
      "image/png": "[encoded data removed]",
      "text/plain": [
       "<Figure size 1440x360 with 1 Axes>"
      ]
     },
     "metadata": {
      "needs_background": "light"
     },
     "output_type": "display_data"
    },
    {
     "data": {
      "image/png": "[encoded data removed]",
      "text/plain": [
       "<Figure size 1440x360 with 1 Axes>"
      ]
     },
     "metadata": {
      "needs_background": "light"
     },
     "output_type": "display_data"
    },
    {
     "name": "stdout",
     "output_type": "stream",
     "text": [
      "<class 'pandas.core.frame.DataFrame'>\n",
      "Int64Index: 23087 entries, 0 to 23694\n",
      "Data columns (total 31 columns):\n",
      "total_images            23087 non-null int64\n",
      "total_area              23087 non-null float64\n",
      "rooms                   23087 non-null int64\n",
      "ceiling_height          23087 non-null float64\n",
      "floors_total            23087 non-null int64\n",
      "living_area             21272 non-null float64\n",
      "floor                   23087 non-null int64\n",
      "is_apartment            23087 non-null bool\n",
      "studio                  23087 non-null bool\n",
      "open_plan               23087 non-null bool\n",
      "kitchen_area            20920 non-null float64\n",
      "balcony                 23087 non-null int64\n",
      "locality_name           23087 non-null object\n",
      "airports_nearest        17590 non-null float64\n",
      "cityCenters_nearest     17610 non-null float64\n",
      "parks_around3000        23087 non-null int64\n",
      "parks_nearest           7703 non-null float64\n",
      "ponds_around3000        23087 non-null int64\n",
      "ponds_nearest           8698 non-null float64\n",
      "last_price              23087 non-null int64\n",
      "first_day_exposition    23087 non-null datetime64[ns]\n",
      "days_exposition         23087 non-null int64\n",
      "locality_group          23087 non-null object\n",
      "floor_group             23087 non-null int64\n",
      "weekday                 23087 non-null int64\n",
      "year                    23087 non-null int64\n",
      "month                   23087 non-null int64\n",
      "price_1m                23087 non-null float64\n",
      "area_living_total       21272 non-null float64\n",
      "area_kitchen_total      20920 non-null float64\n",
      "last_price_tr           23087 non-null int64\n",
      "dtypes: bool(3), datetime64[ns](1), float64(11), int64(14), object(2)\n",
      "memory usage: 5.2+ MB\n"
     ]
    }
   ],
   "source": [
    "data_days = data.query('days_exposition != 0')\n",
    "data_days = data_days.query('days_exposition != 45')\n",
    "data_days = data_days.query('days_exposition != 60')\n",
    "print('Среднее days_exposition: ', data_days['days_exposition'].mean())\n",
    "print('Медиана days_exposition: ', data_days['days_exposition'].median())\n",
    "print(data_days['days_exposition'].describe())\n",
    "import matplotlib.pyplot as plt\n",
    "data_days.hist('days_exposition', bins=400, figsize=(16, 5)) #4 дней в корзине\n",
    "plt.show()\n",
    "\n",
    "data_days.hist('days_exposition', bins=50, range =(1,50), figsize=(20, 5)) #1 дней в корзине\n",
    "plt.show()\n",
    "data_days.hist('days_exposition', bins=50, range =(51,100), figsize=(20, 5)) #1 дней в корзине\n",
    "plt.show()\n",
    "data_days.hist('days_exposition', bins=100, range =(101,200), figsize=(20, 5)) #1 дней в корзине\n",
    "plt.show()\n",
    "\n",
    "\n",
    "\n",
    "data.info()"
   ]
  },
  {
   "cell_type": "code",
   "execution_count": 92,
   "metadata": {},
   "outputs": [
    {
     "data": {
      "text/plain": [
       "count    23087.000000\n",
       "mean       155.173691\n",
       "std        211.499347\n",
       "min          0.000000\n",
       "25%         23.000000\n",
       "50%         73.000000\n",
       "75%        196.000000\n",
       "max       1580.000000\n",
       "Name: days_exposition, dtype: float64"
      ]
     },
     "execution_count": 92,
     "metadata": {},
     "output_type": "execute_result"
    }
   ],
   "source": [
    "data['days_exposition'].describe()"
   ]
  },
  {
   "cell_type": "markdown",
   "metadata": {},
   "source": [
    "<div class=\"alert alert-info\">\n",
    "<b> Время публикации до продажи:</b>\n",
    "\n",
    "- Выбивающиеся значения (45 и 60) убрала на этапе предобработки данных. \"0\" также исключила из рассмотрения, т.к. это отсутствующие значения.\n",
    "\n",
    "- Есть длинный хвост. Максимальное кол-во дней до продажи - 1580. Если квартира висит так долго и не продается, значит или это связано с мошенничеством(т.е. цена будет занижена для привлечения внимания), или наоборот - цена завышена, не соответствует заявленным хар-кам и квартира поэтому не продается.\n",
    "\n",
    "- Из числового описания колонки возьмем 23 дня и 196 дней, которые соответствуют 25 и 75 %.  Быстрое время продажи можно считать - до 22 дней. Нормальное время от 23 до 196 дней.\n",
    "\n",
    "    \n",
    "</div>"
   ]
  },
  {
   "cell_type": "markdown",
   "metadata": {},
   "source": [
    "### Анализ взаимосвязей характеристик недвижимости"
   ]
  },
  {
   "cell_type": "markdown",
   "metadata": {},
   "source": [
    "<div class=\"alert alert-info\">\n",
    "<b> Разделю датасет на 2: :</b>\n",
    "\n",
    "В data оставлю объявления до 196 дней и стоимостью до 15 млн, а в data_new - дольше 196 дней. Чтобы проверить что не так с квартирами, которые продаются долго.\n",
    "\n",
    "\n",
    "    \n",
    "</div>"
   ]
  },
  {
   "cell_type": "code",
   "execution_count": 93,
   "metadata": {},
   "outputs": [],
   "source": [
    "data_new=data.query('days_exposition > 196')\n",
    "\n",
    "\n",
    "\n",
    "data=data.query('days_exposition <= 196')\n",
    "data=data.query('last_price <= 15000000')\n",
    "\n"
   ]
  },
  {
   "cell_type": "code",
   "execution_count": 94,
   "metadata": {},
   "outputs": [
    {
     "name": "stdout",
     "output_type": "stream",
     "text": [
      "2807\n",
      "878\n",
      "538\n",
      "0\n"
     ]
    }
   ],
   "source": [
    "#проверка\n",
    "print(data.query('days_exposition == 0')['days_exposition'].count())\n",
    "print(data.query('days_exposition == 45')['days_exposition'].count())\n",
    "print(data.query('days_exposition == 60')['days_exposition'].count())\n",
    "print(data.query('days_exposition > 196')['days_exposition'].count())\n"
   ]
  },
  {
   "cell_type": "markdown",
   "metadata": {},
   "source": [
    "#### Зависимость цены от общей площади "
   ]
  },
  {
   "cell_type": "code",
   "execution_count": 95,
   "metadata": {},
   "outputs": [
    {
     "name": "stdout",
     "output_type": "stream",
     "text": [
      "0.7386609680544125\n"
     ]
    },
    {
     "data": {
      "image/png": "[encoded data removed]",
      "text/plain": [
       "<Figure size 504x504 with 2 Axes>"
      ]
     },
     "metadata": {
      "needs_background": "light"
     },
     "output_type": "display_data"
    }
   ],
   "source": [
    "\n",
    "data.plot(x='last_price', y = 'total_area', title='Зависимость цены от общей площади', kind='hexbin', gridsize=20, figsize=(7,7), sharex=False, grid=True)\n",
    "\n",
    "\n",
    "print(data['last_price'].corr(data['total_area']))\n"
   ]
  },
  {
   "cell_type": "markdown",
   "metadata": {},
   "source": [
    "#### Зависимость цены от кухни и жилой площади"
   ]
  },
  {
   "cell_type": "code",
   "execution_count": 96,
   "metadata": {},
   "outputs": [
    {
     "name": "stdout",
     "output_type": "stream",
     "text": [
      "-0.11503470308567526\n"
     ]
    },
    {
     "data": {
      "image/png": "[encoded data removed]",
      "text/plain": [
       "<Figure size 504x504 with 2 Axes>"
      ]
     },
     "metadata": {
      "needs_background": "light"
     },
     "output_type": "display_data"
    }
   ],
   "source": [
    "\n",
    "data.plot(x='last_price', y = 'area_kitchen_total', title='Зависимость цены от отношения площади кухни к общей', kind='hexbin', gridsize=20, figsize=(7,7), sharex=False, grid=True)\n",
    "\n",
    "\n",
    "print(data['last_price'].corr(data['area_kitchen_total']))\n"
   ]
  },
  {
   "cell_type": "code",
   "execution_count": 97,
   "metadata": {},
   "outputs": [
    {
     "name": "stdout",
     "output_type": "stream",
     "text": [
      "0.018035566673193438\n"
     ]
    },
    {
     "data": {
      "image/png": "[encoded data removed]",
      "text/plain": [
       "<Figure size 504x504 with 2 Axes>"
      ]
     },
     "metadata": {
      "needs_background": "light"
     },
     "output_type": "display_data"
    }
   ],
   "source": [
    "\n",
    "data.plot(x='last_price', y = 'area_living_total', title='Зависимость цены от отношения жилой площади к общей', kind='hexbin', gridsize=20, figsize=(7,7), sharex=False, grid=True)\n",
    "\n",
    "\n",
    "print(data['last_price'].corr(data['area_living_total']))"
   ]
  },
  {
   "cell_type": "markdown",
   "metadata": {},
   "source": [
    "<div class=\"alert alert-info\">\n",
    "<b></b>\n",
    "    \n",
    "Доля, которую занимает кухня/жилая площадь от общей не имеет значения для ценообразования.\n",
    "    \n",
    "</div>"
   ]
  },
  {
   "cell_type": "markdown",
   "metadata": {},
   "source": [
    "#### Зависимость цены от количества комнат"
   ]
  },
  {
   "cell_type": "code",
   "execution_count": 98,
   "metadata": {},
   "outputs": [
    {
     "name": "stdout",
     "output_type": "stream",
     "text": [
      "0.476060764169949\n"
     ]
    },
    {
     "data": {
      "image/png": "[encoded data removed]",
      "text/plain": [
       "<Figure size 504x504 with 2 Axes>"
      ]
     },
     "metadata": {
      "needs_background": "light"
     },
     "output_type": "display_data"
    }
   ],
   "source": [
    "\n",
    "data.query('rooms > 0').plot(x='last_price', y = 'rooms', title='Зависимость цены от кол-ва комнат', kind='hexbin', gridsize=20, figsize=(7,7), sharex=False, grid=True)\n",
    "print(data.query('rooms > 0')['last_price'].corr(data.query('rooms > 0')['rooms']))"
   ]
  },
  {
   "cell_type": "markdown",
   "metadata": {},
   "source": [
    "#### Зависимость цены от удаленности от центра"
   ]
  },
  {
   "cell_type": "code",
   "execution_count": 99,
   "metadata": {},
   "outputs": [
    {
     "name": "stdout",
     "output_type": "stream",
     "text": [
      "-0.3419002595122099\n"
     ]
    },
    {
     "data": {
      "image/png": "[encoded data removed]",
      "text/plain": [
       "<Figure size 504x504 with 2 Axes>"
      ]
     },
     "metadata": {
      "needs_background": "light"
     },
     "output_type": "display_data"
    }
   ],
   "source": [
    "data.query('cityCenters_nearest > 0').plot(x='last_price', y = 'cityCenters_nearest', title='Зависимость цены от удаленности от центра', kind='hexbin', gridsize=20, figsize=(7,7), sharex=False, grid=True)\n",
    "print(data.query('cityCenters_nearest > 0')['last_price'].corr(data.query('cityCenters_nearest > 0')['cityCenters_nearest']))"
   ]
  },
  {
   "cell_type": "markdown",
   "metadata": {},
   "source": [
    "#### Зависимость цены от парков в радиусе 3км"
   ]
  },
  {
   "cell_type": "code",
   "execution_count": 100,
   "metadata": {},
   "outputs": [
    {
     "name": "stdout",
     "output_type": "stream",
     "text": [
      "0.0478953489329024\n"
     ]
    },
    {
     "data": {
      "image/png": "[encoded data removed]",
      "text/plain": [
       "<Figure size 504x504 with 2 Axes>"
      ]
     },
     "metadata": {
      "needs_background": "light"
     },
     "output_type": "display_data"
    }
   ],
   "source": [
    "data.query('parks_around3000 > 0').plot(x='last_price', y = 'parks_around3000', title='Зависимость цены от наличия парка рядом', kind='hexbin', gridsize=20, figsize=(7,7), sharex=False, grid=True)\n",
    "print(data.query('parks_around3000 > 0')['last_price'].corr(data.query('parks_around3000 > 0')['parks_around3000']))"
   ]
  },
  {
   "cell_type": "markdown",
   "metadata": {},
   "source": [
    "#### Зависимость цены от этажа "
   ]
  },
  {
   "cell_type": "code",
   "execution_count": 128,
   "metadata": {},
   "outputs": [
    {
     "name": "stdout",
     "output_type": "stream",
     "text": [
      "0.13615392627088124\n"
     ]
    },
    {
     "data": {
      "image/png": "[encoded data removed]",
      "text/plain": [
       "<Figure size 504x504 with 2 Axes>"
      ]
     },
     "metadata": {
      "needs_background": "light"
     },
     "output_type": "display_data"
    }
   ],
   "source": [
    "data.plot(x='last_price', y = 'floor_group', title='Зависимость цены от этажа', kind='hexbin', gridsize=20, figsize=(7,7), sharex=False, grid=True)\n",
    "          \n",
    "print(data['last_price'].corr(data['floor_group']))\n",
    "\n",
    "\n",
    "#  Добавляем подписи к осям:\n",
    "plt.xlabel(\"Цена\") # подпись к оси X\n",
    "plt.ylabel(\"Этаж\"); # подпись к оси Y\n",
    "\n",
    "#plt.show()"
   ]
  },
  {
   "cell_type": "code",
   "execution_count": 102,
   "metadata": {},
   "outputs": [
    {
     "name": "stdout",
     "output_type": "stream",
     "text": [
      "Уникальные значения в столбце floor_group\n",
      "3    12473\n",
      "2     2302\n",
      "1     2020\n",
      "Name: floor_group, dtype: int64\n"
     ]
    }
   ],
   "source": [
    "print('Уникальные значения в столбце floor_group')\n",
    "print(data['floor_group'].value_counts())"
   ]
  },
  {
   "cell_type": "code",
   "execution_count": 103,
   "metadata": {},
   "outputs": [
    {
     "data": {
      "text/plain": [
       "<matplotlib.axes._subplots.AxesSubplot at 0x7fd76909c290>"
      ]
     },
     "execution_count": 103,
     "metadata": {},
     "output_type": "execute_result"
    },
    {
     "data": {
      "image/png": "[encoded data removed]",
      "text/plain": [
       "<Figure size 432x288 with 1 Axes>"
      ]
     },
     "metadata": {
      "needs_background": "light"
     },
     "output_type": "display_data"
    }
   ],
   "source": [
    "data.plot(x='last_price', y = 'floor_group', title='Зависимость цены от этажа', kind='scatter', alpha=0.03)"
   ]
  },
  {
   "cell_type": "markdown",
   "metadata": {},
   "source": [
    "#### Зависимость цены от даты публикации"
   ]
  },
  {
   "cell_type": "code",
   "execution_count": 104,
   "metadata": {},
   "outputs": [
    {
     "name": "stdout",
     "output_type": "stream",
     "text": [
      "-0.01138179759051284\n"
     ]
    },
    {
     "data": {
      "image/png": "[encoded data removed]",
      "text/plain": [
       "<Figure size 576x288 with 1 Axes>"
      ]
     },
     "metadata": {
      "needs_background": "light"
     },
     "output_type": "display_data"
    }
   ],
   "source": [
    "data.groupby('weekday')['last_price'].median().plot(kind='bar', figsize=(8,4))\n",
    "print(data['last_price'].corr(data['weekday']))"
   ]
  },
  {
   "cell_type": "code",
   "execution_count": 105,
   "metadata": {},
   "outputs": [
    {
     "name": "stdout",
     "output_type": "stream",
     "text": [
      "0.003295154716434504\n"
     ]
    },
    {
     "data": {
      "image/png": "[encoded data removed]",
      "text/plain": [
       "<Figure size 576x288 with 1 Axes>"
      ]
     },
     "metadata": {
      "needs_background": "light"
     },
     "output_type": "display_data"
    }
   ],
   "source": [
    "data.groupby('month')['last_price'].median().plot(kind='bar', figsize=(8,4))\n",
    "print(data['last_price'].corr(data['month']))"
   ]
  },
  {
   "cell_type": "markdown",
   "metadata": {},
   "source": [
    "<div class=\"alert alert-info\">\n",
    "<b>Построила новый график </b>\n",
    "    \n",
    "- В марте и в ноябре ровное кол-во объявлений всего ценового диапазона.\n",
    "- Меньше всего дорогих квартир \"выходит на продажу\" в мае-июле, декабре.\n",
    "- Средний и недорогой сегмент \"выходит на продажу\" равномерно по месяцам.\n",
    "    \n",
    "</div>"
   ]
  },
  {
   "cell_type": "code",
   "execution_count": 106,
   "metadata": {},
   "outputs": [
    {
     "data": {
      "text/plain": [
       "<matplotlib.axes._subplots.AxesSubplot at 0x7fd772d0e390>"
      ]
     },
     "execution_count": 106,
     "metadata": {},
     "output_type": "execute_result"
    },
    {
     "data": {
      "image/png": "[encoded data removed]",
      "text/plain": [
       "<Figure size 576x288 with 1 Axes>"
      ]
     },
     "metadata": {
      "needs_background": "light"
     },
     "output_type": "display_data"
    }
   ],
   "source": [
    "data.groupby('year')['last_price'].median().plot(kind='bar', figsize=(8,4))"
   ]
  },
  {
   "cell_type": "code",
   "execution_count": 107,
   "metadata": {},
   "outputs": [
    {
     "data": {
      "text/plain": [
       "<matplotlib.axes._subplots.AxesSubplot at 0x7fd76976bb50>"
      ]
     },
     "execution_count": 107,
     "metadata": {},
     "output_type": "execute_result"
    },
    {
     "data": {
      "image/png": "[encoded data removed]",
      "text/plain": [
       "<Figure size 576x288 with 1 Axes>"
      ]
     },
     "metadata": {
      "needs_background": "light"
     },
     "output_type": "display_data"
    }
   ],
   "source": [
    "data.groupby('year')['last_price'].median().plot(kind='bar', figsize=(8,4), title='Медианы цен по годам')"
   ]
  },
  {
   "cell_type": "markdown",
   "metadata": {},
   "source": [
    "<hr style=\"border: 1px solid #000;\"> "
   ]
  },
  {
   "cell_type": "markdown",
   "metadata": {},
   "source": [
    "### Анализ локации недвижимости"
   ]
  },
  {
   "cell_type": "markdown",
   "metadata": {},
   "source": [
    "#### Анализ населенных пунктов"
   ]
  },
  {
   "cell_type": "markdown",
   "metadata": {},
   "source": [
    "<div class=\"alert alert-info\">\n",
    "<b> Распределение населенные пункты по кол-ву объявлений в каждом:</b>\n",
    "   \n",
    "</div>"
   ]
  },
  {
   "cell_type": "code",
   "execution_count": 108,
   "metadata": {},
   "outputs": [
    {
     "name": "stdout",
     "output_type": "stream",
     "text": [
      "(331, 1)\n"
     ]
    },
    {
     "data": {
      "text/html": [
       "<div>\n",
       "<style scoped>\n",
       "    .dataframe tbody tr th:only-of-type {\n",
       "        vertical-align: middle;\n",
       "    }\n",
       "\n",
       "    .dataframe tbody tr th {\n",
       "        vertical-align: top;\n",
       "    }\n",
       "\n",
       "    .dataframe thead th {\n",
       "        text-align: right;\n",
       "    }\n",
       "</style>\n",
       "<table border=\"1\" class=\"dataframe\">\n",
       "  <thead>\n",
       "    <tr style=\"text-align: right;\">\n",
       "      <th></th>\n",
       "      <th>kol-vo objavl</th>\n",
       "    </tr>\n",
       "    <tr>\n",
       "      <th>locality_name</th>\n",
       "      <th></th>\n",
       "    </tr>\n",
       "  </thead>\n",
       "  <tbody>\n",
       "    <tr>\n",
       "      <td>Санкт-Петербург</td>\n",
       "      <td>10891</td>\n",
       "    </tr>\n",
       "    <tr>\n",
       "      <td>посёлок Мурино</td>\n",
       "      <td>408</td>\n",
       "    </tr>\n",
       "    <tr>\n",
       "      <td>посёлок Шушары</td>\n",
       "      <td>338</td>\n",
       "    </tr>\n",
       "    <tr>\n",
       "      <td>Всеволожск</td>\n",
       "      <td>282</td>\n",
       "    </tr>\n",
       "    <tr>\n",
       "      <td>Колпино</td>\n",
       "      <td>264</td>\n",
       "    </tr>\n",
       "    <tr>\n",
       "      <td>посёлок Парголово</td>\n",
       "      <td>247</td>\n",
       "    </tr>\n",
       "    <tr>\n",
       "      <td>Пушкин</td>\n",
       "      <td>244</td>\n",
       "    </tr>\n",
       "    <tr>\n",
       "      <td>Гатчина</td>\n",
       "      <td>222</td>\n",
       "    </tr>\n",
       "    <tr>\n",
       "      <td>деревня Кудрово</td>\n",
       "      <td>216</td>\n",
       "    </tr>\n",
       "    <tr>\n",
       "      <td>Выборг</td>\n",
       "      <td>176</td>\n",
       "    </tr>\n",
       "  </tbody>\n",
       "</table>\n",
       "</div>"
      ],
      "text/plain": [
       "                   kol-vo objavl\n",
       "locality_name                   \n",
       "Санкт-Петербург            10891\n",
       "посёлок Мурино               408\n",
       "посёлок Шушары               338\n",
       "Всеволожск                   282\n",
       "Колпино                      264\n",
       "посёлок Парголово            247\n",
       "Пушкин                       244\n",
       "Гатчина                      222\n",
       "деревня Кудрово              216\n",
       "Выборг                       176"
      ]
     },
     "execution_count": 108,
     "metadata": {},
     "output_type": "execute_result"
    }
   ],
   "source": [
    "data_pivot_locality_name = data.pivot_table(index='locality_name', values='price_1m', aggfunc = 'count').sort_values(by = 'price_1m', ascending = False)\n",
    "print(data_pivot_locality_name.shape)\n",
    "data_pivot_locality_name.columns=['kol-vo objavl']\n",
    "data_pivot_locality_name.head(10)\n",
    "\n"
   ]
  },
  {
   "cell_type": "markdown",
   "metadata": {},
   "source": [
    "<div class=\"alert alert-info\">\n",
    "<b> Распределение населенных пунктов по стоимости квадратного метра по убыванию:</b>\n",
    "   \n",
    "</div>"
   ]
  },
  {
   "cell_type": "code",
   "execution_count": 109,
   "metadata": {},
   "outputs": [
    {
     "name": "stdout",
     "output_type": "stream",
     "text": [
      "(331, 1)\n"
     ]
    },
    {
     "data": {
      "text/html": [
       "<div>\n",
       "<style scoped>\n",
       "    .dataframe tbody tr th:only-of-type {\n",
       "        vertical-align: middle;\n",
       "    }\n",
       "\n",
       "    .dataframe tbody tr th {\n",
       "        vertical-align: top;\n",
       "    }\n",
       "\n",
       "    .dataframe thead th {\n",
       "        text-align: right;\n",
       "    }\n",
       "</style>\n",
       "<table border=\"1\" class=\"dataframe\">\n",
       "  <thead>\n",
       "    <tr style=\"text-align: right;\">\n",
       "      <th></th>\n",
       "      <th>price_1m</th>\n",
       "    </tr>\n",
       "    <tr>\n",
       "      <th>locality_name</th>\n",
       "      <th></th>\n",
       "    </tr>\n",
       "  </thead>\n",
       "  <tbody>\n",
       "    <tr>\n",
       "      <td>посёлок Лисий Нос</td>\n",
       "      <td>168706.697460</td>\n",
       "    </tr>\n",
       "    <tr>\n",
       "      <td>Зеленогорск</td>\n",
       "      <td>110258.895830</td>\n",
       "    </tr>\n",
       "    <tr>\n",
       "      <td>Санкт-Петербург</td>\n",
       "      <td>107774.767354</td>\n",
       "    </tr>\n",
       "    <tr>\n",
       "      <td>деревня Мистолово</td>\n",
       "      <td>105250.024503</td>\n",
       "    </tr>\n",
       "    <tr>\n",
       "      <td>Сестрорецк</td>\n",
       "      <td>101508.650463</td>\n",
       "    </tr>\n",
       "    <tr>\n",
       "      <td>Пушкин</td>\n",
       "      <td>100908.905160</td>\n",
       "    </tr>\n",
       "    <tr>\n",
       "      <td>Кудрово</td>\n",
       "      <td>100670.255899</td>\n",
       "    </tr>\n",
       "    <tr>\n",
       "      <td>посёлок Левашово</td>\n",
       "      <td>96997.690531</td>\n",
       "    </tr>\n",
       "    <tr>\n",
       "      <td>деревня Кудрово</td>\n",
       "      <td>93173.575483</td>\n",
       "    </tr>\n",
       "    <tr>\n",
       "      <td>посёлок Репино</td>\n",
       "      <td>92727.272727</td>\n",
       "    </tr>\n",
       "  </tbody>\n",
       "</table>\n",
       "</div>"
      ],
      "text/plain": [
       "                        price_1m\n",
       "locality_name                   \n",
       "посёлок Лисий Нос  168706.697460\n",
       "Зеленогорск        110258.895830\n",
       "Санкт-Петербург    107774.767354\n",
       "деревня Мистолово  105250.024503\n",
       "Сестрорецк         101508.650463\n",
       "Пушкин             100908.905160\n",
       "Кудрово            100670.255899\n",
       "посёлок Левашово    96997.690531\n",
       "деревня Кудрово     93173.575483\n",
       "посёлок Репино      92727.272727"
      ]
     },
     "execution_count": 109,
     "metadata": {},
     "output_type": "execute_result"
    }
   ],
   "source": [
    "data_pivot_1m = data.pivot_table(index='locality_name', values='price_1m').sort_values(by = 'price_1m', ascending = False)\n",
    "print(data_pivot_1m.shape)\n",
    "data_pivot_1m.head(10) #Название нас.пунктов в индексах\n"
   ]
  },
  {
   "cell_type": "markdown",
   "metadata": {},
   "source": [
    "<div class=\"alert alert-info\">\n",
    "<b> Объединение таблиц, сортировка по кол-ву объявлений по убыванию.</b>\n",
    "   \n",
    "</div>"
   ]
  },
  {
   "cell_type": "code",
   "execution_count": 110,
   "metadata": {},
   "outputs": [
    {
     "name": "stdout",
     "output_type": "stream",
     "text": [
      "(331, 2)\n"
     ]
    },
    {
     "data": {
      "text/html": [
       "<div>\n",
       "<style scoped>\n",
       "    .dataframe tbody tr th:only-of-type {\n",
       "        vertical-align: middle;\n",
       "    }\n",
       "\n",
       "    .dataframe tbody tr th {\n",
       "        vertical-align: top;\n",
       "    }\n",
       "\n",
       "    .dataframe thead th {\n",
       "        text-align: right;\n",
       "    }\n",
       "</style>\n",
       "<table border=\"1\" class=\"dataframe\">\n",
       "  <thead>\n",
       "    <tr style=\"text-align: right;\">\n",
       "      <th></th>\n",
       "      <th>kol-vo objavl</th>\n",
       "      <th>price_1m</th>\n",
       "    </tr>\n",
       "    <tr>\n",
       "      <th>locality_name</th>\n",
       "      <th></th>\n",
       "      <th></th>\n",
       "    </tr>\n",
       "  </thead>\n",
       "  <tbody>\n",
       "    <tr>\n",
       "      <td>Санкт-Петербург</td>\n",
       "      <td>10891</td>\n",
       "      <td>107774.767354</td>\n",
       "    </tr>\n",
       "    <tr>\n",
       "      <td>посёлок Мурино</td>\n",
       "      <td>408</td>\n",
       "      <td>86267.160625</td>\n",
       "    </tr>\n",
       "    <tr>\n",
       "      <td>посёлок Шушары</td>\n",
       "      <td>338</td>\n",
       "      <td>78893.286781</td>\n",
       "    </tr>\n",
       "    <tr>\n",
       "      <td>Всеволожск</td>\n",
       "      <td>282</td>\n",
       "      <td>67601.378078</td>\n",
       "    </tr>\n",
       "    <tr>\n",
       "      <td>Колпино</td>\n",
       "      <td>264</td>\n",
       "      <td>75759.137724</td>\n",
       "    </tr>\n",
       "    <tr>\n",
       "      <td>посёлок Парголово</td>\n",
       "      <td>247</td>\n",
       "      <td>90175.315852</td>\n",
       "    </tr>\n",
       "    <tr>\n",
       "      <td>Пушкин</td>\n",
       "      <td>244</td>\n",
       "      <td>100908.905160</td>\n",
       "    </tr>\n",
       "    <tr>\n",
       "      <td>Гатчина</td>\n",
       "      <td>222</td>\n",
       "      <td>69466.549176</td>\n",
       "    </tr>\n",
       "    <tr>\n",
       "      <td>деревня Кудрово</td>\n",
       "      <td>216</td>\n",
       "      <td>93173.575483</td>\n",
       "    </tr>\n",
       "    <tr>\n",
       "      <td>Выборг</td>\n",
       "      <td>176</td>\n",
       "      <td>58824.389039</td>\n",
       "    </tr>\n",
       "  </tbody>\n",
       "</table>\n",
       "</div>"
      ],
      "text/plain": [
       "                   kol-vo objavl       price_1m\n",
       "locality_name                                  \n",
       "Санкт-Петербург            10891  107774.767354\n",
       "посёлок Мурино               408   86267.160625\n",
       "посёлок Шушары               338   78893.286781\n",
       "Всеволожск                   282   67601.378078\n",
       "Колпино                      264   75759.137724\n",
       "посёлок Парголово            247   90175.315852\n",
       "Пушкин                       244  100908.905160\n",
       "Гатчина                      222   69466.549176\n",
       "деревня Кудрово              216   93173.575483\n",
       "Выборг                       176   58824.389039"
      ]
     },
     "execution_count": 110,
     "metadata": {},
     "output_type": "execute_result"
    }
   ],
   "source": [
    "data_itog = data_pivot_locality_name.join(data_pivot_1m)\n",
    "print(data_itog.shape)\n",
    "data_itog.sort_values(by = 'kol-vo objavl', ascending = False).head(10)\n",
    "\n"
   ]
  },
  {
   "cell_type": "markdown",
   "metadata": {},
   "source": [
    "<div class=\"alert alert-info\">\n",
    "<b> Самая дорогая ст-ть жилья в Санкт-Петербурге, г.Пушкин, деревня Кудрово.\n",
    "    \n",
    "Самая низкая в г.Выборг, стоимость значительно отличается от остальных 9 нас.пунктов.\n",
    "Стоимость жилья не зависит в полностью от близости к Санкт-Петербургу.\n",
    "Некоторые населенные пункты стоят также к в Питер. Это может быть связано с инфраструктурой, экологией и плохими коммуникациями в центре.    \n",
    "    </b>\n",
    "\n",
    "...\n",
    "\n",
    "    \n",
    "</div>"
   ]
  },
  {
   "cell_type": "markdown",
   "metadata": {},
   "source": [
    "#### Анализ квартир в Санкт-Петербурге"
   ]
  },
  {
   "cell_type": "code",
   "execution_count": 111,
   "metadata": {},
   "outputs": [
    {
     "name": "stdout",
     "output_type": "stream",
     "text": [
      "<class 'pandas.core.frame.DataFrame'>\n",
      "Int64Index: 10891 entries, 0 to 23690\n",
      "Data columns (total 33 columns):\n",
      "total_images              10891 non-null int64\n",
      "total_area                10891 non-null float64\n",
      "rooms                     10891 non-null int64\n",
      "ceiling_height            10891 non-null float64\n",
      "floors_total              10891 non-null int64\n",
      "living_area               10097 non-null float64\n",
      "floor                     10891 non-null int64\n",
      "is_apartment              10891 non-null bool\n",
      "studio                    10891 non-null bool\n",
      "open_plan                 10891 non-null bool\n",
      "kitchen_area              9899 non-null float64\n",
      "balcony                   10891 non-null int64\n",
      "locality_name             10891 non-null object\n",
      "airports_nearest          10833 non-null float64\n",
      "cityCenters_nearest       10847 non-null float64\n",
      "parks_around3000          10891 non-null int64\n",
      "parks_nearest             4765 non-null float64\n",
      "ponds_around3000          10891 non-null int64\n",
      "ponds_nearest             5268 non-null float64\n",
      "last_price                10891 non-null int64\n",
      "first_day_exposition      10891 non-null datetime64[ns]\n",
      "days_exposition           10891 non-null int64\n",
      "locality_group            10891 non-null object\n",
      "floor_group               10891 non-null int64\n",
      "weekday                   10891 non-null int64\n",
      "year                      10891 non-null int64\n",
      "month                     10891 non-null int64\n",
      "price_1m                  10891 non-null float64\n",
      "area_living_total         10097 non-null float64\n",
      "area_kitchen_total        9899 non-null float64\n",
      "last_price_tr             10891 non-null int64\n",
      "cityCenters_nearest_km    10847 non-null float64\n",
      "price_1km                 10847 non-null float64\n",
      "dtypes: bool(3), datetime64[ns](1), float64(13), int64(14), object(2)\n",
      "memory usage: 2.6+ MB\n"
     ]
    }
   ],
   "source": [
    "\n",
    "data['cityCenters_nearest_km']=data['cityCenters_nearest']/1000\n",
    "#переведем расстояние в км\n",
    "data['price_1km']=data['last_price']/data['cityCenters_nearest_km']\n",
    "#найдем стоимость 1 км\n",
    "data_piter=data.query('locality_name == \"Санкт-Петербург\"')\n",
    "#проверим таблицу квартир по Санкт-Петербургу\n",
    "data_piter.info()"
   ]
  },
  {
   "cell_type": "code",
   "execution_count": 112,
   "metadata": {},
   "outputs": [
    {
     "data": {
      "text/plain": [
       "<matplotlib.axes._subplots.AxesSubplot at 0x7fd769857110>"
      ]
     },
     "execution_count": 112,
     "metadata": {},
     "output_type": "execute_result"
    },
    {
     "data": {
      "image/png": "[encoded data removed]",
      "text/plain": [
       "<Figure size 864x288 with 1 Axes>"
      ]
     },
     "metadata": {
      "needs_background": "light"
     },
     "output_type": "display_data"
    }
   ],
   "source": [
    "\n",
    "data['cityCenters_nearest_km'] = (data['cityCenters_nearest']/1000).round(0).astype('Int64')\n",
    "\n",
    "data.groupby('cityCenters_nearest_km')['price_1km'].median().plot(kind='bar', figsize=(12,4))"
   ]
  },
  {
   "cell_type": "markdown",
   "metadata": {},
   "source": [
    "<div class=\"alert alert-info\">\n",
    "<b> Анализ зависимости цены от удаленности от центра.</b>\n",
    "\n",
    "При расстоянии дальше 5 км от центра, график имеет четкую закономерность - чем дальше квартира \n",
    "от центра, тем дешевле.\n",
    "При расстоянии в диапазоне 5 км от центра нет четкой закономерности, квартиры при одном расстоянии в стоимости очень отличаются. Это может быть связано с инфраструктурой, нахождением рядом с каким-то объектом.\n",
    "\n",
    "Центральная зона - в радиусе 5 км.\n",
    "\n",
    "    \n",
    "</div>"
   ]
  },
  {
   "cell_type": "markdown",
   "metadata": {},
   "source": [
    "<div class=\"alert alert-info\">\n",
    "<strong><font size=5>Исправила</font></strong><br/>\n",
    "Центр - 0 км, цена квартир ближе 1км к центру кардинально выше других.\n",
    "    \n",
    "</div>"
   ]
  },
  {
   "cell_type": "markdown",
   "metadata": {},
   "source": [
    "#### Анализ квартир в центре\n"
   ]
  },
  {
   "cell_type": "code",
   "execution_count": 113,
   "metadata": {},
   "outputs": [
    {
     "name": "stdout",
     "output_type": "stream",
     "text": [
      "<class 'pandas.core.frame.DataFrame'>\n",
      "Int64Index: 9 entries, 1182 to 22033\n",
      "Data columns (total 33 columns):\n",
      "total_images              9 non-null int64\n",
      "total_area                9 non-null float64\n",
      "rooms                     9 non-null int64\n",
      "ceiling_height            9 non-null float64\n",
      "floors_total              9 non-null int64\n",
      "living_area               7 non-null float64\n",
      "floor                     9 non-null int64\n",
      "is_apartment              9 non-null bool\n",
      "studio                    9 non-null bool\n",
      "open_plan                 9 non-null bool\n",
      "kitchen_area              8 non-null float64\n",
      "balcony                   9 non-null int64\n",
      "locality_name             9 non-null object\n",
      "airports_nearest          9 non-null float64\n",
      "cityCenters_nearest       9 non-null float64\n",
      "parks_around3000          9 non-null int64\n",
      "parks_nearest             9 non-null float64\n",
      "ponds_around3000          9 non-null int64\n",
      "ponds_nearest             9 non-null float64\n",
      "last_price                9 non-null int64\n",
      "first_day_exposition      9 non-null datetime64[ns]\n",
      "days_exposition           9 non-null int64\n",
      "locality_group            9 non-null object\n",
      "floor_group               9 non-null int64\n",
      "weekday                   9 non-null int64\n",
      "year                      9 non-null int64\n",
      "month                     9 non-null int64\n",
      "price_1m                  9 non-null float64\n",
      "area_living_total         7 non-null float64\n",
      "area_kitchen_total        8 non-null float64\n",
      "last_price_tr             9 non-null int64\n",
      "cityCenters_nearest_km    9 non-null Int64\n",
      "price_1km                 9 non-null float64\n",
      "dtypes: Int64(1), bool(3), datetime64[ns](1), float64(12), int64(14), object(2)\n",
      "memory usage: 2.2+ KB\n"
     ]
    }
   ],
   "source": [
    "data_zentr = data.query('cityCenters_nearest_km < 1') #Квартиры в центре\n",
    "data_zentr.info()"
   ]
  },
  {
   "cell_type": "code",
   "execution_count": 114,
   "metadata": {},
   "outputs": [
    {
     "name": "stdout",
     "output_type": "stream",
     "text": [
      "0.7173551071257406\n"
     ]
    },
    {
     "data": {
      "image/png": "[encoded data removed]",
      "text/plain": [
       "<Figure size 504x504 with 2 Axes>"
      ]
     },
     "metadata": {
      "needs_background": "light"
     },
     "output_type": "display_data"
    }
   ],
   "source": [
    "data_zentr.plot(x='last_price', y = 'total_area', title='Зависимость цены от общей площади', kind='hexbin', gridsize=20, figsize=(7,7), sharex=False, grid=True)\n",
    "\n",
    "\n",
    "print(data_zentr['last_price'].corr(data_zentr['total_area']))"
   ]
  },
  {
   "cell_type": "markdown",
   "metadata": {},
   "source": [
    "<div class=\"alert alert-info\">\n",
    "<b></b>\n",
    "    \n",
    "- Стоимость квартир в центре зависит от площади в меньшей степени в отличии от квартир, к-е не в центре.\n",
    "- Квартиры площадью 100-120 м2 имеют разную стоимость от 8 до 14 млн.р..\n",
    "</div>"
   ]
  },
  {
   "cell_type": "code",
   "execution_count": 115,
   "metadata": {},
   "outputs": [
    {
     "data": {
      "image/png": "[encoded data removed]",
      "text/plain": [
       "<Figure size 432x288 with 1 Axes>"
      ]
     },
     "metadata": {
      "needs_background": "light"
     },
     "output_type": "display_data"
    }
   ],
   "source": [
    "data_zentr.plot(x='last_price', y = 'weekday', title='Зависимость цены от дня недели', style='o')\n",
    "plt.show()"
   ]
  },
  {
   "cell_type": "markdown",
   "metadata": {},
   "source": [
    "<div class=\"alert alert-info\">\n",
    "<b></b>\n",
    "    \n",
    "Объявления с самыми дорогими квартирами вышли в понедельник и вторник.\n",
    "</div>"
   ]
  },
  {
   "cell_type": "markdown",
   "metadata": {},
   "source": [
    "#### Анализ долгих продаж\n"
   ]
  },
  {
   "cell_type": "markdown",
   "metadata": {},
   "source": [
    "<div class=\"alert alert-info\">\n",
    "<b> Анализ квартир, которые продаются дольше 196 дней</b>\n",
    "\n",
    "Чтобы проверить что не так с квартирами, в чем причина.\n",
    "\n",
    "196 дней взяла из метода **describe**, 196 соответствуют 75 %.  \n",
    "    \n",
    "</div>"
   ]
  },
  {
   "cell_type": "code",
   "execution_count": 116,
   "metadata": {},
   "outputs": [
    {
     "name": "stdout",
     "output_type": "stream",
     "text": [
      "<class 'pandas.core.frame.DataFrame'>\n",
      "Int64Index: 5766 entries, 2 to 23693\n",
      "Data columns (total 31 columns):\n",
      "total_images            5766 non-null int64\n",
      "total_area              5766 non-null float64\n",
      "rooms                   5766 non-null int64\n",
      "ceiling_height          5766 non-null float64\n",
      "floors_total            5766 non-null int64\n",
      "living_area             5470 non-null float64\n",
      "floor                   5766 non-null int64\n",
      "is_apartment            5766 non-null bool\n",
      "studio                  5766 non-null bool\n",
      "open_plan               5766 non-null bool\n",
      "kitchen_area            5387 non-null float64\n",
      "balcony                 5766 non-null int64\n",
      "locality_name           5766 non-null object\n",
      "airports_nearest        4460 non-null float64\n",
      "cityCenters_nearest     4463 non-null float64\n",
      "parks_around3000        5766 non-null int64\n",
      "parks_nearest           2042 non-null float64\n",
      "ponds_around3000        5766 non-null int64\n",
      "ponds_nearest           2321 non-null float64\n",
      "last_price              5766 non-null int64\n",
      "first_day_exposition    5766 non-null datetime64[ns]\n",
      "days_exposition         5766 non-null int64\n",
      "locality_group          5766 non-null object\n",
      "floor_group             5766 non-null int64\n",
      "weekday                 5766 non-null int64\n",
      "year                    5766 non-null int64\n",
      "month                   5766 non-null int64\n",
      "price_1m                5766 non-null float64\n",
      "area_living_total       5470 non-null float64\n",
      "area_kitchen_total      5387 non-null float64\n",
      "last_price_tr           5766 non-null int64\n",
      "dtypes: bool(3), datetime64[ns](1), float64(11), int64(14), object(2)\n",
      "memory usage: 1.3+ MB\n"
     ]
    },
    {
     "data": {
      "text/html": [
       "<div>\n",
       "<style scoped>\n",
       "    .dataframe tbody tr th:only-of-type {\n",
       "        vertical-align: middle;\n",
       "    }\n",
       "\n",
       "    .dataframe tbody tr th {\n",
       "        vertical-align: top;\n",
       "    }\n",
       "\n",
       "    .dataframe thead th {\n",
       "        text-align: right;\n",
       "    }\n",
       "</style>\n",
       "<table border=\"1\" class=\"dataframe\">\n",
       "  <thead>\n",
       "    <tr style=\"text-align: right;\">\n",
       "      <th></th>\n",
       "      <th>total_images</th>\n",
       "      <th>total_area</th>\n",
       "      <th>rooms</th>\n",
       "      <th>ceiling_height</th>\n",
       "      <th>floors_total</th>\n",
       "      <th>living_area</th>\n",
       "      <th>floor</th>\n",
       "      <th>is_apartment</th>\n",
       "      <th>studio</th>\n",
       "      <th>open_plan</th>\n",
       "      <th>...</th>\n",
       "      <th>days_exposition</th>\n",
       "      <th>locality_group</th>\n",
       "      <th>floor_group</th>\n",
       "      <th>weekday</th>\n",
       "      <th>year</th>\n",
       "      <th>month</th>\n",
       "      <th>price_1m</th>\n",
       "      <th>area_living_total</th>\n",
       "      <th>area_kitchen_total</th>\n",
       "      <th>last_price_tr</th>\n",
       "    </tr>\n",
       "  </thead>\n",
       "  <tbody>\n",
       "    <tr>\n",
       "      <td>2</td>\n",
       "      <td>10</td>\n",
       "      <td>56.0</td>\n",
       "      <td>2</td>\n",
       "      <td>2.65</td>\n",
       "      <td>5</td>\n",
       "      <td>34.3</td>\n",
       "      <td>4</td>\n",
       "      <td>False</td>\n",
       "      <td>False</td>\n",
       "      <td>False</td>\n",
       "      <td>...</td>\n",
       "      <td>558</td>\n",
       "      <td>центр</td>\n",
       "      <td>3</td>\n",
       "      <td>3</td>\n",
       "      <td>2015</td>\n",
       "      <td>8</td>\n",
       "      <td>92785.714286</td>\n",
       "      <td>0.612500</td>\n",
       "      <td>0.148214</td>\n",
       "      <td>5196</td>\n",
       "    </tr>\n",
       "    <tr>\n",
       "      <td>9</td>\n",
       "      <td>18</td>\n",
       "      <td>61.0</td>\n",
       "      <td>3</td>\n",
       "      <td>2.50</td>\n",
       "      <td>9</td>\n",
       "      <td>43.6</td>\n",
       "      <td>7</td>\n",
       "      <td>False</td>\n",
       "      <td>False</td>\n",
       "      <td>False</td>\n",
       "      <td>...</td>\n",
       "      <td>289</td>\n",
       "      <td>центр</td>\n",
       "      <td>3</td>\n",
       "      <td>6</td>\n",
       "      <td>2017</td>\n",
       "      <td>2</td>\n",
       "      <td>88524.590164</td>\n",
       "      <td>0.714754</td>\n",
       "      <td>0.106557</td>\n",
       "      <td>5400</td>\n",
       "    </tr>\n",
       "    <tr>\n",
       "      <td>13</td>\n",
       "      <td>20</td>\n",
       "      <td>42.8</td>\n",
       "      <td>2</td>\n",
       "      <td>2.56</td>\n",
       "      <td>5</td>\n",
       "      <td>27.0</td>\n",
       "      <td>5</td>\n",
       "      <td>False</td>\n",
       "      <td>False</td>\n",
       "      <td>False</td>\n",
       "      <td>...</td>\n",
       "      <td>366</td>\n",
       "      <td>область</td>\n",
       "      <td>2</td>\n",
       "      <td>5</td>\n",
       "      <td>2017</td>\n",
       "      <td>7</td>\n",
       "      <td>82943.925234</td>\n",
       "      <td>0.630841</td>\n",
       "      <td>0.121495</td>\n",
       "      <td>3550</td>\n",
       "    </tr>\n",
       "    <tr>\n",
       "      <td>14</td>\n",
       "      <td>1</td>\n",
       "      <td>36.0</td>\n",
       "      <td>1</td>\n",
       "      <td>2.65</td>\n",
       "      <td>6</td>\n",
       "      <td>17.0</td>\n",
       "      <td>1</td>\n",
       "      <td>False</td>\n",
       "      <td>False</td>\n",
       "      <td>False</td>\n",
       "      <td>...</td>\n",
       "      <td>203</td>\n",
       "      <td>область</td>\n",
       "      <td>1</td>\n",
       "      <td>3</td>\n",
       "      <td>2016</td>\n",
       "      <td>6</td>\n",
       "      <td>122222.222222</td>\n",
       "      <td>0.472222</td>\n",
       "      <td>0.222222</td>\n",
       "      <td>4400</td>\n",
       "    </tr>\n",
       "    <tr>\n",
       "      <td>16</td>\n",
       "      <td>11</td>\n",
       "      <td>82.0</td>\n",
       "      <td>3</td>\n",
       "      <td>3.05</td>\n",
       "      <td>5</td>\n",
       "      <td>55.6</td>\n",
       "      <td>1</td>\n",
       "      <td>False</td>\n",
       "      <td>False</td>\n",
       "      <td>False</td>\n",
       "      <td>...</td>\n",
       "      <td>397</td>\n",
       "      <td>центр</td>\n",
       "      <td>1</td>\n",
       "      <td>3</td>\n",
       "      <td>2017</td>\n",
       "      <td>11</td>\n",
       "      <td>81707.317073</td>\n",
       "      <td>0.678049</td>\n",
       "      <td>0.109756</td>\n",
       "      <td>6700</td>\n",
       "    </tr>\n",
       "  </tbody>\n",
       "</table>\n",
       "<p>5 rows × 31 columns</p>\n",
       "</div>"
      ],
      "text/plain": [
       "    total_images  total_area  rooms  ceiling_height  floors_total  \\\n",
       "2             10        56.0      2            2.65             5   \n",
       "9             18        61.0      3            2.50             9   \n",
       "13            20        42.8      2            2.56             5   \n",
       "14             1        36.0      1            2.65             6   \n",
       "16            11        82.0      3            3.05             5   \n",
       "\n",
       "    living_area  floor  is_apartment  studio  open_plan  ...  days_exposition  \\\n",
       "2          34.3      4         False   False      False  ...              558   \n",
       "9          43.6      7         False   False      False  ...              289   \n",
       "13         27.0      5         False   False      False  ...              366   \n",
       "14         17.0      1         False   False      False  ...              203   \n",
       "16         55.6      1         False   False      False  ...              397   \n",
       "\n",
       "    locality_group floor_group  weekday  year  month       price_1m  \\\n",
       "2            центр           3        3  2015      8   92785.714286   \n",
       "9            центр           3        6  2017      2   88524.590164   \n",
       "13         область           2        5  2017      7   82943.925234   \n",
       "14         область           1        3  2016      6  122222.222222   \n",
       "16           центр           1        3  2017     11   81707.317073   \n",
       "\n",
       "    area_living_total  area_kitchen_total  last_price_tr  \n",
       "2            0.612500            0.148214           5196  \n",
       "9            0.714754            0.106557           5400  \n",
       "13           0.630841            0.121495           3550  \n",
       "14           0.472222            0.222222           4400  \n",
       "16           0.678049            0.109756           6700  \n",
       "\n",
       "[5 rows x 31 columns]"
      ]
     },
     "execution_count": 116,
     "metadata": {},
     "output_type": "execute_result"
    }
   ],
   "source": [
    "data_new.info()\n",
    "data_new.head()"
   ]
  },
  {
   "cell_type": "code",
   "execution_count": 117,
   "metadata": {},
   "outputs": [
    {
     "name": "stdout",
     "output_type": "stream",
     "text": [
      "0.7890072514023538\n"
     ]
    },
    {
     "data": {
      "image/png": "[encoded data removed]",
      "text/plain": [
       "<Figure size 504x504 with 2 Axes>"
      ]
     },
     "metadata": {
      "needs_background": "light"
     },
     "output_type": "display_data"
    }
   ],
   "source": [
    "data_new.plot(x='last_price', y = 'total_area', title='Зависимость цены от площади', kind='hexbin', gridsize=20, figsize=(7,7), sharex=False, grid=True)\n",
    "\n",
    "\n",
    "print(data_new['last_price'].corr(data_new['total_area']))"
   ]
  },
  {
   "cell_type": "code",
   "execution_count": 118,
   "metadata": {},
   "outputs": [
    {
     "name": "stdout",
     "output_type": "stream",
     "text": [
      "-0.37704433319090686\n"
     ]
    },
    {
     "data": {
      "image/png": "[encoded data removed]",
      "text/plain": [
       "<Figure size 504x504 with 2 Axes>"
      ]
     },
     "metadata": {
      "needs_background": "light"
     },
     "output_type": "display_data"
    }
   ],
   "source": [
    "data_new.plot(x='last_price', y = 'cityCenters_nearest', title='Зависимость цены от расстояния до центра', kind='hexbin', gridsize=20, figsize=(7,7), sharex=False, grid=True)\n",
    "\n",
    "print(data_new['last_price'].corr(data_new['cityCenters_nearest']))"
   ]
  },
  {
   "cell_type": "markdown",
   "metadata": {},
   "source": [
    "### Скорость продаж "
   ]
  },
  {
   "cell_type": "code",
   "execution_count": 119,
   "metadata": {},
   "outputs": [
    {
     "name": "stdout",
     "output_type": "stream",
     "text": [
      "0.15271253227197168\n"
     ]
    },
    {
     "data": {
      "image/png": "[encoded data removed]",
      "text/plain": [
       "<Figure size 504x504 with 2 Axes>"
      ]
     },
     "metadata": {
      "needs_background": "light"
     },
     "output_type": "display_data"
    }
   ],
   "source": [
    "\n",
    "data_days.plot(x='days_exposition', y = 'total_area', title='Зависимость скорости продажи от площади', kind='hexbin', gridsize=20, figsize=(7,7), sharex=False, grid=True)\n",
    "\n",
    "\n",
    "print(data_days['days_exposition'].corr(data_days['total_area']))"
   ]
  },
  {
   "cell_type": "code",
   "execution_count": 120,
   "metadata": {},
   "outputs": [
    {
     "name": "stdout",
     "output_type": "stream",
     "text": [
      "0.1147284975819752\n"
     ]
    },
    {
     "data": {
      "image/png": "[encoded data removed]",
      "text/plain": [
       "<Figure size 504x504 with 2 Axes>"
      ]
     },
     "metadata": {
      "needs_background": "light"
     },
     "output_type": "display_data"
    }
   ],
   "source": [
    "data_days.plot(x='days_exposition', y = 'rooms', title='Зависимость скорости продажи от комнат', kind='hexbin', gridsize=20, figsize=(7,7), sharex=False, grid=True)\n",
    "\n",
    "\n",
    "print(data_days['days_exposition'].corr(data_days['rooms']))"
   ]
  },
  {
   "cell_type": "code",
   "execution_count": 121,
   "metadata": {},
   "outputs": [
    {
     "name": "stdout",
     "output_type": "stream",
     "text": [
      "-0.045514556633285685\n"
     ]
    },
    {
     "data": {
      "image/png": "[encoded data removed]",
      "text/plain": [
       "<Figure size 504x504 with 2 Axes>"
      ]
     },
     "metadata": {
      "needs_background": "light"
     },
     "output_type": "display_data"
    }
   ],
   "source": [
    "data_days.plot(x='days_exposition', y = 'cityCenters_nearest', title='Зависимость скорости продажи от расстояния до центра', kind='hexbin', gridsize=20, figsize=(7,7), sharex=False, grid=True)\n",
    "\n",
    "\n",
    "print(data_days['days_exposition'].corr(data_days['cityCenters_nearest']))\n"
   ]
  },
  {
   "cell_type": "markdown",
   "metadata": {},
   "source": [
    "<div class=\"alert alert-info\">\n",
    "<b>Быстрее всего продаются квартиры: </b>\n",
    "    \n",
    "- площадью до 40м2,\n",
    "- однокомнатные,\n",
    "- на расстоянии 15-17 км от центра.\n",
    "    \n",
    "</div>"
   ]
  },
  {
   "cell_type": "markdown",
   "metadata": {},
   "source": [
    "## Общий вывод"
   ]
  },
  {
   "cell_type": "markdown",
   "metadata": {},
   "source": [
    "<div class=\"alert alert-info\">\n",
    "<b>  </b>\n",
    "\n",
    "**Краткий обзор проведённой работы**\n",
    "1. В полученной таблице некоторые значения отсутствовали, т.к. пользователи их не вносили.\n",
    "В связи с этим были произведены  корректировки значений в некоторых столбцах.\n",
    "2. Удалили пустые строки  в столбце \"locality_name\"  и 'floors_total'.\n",
    "3. Отсутствующие значения в \"ceiling_height\",  \"balcony\" заменены на корректные.\n",
    "Некоторые данные остались без изменения, например, площадь, расстояние, кол-во парков и водоемов.\n",
    "4. Были исключены выбивающиеся значения в \"days_exposition\".\n",
    "5. Были убраны из рассмотрения квартиры с высотой потолков выше 5 метров, комнат больше 6 (таких квартир мало), ценой выше 30 млн.рублей, т.к. или там ошибка, или объект нестандартный, там свое ценообразование не имеющее ничего общего со среднестатистическими квартирами. Тем более таких объектов менее 1%. \n",
    "6. Максимальное кол-во дней до продажи - 1580.  Были выделены в отдельный датасет квартиры, которые \"висят\" долго (более 196 дней) , чтобы узнать с чем связаны долгие продажи. **Быстрые продажи** - до 22 дней включительно.\n",
    " \n",
    " \n",
    "\n",
    "**Анализ рынка недвижимости**\n",
    " \n",
    "1. Квартиры стоимость выше 15 млн.р. встречаются очень редко. Основная доля квартир до 11,5 млн.р.\n",
    "2. Большая часть квартир на рынке площадью от 30 до 60 метров, 1 и 2-х комнатные, немного меньше трехкомнатных.\n",
    "3. Быстрое время продажи можно считать - до 22 дней. Нормальное время от 23 до 196 дней. Свыше 196 дней — долгая продажа. \n",
    "4. Потолки в среднем стандартные 2,5-3,5 метров, на стоимость они мало влияют и многие не указывают их в объявлении.\n",
    " \n",
    "**Факторы в большей и меньшей степени влияет на цену**\n",
    "1. В большей степени на цену влияет площадь квартиры и локация.    \n",
    "2. Нет зависимости площади кухни и жилой площади на цену квартиры, т.к. кухня м.б. большая, а площадь маленькая,\n",
    "перепланировку сделать не трудно, а вот метры не прибавишь.\n",
    "3. Цена также зависит от кол-ва комнат, но в 1,5 раза слабее, чем от площади, т.к. 3-х комнатная квартира может быть маленькой площади.\n",
    "4. От этажа зависимость близка к «0», т.к. квартир на средних этажах в выборке в разы больше, поэтому коэффициент близится к «0». Если бы было равное кол-во, зависимость бы прослеживалась.\n",
    "5. От даты публикации цена не зависит, но в выходные заметно меньше публикуют объявления, а также рынок недвижимости оживает в феврале- апреле и осенью.\n",
    " \n",
    "6. От удаленности от центра цена вообще не зависит, скорее обратный эффект — есть населенные пункты, где кв.метр стоит как в Санкт-Петербурге.\n",
    "7. Самая дорогая ст-ть жилья в Санкт-Петербурге, г.Пушкин, деревня Кудрово.\n",
    "Некоторые населенные пункты стоят также к в Питер. Это может быть связано с инфраструктурой, экологией и плохими коммуникациями в центре.    \n",
    "\n",
    "**В Санкт-Петербурге выявилась следующая закономерность:**\n",
    "1. При расстоянии дальше 1 км от центра, имеется четкая закономерность - чем дальше квартира от центра, тем дешевле. При расстоянии в диапазоне  до 1 км от центра нет четкой закономерности, квартиры при одном расстоянии в стоимости очень отличаются. Это может быть связано с инфраструктурой, нахождением рядом с каким-то объектом.\n",
    "\n",
    "2. Центральная зона - в радиусе до 1 км.\n",
    "\n",
    "3. Стоимость квартир в центре также зависит от площади и комнат. 2-х и 3-х комнатные квартиры в центре очень разнятся по\n",
    "стоимости.\n",
    " \n",
    "4. Квартиры, которые долго продавались, имеют выше цены при прочих равных, возможно, продавцы не торопятся продавать.\n",
    "5. Скорость продаж зависит от площади и комнат. Быстрее всего продаются 1-комнатные квартиры, студии, с площадью 35 м2.\n",
    "6. **Самые ликвидные квартиры** в Санкт-Петербурге, г.Пушкин, деревня Кудрово площадью не более 40м2.\n",
    "7. **Быстрее всего продаются квартиры:**\n",
    "    \n",
    "- площадью до 40м2,\n",
    "- однокомнатные,\n",
    "- на расстоянии 15-17 км от центра.    \n",
    "\n",
    "**Рекомендации**\n",
    " \n",
    "1. Есть смысл оценивать коэффициент зависимости стоимость жилья к площади, он должен быть в районе 0,7. Если коэффициент сильно отличается, есть вероятность что в объявлении ошибка или специально указана заниженная цена, для привлечения внимания, так делают недобросовестные риелторы.\n",
    " \n",
    "2. Для улучшения продаж стоит указать рядом с «кнопками» о важности указывать местоположение, т.к. данные о парках, инфраструктуре увеличивают продажи. Если рядом будут такие всплывающие подсказки, люди будут полнее заполнять данные о недвижимости, а в следствии продажа будет происходить быстрее, значит и репутация сервиса расти.\n",
    "\n",
    "3. Есть смысл указывать кол-во школ и детских садов в ближайшей доступности, т.е. эти данные должны автоматически рассчитываться после указания точного адреса, т.к. бОльшая часть покупателей - семьи с детьми. Это будет увеличивать\n",
    "скорость продаж и репутацию сервиса.\n",
    " \n",
    "\n",
    "\n",
    "    \n",
    "</div>"
   ]
  }
 ],
 "metadata": {
  "kernelspec": {
   "display_name": "Python 3",
   "language": "python",
   "name": "python3"
  },
  "language_info": {
   "codemirror_mode": {
    "name": "ipython",
    "version": 3
   },
   "file_extension": ".py",
   "mimetype": "text/x-python",
   "name": "python",
   "nbconvert_exporter": "python",
   "pygments_lexer": "ipython3",
   "version": "3.7.8"
  },
  "toc": {
   "base_numbering": 1,
   "nav_menu": {},
   "number_sections": true,
   "sideBar": true,
   "skip_h1_title": true,
   "title_cell": "Содержание",
   "title_sidebar": "Contents",
   "toc_cell": true,
   "toc_position": {
    "height": "calc(100% - 180px)",
    "left": "10px",
    "top": "150px",
    "width": "372.391px"
   },
   "toc_section_display": true,
   "toc_window_display": true
  }
 },
 "nbformat": 4,
 "nbformat_minor": 2
}
