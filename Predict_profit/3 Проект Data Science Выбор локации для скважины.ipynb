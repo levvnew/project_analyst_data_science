{
 "cells": [
  {
   "cell_type": "markdown",
   "metadata": {},
   "source": [
    "# Выбор локации для скважины"
   ]
  },
  {
   "cell_type": "markdown",
   "metadata": {},
   "source": [
    "Допустим, вы работаете в добывающей компании «ГлавРосГосНефть». Нужно решить, где бурить новую скважину.\n",
    "\n",
    "Вам предоставлены пробы нефти в трёх регионах: в каждом 10 000 месторождений, где измерили качество нефти и объём её запасов. Постройте модель машинного обучения, которая поможет определить регион, где добыча принесёт наибольшую прибыль. Проанализируйте возможную прибыль и риски техникой *Bootstrap.*\n",
    "\n",
    "Шаги для выбора локации:\n",
    "\n",
    "- В избранном регионе ищут месторождения, для каждого определяют значения признаков;\n",
    "- Строят модель и оценивают объём запасов;\n",
    "- Выбирают месторождения с самым высокими оценками значений. Количество месторождений зависит от бюджета компании и стоимости разработки одной скважины;\n",
    "- Прибыль равна суммарной прибыли отобранных месторождений."
   ]
  },
  {
   "cell_type": "markdown",
   "metadata": {},
   "source": [
    "## Загрузка и подготовка данных"
   ]
  },
  {
   "cell_type": "code",
   "execution_count": 1,
   "metadata": {},
   "outputs": [],
   "source": [
    "import pandas as pd\n",
    "import seaborn as sns\n",
    "import numpy as np\n",
    "from IPython.display import display\n",
    "from sklearn.preprocessing import StandardScaler\n",
    "from sklearn.model_selection import train_test_split\n",
    "\n",
    "from sklearn.linear_model import LinearRegression\n",
    "#from sklearn.utils import shuffle\n",
    "\n",
    "from sklearn.metrics import mean_squared_error\n",
    "#import matplotlib.pyplot as plt\n",
    "\n",
    "#from sklearn.metrics import silhouette_score\n",
    "import warnings\n",
    "warnings.filterwarnings('ignore') "
   ]
  },
  {
   "cell_type": "code",
   "execution_count": 2,
   "metadata": {},
   "outputs": [
    {
     "data": {
      "text/html": [
       "<div>\n",
       "<style scoped>\n",
       "    .dataframe tbody tr th:only-of-type {\n",
       "        vertical-align: middle;\n",
       "    }\n",
       "\n",
       "    .dataframe tbody tr th {\n",
       "        vertical-align: top;\n",
       "    }\n",
       "\n",
       "    .dataframe thead th {\n",
       "        text-align: right;\n",
       "    }\n",
       "</style>\n",
       "<table border=\"1\" class=\"dataframe\">\n",
       "  <thead>\n",
       "    <tr style=\"text-align: right;\">\n",
       "      <th></th>\n",
       "      <th>id</th>\n",
       "      <th>f0</th>\n",
       "      <th>f1</th>\n",
       "      <th>f2</th>\n",
       "      <th>product</th>\n",
       "    </tr>\n",
       "  </thead>\n",
       "  <tbody>\n",
       "    <tr>\n",
       "      <td>0</td>\n",
       "      <td>txEyH</td>\n",
       "      <td>0.705745</td>\n",
       "      <td>-0.497823</td>\n",
       "      <td>1.221170</td>\n",
       "      <td>105.280062</td>\n",
       "    </tr>\n",
       "    <tr>\n",
       "      <td>1</td>\n",
       "      <td>2acmU</td>\n",
       "      <td>1.334711</td>\n",
       "      <td>-0.340164</td>\n",
       "      <td>4.365080</td>\n",
       "      <td>73.037750</td>\n",
       "    </tr>\n",
       "    <tr>\n",
       "      <td>2</td>\n",
       "      <td>409Wp</td>\n",
       "      <td>1.022732</td>\n",
       "      <td>0.151990</td>\n",
       "      <td>1.419926</td>\n",
       "      <td>85.265647</td>\n",
       "    </tr>\n",
       "    <tr>\n",
       "      <td>3</td>\n",
       "      <td>iJLyR</td>\n",
       "      <td>-0.032172</td>\n",
       "      <td>0.139033</td>\n",
       "      <td>2.978566</td>\n",
       "      <td>168.620776</td>\n",
       "    </tr>\n",
       "    <tr>\n",
       "      <td>4</td>\n",
       "      <td>Xdl7t</td>\n",
       "      <td>1.988431</td>\n",
       "      <td>0.155413</td>\n",
       "      <td>4.751769</td>\n",
       "      <td>154.036647</td>\n",
       "    </tr>\n",
       "  </tbody>\n",
       "</table>\n",
       "</div>"
      ],
      "text/plain": [
       "      id        f0        f1        f2     product\n",
       "0  txEyH  0.705745 -0.497823  1.221170  105.280062\n",
       "1  2acmU  1.334711 -0.340164  4.365080   73.037750\n",
       "2  409Wp  1.022732  0.151990  1.419926   85.265647\n",
       "3  iJLyR -0.032172  0.139033  2.978566  168.620776\n",
       "4  Xdl7t  1.988431  0.155413  4.751769  154.036647"
      ]
     },
     "metadata": {},
     "output_type": "display_data"
    },
    {
     "name": "stdout",
     "output_type": "stream",
     "text": [
      "100000\n",
      "99990\n",
      "<class 'pandas.core.frame.DataFrame'>\n",
      "RangeIndex: 99990 entries, 0 to 99989\n",
      "Data columns (total 5 columns):\n",
      "id         99990 non-null object\n",
      "f0         99990 non-null float64\n",
      "f1         99990 non-null float64\n",
      "f2         99990 non-null float64\n",
      "product    99990 non-null float64\n",
      "dtypes: float64(4), object(1)\n",
      "memory usage: 3.8+ MB\n"
     ]
    }
   ],
   "source": [
    "df1 = pd.read_csv('/datasets/geo_data_0.csv')\n",
    "display(df1.head())\n",
    "print(df1.shape[0])\n",
    "df1 = df1.drop_duplicates('id').reset_index(drop=True)\n",
    "print(df1['id'].nunique())\n",
    "df1.info()"
   ]
  },
  {
   "cell_type": "code",
   "execution_count": 3,
   "metadata": {},
   "outputs": [
    {
     "data": {
      "text/html": [
       "<div>\n",
       "<style scoped>\n",
       "    .dataframe tbody tr th:only-of-type {\n",
       "        vertical-align: middle;\n",
       "    }\n",
       "\n",
       "    .dataframe tbody tr th {\n",
       "        vertical-align: top;\n",
       "    }\n",
       "\n",
       "    .dataframe thead th {\n",
       "        text-align: right;\n",
       "    }\n",
       "</style>\n",
       "<table border=\"1\" class=\"dataframe\">\n",
       "  <thead>\n",
       "    <tr style=\"text-align: right;\">\n",
       "      <th></th>\n",
       "      <th>id</th>\n",
       "      <th>f0</th>\n",
       "      <th>f1</th>\n",
       "      <th>f2</th>\n",
       "      <th>product</th>\n",
       "    </tr>\n",
       "  </thead>\n",
       "  <tbody>\n",
       "    <tr>\n",
       "      <td>0</td>\n",
       "      <td>kBEdx</td>\n",
       "      <td>-15.001348</td>\n",
       "      <td>-8.276000</td>\n",
       "      <td>-0.005876</td>\n",
       "      <td>3.179103</td>\n",
       "    </tr>\n",
       "    <tr>\n",
       "      <td>1</td>\n",
       "      <td>62mP7</td>\n",
       "      <td>14.272088</td>\n",
       "      <td>-3.475083</td>\n",
       "      <td>0.999183</td>\n",
       "      <td>26.953261</td>\n",
       "    </tr>\n",
       "    <tr>\n",
       "      <td>2</td>\n",
       "      <td>vyE1P</td>\n",
       "      <td>6.263187</td>\n",
       "      <td>-5.948386</td>\n",
       "      <td>5.001160</td>\n",
       "      <td>134.766305</td>\n",
       "    </tr>\n",
       "    <tr>\n",
       "      <td>3</td>\n",
       "      <td>KcrkZ</td>\n",
       "      <td>-13.081196</td>\n",
       "      <td>-11.506057</td>\n",
       "      <td>4.999415</td>\n",
       "      <td>137.945408</td>\n",
       "    </tr>\n",
       "    <tr>\n",
       "      <td>4</td>\n",
       "      <td>AHL4O</td>\n",
       "      <td>12.702195</td>\n",
       "      <td>-8.147433</td>\n",
       "      <td>5.004363</td>\n",
       "      <td>134.766305</td>\n",
       "    </tr>\n",
       "  </tbody>\n",
       "</table>\n",
       "</div>"
      ],
      "text/plain": [
       "      id         f0         f1        f2     product\n",
       "0  kBEdx -15.001348  -8.276000 -0.005876    3.179103\n",
       "1  62mP7  14.272088  -3.475083  0.999183   26.953261\n",
       "2  vyE1P   6.263187  -5.948386  5.001160  134.766305\n",
       "3  KcrkZ -13.081196 -11.506057  4.999415  137.945408\n",
       "4  AHL4O  12.702195  -8.147433  5.004363  134.766305"
      ]
     },
     "metadata": {},
     "output_type": "display_data"
    },
    {
     "name": "stdout",
     "output_type": "stream",
     "text": [
      "100000\n",
      "99996\n",
      "<class 'pandas.core.frame.DataFrame'>\n",
      "RangeIndex: 99996 entries, 0 to 99995\n",
      "Data columns (total 5 columns):\n",
      "id         99996 non-null object\n",
      "f0         99996 non-null float64\n",
      "f1         99996 non-null float64\n",
      "f2         99996 non-null float64\n",
      "product    99996 non-null float64\n",
      "dtypes: float64(4), object(1)\n",
      "memory usage: 3.8+ MB\n"
     ]
    }
   ],
   "source": [
    "df2 = pd.read_csv('/datasets/geo_data_1.csv')\n",
    "display(df2.head())\n",
    "print(df2.shape[0])\n",
    "df2 = df2.drop_duplicates('id').reset_index(drop=True)\n",
    "print(df2['id'].nunique())\n",
    "df2.info()"
   ]
  },
  {
   "cell_type": "code",
   "execution_count": 4,
   "metadata": {},
   "outputs": [
    {
     "data": {
      "text/html": [
       "<div>\n",
       "<style scoped>\n",
       "    .dataframe tbody tr th:only-of-type {\n",
       "        vertical-align: middle;\n",
       "    }\n",
       "\n",
       "    .dataframe tbody tr th {\n",
       "        vertical-align: top;\n",
       "    }\n",
       "\n",
       "    .dataframe thead th {\n",
       "        text-align: right;\n",
       "    }\n",
       "</style>\n",
       "<table border=\"1\" class=\"dataframe\">\n",
       "  <thead>\n",
       "    <tr style=\"text-align: right;\">\n",
       "      <th></th>\n",
       "      <th>id</th>\n",
       "      <th>f0</th>\n",
       "      <th>f1</th>\n",
       "      <th>f2</th>\n",
       "      <th>product</th>\n",
       "    </tr>\n",
       "  </thead>\n",
       "  <tbody>\n",
       "    <tr>\n",
       "      <td>0</td>\n",
       "      <td>fwXo0</td>\n",
       "      <td>-1.146987</td>\n",
       "      <td>0.963328</td>\n",
       "      <td>-0.828965</td>\n",
       "      <td>27.758673</td>\n",
       "    </tr>\n",
       "    <tr>\n",
       "      <td>1</td>\n",
       "      <td>WJtFt</td>\n",
       "      <td>0.262778</td>\n",
       "      <td>0.269839</td>\n",
       "      <td>-2.530187</td>\n",
       "      <td>56.069697</td>\n",
       "    </tr>\n",
       "    <tr>\n",
       "      <td>2</td>\n",
       "      <td>ovLUW</td>\n",
       "      <td>0.194587</td>\n",
       "      <td>0.289035</td>\n",
       "      <td>-5.586433</td>\n",
       "      <td>62.871910</td>\n",
       "    </tr>\n",
       "    <tr>\n",
       "      <td>3</td>\n",
       "      <td>q6cA6</td>\n",
       "      <td>2.236060</td>\n",
       "      <td>-0.553760</td>\n",
       "      <td>0.930038</td>\n",
       "      <td>114.572842</td>\n",
       "    </tr>\n",
       "    <tr>\n",
       "      <td>4</td>\n",
       "      <td>WPMUX</td>\n",
       "      <td>-0.515993</td>\n",
       "      <td>1.716266</td>\n",
       "      <td>5.899011</td>\n",
       "      <td>149.600746</td>\n",
       "    </tr>\n",
       "  </tbody>\n",
       "</table>\n",
       "</div>"
      ],
      "text/plain": [
       "      id        f0        f1        f2     product\n",
       "0  fwXo0 -1.146987  0.963328 -0.828965   27.758673\n",
       "1  WJtFt  0.262778  0.269839 -2.530187   56.069697\n",
       "2  ovLUW  0.194587  0.289035 -5.586433   62.871910\n",
       "3  q6cA6  2.236060 -0.553760  0.930038  114.572842\n",
       "4  WPMUX -0.515993  1.716266  5.899011  149.600746"
      ]
     },
     "metadata": {},
     "output_type": "display_data"
    },
    {
     "name": "stdout",
     "output_type": "stream",
     "text": [
      "100000\n",
      "99996\n",
      "<class 'pandas.core.frame.DataFrame'>\n",
      "RangeIndex: 99996 entries, 0 to 99995\n",
      "Data columns (total 5 columns):\n",
      "id         99996 non-null object\n",
      "f0         99996 non-null float64\n",
      "f1         99996 non-null float64\n",
      "f2         99996 non-null float64\n",
      "product    99996 non-null float64\n",
      "dtypes: float64(4), object(1)\n",
      "memory usage: 3.8+ MB\n"
     ]
    }
   ],
   "source": [
    "df3 = pd.read_csv('/datasets/geo_data_2.csv')\n",
    "display(df3.head())\n",
    "print(df3.shape[0])\n",
    "df3 = df3.drop_duplicates('id').reset_index(drop=True)\n",
    "print(df3['id'].nunique())\n",
    "df3.info()"
   ]
  },
  {
   "cell_type": "markdown",
   "metadata": {},
   "source": [
    "## Обучение и проверка модели"
   ]
  },
  {
   "cell_type": "markdown",
   "metadata": {},
   "source": [
    "### Регион № 1"
   ]
  },
  {
   "cell_type": "code",
   "execution_count": 5,
   "metadata": {},
   "outputs": [],
   "source": [
    "target1 = df1['product']\n",
    "features1 = df1.drop(['product', 'id'], axis=1)"
   ]
  },
  {
   "cell_type": "code",
   "execution_count": 6,
   "metadata": {},
   "outputs": [],
   "source": [
    "features_train1, features_valid1, target_train1, target_valid1 = train_test_split(\n",
    "    features1, target1, test_size=0.25, random_state=0)"
   ]
  },
  {
   "cell_type": "code",
   "execution_count": 7,
   "metadata": {},
   "outputs": [
    {
     "name": "stdout",
     "output_type": "stream",
     "text": [
      "RMSE = 37.7262428254728\n",
      "Cредний запас предсказанного сырья : 92.69630160501748\n"
     ]
    }
   ],
   "source": [
    "model = LinearRegression() \n",
    "model.fit(features_train1, target_train1)\n",
    "predicted1 = model.predict(features_valid1)\n",
    "\n",
    "rmse1 = mean_squared_error(target_valid1, predicted1) ** 0.5\n",
    "\n",
    "print(\"RMSE =\", rmse1)\n",
    "print(\"Cредний запас предсказанного сырья :\", predicted1.mean())\n"
   ]
  },
  {
   "cell_type": "markdown",
   "metadata": {},
   "source": [
    "### Регион № 2"
   ]
  },
  {
   "cell_type": "code",
   "execution_count": 8,
   "metadata": {},
   "outputs": [],
   "source": [
    "target2 = df2['product']\n",
    "features2 = df2.drop(['product', 'id'], axis=1)"
   ]
  },
  {
   "cell_type": "code",
   "execution_count": 9,
   "metadata": {},
   "outputs": [],
   "source": [
    "features_train2, features_valid2, target_train2, target_valid2 = train_test_split(\n",
    "    features2, target2, test_size=0.25, random_state=0)"
   ]
  },
  {
   "cell_type": "code",
   "execution_count": 10,
   "metadata": {},
   "outputs": [
    {
     "name": "stdout",
     "output_type": "stream",
     "text": [
      "RMSE = 0.8861463104896511\n",
      "Cредний запас предсказанного сырья : 69.29357037294382\n"
     ]
    }
   ],
   "source": [
    "model.fit(features_train2, target_train2)\n",
    "predicted2 = model.predict(features_valid2)\n",
    "\n",
    "rmse2 = mean_squared_error(target_valid2, predicted2) ** 0.5\n",
    "\n",
    "print(\"RMSE =\", rmse2)\n",
    "print(\"Cредний запас предсказанного сырья :\", predicted2.mean())\n"
   ]
  },
  {
   "cell_type": "markdown",
   "metadata": {},
   "source": [
    "### Регион № 3"
   ]
  },
  {
   "cell_type": "code",
   "execution_count": 11,
   "metadata": {},
   "outputs": [],
   "source": [
    "target3 = df3['product']\n",
    "features3 = df3.drop(['product', 'id'], axis=1)"
   ]
  },
  {
   "cell_type": "code",
   "execution_count": 12,
   "metadata": {},
   "outputs": [],
   "source": [
    "features_train3, features_valid3, target_train3, target_valid3 = train_test_split(\n",
    "    features3, target3, test_size=0.25, random_state=0)"
   ]
  },
  {
   "cell_type": "code",
   "execution_count": 13,
   "metadata": {},
   "outputs": [
    {
     "name": "stdout",
     "output_type": "stream",
     "text": [
      "RMSE = 40.185356062741405\n",
      "Cредний запас предсказанного сырья : 95.14086176571024\n"
     ]
    }
   ],
   "source": [
    "model.fit(features_train3, target_train3)\n",
    "predicted3 = model.predict(features_valid3)\n",
    "\n",
    "rmse3 = mean_squared_error(target_valid3, predicted3) ** 0.5\n",
    "\n",
    "print(\"RMSE =\", rmse3)\n",
    "print(\"Cредний запас предсказанного сырья :\", predicted3.mean())\n"
   ]
  },
  {
   "cell_type": "markdown",
   "metadata": {},
   "source": [
    "## Подготовка к расчёту прибыли"
   ]
  },
  {
   "cell_type": "markdown",
   "metadata": {},
   "source": [
    "•\tПри разведке региона исследуют 500 точек, из которых с помощью машинного обучения выбирают 200 лучших для разработки.\n",
    "\n",
    "•\tБюджет на разработку скважин в регионе — 10 млрд рублей.\n",
    "\n",
    "•\tПри нынешних ценах один баррель сырья приносит 450 рублей дохода. Доход с каждой единицы продукта составляет 450 тыс. рублей, поскольку объём указан в тысячах баррелей.\n",
    "\n",
    "•\t**После оценки рисков нужно оставить лишь те регионы, в которых вероятность убытков меньше 2.5%. Среди них выбирают регион с наибольшей средней прибылью.**\n"
   ]
  },
  {
   "cell_type": "code",
   "execution_count": 14,
   "metadata": {},
   "outputs": [
    {
     "name": "stdout",
     "output_type": "stream",
     "text": [
      "22222 тыс. баррелей сырья необходимо для обеспечения безубыточности\n"
     ]
    }
   ],
   "source": [
    "v_breakeven= int(10000000000/450000)\n",
    "print('{} тыс. баррелей сырья необходимо для обеспечения безубыточности'.format(v_breakeven))"
   ]
  },
  {
   "cell_type": "code",
   "execution_count": 15,
   "metadata": {},
   "outputs": [
    {
     "name": "stdout",
     "output_type": "stream",
     "text": [
      "111 тыс. баррелей сырья необходимо для обеспечения безубыточности c одной из 200 скважин взятых для разработки\n"
     ]
    }
   ],
   "source": [
    "v_breakeven_1= int(v_breakeven/200)\n",
    "print('{} тыс. баррелей сырья необходимо для обеспечения безубыточности c одной из 200 скважин взятых для разработки'.format(v_breakeven_1))"
   ]
  },
  {
   "cell_type": "markdown",
   "metadata": {},
   "source": [
    "### Средний фактический запас сырья в каждом регионе"
   ]
  },
  {
   "cell_type": "code",
   "execution_count": 16,
   "metadata": {},
   "outputs": [
    {
     "name": "stdout",
     "output_type": "stream",
     "text": [
      "Регион № 1:  92.49968421774354\n"
     ]
    }
   ],
   "source": [
    "print('Регион № 1: ', df1['product'].mean())"
   ]
  },
  {
   "cell_type": "code",
   "execution_count": 17,
   "metadata": {},
   "outputs": [
    {
     "name": "stdout",
     "output_type": "stream",
     "text": [
      "Регион № 2:  68.82391591804064\n"
     ]
    }
   ],
   "source": [
    "print('Регион № 2: ', df2['product'].mean())"
   ]
  },
  {
   "cell_type": "code",
   "execution_count": 18,
   "metadata": {},
   "outputs": [
    {
     "name": "stdout",
     "output_type": "stream",
     "text": [
      "Регион № 3:  94.99834211933378\n"
     ]
    }
   ],
   "source": [
    "print('Регион № 3: ', df3['product'].mean())"
   ]
  },
  {
   "cell_type": "code",
   "execution_count": 19,
   "metadata": {},
   "outputs": [
    {
     "data": {
      "text/plain": [
       "0         66.766198\n",
       "1         93.205741\n",
       "2        106.239408\n",
       "3         52.724906\n",
       "4         87.409830\n",
       "            ...    \n",
       "24993     71.951139\n",
       "24994    106.924986\n",
       "24995     89.681925\n",
       "24996     74.470270\n",
       "24997    116.111127\n",
       "Length: 24998, dtype: float64"
      ]
     },
     "execution_count": 19,
     "metadata": {},
     "output_type": "execute_result"
    }
   ],
   "source": [
    "predicted1 =pd.Series(predicted1)\n",
    "predicted1"
   ]
  },
  {
   "cell_type": "code",
   "execution_count": 20,
   "metadata": {},
   "outputs": [
    {
     "name": "stdout",
     "output_type": "stream",
     "text": [
      "0         34.296236\n",
      "1        138.190876\n",
      "2        134.264474\n",
      "3         31.232856\n",
      "4        135.339431\n",
      "            ...    \n",
      "24993     23.710047\n",
      "24994     57.186537\n",
      "24995     51.884171\n",
      "24996     48.188818\n",
      "24997     52.920644\n",
      "Name: product, Length: 24998, dtype: float64\n"
     ]
    }
   ],
   "source": [
    "target_valid1=target_valid1.reset_index(drop=True)\n",
    "print(target_valid1)"
   ]
  },
  {
   "cell_type": "code",
   "execution_count": 21,
   "metadata": {},
   "outputs": [],
   "source": [
    "predicted2 =pd.Series(predicted2)\n",
    "target_valid2=target_valid2.reset_index(drop=True)\n",
    "\n",
    "predicted3 =pd.Series(predicted3)\n",
    "target_valid3=target_valid3.reset_index(drop=True)"
   ]
  },
  {
   "cell_type": "markdown",
   "metadata": {},
   "source": [
    "### Прибыль с 200 скважин с максимальными значениями предсказаний"
   ]
  },
  {
   "cell_type": "code",
   "execution_count": 22,
   "metadata": {},
   "outputs": [
    {
     "name": "stdout",
     "output_type": "stream",
     "text": [
      "Регион № 1. Прибыль с 200 скважин, у которых были максимальные значения предсказаний:  3349337163\n",
      "Регион № 2. Прибыль с 200 скважин, у которых были максимальные значения предсказаний:  2415086696\n",
      "Регион № 3. Прибыль с 200 скважин, у которых были максимальные значения предсказаний:  2502603381\n"
     ]
    }
   ],
   "source": [
    "def revenue_200_best(target, predicted, count):\n",
    "    \n",
    "    pred_sorted = predicted.sort_values(ascending=False)\n",
    "    selected = target[pred_sorted.index][:count]\n",
    "    return selected.sum()*450000-10000000000\n",
    "\n",
    "profit1=int(revenue_200_best(target_valid1, predicted1, 200))\n",
    "            \n",
    "profit2=int(revenue_200_best(target_valid2, predicted2, 200))\n",
    "            \n",
    "profit3=int(revenue_200_best(target_valid3, predicted3, 200))\n",
    "            \n",
    "print(\n",
    "    'Регион № 1. Прибыль с 200 скважин, у которых были максимальные значения предсказаний: ',\n",
    "    profit1\n",
    ")\n",
    "print(\n",
    "    'Регион № 2. Прибыль с 200 скважин, у которых были максимальные значения предсказаний: ',\n",
    "    profit2\n",
    ")\n",
    "print(\n",
    "    'Регион № 3. Прибыль с 200 скважин, у которых были максимальные значения предсказаний: ',\n",
    "    profit3\n",
    ")"
   ]
  },
  {
   "cell_type": "markdown",
   "metadata": {},
   "source": [
    "## Расчёт прибыли и рисков "
   ]
  },
  {
   "cell_type": "markdown",
   "metadata": {},
   "source": [
    "### Регион № 1"
   ]
  },
  {
   "cell_type": "code",
   "execution_count": 23,
   "metadata": {},
   "outputs": [
    {
     "name": "stdout",
     "output_type": "stream",
     "text": [
      "Регион № 1\n"
     ]
    },
    {
     "data": {
      "text/plain": [
       "'Средняя прибыль с 200 лучших скважин: 475135696, 2.5%-квантиль: -69759828, 97.5%-квантиль: 968191712'"
      ]
     },
     "execution_count": 23,
     "metadata": {},
     "output_type": "execute_result"
    }
   ],
   "source": [
    "def revenue(target, predicted, count):\n",
    "    \n",
    "    pred_sorted = predicted.sort_values(ascending=False)\n",
    "    selected = target[pred_sorted.index][:count]\n",
    "    return selected.sum()*450000-10000000000\n",
    "\n",
    "state = np.random.RandomState(12345)\n",
    "\n",
    "def profit(target_valid, predicted):\n",
    "    values = []\n",
    "    for i in range(1000):\n",
    "        target_subsample = target_valid.sample(500, replace = True, random_state = state) \n",
    "        pred_subsample = predicted[target_subsample.index] \n",
    "        values.append(revenue(target_subsample, pred_subsample, 200))\n",
    "    \n",
    "    \n",
    "    values = pd.Series(values)\n",
    "    lower = int(values.quantile(0.025))\n",
    "    upper= int(values.quantile(0.975))\n",
    "\n",
    "    mean = int(values.mean())\n",
    "\n",
    "    return 'Средняя прибыль с 200 лучших скважин: {}, 2.5%-квантиль: {}, 97.5%-квантиль: {}'.format(mean, lower, upper)\n",
    "\n",
    "print('Регион № 1')\n",
    "profit(target_valid1, predicted1)"
   ]
  },
  {
   "cell_type": "code",
   "execution_count": 24,
   "metadata": {},
   "outputs": [
    {
     "name": "stdout",
     "output_type": "stream",
     "text": [
      "Регион № 1\n"
     ]
    },
    {
     "data": {
      "text/plain": [
       "'Вероятность убытков 3.8 %'"
      ]
     },
     "execution_count": 24,
     "metadata": {},
     "output_type": "execute_result"
    }
   ],
   "source": [
    "def frac(target_valid, predicted):\n",
    "    values = []\n",
    "    for i in range(1000):\n",
    "        target_subsample = target_valid.sample(500, replace = True, random_state = state) \n",
    "        pred_subsample = predicted[target_subsample.index] \n",
    "        values.append(revenue(target_subsample, pred_subsample, 200))\n",
    "    \n",
    "    \n",
    "    values = pd.Series(values)\n",
    "    fraction1=(len(values[values<0])/len(values))*100  \n",
    "\n",
    "    return 'Вероятность убытков {} %'.format(fraction1)\n",
    "\n",
    "print('Регион № 1')\n",
    "frac(target_valid1, predicted1)"
   ]
  },
  {
   "cell_type": "code",
   "execution_count": 25,
   "metadata": {},
   "outputs": [
    {
     "name": "stdout",
     "output_type": "stream",
     "text": [
      "Регион № 1. Прибыль с 200 скважин, у которых были максимальные значения предсказаний:  3349337163\n"
     ]
    }
   ],
   "source": [
    "print(\n",
    "    'Регион № 1. Прибыль с 200 скважин, у которых были максимальные значения предсказаний: ',\n",
    "    profit1\n",
    ")"
   ]
  },
  {
   "cell_type": "markdown",
   "metadata": {},
   "source": [
    "### Регион № 2"
   ]
  },
  {
   "cell_type": "code",
   "execution_count": 26,
   "metadata": {},
   "outputs": [
    {
     "name": "stdout",
     "output_type": "stream",
     "text": [
      "Регион № 2\n"
     ]
    },
    {
     "data": {
      "text/plain": [
       "'Средняя прибыль с 200 лучших скважин: 543632485, 2.5%-квантиль: 118836796, 97.5%-квантиль: 979275078'"
      ]
     },
     "execution_count": 26,
     "metadata": {},
     "output_type": "execute_result"
    }
   ],
   "source": [
    "print('Регион № 2')\n",
    "profit(target_valid2, predicted2)"
   ]
  },
  {
   "cell_type": "code",
   "execution_count": 27,
   "metadata": {},
   "outputs": [
    {
     "name": "stdout",
     "output_type": "stream",
     "text": [
      "Регион № 2\n"
     ]
    },
    {
     "data": {
      "text/plain": [
       "'Вероятность убытков 0.2 %'"
      ]
     },
     "execution_count": 27,
     "metadata": {},
     "output_type": "execute_result"
    }
   ],
   "source": [
    "print('Регион № 2')\n",
    "frac(target_valid2, predicted2)"
   ]
  },
  {
   "cell_type": "code",
   "execution_count": 28,
   "metadata": {},
   "outputs": [
    {
     "name": "stdout",
     "output_type": "stream",
     "text": [
      "Регион № 2. Прибыль с 200 скважин, у которых были максимальные значения предсказаний:  2415086696\n"
     ]
    }
   ],
   "source": [
    "print(\n",
    "    'Регион № 2. Прибыль с 200 скважин, у которых были максимальные значения предсказаний: ',\n",
    "    profit2\n",
    ")"
   ]
  },
  {
   "cell_type": "markdown",
   "metadata": {},
   "source": [
    "### Регион № 3"
   ]
  },
  {
   "cell_type": "code",
   "execution_count": 29,
   "metadata": {},
   "outputs": [
    {
     "name": "stdout",
     "output_type": "stream",
     "text": [
      "Регион № 3\n"
     ]
    },
    {
     "data": {
      "text/plain": [
       "'Средняя прибыль с 200 лучших скважин: 357157539, 2.5%-квантиль: -181781029, 97.5%-квантиль: 882735604'"
      ]
     },
     "execution_count": 29,
     "metadata": {},
     "output_type": "execute_result"
    }
   ],
   "source": [
    "print('Регион № 3')\n",
    "profit(target_valid3, predicted3)"
   ]
  },
  {
   "cell_type": "code",
   "execution_count": 30,
   "metadata": {},
   "outputs": [
    {
     "name": "stdout",
     "output_type": "stream",
     "text": [
      "Регион № 3\n"
     ]
    },
    {
     "data": {
      "text/plain": [
       "'Вероятность убытков 9.2 %'"
      ]
     },
     "execution_count": 30,
     "metadata": {},
     "output_type": "execute_result"
    }
   ],
   "source": [
    "print('Регион № 3')\n",
    "frac(target_valid3, predicted3)"
   ]
  },
  {
   "cell_type": "code",
   "execution_count": 31,
   "metadata": {},
   "outputs": [
    {
     "name": "stdout",
     "output_type": "stream",
     "text": [
      "Регион № 3. Прибыль с 200 скважин, у которых были максимальные значения предсказаний:  2502603381\n"
     ]
    }
   ],
   "source": [
    "print(\n",
    "    'Регион № 3. Прибыль с 200 скважин, у которых были максимальные значения предсказаний: ',\n",
    "    profit3\n",
    ")"
   ]
  },
  {
   "cell_type": "markdown",
   "metadata": {},
   "source": [
    "## Выбор региона"
   ]
  },
  {
   "cell_type": "markdown",
   "metadata": {},
   "source": [
    "<div class=\"alert alert-block alert-info\">\n",
    "<b></b> \n",
    "    \n",
    "**Только во втором регионе вероятность убытков минимальная, менее 1%. В первом и третьем более 2,5%. Прибыль во 2 регионе около 2 500 000 000.  Только 2 регион соответствует требованиям, рекомендую выбирать его.**\n",
    "    \n",
    "</div>"
   ]
  }
 ],
 "metadata": {
  "ExecuteTimeLog": [
   {
    "duration": 1862,
    "start_time": "2021-11-26T07:38:47.605Z"
   },
   {
    "duration": 251,
    "start_time": "2021-11-26T07:39:39.773Z"
   },
   {
    "duration": 183,
    "start_time": "2021-11-26T07:40:07.836Z"
   },
   {
    "duration": 700,
    "start_time": "2021-11-26T07:40:40.241Z"
   },
   {
    "duration": 2242,
    "start_time": "2021-11-26T07:41:08.625Z"
   },
   {
    "duration": 248,
    "start_time": "2021-11-26T07:51:34.797Z"
   },
   {
    "duration": 281,
    "start_time": "2021-11-26T07:52:18.011Z"
   },
   {
    "duration": 302,
    "start_time": "2021-11-26T07:52:44.673Z"
   },
   {
    "duration": 320,
    "start_time": "2021-11-26T07:52:54.909Z"
   },
   {
    "duration": 9,
    "start_time": "2021-11-26T08:32:37.793Z"
   },
   {
    "duration": 568,
    "start_time": "2021-11-26T08:33:17.031Z"
   },
   {
    "duration": 337,
    "start_time": "2021-11-26T08:33:45.097Z"
   },
   {
    "duration": 33,
    "start_time": "2021-11-26T08:34:10.760Z"
   },
   {
    "duration": 413,
    "start_time": "2021-11-26T08:38:25.468Z"
   },
   {
    "duration": 5,
    "start_time": "2021-11-26T08:38:56.248Z"
   },
   {
    "duration": 20,
    "start_time": "2021-11-26T08:38:59.070Z"
   },
   {
    "duration": 313,
    "start_time": "2021-11-26T08:39:01.730Z"
   },
   {
    "duration": 360,
    "start_time": "2021-11-26T08:39:12.154Z"
   },
   {
    "duration": 306,
    "start_time": "2021-11-26T08:40:09.816Z"
   },
   {
    "duration": 6,
    "start_time": "2021-11-26T08:41:00.119Z"
   },
   {
    "duration": 289,
    "start_time": "2021-11-26T08:49:49.181Z"
   },
   {
    "duration": 16,
    "start_time": "2021-11-26T08:50:00.339Z"
   },
   {
    "duration": 381,
    "start_time": "2021-11-26T08:50:08.840Z"
   },
   {
    "duration": 6,
    "start_time": "2021-11-26T08:50:32.083Z"
   },
   {
    "duration": 77,
    "start_time": "2021-11-26T08:50:38.191Z"
   },
   {
    "duration": 18,
    "start_time": "2021-11-26T08:50:43.774Z"
   },
   {
    "duration": 24,
    "start_time": "2021-11-26T08:56:05.665Z"
   },
   {
    "duration": 21,
    "start_time": "2021-11-26T08:56:07.890Z"
   },
   {
    "duration": 31,
    "start_time": "2021-11-26T09:23:14.537Z"
   },
   {
    "duration": 19,
    "start_time": "2021-11-26T09:23:26.494Z"
   },
   {
    "duration": 52,
    "start_time": "2021-11-26T09:26:48.017Z"
   },
   {
    "duration": 5,
    "start_time": "2021-11-26T09:26:52.373Z"
   },
   {
    "duration": 17,
    "start_time": "2021-11-26T09:26:53.877Z"
   },
   {
    "duration": 20,
    "start_time": "2021-11-26T09:26:55.592Z"
   },
   {
    "duration": 8,
    "start_time": "2021-11-26T09:27:38.938Z"
   },
   {
    "duration": 18,
    "start_time": "2021-11-26T09:27:56.283Z"
   },
   {
    "duration": 24,
    "start_time": "2021-11-26T09:28:22.113Z"
   },
   {
    "duration": 6,
    "start_time": "2021-11-26T09:38:20.310Z"
   },
   {
    "duration": 5,
    "start_time": "2021-11-26T09:38:35.208Z"
   },
   {
    "duration": 821,
    "start_time": "2021-11-26T09:40:47.117Z"
   },
   {
    "duration": 4,
    "start_time": "2021-11-26T09:42:00.625Z"
   },
   {
    "duration": 6,
    "start_time": "2021-11-26T09:44:07.977Z"
   },
   {
    "duration": 5,
    "start_time": "2021-11-26T09:46:55.457Z"
   },
   {
    "duration": 4369,
    "start_time": "2021-11-26T09:49:15.584Z"
   },
   {
    "duration": 521,
    "start_time": "2021-11-26T09:49:45.310Z"
   },
   {
    "duration": 255,
    "start_time": "2021-11-26T09:51:17.738Z"
   },
   {
    "duration": 243,
    "start_time": "2021-11-26T09:51:58.906Z"
   },
   {
    "duration": 245,
    "start_time": "2021-11-26T09:52:05.803Z"
   },
   {
    "duration": 244,
    "start_time": "2021-11-26T09:52:42.883Z"
   },
   {
    "duration": 224,
    "start_time": "2021-11-26T09:52:59.618Z"
   },
   {
    "duration": 228,
    "start_time": "2021-11-26T09:54:00.504Z"
   },
   {
    "duration": 232,
    "start_time": "2021-11-26T09:54:08.039Z"
   },
   {
    "duration": 12,
    "start_time": "2021-11-26T09:56:21.050Z"
   },
   {
    "duration": 6,
    "start_time": "2021-11-26T09:56:50.563Z"
   },
   {
    "duration": 7,
    "start_time": "2021-11-26T09:57:21.989Z"
   },
   {
    "duration": 5,
    "start_time": "2021-11-26T10:01:03.819Z"
   },
   {
    "duration": 7,
    "start_time": "2021-11-26T10:02:11.904Z"
   },
   {
    "duration": 6,
    "start_time": "2021-11-26T10:02:22.604Z"
   },
   {
    "duration": 7,
    "start_time": "2021-11-26T10:02:31.377Z"
   },
   {
    "duration": 1573,
    "start_time": "2021-11-26T10:02:50.072Z"
   },
   {
    "duration": 269,
    "start_time": "2021-11-26T10:02:51.648Z"
   },
   {
    "duration": 270,
    "start_time": "2021-11-26T10:02:51.920Z"
   },
   {
    "duration": 255,
    "start_time": "2021-11-26T10:02:52.192Z"
   },
   {
    "duration": 6,
    "start_time": "2021-11-26T10:02:52.449Z"
   },
   {
    "duration": 22,
    "start_time": "2021-11-26T10:02:52.468Z"
   },
   {
    "duration": 2,
    "start_time": "2021-11-26T10:02:52.493Z"
   },
   {
    "duration": 79,
    "start_time": "2021-11-26T10:02:52.499Z"
   },
   {
    "duration": 90,
    "start_time": "2021-11-26T10:02:52.584Z"
   },
   {
    "duration": 27,
    "start_time": "2021-11-26T10:02:52.676Z"
   },
   {
    "duration": 62,
    "start_time": "2021-11-26T10:02:52.707Z"
   },
   {
    "duration": 13,
    "start_time": "2021-11-26T10:02:52.772Z"
   },
   {
    "duration": 25,
    "start_time": "2021-11-26T10:02:52.867Z"
   },
   {
    "duration": 80,
    "start_time": "2021-11-26T10:02:52.895Z"
   },
   {
    "duration": 7,
    "start_time": "2021-11-26T10:02:52.978Z"
   },
   {
    "duration": 8,
    "start_time": "2021-11-26T10:02:53.068Z"
   },
   {
    "duration": 14,
    "start_time": "2021-11-26T10:02:53.079Z"
   },
   {
    "duration": 77,
    "start_time": "2021-11-26T10:02:53.096Z"
   },
   {
    "duration": 8,
    "start_time": "2021-11-26T10:02:53.176Z"
   },
   {
    "duration": 444,
    "start_time": "2021-11-26T11:07:48.068Z"
   },
   {
    "duration": 6,
    "start_time": "2021-11-26T11:08:36.081Z"
   },
   {
    "duration": 356,
    "start_time": "2021-11-26T11:08:41.239Z"
   },
   {
    "duration": 318,
    "start_time": "2021-11-26T11:09:00.479Z"
   },
   {
    "duration": 320,
    "start_time": "2021-11-26T11:11:09.213Z"
   },
   {
    "duration": 310,
    "start_time": "2021-11-26T11:13:05.099Z"
   },
   {
    "duration": 96,
    "start_time": "2021-11-26T11:14:15.480Z"
   },
   {
    "duration": 317,
    "start_time": "2021-11-26T11:15:54.226Z"
   },
   {
    "duration": 368,
    "start_time": "2021-11-26T11:16:10.336Z"
   },
   {
    "duration": 96,
    "start_time": "2021-11-26T11:18:07.818Z"
   },
   {
    "duration": 316,
    "start_time": "2021-11-26T11:18:12.684Z"
   },
   {
    "duration": 300,
    "start_time": "2021-11-26T11:19:08.894Z"
   },
   {
    "duration": 6,
    "start_time": "2021-11-26T11:19:24.899Z"
   },
   {
    "duration": 9,
    "start_time": "2021-11-26T11:19:42.978Z"
   },
   {
    "duration": 328,
    "start_time": "2021-11-26T11:19:50.446Z"
   },
   {
    "duration": 326,
    "start_time": "2021-11-26T11:20:04.389Z"
   },
   {
    "duration": 339,
    "start_time": "2021-11-26T11:20:13.831Z"
   },
   {
    "duration": 10,
    "start_time": "2021-11-26T11:21:33.355Z"
   },
   {
    "duration": 8,
    "start_time": "2021-11-26T11:22:15.542Z"
   },
   {
    "duration": 1618,
    "start_time": "2021-11-26T11:22:36.459Z"
   },
   {
    "duration": 270,
    "start_time": "2021-11-26T11:22:38.080Z"
   },
   {
    "duration": 291,
    "start_time": "2021-11-26T11:22:38.353Z"
   },
   {
    "duration": 264,
    "start_time": "2021-11-26T11:22:38.647Z"
   },
   {
    "duration": 5,
    "start_time": "2021-11-26T11:22:38.914Z"
   },
   {
    "duration": 21,
    "start_time": "2021-11-26T11:22:38.923Z"
   },
   {
    "duration": 4,
    "start_time": "2021-11-26T11:22:38.968Z"
   },
   {
    "duration": 95,
    "start_time": "2021-11-26T11:22:38.978Z"
   },
   {
    "duration": 91,
    "start_time": "2021-11-26T11:22:39.078Z"
   },
   {
    "duration": 12,
    "start_time": "2021-11-26T11:22:39.172Z"
   },
   {
    "duration": 12,
    "start_time": "2021-11-26T11:22:39.187Z"
   },
   {
    "duration": 21,
    "start_time": "2021-11-26T11:22:39.202Z"
   },
   {
    "duration": 145,
    "start_time": "2021-11-26T11:22:39.226Z"
   },
   {
    "duration": 94,
    "start_time": "2021-11-26T11:22:39.374Z"
   },
   {
    "duration": 24,
    "start_time": "2021-11-26T11:22:39.471Z"
   },
   {
    "duration": 168,
    "start_time": "2021-11-26T11:22:39.498Z"
   },
   {
    "duration": 5,
    "start_time": "2021-11-26T11:22:39.670Z"
   },
   {
    "duration": 7,
    "start_time": "2021-11-26T11:22:39.678Z"
   },
   {
    "duration": 9,
    "start_time": "2021-11-26T11:22:39.687Z"
   },
   {
    "duration": 73,
    "start_time": "2021-11-26T11:22:39.699Z"
   },
   {
    "duration": 7,
    "start_time": "2021-11-26T11:22:39.775Z"
   },
   {
    "duration": 455,
    "start_time": "2021-11-26T11:22:39.784Z"
   },
   {
    "duration": 5,
    "start_time": "2021-11-26T11:22:57.704Z"
   },
   {
    "duration": 292,
    "start_time": "2021-11-26T11:23:04.986Z"
   },
   {
    "duration": 5,
    "start_time": "2021-11-26T11:23:14.536Z"
   },
   {
    "duration": 296,
    "start_time": "2021-11-26T11:23:23.618Z"
   },
   {
    "duration": 5,
    "start_time": "2021-11-26T11:23:33.331Z"
   },
   {
    "duration": 6,
    "start_time": "2021-11-26T11:29:05.652Z"
   },
   {
    "duration": 295,
    "start_time": "2021-11-26T11:29:40.709Z"
   },
   {
    "duration": 7,
    "start_time": "2021-11-26T11:30:06.029Z"
   },
   {
    "duration": 5,
    "start_time": "2021-11-26T11:30:17.828Z"
   },
   {
    "duration": 5,
    "start_time": "2021-11-26T11:30:31.043Z"
   },
   {
    "duration": 8,
    "start_time": "2021-11-26T11:30:32.614Z"
   },
   {
    "duration": 319,
    "start_time": "2021-11-26T11:34:06.130Z"
   },
   {
    "duration": 287,
    "start_time": "2021-11-26T11:40:50.741Z"
   },
   {
    "duration": 5,
    "start_time": "2021-11-26T11:47:49.649Z"
   },
   {
    "duration": 5,
    "start_time": "2021-11-26T11:48:02.014Z"
   },
   {
    "duration": 306,
    "start_time": "2021-11-26T11:48:21.847Z"
   },
   {
    "duration": 5,
    "start_time": "2021-11-26T11:48:29.765Z"
   },
   {
    "duration": 299,
    "start_time": "2021-11-26T11:52:12.472Z"
   },
   {
    "duration": 8,
    "start_time": "2021-11-26T11:52:21.530Z"
   },
   {
    "duration": 21,
    "start_time": "2021-11-26T11:52:31.416Z"
   },
   {
    "duration": 10,
    "start_time": "2021-11-26T11:52:43.550Z"
   },
   {
    "duration": 303,
    "start_time": "2021-11-26T11:53:04.077Z"
   },
   {
    "duration": 22,
    "start_time": "2021-11-26T11:53:19.473Z"
   },
   {
    "duration": 6,
    "start_time": "2021-11-26T12:01:18.904Z"
   },
   {
    "duration": 5,
    "start_time": "2021-11-26T12:01:36.967Z"
   },
   {
    "duration": 7,
    "start_time": "2021-11-26T12:01:39.635Z"
   },
   {
    "duration": 6,
    "start_time": "2021-11-26T12:01:41.398Z"
   },
   {
    "duration": 12,
    "start_time": "2021-11-26T12:05:12.471Z"
   },
   {
    "duration": 14,
    "start_time": "2021-11-26T12:05:28.819Z"
   },
   {
    "duration": 14,
    "start_time": "2021-11-26T12:06:51.447Z"
   },
   {
    "duration": 12,
    "start_time": "2021-11-26T12:07:06.550Z"
   },
   {
    "duration": 38,
    "start_time": "2021-11-26T12:07:17.089Z"
   },
   {
    "duration": 16,
    "start_time": "2021-11-26T12:08:23.692Z"
   },
   {
    "duration": 314,
    "start_time": "2021-11-26T12:09:20.241Z"
   },
   {
    "duration": 338,
    "start_time": "2021-11-26T12:10:23.446Z"
   },
   {
    "duration": 8,
    "start_time": "2021-11-26T12:10:32.847Z"
   },
   {
    "duration": 248,
    "start_time": "2021-11-26T12:11:55.461Z"
   },
   {
    "duration": 247,
    "start_time": "2021-11-26T12:12:06.931Z"
   },
   {
    "duration": 237,
    "start_time": "2021-11-26T12:12:11.617Z"
   },
   {
    "duration": 240,
    "start_time": "2021-11-26T12:12:24.702Z"
   },
   {
    "duration": 248,
    "start_time": "2021-11-26T12:12:28.230Z"
   },
   {
    "duration": 254,
    "start_time": "2021-11-26T12:12:33.050Z"
   },
   {
    "duration": 6,
    "start_time": "2021-11-26T12:12:37.010Z"
   },
   {
    "duration": 18,
    "start_time": "2021-11-26T12:12:38.760Z"
   },
   {
    "duration": 24,
    "start_time": "2021-11-26T12:12:41.618Z"
   },
   {
    "duration": 5,
    "start_time": "2021-11-26T12:12:44.610Z"
   },
   {
    "duration": 9,
    "start_time": "2021-11-26T12:12:48.791Z"
   },
   {
    "duration": 7,
    "start_time": "2021-11-26T12:12:51.402Z"
   },
   {
    "duration": 304,
    "start_time": "2021-11-26T12:13:00.740Z"
   },
   {
    "duration": 302,
    "start_time": "2021-11-26T12:14:13.438Z"
   },
   {
    "duration": 3859,
    "start_time": "2021-11-26T12:18:17.537Z"
   },
   {
    "duration": 315,
    "start_time": "2021-11-26T12:18:34.323Z"
   },
   {
    "duration": 581,
    "start_time": "2021-11-26T12:19:48.939Z"
   },
   {
    "duration": 8,
    "start_time": "2021-11-26T12:21:46.812Z"
   },
   {
    "duration": 10,
    "start_time": "2021-11-26T12:22:03.098Z"
   },
   {
    "duration": 4,
    "start_time": "2021-11-26T12:22:17.655Z"
   },
   {
    "duration": 9,
    "start_time": "2021-11-26T12:22:18.997Z"
   },
   {
    "duration": 9,
    "start_time": "2021-11-26T12:22:20.891Z"
   },
   {
    "duration": 4,
    "start_time": "2021-11-26T12:22:32.355Z"
   },
   {
    "duration": 10,
    "start_time": "2021-11-26T12:22:38.310Z"
   },
   {
    "duration": 2143,
    "start_time": "2021-11-26T12:23:03.953Z"
   },
   {
    "duration": 389,
    "start_time": "2021-11-26T12:23:06.099Z"
   },
   {
    "duration": 388,
    "start_time": "2021-11-26T12:23:06.492Z"
   },
   {
    "duration": 319,
    "start_time": "2021-11-26T12:23:06.885Z"
   },
   {
    "duration": 5,
    "start_time": "2021-11-26T12:23:07.207Z"
   },
   {
    "duration": 21,
    "start_time": "2021-11-26T12:23:07.214Z"
   },
   {
    "duration": 3,
    "start_time": "2021-11-26T12:23:07.238Z"
   },
   {
    "duration": 98,
    "start_time": "2021-11-26T12:23:07.268Z"
   },
   {
    "duration": 97,
    "start_time": "2021-11-26T12:23:07.371Z"
   },
   {
    "duration": 22,
    "start_time": "2021-11-26T12:23:07.472Z"
   },
   {
    "duration": 73,
    "start_time": "2021-11-26T12:23:07.497Z"
   },
   {
    "duration": 95,
    "start_time": "2021-11-26T12:23:07.575Z"
   },
   {
    "duration": 24,
    "start_time": "2021-11-26T12:23:07.673Z"
   },
   {
    "duration": 76,
    "start_time": "2021-11-26T12:23:07.700Z"
   },
   {
    "duration": 4,
    "start_time": "2021-11-26T12:23:07.868Z"
   },
   {
    "duration": 13,
    "start_time": "2021-11-26T12:23:07.875Z"
   },
   {
    "duration": 9,
    "start_time": "2021-11-26T12:23:07.891Z"
   },
   {
    "duration": 71,
    "start_time": "2021-11-26T12:23:07.903Z"
   },
   {
    "duration": 9,
    "start_time": "2021-11-26T12:23:07.976Z"
   },
   {
    "duration": 114,
    "start_time": "2021-11-26T12:23:07.987Z"
   },
   {
    "duration": -9,
    "start_time": "2021-11-26T12:23:08.112Z"
   },
   {
    "duration": -30,
    "start_time": "2021-11-26T12:23:08.134Z"
   },
   {
    "duration": -33,
    "start_time": "2021-11-26T12:23:08.139Z"
   },
   {
    "duration": 7,
    "start_time": "2021-11-26T12:23:28.894Z"
   },
   {
    "duration": 7,
    "start_time": "2021-11-26T12:23:41.860Z"
   },
   {
    "duration": 481,
    "start_time": "2021-11-26T12:25:37.935Z"
   },
   {
    "duration": 2292,
    "start_time": "2021-11-26T12:25:47.564Z"
   },
   {
    "duration": 279,
    "start_time": "2021-11-26T12:25:49.860Z"
   },
   {
    "duration": 282,
    "start_time": "2021-11-26T12:25:50.144Z"
   },
   {
    "duration": 247,
    "start_time": "2021-11-26T12:25:50.428Z"
   },
   {
    "duration": 6,
    "start_time": "2021-11-26T12:25:50.678Z"
   },
   {
    "duration": 24,
    "start_time": "2021-11-26T12:25:50.687Z"
   },
   {
    "duration": 4,
    "start_time": "2021-11-26T12:25:50.714Z"
   },
   {
    "duration": 49,
    "start_time": "2021-11-26T12:25:50.722Z"
   },
   {
    "duration": 94,
    "start_time": "2021-11-26T12:25:50.774Z"
   },
   {
    "duration": 17,
    "start_time": "2021-11-26T12:25:50.872Z"
   },
   {
    "duration": 87,
    "start_time": "2021-11-26T12:25:50.892Z"
   },
   {
    "duration": 90,
    "start_time": "2021-11-26T12:25:50.982Z"
   },
   {
    "duration": 116,
    "start_time": "2021-11-26T12:25:51.076Z"
   },
   {
    "duration": 82,
    "start_time": "2021-11-26T12:25:51.195Z"
   },
   {
    "duration": 88,
    "start_time": "2021-11-26T12:25:51.281Z"
   },
   {
    "duration": 7,
    "start_time": "2021-11-26T12:25:51.373Z"
   },
   {
    "duration": 16,
    "start_time": "2021-11-26T12:25:51.383Z"
   },
   {
    "duration": 67,
    "start_time": "2021-11-26T12:25:51.402Z"
   },
   {
    "duration": 11,
    "start_time": "2021-11-26T12:25:51.472Z"
   },
   {
    "duration": 113,
    "start_time": "2021-11-26T12:25:51.486Z"
   },
   {
    "duration": -11,
    "start_time": "2021-11-26T12:25:51.612Z"
   },
   {
    "duration": -17,
    "start_time": "2021-11-26T12:25:51.620Z"
   },
   {
    "duration": -23,
    "start_time": "2021-11-26T12:25:51.627Z"
   },
   {
    "duration": 5,
    "start_time": "2021-11-26T12:26:23.178Z"
   },
   {
    "duration": 5,
    "start_time": "2021-11-26T12:26:35.388Z"
   },
   {
    "duration": 527,
    "start_time": "2021-11-26T12:27:18.884Z"
   },
   {
    "duration": 311,
    "start_time": "2021-11-26T12:27:24.203Z"
   },
   {
    "duration": 815,
    "start_time": "2021-11-26T12:29:00.733Z"
   },
   {
    "duration": 298,
    "start_time": "2021-11-26T12:29:08.688Z"
   },
   {
    "duration": 311,
    "start_time": "2021-11-26T12:29:28.448Z"
   },
   {
    "duration": 332,
    "start_time": "2021-11-26T12:30:17.654Z"
   },
   {
    "duration": 6,
    "start_time": "2021-11-26T12:30:36.666Z"
   },
   {
    "duration": 289,
    "start_time": "2021-11-26T12:32:14.380Z"
   },
   {
    "duration": 293,
    "start_time": "2021-11-26T12:34:15.423Z"
   },
   {
    "duration": 8,
    "start_time": "2021-11-26T12:34:36.265Z"
   },
   {
    "duration": 6,
    "start_time": "2021-11-26T12:35:27.123Z"
   },
   {
    "duration": 11,
    "start_time": "2021-11-26T12:37:53.161Z"
   },
   {
    "duration": 12,
    "start_time": "2021-11-26T12:38:30.242Z"
   },
   {
    "duration": 10,
    "start_time": "2021-11-26T12:39:03.121Z"
   },
   {
    "duration": 5,
    "start_time": "2021-11-26T12:39:18.930Z"
   },
   {
    "duration": 375,
    "start_time": "2021-11-26T12:39:25.669Z"
   },
   {
    "duration": 655,
    "start_time": "2021-11-26T12:39:30.178Z"
   },
   {
    "duration": 304,
    "start_time": "2021-11-26T12:40:43.790Z"
   },
   {
    "duration": 1518,
    "start_time": "2021-11-26T12:40:53.596Z"
   },
   {
    "duration": 254,
    "start_time": "2021-11-26T12:40:55.116Z"
   },
   {
    "duration": 242,
    "start_time": "2021-11-26T12:40:55.373Z"
   },
   {
    "duration": 239,
    "start_time": "2021-11-26T12:40:55.618Z"
   },
   {
    "duration": 6,
    "start_time": "2021-11-26T12:40:55.867Z"
   },
   {
    "duration": 19,
    "start_time": "2021-11-26T12:40:55.876Z"
   },
   {
    "duration": 4,
    "start_time": "2021-11-26T12:40:55.897Z"
   },
   {
    "duration": 72,
    "start_time": "2021-11-26T12:40:55.905Z"
   },
   {
    "duration": 6,
    "start_time": "2021-11-26T12:40:56.069Z"
   },
   {
    "duration": 23,
    "start_time": "2021-11-26T12:40:56.078Z"
   },
   {
    "duration": 69,
    "start_time": "2021-11-26T12:40:56.104Z"
   },
   {
    "duration": 92,
    "start_time": "2021-11-26T12:40:56.176Z"
   },
   {
    "duration": 21,
    "start_time": "2021-11-26T12:40:56.271Z"
   },
   {
    "duration": 76,
    "start_time": "2021-11-26T12:40:56.294Z"
   },
   {
    "duration": 95,
    "start_time": "2021-11-26T12:40:56.374Z"
   },
   {
    "duration": 9,
    "start_time": "2021-11-26T12:40:56.472Z"
   },
   {
    "duration": 9,
    "start_time": "2021-11-26T12:40:56.484Z"
   },
   {
    "duration": 11,
    "start_time": "2021-11-26T12:40:56.496Z"
   },
   {
    "duration": 6,
    "start_time": "2021-11-26T12:40:56.510Z"
   },
   {
    "duration": 97,
    "start_time": "2021-11-26T12:40:56.519Z"
   },
   {
    "duration": -21,
    "start_time": "2021-11-26T12:40:56.639Z"
   },
   {
    "duration": -27,
    "start_time": "2021-11-26T12:40:56.647Z"
   },
   {
    "duration": -33,
    "start_time": "2021-11-26T12:40:56.655Z"
   },
   {
    "duration": 7,
    "start_time": "2021-11-26T12:41:05.834Z"
   },
   {
    "duration": 11,
    "start_time": "2021-11-26T12:41:09.825Z"
   },
   {
    "duration": 9,
    "start_time": "2021-11-26T12:41:26.134Z"
   },
   {
    "duration": 6,
    "start_time": "2021-11-26T12:42:00.511Z"
   },
   {
    "duration": 432,
    "start_time": "2021-11-26T12:42:08.615Z"
   },
   {
    "duration": 1510,
    "start_time": "2021-11-26T12:42:18.912Z"
   },
   {
    "duration": 251,
    "start_time": "2021-11-26T12:42:20.425Z"
   },
   {
    "duration": 236,
    "start_time": "2021-11-26T12:42:20.679Z"
   },
   {
    "duration": 238,
    "start_time": "2021-11-26T12:42:20.917Z"
   },
   {
    "duration": 7,
    "start_time": "2021-11-26T12:42:21.166Z"
   },
   {
    "duration": 23,
    "start_time": "2021-11-26T12:42:21.177Z"
   },
   {
    "duration": 4,
    "start_time": "2021-11-26T12:42:21.203Z"
   },
   {
    "duration": 63,
    "start_time": "2021-11-26T12:42:21.213Z"
   },
   {
    "duration": 91,
    "start_time": "2021-11-26T12:42:21.280Z"
   },
   {
    "duration": 31,
    "start_time": "2021-11-26T12:42:21.373Z"
   },
   {
    "duration": 63,
    "start_time": "2021-11-26T12:42:21.407Z"
   },
   {
    "duration": 95,
    "start_time": "2021-11-26T12:42:21.473Z"
   },
   {
    "duration": 24,
    "start_time": "2021-11-26T12:42:21.571Z"
   },
   {
    "duration": 72,
    "start_time": "2021-11-26T12:42:21.598Z"
   },
   {
    "duration": 95,
    "start_time": "2021-11-26T12:42:21.673Z"
   },
   {
    "duration": 6,
    "start_time": "2021-11-26T12:42:21.771Z"
   },
   {
    "duration": 15,
    "start_time": "2021-11-26T12:42:21.779Z"
   },
   {
    "duration": 8,
    "start_time": "2021-11-26T12:42:21.797Z"
   },
   {
    "duration": 21,
    "start_time": "2021-11-26T12:42:21.808Z"
   },
   {
    "duration": 7,
    "start_time": "2021-11-26T12:42:21.832Z"
   },
   {
    "duration": 7,
    "start_time": "2021-11-26T12:42:21.868Z"
   },
   {
    "duration": 7,
    "start_time": "2021-11-26T12:42:21.877Z"
   },
   {
    "duration": 633,
    "start_time": "2021-11-26T12:42:21.888Z"
   },
   {
    "duration": 8,
    "start_time": "2021-11-26T12:42:50.799Z"
   },
   {
    "duration": 58105,
    "start_time": "2021-11-26T12:43:06.928Z"
   },
   {
    "duration": 12,
    "start_time": "2021-11-26T12:47:12.891Z"
   },
   {
    "duration": 12,
    "start_time": "2021-11-26T13:06:54.603Z"
   },
   {
    "duration": 11,
    "start_time": "2021-11-26T13:08:09.064Z"
   },
   {
    "duration": 18924,
    "start_time": "2021-11-26T13:20:59.860Z"
   },
   {
    "duration": 6449,
    "start_time": "2021-11-26T13:28:48.049Z"
   },
   {
    "duration": 5731,
    "start_time": "2021-11-26T13:31:46.775Z"
   },
   {
    "duration": 5520,
    "start_time": "2021-11-26T13:36:58.947Z"
   },
   {
    "duration": 6,
    "start_time": "2021-11-26T13:38:41.891Z"
   },
   {
    "duration": 5,
    "start_time": "2021-11-26T13:39:20.345Z"
   },
   {
    "duration": 7,
    "start_time": "2021-11-26T13:43:43.463Z"
   },
   {
    "duration": 5,
    "start_time": "2021-11-26T13:47:39.407Z"
   },
   {
    "duration": 11,
    "start_time": "2021-11-26T13:51:01.875Z"
   },
   {
    "duration": 12,
    "start_time": "2021-11-26T13:51:20.727Z"
   },
   {
    "duration": 25,
    "start_time": "2021-11-26T13:51:45.617Z"
   },
   {
    "duration": 5431,
    "start_time": "2021-11-26T13:54:33.910Z"
   },
   {
    "duration": 5423,
    "start_time": "2021-11-26T13:58:12.179Z"
   },
   {
    "duration": 5,
    "start_time": "2021-11-26T14:07:13.671Z"
   },
   {
    "duration": 7,
    "start_time": "2021-11-26T14:08:03.111Z"
   },
   {
    "duration": 5437,
    "start_time": "2021-11-26T14:08:09.592Z"
   },
   {
    "duration": 7,
    "start_time": "2021-11-26T14:08:26.025Z"
   },
   {
    "duration": 7,
    "start_time": "2021-11-26T14:08:38.080Z"
   },
   {
    "duration": 7,
    "start_time": "2021-11-26T14:08:41.890Z"
   },
   {
    "duration": 6,
    "start_time": "2021-11-26T14:08:47.724Z"
   },
   {
    "duration": 7,
    "start_time": "2021-11-26T14:08:52.613Z"
   },
   {
    "duration": 1533,
    "start_time": "2021-11-26T14:11:03.703Z"
   },
   {
    "duration": 258,
    "start_time": "2021-11-26T14:11:05.238Z"
   },
   {
    "duration": 325,
    "start_time": "2021-11-26T14:11:05.499Z"
   },
   {
    "duration": 243,
    "start_time": "2021-11-26T14:11:05.827Z"
   },
   {
    "duration": 6,
    "start_time": "2021-11-26T14:11:06.073Z"
   },
   {
    "duration": 22,
    "start_time": "2021-11-26T14:11:06.082Z"
   },
   {
    "duration": 3,
    "start_time": "2021-11-26T14:11:06.107Z"
   },
   {
    "duration": 151,
    "start_time": "2021-11-26T14:11:06.115Z"
   },
   {
    "duration": 6,
    "start_time": "2021-11-26T14:11:06.269Z"
   },
   {
    "duration": 25,
    "start_time": "2021-11-26T14:11:06.278Z"
   },
   {
    "duration": 64,
    "start_time": "2021-11-26T14:11:06.305Z"
   },
   {
    "duration": 96,
    "start_time": "2021-11-26T14:11:06.372Z"
   },
   {
    "duration": 28,
    "start_time": "2021-11-26T14:11:06.471Z"
   },
   {
    "duration": 66,
    "start_time": "2021-11-26T14:11:06.501Z"
   },
   {
    "duration": 7,
    "start_time": "2021-11-26T14:11:06.571Z"
   },
   {
    "duration": 5,
    "start_time": "2021-11-26T14:11:06.668Z"
   },
   {
    "duration": 9,
    "start_time": "2021-11-26T14:11:06.676Z"
   },
   {
    "duration": 7,
    "start_time": "2021-11-26T14:11:06.688Z"
   },
   {
    "duration": 6,
    "start_time": "2021-11-26T14:11:06.698Z"
   },
   {
    "duration": 64,
    "start_time": "2021-11-26T14:11:06.707Z"
   },
   {
    "duration": 8,
    "start_time": "2021-11-26T14:11:06.774Z"
   },
   {
    "duration": 17,
    "start_time": "2021-11-26T14:11:06.785Z"
   },
   {
    "duration": 38,
    "start_time": "2021-11-26T14:11:06.806Z"
   },
   {
    "duration": 5764,
    "start_time": "2021-11-26T14:11:06.847Z"
   },
   {
    "duration": 6,
    "start_time": "2021-11-26T14:11:12.613Z"
   },
   {
    "duration": 9,
    "start_time": "2021-11-26T14:11:12.621Z"
   },
   {
    "duration": 5539,
    "start_time": "2021-11-26T14:11:12.632Z"
   },
   {
    "duration": 5616,
    "start_time": "2021-11-26T14:11:18.173Z"
   },
   {
    "duration": 6,
    "start_time": "2021-11-26T14:12:14.835Z"
   },
   {
    "duration": 6,
    "start_time": "2021-11-26T14:12:20.384Z"
   },
   {
    "duration": 7,
    "start_time": "2021-11-26T14:12:25.511Z"
   },
   {
    "duration": 8,
    "start_time": "2021-11-26T14:13:06.832Z"
   },
   {
    "duration": 6,
    "start_time": "2021-11-26T14:13:10.672Z"
   },
   {
    "duration": 6,
    "start_time": "2021-11-26T14:13:13.826Z"
   },
   {
    "duration": 6,
    "start_time": "2021-11-26T14:13:16.946Z"
   },
   {
    "duration": 7,
    "start_time": "2021-11-26T14:13:20.096Z"
   },
   {
    "duration": 6,
    "start_time": "2021-11-26T14:13:28.477Z"
   },
   {
    "duration": 6,
    "start_time": "2021-11-26T14:13:31.737Z"
   },
   {
    "duration": 6,
    "start_time": "2021-11-26T14:13:35.825Z"
   },
   {
    "duration": 7,
    "start_time": "2021-11-26T14:13:41.665Z"
   },
   {
    "duration": 6,
    "start_time": "2021-11-26T14:15:20.007Z"
   },
   {
    "duration": 6,
    "start_time": "2021-11-26T14:15:42.380Z"
   },
   {
    "duration": 8,
    "start_time": "2021-11-26T14:15:47.812Z"
   },
   {
    "duration": 6,
    "start_time": "2021-11-26T14:15:51.244Z"
   },
   {
    "duration": 8,
    "start_time": "2021-11-26T14:15:54.192Z"
   },
   {
    "duration": 6,
    "start_time": "2021-11-26T14:15:59.610Z"
   },
   {
    "duration": 7,
    "start_time": "2021-11-26T14:16:03.072Z"
   },
   {
    "duration": 7,
    "start_time": "2021-11-26T14:16:09.178Z"
   },
   {
    "duration": 6,
    "start_time": "2021-11-26T14:16:12.783Z"
   },
   {
    "duration": 6,
    "start_time": "2021-11-26T14:16:15.973Z"
   },
   {
    "duration": 7,
    "start_time": "2021-11-26T14:16:18.921Z"
   },
   {
    "duration": 6,
    "start_time": "2021-11-26T14:16:22.115Z"
   },
   {
    "duration": 6,
    "start_time": "2021-11-26T14:16:26.083Z"
   },
   {
    "duration": 6,
    "start_time": "2021-11-26T14:17:14.695Z"
   },
   {
    "duration": 6,
    "start_time": "2021-11-26T14:18:35.771Z"
   },
   {
    "duration": 7,
    "start_time": "2021-11-26T14:18:39.471Z"
   },
   {
    "duration": 7,
    "start_time": "2021-11-26T14:18:42.931Z"
   },
   {
    "duration": 6,
    "start_time": "2021-11-26T14:18:45.819Z"
   },
   {
    "duration": 7,
    "start_time": "2021-11-26T14:18:48.637Z"
   },
   {
    "duration": 6,
    "start_time": "2021-11-26T14:18:51.579Z"
   },
   {
    "duration": 7,
    "start_time": "2021-11-26T14:18:55.114Z"
   },
   {
    "duration": 7,
    "start_time": "2021-11-26T14:18:59.298Z"
   },
   {
    "duration": 7,
    "start_time": "2021-11-26T14:19:02.968Z"
   },
   {
    "duration": 7,
    "start_time": "2021-11-26T14:19:10.859Z"
   },
   {
    "duration": 458,
    "start_time": "2021-11-26T14:30:50.865Z"
   },
   {
    "duration": 18,
    "start_time": "2021-11-26T14:30:58.137Z"
   },
   {
    "duration": 1546,
    "start_time": "2021-11-26T14:31:27.975Z"
   },
   {
    "duration": 253,
    "start_time": "2021-11-26T14:31:29.523Z"
   },
   {
    "duration": 250,
    "start_time": "2021-11-26T14:31:29.779Z"
   },
   {
    "duration": 260,
    "start_time": "2021-11-26T14:31:30.032Z"
   },
   {
    "duration": 6,
    "start_time": "2021-11-26T14:31:30.295Z"
   },
   {
    "duration": 43,
    "start_time": "2021-11-26T14:31:30.304Z"
   },
   {
    "duration": 119,
    "start_time": "2021-11-26T14:31:30.350Z"
   },
   {
    "duration": 96,
    "start_time": "2021-11-26T14:31:30.474Z"
   },
   {
    "duration": 59,
    "start_time": "2021-11-26T14:31:30.573Z"
   },
   {
    "duration": 47,
    "start_time": "2021-11-26T14:31:30.635Z"
   },
   {
    "duration": 105,
    "start_time": "2021-11-26T14:31:30.766Z"
   },
   {
    "duration": 45,
    "start_time": "2021-11-26T14:31:30.873Z"
   },
   {
    "duration": 50,
    "start_time": "2021-11-26T14:31:30.921Z"
   },
   {
    "duration": 7,
    "start_time": "2021-11-26T14:31:31.069Z"
   },
   {
    "duration": 90,
    "start_time": "2021-11-26T14:31:31.079Z"
   },
   {
    "duration": 38,
    "start_time": "2021-11-26T14:31:31.172Z"
   },
   {
    "duration": 7,
    "start_time": "2021-11-26T14:31:31.213Z"
   },
   {
    "duration": 6,
    "start_time": "2021-11-26T14:31:31.223Z"
   },
   {
    "duration": 14,
    "start_time": "2021-11-26T14:31:31.232Z"
   },
   {
    "duration": 20,
    "start_time": "2021-11-26T14:31:31.249Z"
   },
   {
    "duration": 15,
    "start_time": "2021-11-26T14:31:31.272Z"
   },
   {
    "duration": 37,
    "start_time": "2021-11-26T14:31:31.290Z"
   },
   {
    "duration": 5389,
    "start_time": "2021-11-26T14:31:31.332Z"
   },
   {
    "duration": 6,
    "start_time": "2021-11-26T14:31:36.724Z"
   },
   {
    "duration": 5323,
    "start_time": "2021-11-26T14:31:36.733Z"
   },
   {
    "duration": 10,
    "start_time": "2021-11-26T14:31:42.059Z"
   },
   {
    "duration": 5388,
    "start_time": "2021-11-26T14:31:42.072Z"
   },
   {
    "duration": 6,
    "start_time": "2021-11-26T14:31:47.467Z"
   },
   {
    "duration": 5,
    "start_time": "2021-11-26T14:42:40.193Z"
   },
   {
    "duration": 5562,
    "start_time": "2021-11-26T14:53:44.600Z"
   },
   {
    "duration": 5623,
    "start_time": "2021-11-26T14:53:59.426Z"
   },
   {
    "duration": 4,
    "start_time": "2021-11-26T14:54:22.733Z"
   },
   {
    "duration": 4,
    "start_time": "2021-11-26T14:54:35.353Z"
   },
   {
    "duration": 5466,
    "start_time": "2021-11-26T14:54:42.023Z"
   },
   {
    "duration": 5,
    "start_time": "2021-11-26T14:54:55.437Z"
   },
   {
    "duration": 498,
    "start_time": "2021-11-26T14:55:10.054Z"
   },
   {
    "duration": 7,
    "start_time": "2021-11-26T14:55:17.359Z"
   },
   {
    "duration": 7,
    "start_time": "2021-11-26T14:55:49.983Z"
   },
   {
    "duration": 103,
    "start_time": "2021-11-26T14:58:59.076Z"
   },
   {
    "duration": 98,
    "start_time": "2021-11-26T14:59:15.812Z"
   },
   {
    "duration": 100,
    "start_time": "2021-11-26T14:59:26.104Z"
   },
   {
    "duration": 30,
    "start_time": "2021-11-26T14:59:44.926Z"
   },
   {
    "duration": 7,
    "start_time": "2021-11-26T15:00:32.369Z"
   },
   {
    "duration": 302,
    "start_time": "2021-11-26T15:01:46.365Z"
   },
   {
    "duration": 10,
    "start_time": "2021-11-26T15:02:25.662Z"
   },
   {
    "duration": 9,
    "start_time": "2021-11-26T15:02:27.913Z"
   },
   {
    "duration": 11,
    "start_time": "2021-11-26T15:03:00.008Z"
   },
   {
    "duration": 10,
    "start_time": "2021-11-26T15:03:15.940Z"
   },
   {
    "duration": 15,
    "start_time": "2021-11-26T15:03:19.396Z"
   },
   {
    "duration": 97,
    "start_time": "2021-11-26T15:05:18.265Z"
   },
   {
    "duration": 340,
    "start_time": "2021-11-26T15:06:04.089Z"
   },
   {
    "duration": 6,
    "start_time": "2021-11-26T15:06:27.768Z"
   },
   {
    "duration": 324,
    "start_time": "2021-11-26T15:08:06.264Z"
   },
   {
    "duration": 6,
    "start_time": "2021-11-26T15:08:52.417Z"
   },
   {
    "duration": 323,
    "start_time": "2021-11-26T15:09:36.373Z"
   },
   {
    "duration": 10,
    "start_time": "2021-11-26T15:09:54.702Z"
   },
   {
    "duration": 291,
    "start_time": "2021-11-26T15:10:32.430Z"
   },
   {
    "duration": 10,
    "start_time": "2021-11-26T15:10:41.122Z"
   },
   {
    "duration": 8,
    "start_time": "2021-11-26T15:11:19.818Z"
   },
   {
    "duration": 5,
    "start_time": "2021-11-26T15:14:23.192Z"
   },
   {
    "duration": 1868,
    "start_time": "2021-11-26T15:17:11.139Z"
   },
   {
    "duration": 320,
    "start_time": "2021-11-26T15:17:13.010Z"
   },
   {
    "duration": 672,
    "start_time": "2021-11-26T15:17:13.333Z"
   },
   {
    "duration": 2109,
    "start_time": "2021-11-26T15:17:14.007Z"
   },
   {
    "duration": 5,
    "start_time": "2021-11-26T15:17:16.119Z"
   },
   {
    "duration": 22,
    "start_time": "2021-11-26T15:17:16.126Z"
   },
   {
    "duration": 40,
    "start_time": "2021-11-26T15:17:16.150Z"
   },
   {
    "duration": 98,
    "start_time": "2021-11-26T15:17:16.270Z"
   },
   {
    "duration": 22,
    "start_time": "2021-11-26T15:17:16.373Z"
   },
   {
    "duration": 72,
    "start_time": "2021-11-26T15:17:16.398Z"
   },
   {
    "duration": 96,
    "start_time": "2021-11-26T15:17:16.473Z"
   },
   {
    "duration": 21,
    "start_time": "2021-11-26T15:17:16.571Z"
   },
   {
    "duration": 77,
    "start_time": "2021-11-26T15:17:16.594Z"
   },
   {
    "duration": 92,
    "start_time": "2021-11-26T15:17:16.675Z"
   },
   {
    "duration": 8,
    "start_time": "2021-11-26T15:17:16.770Z"
   },
   {
    "duration": 9,
    "start_time": "2021-11-26T15:17:16.780Z"
   },
   {
    "duration": 8,
    "start_time": "2021-11-26T15:17:16.792Z"
   },
   {
    "duration": 6,
    "start_time": "2021-11-26T15:17:16.803Z"
   },
   {
    "duration": 7,
    "start_time": "2021-11-26T15:17:16.812Z"
   },
   {
    "duration": 47,
    "start_time": "2021-11-26T15:17:16.821Z"
   },
   {
    "duration": 11,
    "start_time": "2021-11-26T15:17:16.871Z"
   },
   {
    "duration": 29,
    "start_time": "2021-11-26T15:17:16.884Z"
   },
   {
    "duration": 5405,
    "start_time": "2021-11-26T15:17:16.916Z"
   },
   {
    "duration": 5,
    "start_time": "2021-11-26T15:17:22.323Z"
   },
   {
    "duration": 5757,
    "start_time": "2021-11-26T15:17:22.330Z"
   },
   {
    "duration": 4,
    "start_time": "2021-11-26T15:17:28.089Z"
   },
   {
    "duration": 5829,
    "start_time": "2021-11-26T15:17:28.098Z"
   },
   {
    "duration": 4,
    "start_time": "2021-11-26T15:17:33.930Z"
   },
   {
    "duration": 33,
    "start_time": "2021-11-26T15:17:33.937Z"
   },
   {
    "duration": 12,
    "start_time": "2021-11-26T15:17:33.972Z"
   },
   {
    "duration": 12,
    "start_time": "2021-11-26T15:17:33.986Z"
   },
   {
    "duration": 19,
    "start_time": "2021-11-26T15:17:34.001Z"
   },
   {
    "duration": 4,
    "start_time": "2021-11-26T15:17:34.023Z"
   },
   {
    "duration": 1548,
    "start_time": "2021-11-27T07:52:06.053Z"
   },
   {
    "duration": 239,
    "start_time": "2021-11-27T07:52:07.603Z"
   },
   {
    "duration": 251,
    "start_time": "2021-11-27T07:52:07.845Z"
   },
   {
    "duration": 226,
    "start_time": "2021-11-27T07:52:08.099Z"
   },
   {
    "duration": 6,
    "start_time": "2021-11-27T07:52:08.327Z"
   },
   {
    "duration": 22,
    "start_time": "2021-11-27T07:52:08.335Z"
   },
   {
    "duration": 36,
    "start_time": "2021-11-27T07:52:08.360Z"
   },
   {
    "duration": 85,
    "start_time": "2021-11-27T07:52:08.402Z"
   },
   {
    "duration": 104,
    "start_time": "2021-11-27T07:52:08.492Z"
   },
   {
    "duration": 19,
    "start_time": "2021-11-27T07:52:08.599Z"
   },
   {
    "duration": 13,
    "start_time": "2021-11-27T07:52:08.684Z"
   },
   {
    "duration": 17,
    "start_time": "2021-11-27T07:52:08.782Z"
   },
   {
    "duration": 20,
    "start_time": "2021-11-27T07:52:08.801Z"
   },
   {
    "duration": 7,
    "start_time": "2021-11-27T07:52:08.883Z"
   },
   {
    "duration": 91,
    "start_time": "2021-11-27T07:52:08.893Z"
   },
   {
    "duration": 6,
    "start_time": "2021-11-27T07:52:08.987Z"
   },
   {
    "duration": 6,
    "start_time": "2021-11-27T07:52:08.996Z"
   },
   {
    "duration": 6,
    "start_time": "2021-11-27T07:52:09.005Z"
   },
   {
    "duration": 9,
    "start_time": "2021-11-27T07:52:09.013Z"
   },
   {
    "duration": 57,
    "start_time": "2021-11-27T07:52:09.025Z"
   },
   {
    "duration": 7,
    "start_time": "2021-11-27T07:52:09.085Z"
   },
   {
    "duration": 38,
    "start_time": "2021-11-27T07:52:09.094Z"
   },
   {
    "duration": 8302,
    "start_time": "2021-11-27T07:52:09.138Z"
   },
   {
    "duration": 6,
    "start_time": "2021-11-27T07:52:17.444Z"
   },
   {
    "duration": 5195,
    "start_time": "2021-11-27T07:52:17.453Z"
   },
   {
    "duration": 5,
    "start_time": "2021-11-27T07:52:22.650Z"
   },
   {
    "duration": 5236,
    "start_time": "2021-11-27T07:52:22.658Z"
   },
   {
    "duration": 4,
    "start_time": "2021-11-27T07:52:27.897Z"
   },
   {
    "duration": 13,
    "start_time": "2021-11-27T07:52:27.904Z"
   },
   {
    "duration": 8,
    "start_time": "2021-11-27T07:52:27.920Z"
   },
   {
    "duration": 11,
    "start_time": "2021-11-27T07:52:27.931Z"
   },
   {
    "duration": 20,
    "start_time": "2021-11-27T07:52:27.982Z"
   },
   {
    "duration": 5,
    "start_time": "2021-11-27T07:52:28.005Z"
   },
   {
    "duration": 5394,
    "start_time": "2021-11-27T07:54:05.282Z"
   },
   {
    "duration": 5296,
    "start_time": "2021-11-27T07:55:35.997Z"
   },
   {
    "duration": 440,
    "start_time": "2021-11-27T07:56:57.855Z"
   },
   {
    "duration": 8,
    "start_time": "2021-11-27T07:57:04.550Z"
   },
   {
    "duration": 8,
    "start_time": "2021-11-27T07:58:06.400Z"
   },
   {
    "duration": 16,
    "start_time": "2021-11-27T07:58:36.730Z"
   },
   {
    "duration": 98,
    "start_time": "2021-11-27T08:00:40.645Z"
   },
   {
    "duration": 112,
    "start_time": "2021-11-27T08:00:53.808Z"
   },
   {
    "duration": 113,
    "start_time": "2021-11-27T08:01:08.150Z"
   },
   {
    "duration": 479,
    "start_time": "2021-11-27T08:02:13.519Z"
   },
   {
    "duration": 22,
    "start_time": "2021-11-27T08:02:59.725Z"
   },
   {
    "duration": 17,
    "start_time": "2021-11-27T08:03:09.252Z"
   },
   {
    "duration": 15,
    "start_time": "2021-11-27T08:03:25.437Z"
   },
   {
    "duration": 16,
    "start_time": "2021-11-27T08:03:28.250Z"
   },
   {
    "duration": 15,
    "start_time": "2021-11-27T08:03:53.939Z"
   },
   {
    "duration": 15,
    "start_time": "2021-11-27T08:04:44.155Z"
   },
   {
    "duration": 14,
    "start_time": "2021-11-27T08:05:05.788Z"
   },
   {
    "duration": 14,
    "start_time": "2021-11-27T08:05:24.266Z"
   },
   {
    "duration": 15,
    "start_time": "2021-11-27T08:05:33.086Z"
   },
   {
    "duration": 107,
    "start_time": "2021-11-27T08:07:32.061Z"
   },
   {
    "duration": 9,
    "start_time": "2021-11-27T08:07:38.390Z"
   },
   {
    "duration": 10,
    "start_time": "2021-11-27T08:09:12.124Z"
   },
   {
    "duration": 8663,
    "start_time": "2021-11-27T08:19:53.381Z"
   },
   {
    "duration": 5376,
    "start_time": "2021-11-27T08:21:18.801Z"
   },
   {
    "duration": 5195,
    "start_time": "2021-11-27T08:22:33.798Z"
   },
   {
    "duration": 5488,
    "start_time": "2021-11-27T08:23:29.946Z"
   },
   {
    "duration": 5606,
    "start_time": "2021-11-27T08:24:26.179Z"
   },
   {
    "duration": 303,
    "start_time": "2021-11-27T08:26:10.431Z"
   },
   {
    "duration": 5163,
    "start_time": "2021-11-27T08:28:51.295Z"
   },
   {
    "duration": 8296,
    "start_time": "2021-11-27T08:30:12.661Z"
   },
   {
    "duration": 5391,
    "start_time": "2021-11-27T08:32:09.479Z"
   },
   {
    "duration": 5280,
    "start_time": "2021-11-27T08:32:45.950Z"
   },
   {
    "duration": 5,
    "start_time": "2021-11-27T08:40:19.786Z"
   },
   {
    "duration": 4,
    "start_time": "2021-11-27T08:40:24.293Z"
   },
   {
    "duration": 5,
    "start_time": "2021-11-27T08:40:28.918Z"
   },
   {
    "duration": 1505,
    "start_time": "2021-11-27T08:40:53.917Z"
   },
   {
    "duration": 348,
    "start_time": "2021-11-27T08:40:55.425Z"
   },
   {
    "duration": 248,
    "start_time": "2021-11-27T08:40:55.776Z"
   },
   {
    "duration": 247,
    "start_time": "2021-11-27T08:40:56.026Z"
   },
   {
    "duration": 6,
    "start_time": "2021-11-27T08:40:56.282Z"
   },
   {
    "duration": 21,
    "start_time": "2021-11-27T08:40:56.290Z"
   },
   {
    "duration": 170,
    "start_time": "2021-11-27T08:40:56.313Z"
   },
   {
    "duration": 6,
    "start_time": "2021-11-27T08:40:56.487Z"
   },
   {
    "duration": 21,
    "start_time": "2021-11-27T08:40:56.496Z"
   },
   {
    "duration": 64,
    "start_time": "2021-11-27T08:40:56.520Z"
   },
   {
    "duration": 96,
    "start_time": "2021-11-27T08:40:56.587Z"
   },
   {
    "duration": 18,
    "start_time": "2021-11-27T08:40:56.685Z"
   },
   {
    "duration": 19,
    "start_time": "2021-11-27T08:40:56.706Z"
   },
   {
    "duration": 6,
    "start_time": "2021-11-27T08:40:56.784Z"
   },
   {
    "duration": 109,
    "start_time": "2021-11-27T08:40:56.793Z"
   },
   {
    "duration": 16,
    "start_time": "2021-11-27T08:40:56.905Z"
   },
   {
    "duration": 6,
    "start_time": "2021-11-27T08:40:56.923Z"
   },
   {
    "duration": 6,
    "start_time": "2021-11-27T08:40:56.932Z"
   },
   {
    "duration": 8,
    "start_time": "2021-11-27T08:40:56.941Z"
   },
   {
    "duration": 7,
    "start_time": "2021-11-27T08:40:56.982Z"
   },
   {
    "duration": 9,
    "start_time": "2021-11-27T08:40:56.992Z"
   },
   {
    "duration": 42,
    "start_time": "2021-11-27T08:40:57.003Z"
   },
   {
    "duration": 5502,
    "start_time": "2021-11-27T08:40:57.049Z"
   },
   {
    "duration": 5371,
    "start_time": "2021-11-27T08:41:02.554Z"
   },
   {
    "duration": 4,
    "start_time": "2021-11-27T08:41:07.927Z"
   },
   {
    "duration": 5281,
    "start_time": "2021-11-27T08:41:07.934Z"
   },
   {
    "duration": 5776,
    "start_time": "2021-11-27T08:41:13.217Z"
   },
   {
    "duration": 5,
    "start_time": "2021-11-27T08:41:18.995Z"
   },
   {
    "duration": 5616,
    "start_time": "2021-11-27T08:41:19.002Z"
   },
   {
    "duration": 5722,
    "start_time": "2021-11-27T08:41:24.620Z"
   },
   {
    "duration": 5,
    "start_time": "2021-11-27T08:41:30.345Z"
   }
  ],
  "kernelspec": {
   "display_name": "Python 3",
   "language": "python",
   "name": "python3"
  },
  "language_info": {
   "codemirror_mode": {
    "name": "ipython",
    "version": 3
   },
   "file_extension": ".py",
   "mimetype": "text/x-python",
   "name": "python",
   "nbconvert_exporter": "python",
   "pygments_lexer": "ipython3",
   "version": "3.7.8"
  },
  "toc": {
   "base_numbering": 1,
   "nav_menu": {},
   "number_sections": true,
   "sideBar": true,
   "skip_h1_title": true,
   "title_cell": "Table of Contents",
   "title_sidebar": "Contents",
   "toc_cell": false,
   "toc_position": {},
   "toc_section_display": true,
   "toc_window_display": true
  }
 },
 "nbformat": 4,
 "nbformat_minor": 2
}
