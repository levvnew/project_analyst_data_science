{
 "cells": [
  {
   "cell_type": "markdown",
   "metadata": {},
   "source": [
    "# Выявление закономерностей определяющих успешность игры\n",
    "\n",
    "Рассмотрим данные о продажах игр, оценки пользователей и экспертов, жанры и платформы (например, Xbox или PlayStation). Выявим определяющие успешность игры закономерности. Это позволит сделать ставку на потенциально популярный продукт и спланировать рекламные кампании.\n",
    "Рассмотрим данные до 2016 года, но будем иметь в виду, что данные за 2016 год не полные.\n",
    "\n",
    " "
   ]
  },
  {
   "cell_type": "markdown",
   "metadata": {},
   "source": [
    "## Изучение данных из файла"
   ]
  },
  {
   "cell_type": "code",
   "execution_count": 1,
   "metadata": {},
   "outputs": [
    {
     "data": {
      "text/html": [
       "<div>\n",
       "<style scoped>\n",
       "    .dataframe tbody tr th:only-of-type {\n",
       "        vertical-align: middle;\n",
       "    }\n",
       "\n",
       "    .dataframe tbody tr th {\n",
       "        vertical-align: top;\n",
       "    }\n",
       "\n",
       "    .dataframe thead th {\n",
       "        text-align: right;\n",
       "    }\n",
       "</style>\n",
       "<table border=\"1\" class=\"dataframe\">\n",
       "  <thead>\n",
       "    <tr style=\"text-align: right;\">\n",
       "      <th></th>\n",
       "      <th>Name</th>\n",
       "      <th>Platform</th>\n",
       "      <th>Year_of_Release</th>\n",
       "      <th>Genre</th>\n",
       "      <th>NA_sales</th>\n",
       "      <th>EU_sales</th>\n",
       "      <th>JP_sales</th>\n",
       "      <th>Other_sales</th>\n",
       "      <th>Critic_Score</th>\n",
       "      <th>User_Score</th>\n",
       "      <th>Rating</th>\n",
       "    </tr>\n",
       "  </thead>\n",
       "  <tbody>\n",
       "    <tr>\n",
       "      <td>0</td>\n",
       "      <td>Wii Sports</td>\n",
       "      <td>Wii</td>\n",
       "      <td>2006.0</td>\n",
       "      <td>Sports</td>\n",
       "      <td>41.36</td>\n",
       "      <td>28.96</td>\n",
       "      <td>3.77</td>\n",
       "      <td>8.45</td>\n",
       "      <td>76.0</td>\n",
       "      <td>8</td>\n",
       "      <td>E</td>\n",
       "    </tr>\n",
       "    <tr>\n",
       "      <td>1</td>\n",
       "      <td>Super Mario Bros.</td>\n",
       "      <td>NES</td>\n",
       "      <td>1985.0</td>\n",
       "      <td>Platform</td>\n",
       "      <td>29.08</td>\n",
       "      <td>3.58</td>\n",
       "      <td>6.81</td>\n",
       "      <td>0.77</td>\n",
       "      <td>NaN</td>\n",
       "      <td>NaN</td>\n",
       "      <td>NaN</td>\n",
       "    </tr>\n",
       "    <tr>\n",
       "      <td>2</td>\n",
       "      <td>Mario Kart Wii</td>\n",
       "      <td>Wii</td>\n",
       "      <td>2008.0</td>\n",
       "      <td>Racing</td>\n",
       "      <td>15.68</td>\n",
       "      <td>12.76</td>\n",
       "      <td>3.79</td>\n",
       "      <td>3.29</td>\n",
       "      <td>82.0</td>\n",
       "      <td>8.3</td>\n",
       "      <td>E</td>\n",
       "    </tr>\n",
       "    <tr>\n",
       "      <td>3</td>\n",
       "      <td>Wii Sports Resort</td>\n",
       "      <td>Wii</td>\n",
       "      <td>2009.0</td>\n",
       "      <td>Sports</td>\n",
       "      <td>15.61</td>\n",
       "      <td>10.93</td>\n",
       "      <td>3.28</td>\n",
       "      <td>2.95</td>\n",
       "      <td>80.0</td>\n",
       "      <td>8</td>\n",
       "      <td>E</td>\n",
       "    </tr>\n",
       "    <tr>\n",
       "      <td>4</td>\n",
       "      <td>Pokemon Red/Pokemon Blue</td>\n",
       "      <td>GB</td>\n",
       "      <td>1996.0</td>\n",
       "      <td>Role-Playing</td>\n",
       "      <td>11.27</td>\n",
       "      <td>8.89</td>\n",
       "      <td>10.22</td>\n",
       "      <td>1.00</td>\n",
       "      <td>NaN</td>\n",
       "      <td>NaN</td>\n",
       "      <td>NaN</td>\n",
       "    </tr>\n",
       "  </tbody>\n",
       "</table>\n",
       "</div>"
      ],
      "text/plain": [
       "                       Name Platform  Year_of_Release         Genre  NA_sales  \\\n",
       "0                Wii Sports      Wii           2006.0        Sports     41.36   \n",
       "1         Super Mario Bros.      NES           1985.0      Platform     29.08   \n",
       "2            Mario Kart Wii      Wii           2008.0        Racing     15.68   \n",
       "3         Wii Sports Resort      Wii           2009.0        Sports     15.61   \n",
       "4  Pokemon Red/Pokemon Blue       GB           1996.0  Role-Playing     11.27   \n",
       "\n",
       "   EU_sales  JP_sales  Other_sales  Critic_Score User_Score Rating  \n",
       "0     28.96      3.77         8.45          76.0          8      E  \n",
       "1      3.58      6.81         0.77           NaN        NaN    NaN  \n",
       "2     12.76      3.79         3.29          82.0        8.3      E  \n",
       "3     10.93      3.28         2.95          80.0          8      E  \n",
       "4      8.89     10.22         1.00           NaN        NaN    NaN  "
      ]
     },
     "metadata": {},
     "output_type": "display_data"
    },
    {
     "name": "stdout",
     "output_type": "stream",
     "text": [
      "<class 'pandas.core.frame.DataFrame'>\n",
      "RangeIndex: 16715 entries, 0 to 16714\n",
      "Data columns (total 11 columns):\n",
      "Name               16713 non-null object\n",
      "Platform           16715 non-null object\n",
      "Year_of_Release    16446 non-null float64\n",
      "Genre              16713 non-null object\n",
      "NA_sales           16715 non-null float64\n",
      "EU_sales           16715 non-null float64\n",
      "JP_sales           16715 non-null float64\n",
      "Other_sales        16715 non-null float64\n",
      "Critic_Score       8137 non-null float64\n",
      "User_Score         10014 non-null object\n",
      "Rating             9949 non-null object\n",
      "dtypes: float64(6), object(5)\n",
      "memory usage: 1.4+ MB\n"
     ]
    }
   ],
   "source": [
    "import pandas as pd\n",
    "from IPython.display import display\n",
    "import numpy as np\n",
    "import scipy.stats as sps\n",
    "import matplotlib.pyplot as plt\n",
    "import seaborn as sns\n",
    "from scipy import stats as st\n",
    "\n",
    "data= pd.read_csv('/datasets/games.csv')\n",
    "display(data.head())\n",
    "data.info()"
   ]
  },
  {
   "cell_type": "code",
   "execution_count": 2,
   "metadata": {},
   "outputs": [
    {
     "data": {
      "text/html": [
       "<div>\n",
       "<style scoped>\n",
       "    .dataframe tbody tr th:only-of-type {\n",
       "        vertical-align: middle;\n",
       "    }\n",
       "\n",
       "    .dataframe tbody tr th {\n",
       "        vertical-align: top;\n",
       "    }\n",
       "\n",
       "    .dataframe thead th {\n",
       "        text-align: right;\n",
       "    }\n",
       "</style>\n",
       "<table border=\"1\" class=\"dataframe\">\n",
       "  <thead>\n",
       "    <tr style=\"text-align: right;\">\n",
       "      <th></th>\n",
       "      <th>Year_of_Release</th>\n",
       "      <th>NA_sales</th>\n",
       "      <th>EU_sales</th>\n",
       "      <th>JP_sales</th>\n",
       "      <th>Other_sales</th>\n",
       "      <th>Critic_Score</th>\n",
       "    </tr>\n",
       "  </thead>\n",
       "  <tbody>\n",
       "    <tr>\n",
       "      <td>count</td>\n",
       "      <td>16446.000000</td>\n",
       "      <td>16715.000000</td>\n",
       "      <td>16715.000000</td>\n",
       "      <td>16715.000000</td>\n",
       "      <td>16715.000000</td>\n",
       "      <td>8137.000000</td>\n",
       "    </tr>\n",
       "    <tr>\n",
       "      <td>mean</td>\n",
       "      <td>2006.484616</td>\n",
       "      <td>0.263377</td>\n",
       "      <td>0.145060</td>\n",
       "      <td>0.077617</td>\n",
       "      <td>0.047342</td>\n",
       "      <td>68.967679</td>\n",
       "    </tr>\n",
       "    <tr>\n",
       "      <td>std</td>\n",
       "      <td>5.877050</td>\n",
       "      <td>0.813604</td>\n",
       "      <td>0.503339</td>\n",
       "      <td>0.308853</td>\n",
       "      <td>0.186731</td>\n",
       "      <td>13.938165</td>\n",
       "    </tr>\n",
       "    <tr>\n",
       "      <td>min</td>\n",
       "      <td>1980.000000</td>\n",
       "      <td>0.000000</td>\n",
       "      <td>0.000000</td>\n",
       "      <td>0.000000</td>\n",
       "      <td>0.000000</td>\n",
       "      <td>13.000000</td>\n",
       "    </tr>\n",
       "    <tr>\n",
       "      <td>25%</td>\n",
       "      <td>2003.000000</td>\n",
       "      <td>0.000000</td>\n",
       "      <td>0.000000</td>\n",
       "      <td>0.000000</td>\n",
       "      <td>0.000000</td>\n",
       "      <td>60.000000</td>\n",
       "    </tr>\n",
       "    <tr>\n",
       "      <td>50%</td>\n",
       "      <td>2007.000000</td>\n",
       "      <td>0.080000</td>\n",
       "      <td>0.020000</td>\n",
       "      <td>0.000000</td>\n",
       "      <td>0.010000</td>\n",
       "      <td>71.000000</td>\n",
       "    </tr>\n",
       "    <tr>\n",
       "      <td>75%</td>\n",
       "      <td>2010.000000</td>\n",
       "      <td>0.240000</td>\n",
       "      <td>0.110000</td>\n",
       "      <td>0.040000</td>\n",
       "      <td>0.030000</td>\n",
       "      <td>79.000000</td>\n",
       "    </tr>\n",
       "    <tr>\n",
       "      <td>max</td>\n",
       "      <td>2016.000000</td>\n",
       "      <td>41.360000</td>\n",
       "      <td>28.960000</td>\n",
       "      <td>10.220000</td>\n",
       "      <td>10.570000</td>\n",
       "      <td>98.000000</td>\n",
       "    </tr>\n",
       "  </tbody>\n",
       "</table>\n",
       "</div>"
      ],
      "text/plain": [
       "       Year_of_Release      NA_sales      EU_sales      JP_sales  \\\n",
       "count     16446.000000  16715.000000  16715.000000  16715.000000   \n",
       "mean       2006.484616      0.263377      0.145060      0.077617   \n",
       "std           5.877050      0.813604      0.503339      0.308853   \n",
       "min        1980.000000      0.000000      0.000000      0.000000   \n",
       "25%        2003.000000      0.000000      0.000000      0.000000   \n",
       "50%        2007.000000      0.080000      0.020000      0.000000   \n",
       "75%        2010.000000      0.240000      0.110000      0.040000   \n",
       "max        2016.000000     41.360000     28.960000     10.220000   \n",
       "\n",
       "        Other_sales  Critic_Score  \n",
       "count  16715.000000   8137.000000  \n",
       "mean       0.047342     68.967679  \n",
       "std        0.186731     13.938165  \n",
       "min        0.000000     13.000000  \n",
       "25%        0.000000     60.000000  \n",
       "50%        0.010000     71.000000  \n",
       "75%        0.030000     79.000000  \n",
       "max       10.570000     98.000000  "
      ]
     },
     "execution_count": 2,
     "metadata": {},
     "output_type": "execute_result"
    }
   ],
   "source": [
    "data.describe()"
   ]
  },
  {
   "cell_type": "code",
   "execution_count": 3,
   "metadata": {},
   "outputs": [],
   "source": [
    "data = data.rename(columns=\n",
    "                   {\n",
    "                       'Name': 'name',\n",
    "                       'Platform': 'platform',\n",
    "                       'Year_of_Release': 'year_of_release',\n",
    "                       'Genre': 'genre',\n",
    "                       'NA_sales': 'na_sales',\n",
    "                       'EU_sales': 'eu_sales',\n",
    "                       'JP_sales': 'jp_sales',\n",
    "                       'Other_sales': 'other_sales',\n",
    "                       'Critic_Score': 'critic_score',\n",
    "                       'User_Score': 'user_score',\n",
    "                       'Rating': 'rating',\n",
    "                   }\n",
    "                  )"
   ]
  },
  {
   "cell_type": "code",
   "execution_count": 4,
   "metadata": {},
   "outputs": [
    {
     "data": {
      "text/plain": [
       "Index(['name', 'platform', 'year_of_release', 'genre', 'na_sales', 'eu_sales',\n",
       "       'jp_sales', 'other_sales', 'critic_score', 'user_score', 'rating'],\n",
       "      dtype='object')"
      ]
     },
     "execution_count": 4,
     "metadata": {},
     "output_type": "execute_result"
    }
   ],
   "source": [
    "data.columns"
   ]
  },
  {
   "cell_type": "code",
   "execution_count": 5,
   "metadata": {},
   "outputs": [
    {
     "name": "stdout",
     "output_type": "stream",
     "text": [
      "Уникальные значения в столбце name\n",
      "need for speed: most wanted    12\n",
      "madden nfl 07                   9\n",
      "ratatouille                     9\n",
      "lego marvel super heroes        9\n",
      "fifa 14                         9\n",
      "                               ..\n",
      "g1 jockey wii                   1\n",
      "need for speed: v-rally         1\n",
      "realsports volleyball           1\n",
      "super momotarou dentetsu dx     1\n",
      "uk truck simulator              1\n",
      "Name: name, Length: 11559, dtype: int64\n"
     ]
    }
   ],
   "source": [
    "#с учетом регистра уменьшаем кол-во уникальных значений\n",
    "data['name']=data['name'].str.lower()\n",
    "print('Уникальные значения в столбце name')\n",
    "print(data['name'].value_counts())"
   ]
  },
  {
   "cell_type": "code",
   "execution_count": 6,
   "metadata": {},
   "outputs": [
    {
     "name": "stdout",
     "output_type": "stream",
     "text": [
      "Уникальные значения в столбце platform\n",
      "ps2     2161\n",
      "ds      2151\n",
      "ps3     1331\n",
      "wii     1320\n",
      "x360    1262\n",
      "psp     1209\n",
      "ps      1197\n",
      "pc       974\n",
      "xb       824\n",
      "gba      822\n",
      "gc       556\n",
      "3ds      520\n",
      "psv      430\n",
      "ps4      392\n",
      "n64      319\n",
      "xone     247\n",
      "snes     239\n",
      "sat      173\n",
      "wiiu     147\n",
      "2600     133\n",
      "nes       98\n",
      "gb        98\n",
      "dc        52\n",
      "gen       29\n",
      "ng        12\n",
      "scd        6\n",
      "ws         6\n",
      "3do        3\n",
      "tg16       2\n",
      "gg         1\n",
      "pcfx       1\n",
      "Name: platform, dtype: int64\n"
     ]
    }
   ],
   "source": [
    "#с учетом регистра уменьшаем кол-во уникальных значений\n",
    "data['platform']=data['platform'].str.lower()\n",
    "print('Уникальные значения в столбце platform')\n",
    "print(data['platform'].value_counts())"
   ]
  },
  {
   "cell_type": "code",
   "execution_count": 7,
   "metadata": {},
   "outputs": [
    {
     "name": "stdout",
     "output_type": "stream",
     "text": [
      "Уникальные значения в столбце genre\n",
      "action          3369\n",
      "sports          2348\n",
      "misc            1750\n",
      "role-playing    1498\n",
      "shooter         1323\n",
      "adventure       1303\n",
      "racing          1249\n",
      "platform         888\n",
      "simulation       873\n",
      "fighting         849\n",
      "strategy         683\n",
      "puzzle           580\n",
      "Name: genre, dtype: int64\n"
     ]
    }
   ],
   "source": [
    "#с учетом регистра уменьшаем кол-во уникальных значений\n",
    "data['genre']=data['genre'].str.lower()\n",
    "print('Уникальные значения в столбце genre')\n",
    "print(data['genre'].value_counts())"
   ]
  },
  {
   "cell_type": "code",
   "execution_count": 8,
   "metadata": {},
   "outputs": [
    {
     "name": "stdout",
     "output_type": "stream",
     "text": [
      "Уникальные значения в столбце User_Score\n",
      "tbd    2424\n",
      "7.8     324\n",
      "8       290\n",
      "8.2     282\n",
      "8.3     254\n",
      "       ... \n",
      "0.5       2\n",
      "1.1       2\n",
      "1.5       2\n",
      "0         1\n",
      "9.7       1\n",
      "Name: user_score, Length: 96, dtype: int64\n"
     ]
    }
   ],
   "source": [
    "print('Уникальные значения в столбце User_Score')\n",
    "print(data['user_score'].value_counts())"
   ]
  },
  {
   "cell_type": "markdown",
   "metadata": {},
   "source": [
    "\n",
    "<div class=\"alert alert-info\">\n",
    "<b> </b>\n",
    "\n",
    "TBD - аббревиатура от английского To Be Determined (будет определено) или To Be Decided (будет решено). Используется, если какая-то информация еще не определена или решение по вопросу не принято.\n",
    "    \n",
    " \n",
    "</div>"
   ]
  },
  {
   "cell_type": "code",
   "execution_count": 9,
   "metadata": {},
   "outputs": [
    {
     "name": "stdout",
     "output_type": "stream",
     "text": [
      "Уникальные значения в столбце rating\n",
      "E       3990\n",
      "T       2961\n",
      "M       1563\n",
      "E10+    1420\n",
      "EC         8\n",
      "RP         3\n",
      "K-A        3\n",
      "AO         1\n",
      "Name: rating, dtype: int64\n"
     ]
    }
   ],
   "source": [
    "print('Уникальные значения в столбце rating')\n",
    "print(data['rating'].value_counts())"
   ]
  },
  {
   "cell_type": "markdown",
   "metadata": {},
   "source": [
    "<div class=\"alert alert-info\">\n",
    "<b> </b>\n",
    "\n",
    "Е — «Для всех»: Содержание вполне подходит для возрастной категории от 6 лет и старше\n",
    "\n",
    "Т — «Подросткам»: Игра подходит для лиц от 13 лет и старше. \n",
    "\n",
    "М - «Для взрослых»: Материалы игры не подходят для подростков младше 17 лет\n",
    "    \n",
    "E10+ — «Для всех от 10 лет и старше»\n",
    " \n",
    "</div>"
   ]
  },
  {
   "cell_type": "code",
   "execution_count": 10,
   "metadata": {},
   "outputs": [
    {
     "name": "stdout",
     "output_type": "stream",
     "text": [
      "Уникальные значения в столбце Critic_Score\n",
      "70.0    256\n",
      "71.0    254\n",
      "75.0    245\n",
      "78.0    240\n",
      "73.0    238\n",
      "       ... \n",
      "20.0      3\n",
      "17.0      1\n",
      "22.0      1\n",
      "13.0      1\n",
      "21.0      1\n",
      "Name: critic_score, Length: 82, dtype: int64\n"
     ]
    }
   ],
   "source": [
    "print('Уникальные значения в столбце Critic_Score')\n",
    "print(data['critic_score'].value_counts())"
   ]
  },
  {
   "cell_type": "code",
   "execution_count": 11,
   "metadata": {},
   "outputs": [
    {
     "name": "stdout",
     "output_type": "stream",
     "text": [
      "Уникальные значения в столбце year_of_release\n",
      "2008.0    1427\n",
      "2009.0    1426\n",
      "2010.0    1255\n",
      "2007.0    1197\n",
      "2011.0    1136\n",
      "2006.0    1006\n",
      "2005.0     939\n",
      "2002.0     829\n",
      "2003.0     775\n",
      "2004.0     762\n",
      "2012.0     653\n",
      "2015.0     606\n",
      "2014.0     581\n",
      "2013.0     544\n",
      "2016.0     502\n",
      "2001.0     482\n",
      "1998.0     379\n",
      "2000.0     350\n",
      "1999.0     338\n",
      "1997.0     289\n",
      "1996.0     263\n",
      "1995.0     219\n",
      "1994.0     121\n",
      "1993.0      62\n",
      "1981.0      46\n",
      "1992.0      43\n",
      "1991.0      41\n",
      "1982.0      36\n",
      "1986.0      21\n",
      "1989.0      17\n",
      "1983.0      17\n",
      "1990.0      16\n",
      "1987.0      16\n",
      "1988.0      15\n",
      "1985.0      14\n",
      "1984.0      14\n",
      "1980.0       9\n",
      "Name: year_of_release, dtype: int64\n"
     ]
    }
   ],
   "source": [
    "print('Уникальные значения в столбце year_of_release')\n",
    "print(data['year_of_release'].value_counts())"
   ]
  },
  {
   "cell_type": "markdown",
   "metadata": {},
   "source": [
    "\n",
    "<div class=\"alert alert-info\">\n",
    "<b> </b>\n",
    "\n",
    "1. 11559 игр - уник.значений\n",
    "2. 31 платформа - уник.значений\n",
    "3. 12 жанров  - уник.значений\n",
    "4. оценок пользователей - 96 уник.значений, из них 2424 - \"tbd\"\n",
    "5. Рейтинг - 8 уник.значений\n",
    "6. оценки критиков - 81 уник.значений\n",
    "7. колонки с продажами заполнены полностью\n",
    "    \n",
    " \n",
    "</div>"
   ]
  },
  {
   "cell_type": "markdown",
   "metadata": {},
   "source": [
    "<div class=\"alert alert-info\">\n",
    "<b> </b>\n",
    "\n",
    "В данных по названию игры и году выпуска были пропуски, удалили строки с этими пропусками, т.к. для анализа эти данные имеют значения и заменить пропуски нельзя. Строки с пропусками оценки критиков, пользователей и рейтинг оставили, заполнять пропущенные значения не стали, т.к. оценки зависят от игры, платформы. Уникальных значений игр более 11 000 и 31 платформа, комбинаций игра-платформа огромное кол-во, поэтому замена средним, медианой не подойдет.\n",
    "\n",
    "Отсутствующие значения в оценках критиков и пользователей, 'tbd' заменим на \"0\". В анализе отсутствующие значения брать в расчет не будем.\n",
    " \n",
    "</div>"
   ]
  },
  {
   "cell_type": "markdown",
   "metadata": {},
   "source": [
    "## Предобработка данных"
   ]
  },
  {
   "cell_type": "code",
   "execution_count": 12,
   "metadata": {},
   "outputs": [
    {
     "name": "stdout",
     "output_type": "stream",
     "text": [
      "<class 'pandas.core.frame.DataFrame'>\n",
      "Int64Index: 16444 entries, 0 to 16714\n",
      "Data columns (total 11 columns):\n",
      "name               16444 non-null object\n",
      "platform           16444 non-null object\n",
      "year_of_release    16444 non-null float64\n",
      "genre              16444 non-null object\n",
      "na_sales           16444 non-null float64\n",
      "eu_sales           16444 non-null float64\n",
      "jp_sales           16444 non-null float64\n",
      "other_sales        16444 non-null float64\n",
      "critic_score       7983 non-null float64\n",
      "user_score         9839 non-null object\n",
      "rating             9768 non-null object\n",
      "dtypes: float64(6), object(5)\n",
      "memory usage: 1.5+ MB\n"
     ]
    }
   ],
   "source": [
    "data.dropna(subset = ['name', 'year_of_release'], inplace = True)\n",
    "data = data.drop_duplicates() # удалим дубликаты в таблице\n",
    "data.info()"
   ]
  },
  {
   "cell_type": "code",
   "execution_count": 13,
   "metadata": {},
   "outputs": [
    {
     "name": "stdout",
     "output_type": "stream",
     "text": [
      "<class 'pandas.core.frame.DataFrame'>\n",
      "Int64Index: 16444 entries, 0 to 16714\n",
      "Data columns (total 11 columns):\n",
      "name               16444 non-null object\n",
      "platform           16444 non-null object\n",
      "year_of_release    16444 non-null float64\n",
      "genre              16444 non-null object\n",
      "na_sales           16444 non-null float64\n",
      "eu_sales           16444 non-null float64\n",
      "jp_sales           16444 non-null float64\n",
      "other_sales        16444 non-null float64\n",
      "critic_score       7983 non-null float64\n",
      "user_score         16444 non-null float64\n",
      "rating             9768 non-null object\n",
      "dtypes: float64(7), object(4)\n",
      "memory usage: 1.5+ MB\n"
     ]
    }
   ],
   "source": [
    "data['user_score'] = data['user_score'].fillna(0) #заменяем отсутствующие значения на 0\n",
    "data['user_score'] = data['user_score'].replace('tbd', 0)\n",
    "data = data.astype({'user_score':'float64'})\n",
    "data.info()"
   ]
  },
  {
   "cell_type": "code",
   "execution_count": 14,
   "metadata": {},
   "outputs": [],
   "source": [
    "data['critic_score'] = data['critic_score'].fillna(0) #заменяем отсутствующие значения на 0\n",
    "data['rating'] = data['rating'].fillna(0)"
   ]
  },
  {
   "cell_type": "code",
   "execution_count": 15,
   "metadata": {},
   "outputs": [
    {
     "name": "stdout",
     "output_type": "stream",
     "text": [
      "<class 'pandas.core.frame.DataFrame'>\n",
      "Int64Index: 16444 entries, 0 to 16714\n",
      "Data columns (total 11 columns):\n",
      "name               16444 non-null object\n",
      "platform           16444 non-null object\n",
      "year_of_release    16444 non-null int64\n",
      "genre              16444 non-null object\n",
      "na_sales           16444 non-null float64\n",
      "eu_sales           16444 non-null float64\n",
      "jp_sales           16444 non-null float64\n",
      "other_sales        16444 non-null float64\n",
      "critic_score       16444 non-null int64\n",
      "user_score         16444 non-null float64\n",
      "rating             16444 non-null object\n",
      "dtypes: float64(5), int64(2), object(4)\n",
      "memory usage: 1.5+ MB\n"
     ]
    }
   ],
   "source": [
    "data = data.astype(\n",
    "    {\n",
    "        'year_of_release':'int',\n",
    "        'critic_score':'int',\n",
    "        }\n",
    ")\n",
    "data.info()"
   ]
  },
  {
   "cell_type": "code",
   "execution_count": 16,
   "metadata": {},
   "outputs": [
    {
     "data": {
      "text/html": [
       "<div>\n",
       "<style scoped>\n",
       "    .dataframe tbody tr th:only-of-type {\n",
       "        vertical-align: middle;\n",
       "    }\n",
       "\n",
       "    .dataframe tbody tr th {\n",
       "        vertical-align: top;\n",
       "    }\n",
       "\n",
       "    .dataframe thead th {\n",
       "        text-align: right;\n",
       "    }\n",
       "</style>\n",
       "<table border=\"1\" class=\"dataframe\">\n",
       "  <thead>\n",
       "    <tr style=\"text-align: right;\">\n",
       "      <th></th>\n",
       "      <th>year_of_release</th>\n",
       "      <th>na_sales</th>\n",
       "      <th>eu_sales</th>\n",
       "      <th>jp_sales</th>\n",
       "      <th>other_sales</th>\n",
       "      <th>critic_score</th>\n",
       "      <th>user_score</th>\n",
       "    </tr>\n",
       "  </thead>\n",
       "  <tbody>\n",
       "    <tr>\n",
       "      <td>count</td>\n",
       "      <td>16444.000000</td>\n",
       "      <td>16444.000000</td>\n",
       "      <td>16444.000000</td>\n",
       "      <td>16444.000000</td>\n",
       "      <td>16444.000000</td>\n",
       "      <td>16444.000000</td>\n",
       "      <td>16444.000000</td>\n",
       "    </tr>\n",
       "    <tr>\n",
       "      <td>mean</td>\n",
       "      <td>2006.486256</td>\n",
       "      <td>0.264012</td>\n",
       "      <td>0.145930</td>\n",
       "      <td>0.078487</td>\n",
       "      <td>0.047594</td>\n",
       "      <td>33.494405</td>\n",
       "      <td>3.234237</td>\n",
       "    </tr>\n",
       "    <tr>\n",
       "      <td>std</td>\n",
       "      <td>5.875525</td>\n",
       "      <td>0.818378</td>\n",
       "      <td>0.506716</td>\n",
       "      <td>0.311100</td>\n",
       "      <td>0.188005</td>\n",
       "      <td>35.821558</td>\n",
       "      <td>3.689043</td>\n",
       "    </tr>\n",
       "    <tr>\n",
       "      <td>min</td>\n",
       "      <td>1980.000000</td>\n",
       "      <td>0.000000</td>\n",
       "      <td>0.000000</td>\n",
       "      <td>0.000000</td>\n",
       "      <td>0.000000</td>\n",
       "      <td>0.000000</td>\n",
       "      <td>0.000000</td>\n",
       "    </tr>\n",
       "    <tr>\n",
       "      <td>25%</td>\n",
       "      <td>2003.000000</td>\n",
       "      <td>0.000000</td>\n",
       "      <td>0.000000</td>\n",
       "      <td>0.000000</td>\n",
       "      <td>0.000000</td>\n",
       "      <td>0.000000</td>\n",
       "      <td>0.000000</td>\n",
       "    </tr>\n",
       "    <tr>\n",
       "      <td>50%</td>\n",
       "      <td>2007.000000</td>\n",
       "      <td>0.080000</td>\n",
       "      <td>0.020000</td>\n",
       "      <td>0.000000</td>\n",
       "      <td>0.010000</td>\n",
       "      <td>0.000000</td>\n",
       "      <td>0.000000</td>\n",
       "    </tr>\n",
       "    <tr>\n",
       "      <td>75%</td>\n",
       "      <td>2010.000000</td>\n",
       "      <td>0.240000</td>\n",
       "      <td>0.110000</td>\n",
       "      <td>0.040000</td>\n",
       "      <td>0.030000</td>\n",
       "      <td>70.000000</td>\n",
       "      <td>7.300000</td>\n",
       "    </tr>\n",
       "    <tr>\n",
       "      <td>max</td>\n",
       "      <td>2016.000000</td>\n",
       "      <td>41.360000</td>\n",
       "      <td>28.960000</td>\n",
       "      <td>10.220000</td>\n",
       "      <td>10.570000</td>\n",
       "      <td>98.000000</td>\n",
       "      <td>9.700000</td>\n",
       "    </tr>\n",
       "  </tbody>\n",
       "</table>\n",
       "</div>"
      ],
      "text/plain": [
       "       year_of_release      na_sales      eu_sales      jp_sales  \\\n",
       "count     16444.000000  16444.000000  16444.000000  16444.000000   \n",
       "mean       2006.486256      0.264012      0.145930      0.078487   \n",
       "std           5.875525      0.818378      0.506716      0.311100   \n",
       "min        1980.000000      0.000000      0.000000      0.000000   \n",
       "25%        2003.000000      0.000000      0.000000      0.000000   \n",
       "50%        2007.000000      0.080000      0.020000      0.000000   \n",
       "75%        2010.000000      0.240000      0.110000      0.040000   \n",
       "max        2016.000000     41.360000     28.960000     10.220000   \n",
       "\n",
       "        other_sales  critic_score    user_score  \n",
       "count  16444.000000  16444.000000  16444.000000  \n",
       "mean       0.047594     33.494405      3.234237  \n",
       "std        0.188005     35.821558      3.689043  \n",
       "min        0.000000      0.000000      0.000000  \n",
       "25%        0.000000      0.000000      0.000000  \n",
       "50%        0.010000      0.000000      0.000000  \n",
       "75%        0.030000     70.000000      7.300000  \n",
       "max       10.570000     98.000000      9.700000  "
      ]
     },
     "execution_count": 16,
     "metadata": {},
     "output_type": "execute_result"
    }
   ],
   "source": [
    "data.describe()"
   ]
  },
  {
   "cell_type": "code",
   "execution_count": 17,
   "metadata": {},
   "outputs": [
    {
     "data": {
      "text/html": [
       "<div>\n",
       "<style scoped>\n",
       "    .dataframe tbody tr th:only-of-type {\n",
       "        vertical-align: middle;\n",
       "    }\n",
       "\n",
       "    .dataframe tbody tr th {\n",
       "        vertical-align: top;\n",
       "    }\n",
       "\n",
       "    .dataframe thead th {\n",
       "        text-align: right;\n",
       "    }\n",
       "</style>\n",
       "<table border=\"1\" class=\"dataframe\">\n",
       "  <thead>\n",
       "    <tr style=\"text-align: right;\">\n",
       "      <th></th>\n",
       "      <th>name</th>\n",
       "      <th>platform</th>\n",
       "      <th>year_of_release</th>\n",
       "      <th>genre</th>\n",
       "      <th>na_sales</th>\n",
       "      <th>eu_sales</th>\n",
       "      <th>jp_sales</th>\n",
       "      <th>other_sales</th>\n",
       "      <th>critic_score</th>\n",
       "      <th>user_score</th>\n",
       "      <th>rating</th>\n",
       "      <th>sum_sales</th>\n",
       "    </tr>\n",
       "  </thead>\n",
       "  <tbody>\n",
       "    <tr>\n",
       "      <td>0</td>\n",
       "      <td>wii sports</td>\n",
       "      <td>wii</td>\n",
       "      <td>2006</td>\n",
       "      <td>sports</td>\n",
       "      <td>41.36</td>\n",
       "      <td>28.96</td>\n",
       "      <td>3.77</td>\n",
       "      <td>8.45</td>\n",
       "      <td>76</td>\n",
       "      <td>8.0</td>\n",
       "      <td>E</td>\n",
       "      <td>82.54</td>\n",
       "    </tr>\n",
       "    <tr>\n",
       "      <td>1</td>\n",
       "      <td>super mario bros.</td>\n",
       "      <td>nes</td>\n",
       "      <td>1985</td>\n",
       "      <td>platform</td>\n",
       "      <td>29.08</td>\n",
       "      <td>3.58</td>\n",
       "      <td>6.81</td>\n",
       "      <td>0.77</td>\n",
       "      <td>0</td>\n",
       "      <td>0.0</td>\n",
       "      <td>0</td>\n",
       "      <td>40.24</td>\n",
       "    </tr>\n",
       "    <tr>\n",
       "      <td>2</td>\n",
       "      <td>mario kart wii</td>\n",
       "      <td>wii</td>\n",
       "      <td>2008</td>\n",
       "      <td>racing</td>\n",
       "      <td>15.68</td>\n",
       "      <td>12.76</td>\n",
       "      <td>3.79</td>\n",
       "      <td>3.29</td>\n",
       "      <td>82</td>\n",
       "      <td>8.3</td>\n",
       "      <td>E</td>\n",
       "      <td>35.52</td>\n",
       "    </tr>\n",
       "    <tr>\n",
       "      <td>3</td>\n",
       "      <td>wii sports resort</td>\n",
       "      <td>wii</td>\n",
       "      <td>2009</td>\n",
       "      <td>sports</td>\n",
       "      <td>15.61</td>\n",
       "      <td>10.93</td>\n",
       "      <td>3.28</td>\n",
       "      <td>2.95</td>\n",
       "      <td>80</td>\n",
       "      <td>8.0</td>\n",
       "      <td>E</td>\n",
       "      <td>32.77</td>\n",
       "    </tr>\n",
       "    <tr>\n",
       "      <td>4</td>\n",
       "      <td>pokemon red/pokemon blue</td>\n",
       "      <td>gb</td>\n",
       "      <td>1996</td>\n",
       "      <td>role-playing</td>\n",
       "      <td>11.27</td>\n",
       "      <td>8.89</td>\n",
       "      <td>10.22</td>\n",
       "      <td>1.00</td>\n",
       "      <td>0</td>\n",
       "      <td>0.0</td>\n",
       "      <td>0</td>\n",
       "      <td>31.38</td>\n",
       "    </tr>\n",
       "  </tbody>\n",
       "</table>\n",
       "</div>"
      ],
      "text/plain": [
       "                       name platform  year_of_release         genre  na_sales  \\\n",
       "0                wii sports      wii             2006        sports     41.36   \n",
       "1         super mario bros.      nes             1985      platform     29.08   \n",
       "2            mario kart wii      wii             2008        racing     15.68   \n",
       "3         wii sports resort      wii             2009        sports     15.61   \n",
       "4  pokemon red/pokemon blue       gb             1996  role-playing     11.27   \n",
       "\n",
       "   eu_sales  jp_sales  other_sales  critic_score  user_score rating  sum_sales  \n",
       "0     28.96      3.77         8.45            76         8.0      E      82.54  \n",
       "1      3.58      6.81         0.77             0         0.0      0      40.24  \n",
       "2     12.76      3.79         3.29            82         8.3      E      35.52  \n",
       "3     10.93      3.28         2.95            80         8.0      E      32.77  \n",
       "4      8.89     10.22         1.00             0         0.0      0      31.38  "
      ]
     },
     "execution_count": 17,
     "metadata": {},
     "output_type": "execute_result"
    }
   ],
   "source": [
    "#data['sum_sales']=data['na_sales']+data['eu_sales']+data['jp_sales']+data['other_sales']\n",
    "data['sum_sales'] = data[['na_sales','eu_sales','jp_sales','other_sales']].sum(axis=1)\n",
    "data.head()"
   ]
  },
  {
   "cell_type": "code",
   "execution_count": 18,
   "metadata": {},
   "outputs": [
    {
     "data": {
      "text/html": [
       "<div>\n",
       "<style scoped>\n",
       "    .dataframe tbody tr th:only-of-type {\n",
       "        vertical-align: middle;\n",
       "    }\n",
       "\n",
       "    .dataframe tbody tr th {\n",
       "        vertical-align: top;\n",
       "    }\n",
       "\n",
       "    .dataframe thead th {\n",
       "        text-align: right;\n",
       "    }\n",
       "</style>\n",
       "<table border=\"1\" class=\"dataframe\">\n",
       "  <thead>\n",
       "    <tr style=\"text-align: right;\">\n",
       "      <th></th>\n",
       "      <th>name</th>\n",
       "      <th>platform</th>\n",
       "      <th>year_of_release</th>\n",
       "      <th>genre</th>\n",
       "      <th>na_sales</th>\n",
       "      <th>eu_sales</th>\n",
       "      <th>jp_sales</th>\n",
       "      <th>other_sales</th>\n",
       "      <th>critic_score</th>\n",
       "      <th>user_score</th>\n",
       "      <th>rating</th>\n",
       "      <th>sum_sales</th>\n",
       "    </tr>\n",
       "  </thead>\n",
       "  <tbody>\n",
       "    <tr>\n",
       "      <td>16676</td>\n",
       "      <td>g1 jockey 4 2008</td>\n",
       "      <td>ps3</td>\n",
       "      <td>2008</td>\n",
       "      <td>sports</td>\n",
       "      <td>0.0</td>\n",
       "      <td>0.0</td>\n",
       "      <td>0.0</td>\n",
       "      <td>0.0</td>\n",
       "      <td>0</td>\n",
       "      <td>0.0</td>\n",
       "      <td>0</td>\n",
       "      <td>0.0</td>\n",
       "    </tr>\n",
       "    <tr>\n",
       "      <td>16709</td>\n",
       "      <td>score international baja 1000: the official game</td>\n",
       "      <td>ps2</td>\n",
       "      <td>2008</td>\n",
       "      <td>racing</td>\n",
       "      <td>0.0</td>\n",
       "      <td>0.0</td>\n",
       "      <td>0.0</td>\n",
       "      <td>0.0</td>\n",
       "      <td>0</td>\n",
       "      <td>0.0</td>\n",
       "      <td>0</td>\n",
       "      <td>0.0</td>\n",
       "    </tr>\n",
       "  </tbody>\n",
       "</table>\n",
       "</div>"
      ],
      "text/plain": [
       "                                                   name platform  \\\n",
       "16676                                  g1 jockey 4 2008      ps3   \n",
       "16709  score international baja 1000: the official game      ps2   \n",
       "\n",
       "       year_of_release   genre  na_sales  eu_sales  jp_sales  other_sales  \\\n",
       "16676             2008  sports       0.0       0.0       0.0          0.0   \n",
       "16709             2008  racing       0.0       0.0       0.0          0.0   \n",
       "\n",
       "       critic_score  user_score rating  sum_sales  \n",
       "16676             0         0.0      0        0.0  \n",
       "16709             0         0.0      0        0.0  "
      ]
     },
     "execution_count": 18,
     "metadata": {},
     "output_type": "execute_result"
    }
   ],
   "source": [
    "data.query('sum_sales==0')"
   ]
  },
  {
   "cell_type": "code",
   "execution_count": 19,
   "metadata": {},
   "outputs": [
    {
     "name": "stdout",
     "output_type": "stream",
     "text": [
      "<class 'pandas.core.frame.DataFrame'>\n",
      "Int64Index: 16442 entries, 0 to 16714\n",
      "Data columns (total 12 columns):\n",
      "name               16442 non-null object\n",
      "platform           16442 non-null object\n",
      "year_of_release    16442 non-null int64\n",
      "genre              16442 non-null object\n",
      "na_sales           16442 non-null float64\n",
      "eu_sales           16442 non-null float64\n",
      "jp_sales           16442 non-null float64\n",
      "other_sales        16442 non-null float64\n",
      "critic_score       16442 non-null int64\n",
      "user_score         16442 non-null float64\n",
      "rating             16442 non-null object\n",
      "sum_sales          16442 non-null float64\n",
      "dtypes: float64(6), int64(2), object(4)\n",
      "memory usage: 1.6+ MB\n"
     ]
    }
   ],
   "source": [
    "data=data.query('sum_sales>0')\n",
    "data.info()"
   ]
  },
  {
   "cell_type": "code",
   "execution_count": 20,
   "metadata": {},
   "outputs": [
    {
     "data": {
      "text/html": [
       "<div>\n",
       "<style scoped>\n",
       "    .dataframe tbody tr th:only-of-type {\n",
       "        vertical-align: middle;\n",
       "    }\n",
       "\n",
       "    .dataframe tbody tr th {\n",
       "        vertical-align: top;\n",
       "    }\n",
       "\n",
       "    .dataframe thead th {\n",
       "        text-align: right;\n",
       "    }\n",
       "</style>\n",
       "<table border=\"1\" class=\"dataframe\">\n",
       "  <thead>\n",
       "    <tr style=\"text-align: right;\">\n",
       "      <th></th>\n",
       "      <th>year_of_release</th>\n",
       "      <th>na_sales</th>\n",
       "      <th>eu_sales</th>\n",
       "      <th>jp_sales</th>\n",
       "      <th>other_sales</th>\n",
       "      <th>critic_score</th>\n",
       "      <th>user_score</th>\n",
       "      <th>sum_sales</th>\n",
       "    </tr>\n",
       "  </thead>\n",
       "  <tbody>\n",
       "    <tr>\n",
       "      <td>count</td>\n",
       "      <td>16442.000000</td>\n",
       "      <td>16442.000000</td>\n",
       "      <td>16442.000000</td>\n",
       "      <td>16442.000000</td>\n",
       "      <td>16442.000000</td>\n",
       "      <td>16442.000000</td>\n",
       "      <td>16442.000000</td>\n",
       "      <td>16442.000000</td>\n",
       "    </tr>\n",
       "    <tr>\n",
       "      <td>mean</td>\n",
       "      <td>2006.486072</td>\n",
       "      <td>0.264045</td>\n",
       "      <td>0.145948</td>\n",
       "      <td>0.078497</td>\n",
       "      <td>0.047599</td>\n",
       "      <td>33.498480</td>\n",
       "      <td>3.234631</td>\n",
       "      <td>0.536089</td>\n",
       "    </tr>\n",
       "    <tr>\n",
       "      <td>std</td>\n",
       "      <td>5.875859</td>\n",
       "      <td>0.818422</td>\n",
       "      <td>0.506745</td>\n",
       "      <td>0.311118</td>\n",
       "      <td>0.188016</td>\n",
       "      <td>35.821831</td>\n",
       "      <td>3.689095</td>\n",
       "      <td>1.558869</td>\n",
       "    </tr>\n",
       "    <tr>\n",
       "      <td>min</td>\n",
       "      <td>1980.000000</td>\n",
       "      <td>0.000000</td>\n",
       "      <td>0.000000</td>\n",
       "      <td>0.000000</td>\n",
       "      <td>0.000000</td>\n",
       "      <td>0.000000</td>\n",
       "      <td>0.000000</td>\n",
       "      <td>0.010000</td>\n",
       "    </tr>\n",
       "    <tr>\n",
       "      <td>25%</td>\n",
       "      <td>2003.000000</td>\n",
       "      <td>0.000000</td>\n",
       "      <td>0.000000</td>\n",
       "      <td>0.000000</td>\n",
       "      <td>0.000000</td>\n",
       "      <td>0.000000</td>\n",
       "      <td>0.000000</td>\n",
       "      <td>0.060000</td>\n",
       "    </tr>\n",
       "    <tr>\n",
       "      <td>50%</td>\n",
       "      <td>2007.000000</td>\n",
       "      <td>0.080000</td>\n",
       "      <td>0.020000</td>\n",
       "      <td>0.000000</td>\n",
       "      <td>0.010000</td>\n",
       "      <td>0.000000</td>\n",
       "      <td>0.000000</td>\n",
       "      <td>0.170000</td>\n",
       "    </tr>\n",
       "    <tr>\n",
       "      <td>75%</td>\n",
       "      <td>2010.000000</td>\n",
       "      <td>0.240000</td>\n",
       "      <td>0.110000</td>\n",
       "      <td>0.040000</td>\n",
       "      <td>0.030000</td>\n",
       "      <td>70.000000</td>\n",
       "      <td>7.300000</td>\n",
       "      <td>0.470000</td>\n",
       "    </tr>\n",
       "    <tr>\n",
       "      <td>max</td>\n",
       "      <td>2016.000000</td>\n",
       "      <td>41.360000</td>\n",
       "      <td>28.960000</td>\n",
       "      <td>10.220000</td>\n",
       "      <td>10.570000</td>\n",
       "      <td>98.000000</td>\n",
       "      <td>9.700000</td>\n",
       "      <td>82.540000</td>\n",
       "    </tr>\n",
       "  </tbody>\n",
       "</table>\n",
       "</div>"
      ],
      "text/plain": [
       "       year_of_release      na_sales      eu_sales      jp_sales  \\\n",
       "count     16442.000000  16442.000000  16442.000000  16442.000000   \n",
       "mean       2006.486072      0.264045      0.145948      0.078497   \n",
       "std           5.875859      0.818422      0.506745      0.311118   \n",
       "min        1980.000000      0.000000      0.000000      0.000000   \n",
       "25%        2003.000000      0.000000      0.000000      0.000000   \n",
       "50%        2007.000000      0.080000      0.020000      0.000000   \n",
       "75%        2010.000000      0.240000      0.110000      0.040000   \n",
       "max        2016.000000     41.360000     28.960000     10.220000   \n",
       "\n",
       "        other_sales  critic_score    user_score     sum_sales  \n",
       "count  16442.000000  16442.000000  16442.000000  16442.000000  \n",
       "mean       0.047599     33.498480      3.234631      0.536089  \n",
       "std        0.188016     35.821831      3.689095      1.558869  \n",
       "min        0.000000      0.000000      0.000000      0.010000  \n",
       "25%        0.000000      0.000000      0.000000      0.060000  \n",
       "50%        0.010000      0.000000      0.000000      0.170000  \n",
       "75%        0.030000     70.000000      7.300000      0.470000  \n",
       "max       10.570000     98.000000      9.700000     82.540000  "
      ]
     },
     "execution_count": 20,
     "metadata": {},
     "output_type": "execute_result"
    }
   ],
   "source": [
    "data.describe()"
   ]
  },
  {
   "cell_type": "markdown",
   "metadata": {},
   "source": [
    "## Анализ данных"
   ]
  },
  {
   "cell_type": "markdown",
   "metadata": {},
   "source": [
    "### Кол-во игр выпущенных в год"
   ]
  },
  {
   "cell_type": "code",
   "execution_count": 21,
   "metadata": {},
   "outputs": [
    {
     "data": {
      "image/png": "[encoded data removed]",
      "text/plain": [
       "<Figure size 864x288 with 1 Axes>"
      ]
     },
     "metadata": {
      "needs_background": "light"
     },
     "output_type": "display_data"
    }
   ],
   "source": [
    "data.pivot_table(index='year_of_release', values='name', aggfunc = 'count').plot(kind='bar', figsize=(12,4)).set_title('Кол-во выпущенных игр ежегодно')\n",
    "plt.xlabel(\"Год\") \n",
    "plt.ylabel(\"Кол-во игр\"); "
   ]
  },
  {
   "cell_type": "markdown",
   "metadata": {},
   "source": [
    "<div class=\"alert alert-info\">\n",
    "<b></b>\n",
    "\n",
    "Максимальный подъем по кол-ву выпущенных игр ежегодно был 2008-2009 годы, далее пошел спад, а с 2012 года ситуация выровнялась, поэтому был проанализирован период с 2012 года включительно.  Необходимо было выявить какие платформы несмотря на общий спад набирали обороты по выручкам и по кол-ву выпущенных игр в эти годы. Именно это и поможет выбрать прибыльную рекламную стратегию.\n",
    " \n",
    "</div>\n",
    "\n"
   ]
  },
  {
   "cell_type": "markdown",
   "metadata": {},
   "source": [
    "<div class=\"alert alert-info\">\n",
    "<b> С 2002 года кол-во выпускаемых игр стало значительно расти, а с 2012 резко сократилось</b>\n",
    "\n",
    "Посмотрим на динамику платформ с 2012 года.\n",
    " \n",
    "</div>"
   ]
  },
  {
   "cell_type": "markdown",
   "metadata": {},
   "source": [
    "<div class=\"alert alert-info\">\n",
    "<b> Построила несколько графиков, по 5 лет каждый для наглядности</b>\n",
    "\n",
    "Платформы \"живут\" недолго, несколько лет. Платформа pc продержалась с 1995 года, \n",
    "остальные появлялись и исчезали.\n",
    "\n",
    "С 2010 года увеличивают обороты по кол-ву игр следующие платформы:\n",
    "xone, psv, ps4.\n",
    "pc и 3ds - на одном уровне держутся.\n",
    " \n",
    "</div>"
   ]
  },
  {
   "cell_type": "code",
   "execution_count": 22,
   "metadata": {},
   "outputs": [
    {
     "data": {
      "image/png": "[encoded data removed]",
      "text/plain": [
       "<Figure size 864x288 with 1 Axes>"
      ]
     },
     "metadata": {
      "needs_background": "light"
     },
     "output_type": "display_data"
    }
   ],
   "source": [
    "data.query('1995 <= year_of_release <2000').pivot_table(index=['platform', 'year_of_release'], values='name', aggfunc = 'count').plot(kind='bar', figsize=(12,4)).set_title('Кол-во задействованных платформ ежегодно')\n",
    "plt.xlabel(\"Год\") \n",
    "plt.ylabel(\"Кол-во платформ\"); "
   ]
  },
  {
   "cell_type": "code",
   "execution_count": 23,
   "metadata": {},
   "outputs": [
    {
     "data": {
      "image/png": "[encoded data removed]",
      "text/plain": [
       "<Figure size 864x288 with 1 Axes>"
      ]
     },
     "metadata": {
      "needs_background": "light"
     },
     "output_type": "display_data"
    }
   ],
   "source": [
    "data.query('2000 <= year_of_release <2005').pivot_table(index=['platform', 'year_of_release'], values='name', aggfunc = 'count').plot(kind='bar', figsize=(12,4)).set_title('Кол-во задействованных платформ ежегодно')\n",
    "plt.xlabel(\"Год\") \n",
    "plt.ylabel(\"Кол-во платформ\"); "
   ]
  },
  {
   "cell_type": "code",
   "execution_count": 24,
   "metadata": {},
   "outputs": [
    {
     "data": {
      "image/png": "[encoded data removed]",
      "text/plain": [
       "<Figure size 864x288 with 1 Axes>"
      ]
     },
     "metadata": {
      "needs_background": "light"
     },
     "output_type": "display_data"
    }
   ],
   "source": [
    "data.query('2005 <= year_of_release <2010').pivot_table(index=['platform', 'year_of_release'], values='name', aggfunc = 'count').plot(kind='bar', figsize=(12,4)).set_title('Кол-во задействованных платформ ежегодно')\n",
    "plt.xlabel(\"Год\") \n",
    "plt.ylabel(\"Кол-во платформ\"); "
   ]
  },
  {
   "cell_type": "code",
   "execution_count": 25,
   "metadata": {},
   "outputs": [
    {
     "data": {
      "image/png": "[encoded data removed]",
      "text/plain": [
       "<Figure size 864x288 with 1 Axes>"
      ]
     },
     "metadata": {
      "needs_background": "light"
     },
     "output_type": "display_data"
    }
   ],
   "source": [
    "data.query('2010 <= year_of_release <2016').pivot_table(index=['platform', 'year_of_release'], values='name', aggfunc = 'count').plot(kind='bar', figsize=(12,4)).set_title('Кол-во задействованных платформ ежегодно')\n",
    "plt.xlabel(\"Год\") \n",
    "plt.ylabel(\"Кол-во платформ\"); "
   ]
  },
  {
   "cell_type": "code",
   "execution_count": 26,
   "metadata": {},
   "outputs": [
    {
     "data": {
      "image/png": "[encoded data removed]",
      "text/plain": [
       "<Figure size 1080x288 with 1 Axes>"
      ]
     },
     "metadata": {
      "needs_background": "light"
     },
     "output_type": "display_data"
    }
   ],
   "source": [
    "data.query('2012 <= year_of_release < 2016').groupby('year_of_release')['platform'].value_counts().plot(kind='bar', figsize=(15,4)).set_title('Динамика появления/исчезновения платформ') \n",
    "plt.xlabel('Год') \n",
    "plt.ylabel('Кол-во игр'); \n",
    "plt.show()"
   ]
  },
  {
   "cell_type": "markdown",
   "metadata": {},
   "source": [
    "<div class=\"alert alert-info\">\n",
    "<b> К 2016 году больше игр появляется на платформах: </b>\n",
    "\n",
    "1. ps4\n",
    "    \n",
    "2. psv\n",
    "    \n",
    "3. xone\n",
    "    \n",
    "4. pc\n",
    "    \n",
    "5. 3ds - ровно\n",
    "    \n",
    "**Посмотрим как менялись продажи по платформам с 2012 года**\n",
    " \n",
    "</div>"
   ]
  },
  {
   "cell_type": "markdown",
   "metadata": {},
   "source": [
    "### Выручка по каждой платформе с 2012 года"
   ]
  },
  {
   "cell_type": "code",
   "execution_count": 27,
   "metadata": {},
   "outputs": [
    {
     "data": {
      "image/png": "[encoded data removed]",
      "text/plain": [
       "<Figure size 864x288 with 1 Axes>"
      ]
     },
     "metadata": {
      "needs_background": "light"
     },
     "output_type": "display_data"
    }
   ],
   "source": [
    "#т.к. данные за 2016 м.б. не полные, не включаем 2016 год\n",
    "data.query('2012<=year_of_release<2016').pivot_table(\n",
    "    index=['year_of_release', 'platform'], values='sum_sales', aggfunc = 'sum'\n",
    ").plot(kind='bar', figsize=(12,4)).set_title(\n",
    "    'Продажи по платформам с 2012 года')\n",
    "plt.xlabel(\"Год/Платформа\") \n",
    "plt.ylabel(\"Выручка\"); "
   ]
  },
  {
   "cell_type": "markdown",
   "metadata": {},
   "source": [
    "<div class=\"alert alert-info\">\n",
    "<b> К 2016 году продажи увеличиваются на платформах: </b>\n",
    "\n",
    "1. ps4\n",
    "    \n",
    "2. xone\n",
    "    \n",
    "\n",
    "**Посмотрим продажи по платформам за период с 2012 года** \n",
    "</div>"
   ]
  },
  {
   "cell_type": "markdown",
   "metadata": {},
   "source": [
    "<div class=\"alert alert-info\">\n",
    "<b> </b>\n",
    "   \n",
    "**Лидеры с 2012 до 2016 включительно и одновременно положительная динамика роста - ps4, xone**\n",
    "    \n",
    "    \n",
    "</div>"
   ]
  },
  {
   "cell_type": "markdown",
   "metadata": {},
   "source": [
    "<div class=\"alert alert-info\">\n",
    "<b>3DS востребована, по кол-ву \n",
    "игр на ней с 2010 года держится в одном состоянии. Эта платформа востребована у JP. EU и NA ей\n",
    "гораздо меньше пользуются</b>\n",
    "\n",
    "    \n",
    "</div>"
   ]
  },
  {
   "cell_type": "markdown",
   "metadata": {},
   "source": [
    "<div class=\"alert alert-info\">\n",
    "<b> Последующий анализ данных будем проводить с 2012 года включительно </b>\n",
    " \n",
    " \n",
    "</div>"
   ]
  },
  {
   "cell_type": "code",
   "execution_count": 28,
   "metadata": {},
   "outputs": [],
   "source": [
    "data=data.query('year_of_release>=2012')"
   ]
  },
  {
   "cell_type": "markdown",
   "metadata": {},
   "source": [
    "### Лидеры платформ с 2012 года"
   ]
  },
  {
   "cell_type": "code",
   "execution_count": 29,
   "metadata": {},
   "outputs": [
    {
     "data": {
      "image/png": "[encoded data removed]",
      "text/plain": [
       "<Figure size 864x288 with 1 Axes>"
      ]
     },
     "metadata": {
      "needs_background": "light"
     },
     "output_type": "display_data"
    }
   ],
   "source": [
    "data.query('platform == \"ps4\"').groupby('year_of_release')['sum_sales'].sum().plot(kind='bar', figsize=(12,4)).set_title('Кол-во игр на платформе \"ps4\" ежегодно')\n",
    "plt.xlabel('Год') \n",
    "plt.ylabel('Кол-во игр'); \n",
    "plt.show()"
   ]
  },
  {
   "cell_type": "code",
   "execution_count": 30,
   "metadata": {},
   "outputs": [
    {
     "data": {
      "image/png": "[encoded data removed]",
      "text/plain": [
       "<Figure size 864x288 with 1 Axes>"
      ]
     },
     "metadata": {
      "needs_background": "light"
     },
     "output_type": "display_data"
    }
   ],
   "source": [
    "data.query('platform == \"xone\"').groupby('year_of_release')['platform'].count().plot(kind='bar', figsize=(12,4)).set_title('Кол-во игр на платформе \"xone\" ежегодно') \n",
    "plt.xlabel('Год') \n",
    "plt.ylabel('Кол-во игр'); \n",
    "plt.show()"
   ]
  },
  {
   "cell_type": "code",
   "execution_count": 31,
   "metadata": {},
   "outputs": [
    {
     "data": {
      "text/plain": [
       "1.9717549585739393"
      ]
     },
     "execution_count": 31,
     "metadata": {},
     "output_type": "execute_result"
    }
   ],
   "source": [
    "data.query('platform == \"ps4\"')['sum_sales'].sum()/data.query('platform == \"xone\"')['sum_sales'].sum()"
   ]
  },
  {
   "cell_type": "markdown",
   "metadata": {},
   "source": [
    "<div class=\"alert alert-info\">\n",
    "<b> Платформа ps4 принесла в 2 раза больше выручки, чем xone за 2012-2016 годы </b>\n",
    " \n",
    " \n",
    "</div>"
   ]
  },
  {
   "cell_type": "markdown",
   "metadata": {},
   "source": [
    "### Ящик с усами по платформам ps4, xone"
   ]
  },
  {
   "cell_type": "code",
   "execution_count": 32,
   "metadata": {},
   "outputs": [
    {
     "data": {
      "image/png": "[encoded data removed]",
      "text/plain": [
       "<Figure size 1152x720 with 1 Axes>"
      ]
     },
     "metadata": {
      "needs_background": "light"
     },
     "output_type": "display_data"
    }
   ],
   "source": [
    "data.query('(platform==\"xone\") or (platform==\"ps4\")').pivot_table(\n",
    "    columns ='platform', index='year_of_release', values='sum_sales', aggfunc='sum', fill_value=0\n",
    ").plot.box(figsize=(16,10)).set_title('Распределение выручки с основных платформ с 2012 по 2016 год')\n",
    "plt.xlabel(\"Платформа\") \n",
    "plt.ylabel(\"Выручка\"); \n",
    "plt.tight_layout()\n",
    "plt.show()"
   ]
  },
  {
   "cell_type": "markdown",
   "metadata": {},
   "source": [
    "<div class=\"alert alert-info\">\n",
    "<b> График подтверждает вышеуказанный вывод о разности выручки платформ ps4 и xone за 2012-2016 годы в пользу первой </b>\n",
    " \n",
    " \n",
    "</div>"
   ]
  },
  {
   "cell_type": "markdown",
   "metadata": {},
   "source": [
    "### Влияние отзывов на продажи"
   ]
  },
  {
   "cell_type": "code",
   "execution_count": 33,
   "metadata": {},
   "outputs": [
    {
     "data": {
      "text/html": [
       "<div>\n",
       "<style scoped>\n",
       "    .dataframe tbody tr th:only-of-type {\n",
       "        vertical-align: middle;\n",
       "    }\n",
       "\n",
       "    .dataframe tbody tr th {\n",
       "        vertical-align: top;\n",
       "    }\n",
       "\n",
       "    .dataframe thead th {\n",
       "        text-align: right;\n",
       "    }\n",
       "</style>\n",
       "<table border=\"1\" class=\"dataframe\">\n",
       "  <thead>\n",
       "    <tr style=\"text-align: right;\">\n",
       "      <th></th>\n",
       "      <th>name</th>\n",
       "      <th>platform</th>\n",
       "      <th>year_of_release</th>\n",
       "      <th>genre</th>\n",
       "      <th>na_sales</th>\n",
       "      <th>eu_sales</th>\n",
       "      <th>jp_sales</th>\n",
       "      <th>other_sales</th>\n",
       "      <th>critic_score</th>\n",
       "      <th>user_score</th>\n",
       "      <th>rating</th>\n",
       "      <th>sum_sales</th>\n",
       "    </tr>\n",
       "  </thead>\n",
       "  <tbody>\n",
       "    <tr>\n",
       "      <td>16</td>\n",
       "      <td>grand theft auto v</td>\n",
       "      <td>ps3</td>\n",
       "      <td>2013</td>\n",
       "      <td>action</td>\n",
       "      <td>7.02</td>\n",
       "      <td>9.09</td>\n",
       "      <td>0.98</td>\n",
       "      <td>3.96</td>\n",
       "      <td>97</td>\n",
       "      <td>8.2</td>\n",
       "      <td>M</td>\n",
       "      <td>21.05</td>\n",
       "    </tr>\n",
       "    <tr>\n",
       "      <td>23</td>\n",
       "      <td>grand theft auto v</td>\n",
       "      <td>x360</td>\n",
       "      <td>2013</td>\n",
       "      <td>action</td>\n",
       "      <td>9.66</td>\n",
       "      <td>5.14</td>\n",
       "      <td>0.06</td>\n",
       "      <td>1.41</td>\n",
       "      <td>97</td>\n",
       "      <td>8.1</td>\n",
       "      <td>M</td>\n",
       "      <td>16.27</td>\n",
       "    </tr>\n",
       "    <tr>\n",
       "      <td>31</td>\n",
       "      <td>call of duty: black ops 3</td>\n",
       "      <td>ps4</td>\n",
       "      <td>2015</td>\n",
       "      <td>shooter</td>\n",
       "      <td>6.03</td>\n",
       "      <td>5.86</td>\n",
       "      <td>0.36</td>\n",
       "      <td>2.38</td>\n",
       "      <td>0</td>\n",
       "      <td>0.0</td>\n",
       "      <td>0</td>\n",
       "      <td>14.63</td>\n",
       "    </tr>\n",
       "    <tr>\n",
       "      <td>33</td>\n",
       "      <td>pokemon x/pokemon y</td>\n",
       "      <td>3ds</td>\n",
       "      <td>2013</td>\n",
       "      <td>role-playing</td>\n",
       "      <td>5.28</td>\n",
       "      <td>4.19</td>\n",
       "      <td>4.35</td>\n",
       "      <td>0.78</td>\n",
       "      <td>0</td>\n",
       "      <td>0.0</td>\n",
       "      <td>0</td>\n",
       "      <td>14.60</td>\n",
       "    </tr>\n",
       "    <tr>\n",
       "      <td>34</td>\n",
       "      <td>call of duty: black ops ii</td>\n",
       "      <td>ps3</td>\n",
       "      <td>2012</td>\n",
       "      <td>shooter</td>\n",
       "      <td>4.99</td>\n",
       "      <td>5.73</td>\n",
       "      <td>0.65</td>\n",
       "      <td>2.42</td>\n",
       "      <td>83</td>\n",
       "      <td>5.3</td>\n",
       "      <td>M</td>\n",
       "      <td>13.79</td>\n",
       "    </tr>\n",
       "  </tbody>\n",
       "</table>\n",
       "</div>"
      ],
      "text/plain": [
       "                          name platform  year_of_release         genre  \\\n",
       "16          grand theft auto v      ps3             2013        action   \n",
       "23          grand theft auto v     x360             2013        action   \n",
       "31   call of duty: black ops 3      ps4             2015       shooter   \n",
       "33         pokemon x/pokemon y      3ds             2013  role-playing   \n",
       "34  call of duty: black ops ii      ps3             2012       shooter   \n",
       "\n",
       "    na_sales  eu_sales  jp_sales  other_sales  critic_score  user_score  \\\n",
       "16      7.02      9.09      0.98         3.96            97         8.2   \n",
       "23      9.66      5.14      0.06         1.41            97         8.1   \n",
       "31      6.03      5.86      0.36         2.38             0         0.0   \n",
       "33      5.28      4.19      4.35         0.78             0         0.0   \n",
       "34      4.99      5.73      0.65         2.42            83         5.3   \n",
       "\n",
       "   rating  sum_sales  \n",
       "16      M      21.05  \n",
       "23      M      16.27  \n",
       "31      0      14.63  \n",
       "33      0      14.60  \n",
       "34      M      13.79  "
      ]
     },
     "execution_count": 33,
     "metadata": {},
     "output_type": "execute_result"
    }
   ],
   "source": [
    "data.head()"
   ]
  },
  {
   "cell_type": "markdown",
   "metadata": {},
   "source": [
    "#### Платформа - ps4"
   ]
  },
  {
   "cell_type": "code",
   "execution_count": 34,
   "metadata": {},
   "outputs": [
    {
     "name": "stdout",
     "output_type": "stream",
     "text": [
      "0.406567902061781\n"
     ]
    },
    {
     "data": {
      "image/png": "[encoded data removed]",
      "text/plain": [
       "<Figure size 504x504 with 2 Axes>"
      ]
     },
     "metadata": {
      "needs_background": "light"
     },
     "output_type": "display_data"
    }
   ],
   "source": [
    "data_ps4=data.query('(platform==\"ps4\") & (critic_score>0)')\n",
    "data_ps4.plot(x='sum_sales', y = 'critic_score', title='Зависимость продаж от оценки критиков на платформе ps4', \n",
    "              kind='hexbin', gridsize=20, figsize=(7,7), sharex=False, grid=True)\n",
    "plt.xlabel(\"Продажи, млн.р.\") # подпись к оси X\n",
    "plt.ylabel(\"Оценка критиков\"); # подпись к оси Y\n",
    "print(data_ps4['sum_sales'].corr(data_ps4['critic_score']))"
   ]
  },
  {
   "cell_type": "markdown",
   "metadata": {},
   "source": [
    "<div class=\"alert alert-info\">\n",
    "<b> Больше продаж при оценке 70-80, но зависимость не сильная </b>\n",
    " \n",
    " \n",
    "</div>"
   ]
  },
  {
   "cell_type": "code",
   "execution_count": 35,
   "metadata": {},
   "outputs": [
    {
     "name": "stdout",
     "output_type": "stream",
     "text": [
      "-0.031957110204556376\n"
     ]
    },
    {
     "data": {
      "image/png": "[encoded data removed]",
      "text/plain": [
       "<Figure size 504x504 with 2 Axes>"
      ]
     },
     "metadata": {
      "needs_background": "light"
     },
     "output_type": "display_data"
    }
   ],
   "source": [
    "data_ps4_user=data.query('(platform==\"ps4\") & (user_score>0)')\n",
    "data_ps4_user.plot(x='sum_sales', y = 'user_score', title='Зависимость продаж от оценки пользователей на платформе ps4', \n",
    "              kind='hexbin', gridsize=20, figsize=(7,7), sharex=False, grid=True)\n",
    "plt.xlabel(\"Продажи, млн.р.\") # подпись к оси X\n",
    "plt.ylabel(\"Оценка пользователей\"); # подпись к оси Y\n",
    "print(data_ps4_user['sum_sales'].corr(data_ps4_user['user_score']))"
   ]
  },
  {
   "cell_type": "markdown",
   "metadata": {},
   "source": [
    "<div class=\"alert alert-info\">\n",
    "<b> Зависимость продаж от оценки пользователей отсутствует </b>\n",
    " \n",
    " \n",
    "</div>"
   ]
  },
  {
   "cell_type": "markdown",
   "metadata": {},
   "source": [
    "#### Платформа - xone"
   ]
  },
  {
   "cell_type": "code",
   "execution_count": 36,
   "metadata": {},
   "outputs": [
    {
     "name": "stdout",
     "output_type": "stream",
     "text": [
      "0.41699832800840175\n"
     ]
    },
    {
     "data": {
      "image/png": "[encoded data removed]",
      "text/plain": [
       "<Figure size 504x504 with 2 Axes>"
      ]
     },
     "metadata": {
      "needs_background": "light"
     },
     "output_type": "display_data"
    }
   ],
   "source": [
    "data_xone=data.query('(platform==\"xone\") & (critic_score>0)')\n",
    "data_xone.plot(x='sum_sales', y = 'critic_score', title='Зависимость продаж от оценки критиков на платформе xone', \n",
    "              kind='hexbin', gridsize=20, figsize=(7,7), sharex=False, grid=True)\n",
    "plt.xlabel(\"Продажи, млн.р.\") # подпись к оси X\n",
    "plt.ylabel(\"Оценка критиков\"); # подпись к оси Y\n",
    "print(data_xone['sum_sales'].corr(data_xone['critic_score']))"
   ]
  },
  {
   "cell_type": "markdown",
   "metadata": {},
   "source": [
    "<div class=\"alert alert-info\">\n",
    "<b> Больше продаж при оценке 60-80, особенно - 75, но зависимость не сильная </b>\n",
    " \n",
    " \n",
    "</div>"
   ]
  },
  {
   "cell_type": "code",
   "execution_count": 37,
   "metadata": {},
   "outputs": [
    {
     "name": "stdout",
     "output_type": "stream",
     "text": [
      "-0.06892505328279412\n"
     ]
    },
    {
     "data": {
      "image/png": "[encoded data removed]",
      "text/plain": [
       "<Figure size 504x504 with 2 Axes>"
      ]
     },
     "metadata": {
      "needs_background": "light"
     },
     "output_type": "display_data"
    }
   ],
   "source": [
    "data_xone_user=data.query('(platform==\"xone\") & (user_score>0)')\n",
    "data_xone_user.plot(x='sum_sales', y = 'user_score', title='Зависимость продаж от оценки пользователей на платформе xone', \n",
    "              kind='hexbin', gridsize=20, figsize=(7,7), sharex=False, grid=True)\n",
    "plt.xlabel(\"Продажи, млн.р.\") # подпись к оси X\n",
    "plt.ylabel(\"Оценка пользователей\"); # подпись к оси Y\n",
    "print(data_xone_user['sum_sales'].corr(data_xone_user['user_score']))"
   ]
  },
  {
   "cell_type": "markdown",
   "metadata": {},
   "source": [
    "<div class=\"alert alert-info\">\n",
    "<b> Зависимость продаж от оценки пользователей отсутствует </b>\n",
    " \n",
    " \n",
    "</div>"
   ]
  },
  {
   "cell_type": "markdown",
   "metadata": {},
   "source": [
    "#### Все платформы"
   ]
  },
  {
   "cell_type": "code",
   "execution_count": 38,
   "metadata": {},
   "outputs": [
    {
     "name": "stdout",
     "output_type": "stream",
     "text": [
      "0.2704968907388867\n"
     ]
    },
    {
     "data": {
      "image/png": "[encoded data removed]",
      "text/plain": [
       "<Figure size 504x504 with 2 Axes>"
      ]
     },
     "metadata": {
      "needs_background": "light"
     },
     "output_type": "display_data"
    }
   ],
   "source": [
    "data_all=data.query('(critic_score>0) & (platform != \"xone\") & (platform != \"ps4\")')\n",
    "data_all.plot(x='sum_sales', y = 'critic_score', title='Зависимость продаж от оценки критиков на всех платформах', \n",
    "              kind='hexbin', gridsize=20, figsize=(7,7), sharex=False, grid=True)\n",
    "plt.xlabel(\"Продажи, млн.р.\") # подпись к оси X\n",
    "plt.ylabel(\"Оценка критиков\"); # подпись к оси Y\n",
    "print(data_all['sum_sales'].corr(data_all['critic_score']))"
   ]
  },
  {
   "cell_type": "code",
   "execution_count": 39,
   "metadata": {},
   "outputs": [
    {
     "data": {
      "text/plain": [
       "ps3     214\n",
       "pc      198\n",
       "x360    171\n",
       "psv     107\n",
       "3ds     104\n",
       "wiiu     90\n",
       "wii       5\n",
       "psp       1\n",
       "ds        1\n",
       "Name: platform, dtype: int64"
      ]
     },
     "execution_count": 39,
     "metadata": {},
     "output_type": "execute_result"
    }
   ],
   "source": [
    "\n",
    "data_all.platform.value_counts()"
   ]
  },
  {
   "cell_type": "markdown",
   "metadata": {},
   "source": [
    "<div class=\"alert alert-info\">\n",
    "<b> Зависимость продаж от оценки критиков меньше, чем на предыдущих двух платформах </b>\n",
    " \n",
    " \n",
    "</div>"
   ]
  },
  {
   "cell_type": "markdown",
   "metadata": {},
   "source": [
    "### Влияние жанра на продажи"
   ]
  },
  {
   "cell_type": "code",
   "execution_count": 40,
   "metadata": {},
   "outputs": [
    {
     "data": {
      "text/plain": [
       "Index(['name', 'platform', 'year_of_release', 'genre', 'na_sales', 'eu_sales',\n",
       "       'jp_sales', 'other_sales', 'critic_score', 'user_score', 'rating',\n",
       "       'sum_sales'],\n",
       "      dtype='object')"
      ]
     },
     "execution_count": 40,
     "metadata": {},
     "output_type": "execute_result"
    }
   ],
   "source": [
    "data.columns"
   ]
  },
  {
   "cell_type": "code",
   "execution_count": 41,
   "metadata": {},
   "outputs": [
    {
     "data": {
      "image/png": "[encoded data removed]",
      "text/plain": [
       "<Figure size 864x288 with 1 Axes>"
      ]
     },
     "metadata": {
      "needs_background": "light"
     },
     "output_type": "display_data"
    }
   ],
   "source": [
    "data.pivot_table(\n",
    "    index=['genre'], values='sum_sales', aggfunc = 'sum'\n",
    ").plot(kind='bar', figsize=(12,4)).set_title(\n",
    "    'Влияние жанра на продажи')\n",
    "plt.xlabel(\"Жанр\") \n",
    "plt.ylabel(\"Выручка\"); "
   ]
  },
  {
   "cell_type": "markdown",
   "metadata": {},
   "source": [
    "<div class=\"alert alert-info\">\n",
    "<b> Лидеры продаж - action, shooter, role-playing, sports </b>\n",
    " \n",
    " \n",
    "</div>"
   ]
  },
  {
   "cell_type": "markdown",
   "metadata": {},
   "source": [
    "<div class=\"alert alert-info\">\n",
    "<b> Ниже сделала график с медиан.продажами</b>\n",
    "\n",
    "Лидирует shooter. \n",
    " \n",
    "</div>"
   ]
  },
  {
   "cell_type": "code",
   "execution_count": 42,
   "metadata": {},
   "outputs": [
    {
     "data": {
      "image/png": "[encoded data removed]",
      "text/plain": [
       "<Figure size 864x288 with 1 Axes>"
      ]
     },
     "metadata": {
      "needs_background": "light"
     },
     "output_type": "display_data"
    }
   ],
   "source": [
    "data.pivot_table(\n",
    "    index=['genre'], values='sum_sales', aggfunc = 'median'\n",
    ").plot(kind='bar', figsize=(12,4)).set_title(\n",
    "    'Влияние жанра на продажи')\n",
    "plt.xlabel(\"Жанр\") \n",
    "plt.ylabel(\"Медианные продажи\"); "
   ]
  },
  {
   "cell_type": "markdown",
   "metadata": {},
   "source": [
    "## Портрет пользователя каждого региона"
   ]
  },
  {
   "cell_type": "markdown",
   "metadata": {},
   "source": [
    "<div class=\"alert alert-info\">\n",
    "<b> Заменила отсутствующий рейтинг на \"0\" </b>\n",
    "\n",
    "Для пользователей JP после замены отсутствующих значений, картина сильно изменилась.\n",
    "\n",
    "Игры без рейтинга продаются на сумму в разы больше, чем игры с любым другим рейтингом.\n",
    " \n",
    "</div>"
   ]
  },
  {
   "cell_type": "code",
   "execution_count": 43,
   "metadata": {},
   "outputs": [
    {
     "data": {
      "text/html": [
       "<div>\n",
       "<style scoped>\n",
       "    .dataframe tbody tr th:only-of-type {\n",
       "        vertical-align: middle;\n",
       "    }\n",
       "\n",
       "    .dataframe tbody tr th {\n",
       "        vertical-align: top;\n",
       "    }\n",
       "\n",
       "    .dataframe thead th {\n",
       "        text-align: right;\n",
       "    }\n",
       "</style>\n",
       "<table border=\"1\" class=\"dataframe\">\n",
       "  <thead>\n",
       "    <tr style=\"text-align: right;\">\n",
       "      <th></th>\n",
       "      <th>name</th>\n",
       "      <th>platform</th>\n",
       "      <th>year_of_release</th>\n",
       "      <th>genre</th>\n",
       "      <th>na_sales</th>\n",
       "      <th>eu_sales</th>\n",
       "      <th>jp_sales</th>\n",
       "      <th>other_sales</th>\n",
       "      <th>critic_score</th>\n",
       "      <th>user_score</th>\n",
       "      <th>rating</th>\n",
       "      <th>sum_sales</th>\n",
       "    </tr>\n",
       "  </thead>\n",
       "  <tbody>\n",
       "    <tr>\n",
       "      <td>16</td>\n",
       "      <td>grand theft auto v</td>\n",
       "      <td>ps3</td>\n",
       "      <td>2013</td>\n",
       "      <td>action</td>\n",
       "      <td>7.02</td>\n",
       "      <td>9.09</td>\n",
       "      <td>0.98</td>\n",
       "      <td>3.96</td>\n",
       "      <td>97</td>\n",
       "      <td>8.2</td>\n",
       "      <td>M</td>\n",
       "      <td>21.05</td>\n",
       "    </tr>\n",
       "    <tr>\n",
       "      <td>23</td>\n",
       "      <td>grand theft auto v</td>\n",
       "      <td>x360</td>\n",
       "      <td>2013</td>\n",
       "      <td>action</td>\n",
       "      <td>9.66</td>\n",
       "      <td>5.14</td>\n",
       "      <td>0.06</td>\n",
       "      <td>1.41</td>\n",
       "      <td>97</td>\n",
       "      <td>8.1</td>\n",
       "      <td>M</td>\n",
       "      <td>16.27</td>\n",
       "    </tr>\n",
       "    <tr>\n",
       "      <td>31</td>\n",
       "      <td>call of duty: black ops 3</td>\n",
       "      <td>ps4</td>\n",
       "      <td>2015</td>\n",
       "      <td>shooter</td>\n",
       "      <td>6.03</td>\n",
       "      <td>5.86</td>\n",
       "      <td>0.36</td>\n",
       "      <td>2.38</td>\n",
       "      <td>0</td>\n",
       "      <td>0.0</td>\n",
       "      <td>0</td>\n",
       "      <td>14.63</td>\n",
       "    </tr>\n",
       "    <tr>\n",
       "      <td>33</td>\n",
       "      <td>pokemon x/pokemon y</td>\n",
       "      <td>3ds</td>\n",
       "      <td>2013</td>\n",
       "      <td>role-playing</td>\n",
       "      <td>5.28</td>\n",
       "      <td>4.19</td>\n",
       "      <td>4.35</td>\n",
       "      <td>0.78</td>\n",
       "      <td>0</td>\n",
       "      <td>0.0</td>\n",
       "      <td>0</td>\n",
       "      <td>14.60</td>\n",
       "    </tr>\n",
       "    <tr>\n",
       "      <td>34</td>\n",
       "      <td>call of duty: black ops ii</td>\n",
       "      <td>ps3</td>\n",
       "      <td>2012</td>\n",
       "      <td>shooter</td>\n",
       "      <td>4.99</td>\n",
       "      <td>5.73</td>\n",
       "      <td>0.65</td>\n",
       "      <td>2.42</td>\n",
       "      <td>83</td>\n",
       "      <td>5.3</td>\n",
       "      <td>M</td>\n",
       "      <td>13.79</td>\n",
       "    </tr>\n",
       "  </tbody>\n",
       "</table>\n",
       "</div>"
      ],
      "text/plain": [
       "                          name platform  year_of_release         genre  \\\n",
       "16          grand theft auto v      ps3             2013        action   \n",
       "23          grand theft auto v     x360             2013        action   \n",
       "31   call of duty: black ops 3      ps4             2015       shooter   \n",
       "33         pokemon x/pokemon y      3ds             2013  role-playing   \n",
       "34  call of duty: black ops ii      ps3             2012       shooter   \n",
       "\n",
       "    na_sales  eu_sales  jp_sales  other_sales  critic_score  user_score  \\\n",
       "16      7.02      9.09      0.98         3.96            97         8.2   \n",
       "23      9.66      5.14      0.06         1.41            97         8.1   \n",
       "31      6.03      5.86      0.36         2.38             0         0.0   \n",
       "33      5.28      4.19      4.35         0.78             0         0.0   \n",
       "34      4.99      5.73      0.65         2.42            83         5.3   \n",
       "\n",
       "   rating  sum_sales  \n",
       "16      M      21.05  \n",
       "23      M      16.27  \n",
       "31      0      14.63  \n",
       "33      0      14.60  \n",
       "34      M      13.79  "
      ]
     },
     "metadata": {},
     "output_type": "display_data"
    },
    {
     "data": {
      "text/plain": [
       "(2886, 12)"
      ]
     },
     "execution_count": 43,
     "metadata": {},
     "output_type": "execute_result"
    }
   ],
   "source": [
    "display(data.head())\n",
    "data.shape"
   ]
  },
  {
   "cell_type": "markdown",
   "metadata": {},
   "source": [
    "### Портрет пользователя NA"
   ]
  },
  {
   "cell_type": "code",
   "execution_count": 44,
   "metadata": {},
   "outputs": [
    {
     "data": {
      "image/png": "[encoded data removed]",
      "text/plain": [
       "<Figure size 864x288 with 1 Axes>"
      ]
     },
     "metadata": {
      "needs_background": "light"
     },
     "output_type": "display_data"
    }
   ],
   "source": [
    "data.groupby('platform')['na_sales'].sum().plot(kind='bar', figsize=(12,4)).set_title('Зависимость выручки от платформы')\n",
    "plt.xlabel(\"Платформа\") \n",
    "plt.ylabel(\"Выручка\"); "
   ]
  },
  {
   "cell_type": "markdown",
   "metadata": {},
   "source": [
    "<div class=\"alert alert-info\">\n",
    "<b> Лидируют платформы - x360, xone, ps4, ps3, 3ds </b>\n",
    " \n",
    " \n",
    "</div>"
   ]
  },
  {
   "cell_type": "code",
   "execution_count": 45,
   "metadata": {},
   "outputs": [
    {
     "data": {
      "image/png": "[encoded data removed]",
      "text/plain": [
       "<Figure size 864x288 with 1 Axes>"
      ]
     },
     "metadata": {
      "needs_background": "light"
     },
     "output_type": "display_data"
    }
   ],
   "source": [
    "data.query('na_sales>0').groupby('genre')['na_sales'].sum().plot(kind='bar', figsize=(12,4)).set_title('Влияние жанра на продажи')\n",
    "plt.xlabel(\"Жанры\") \n",
    "plt.ylabel(\"Выручка\"); "
   ]
  },
  {
   "cell_type": "markdown",
   "metadata": {},
   "source": [
    "<div class=\"alert alert-info\">\n",
    "<b> Лидеры продаж - action, shooter, role-playing, sports </b>\n",
    " \n",
    " \n",
    "</div>"
   ]
  },
  {
   "cell_type": "code",
   "execution_count": 46,
   "metadata": {},
   "outputs": [
    {
     "data": {
      "image/png": "[encoded data removed]",
      "text/plain": [
       "<Figure size 864x288 with 1 Axes>"
      ]
     },
     "metadata": {
      "needs_background": "light"
     },
     "output_type": "display_data"
    }
   ],
   "source": [
    "data.groupby('rating')['na_sales'].sum().plot(kind='bar', figsize=(12,4)).set_title('Влияние рейтинга на продажи')\n",
    "plt.xlabel(\"Рейтинг\") \n",
    "plt.ylabel(\"Выручка\"); "
   ]
  },
  {
   "cell_type": "markdown",
   "metadata": {},
   "source": [
    "<div class=\"alert alert-info\">\n",
    "<b> Есть существенное влияние рейтинга \"M\" на продажи </b>\n",
    " \n",
    " \n",
    "</div>"
   ]
  },
  {
   "cell_type": "markdown",
   "metadata": {},
   "source": [
    "### Портрет пользователя EU"
   ]
  },
  {
   "cell_type": "code",
   "execution_count": 47,
   "metadata": {},
   "outputs": [
    {
     "data": {
      "image/png": "[encoded data removed]",
      "text/plain": [
       "<Figure size 864x288 with 1 Axes>"
      ]
     },
     "metadata": {
      "needs_background": "light"
     },
     "output_type": "display_data"
    }
   ],
   "source": [
    "data.groupby('platform')['eu_sales'].sum().plot(kind='bar', figsize=(12,4)).set_title('Зависимость выручки от платформы')\n",
    "plt.xlabel(\"Платформа\") \n",
    "plt.ylabel(\"Выручка\"); "
   ]
  },
  {
   "cell_type": "markdown",
   "metadata": {},
   "source": [
    "<div class=\"alert alert-info\">\n",
    "<b> Лидируют платформы - x360, xone, ps4, ps3, 3ds </b>\n",
    " \n",
    " \n",
    "</div>"
   ]
  },
  {
   "cell_type": "code",
   "execution_count": 48,
   "metadata": {},
   "outputs": [
    {
     "data": {
      "image/png": "[encoded data removed]",
      "text/plain": [
       "<Figure size 864x288 with 1 Axes>"
      ]
     },
     "metadata": {
      "needs_background": "light"
     },
     "output_type": "display_data"
    }
   ],
   "source": [
    "data.query('eu_sales>0').groupby('genre')['eu_sales'].sum().plot(kind='bar', figsize=(12,4)).set_title('Влияние жанра на продажи')\n",
    "plt.xlabel(\"Жанры\") \n",
    "plt.ylabel(\"Выручка\"); "
   ]
  },
  {
   "cell_type": "markdown",
   "metadata": {},
   "source": [
    "<div class=\"alert alert-info\">\n",
    "<b> Лидеры продаж - action, shooter, role-playing, sports </b>\n",
    " \n",
    " \n",
    "</div>"
   ]
  },
  {
   "cell_type": "code",
   "execution_count": 49,
   "metadata": {},
   "outputs": [
    {
     "data": {
      "image/png": "[encoded data removed]",
      "text/plain": [
       "<Figure size 864x288 with 1 Axes>"
      ]
     },
     "metadata": {
      "needs_background": "light"
     },
     "output_type": "display_data"
    }
   ],
   "source": [
    "data.groupby('rating')['eu_sales'].sum().plot(kind='bar', figsize=(12,4)).set_title('Влияние рейтинга на продажи')\n",
    "plt.xlabel(\"Рейтинг\") \n",
    "plt.ylabel(\"Выручка\"); "
   ]
  },
  {
   "cell_type": "markdown",
   "metadata": {},
   "source": [
    "<div class=\"alert alert-info\">\n",
    "<b> Есть существенное влияние рейтинга \"M\" на продажи </b>\n",
    " \n",
    " \n",
    "</div>"
   ]
  },
  {
   "cell_type": "markdown",
   "metadata": {},
   "source": [
    "### Портрет пользователя JP"
   ]
  },
  {
   "cell_type": "code",
   "execution_count": 50,
   "metadata": {},
   "outputs": [
    {
     "data": {
      "image/png": "[encoded data removed]",
      "text/plain": [
       "<Figure size 864x288 with 1 Axes>"
      ]
     },
     "metadata": {
      "needs_background": "light"
     },
     "output_type": "display_data"
    }
   ],
   "source": [
    "data.groupby('platform')['jp_sales'].sum().plot(kind='bar', figsize=(12,4)).set_title('Зависимость выручки от платформы')\n",
    "plt.xlabel(\"Платформа\") \n",
    "plt.ylabel(\"Выручка\"); "
   ]
  },
  {
   "cell_type": "markdown",
   "metadata": {},
   "source": [
    "<div class=\"alert alert-info\">\n",
    "<b> Лидирует платформа с большим отрывом - 3ds </b>\n",
    " \n",
    " \n",
    "</div>"
   ]
  },
  {
   "cell_type": "code",
   "execution_count": 51,
   "metadata": {},
   "outputs": [
    {
     "data": {
      "image/png": "[encoded data removed]",
      "text/plain": [
       "<Figure size 864x288 with 1 Axes>"
      ]
     },
     "metadata": {
      "needs_background": "light"
     },
     "output_type": "display_data"
    }
   ],
   "source": [
    "data.query('jp_sales>0').groupby('genre')['jp_sales'].sum().plot(kind='bar', figsize=(12,4)).set_title('Влияние жанра на продажи')\n",
    "plt.xlabel(\"Жанры\") \n",
    "plt.ylabel(\"Выручка\"); "
   ]
  },
  {
   "cell_type": "markdown",
   "metadata": {},
   "source": [
    "<div class=\"alert alert-info\">\n",
    "<b> Лидеры продаж - action, role-playing </b>\n",
    " \n",
    " \n",
    "</div>"
   ]
  },
  {
   "cell_type": "code",
   "execution_count": 52,
   "metadata": {},
   "outputs": [
    {
     "data": {
      "image/png": "[encoded data removed]",
      "text/plain": [
       "<Figure size 864x288 with 1 Axes>"
      ]
     },
     "metadata": {
      "needs_background": "light"
     },
     "output_type": "display_data"
    }
   ],
   "source": [
    "data.groupby('rating')['jp_sales'].sum().plot(kind='bar', figsize=(12,4)).set_title('Влияние рейтинга на продажи')\n",
    "plt.xlabel(\"Рейтинг\") \n",
    "plt.ylabel(\"Выручка\"); "
   ]
  },
  {
   "cell_type": "markdown",
   "metadata": {},
   "source": [
    "<div class=\"alert alert-info\">\n",
    "<b> Игры без рейтинга продаются на сумму в разы больше, чем другие. </b>\n",
    " \n",
    " \n",
    "</div>"
   ]
  },
  {
   "cell_type": "markdown",
   "metadata": {},
   "source": [
    "<div class=\"alert alert-info\">\n",
    "\n",
    "\n",
    "ESRB работает только на территории СА, в Японии есть аналогичная организация: CERO. Я думаю, что, с одной стороны, иностранным играм они не присваивают рейтинги, поскольку на них уже есть маркировка. Чтобы не было конфликта, так сказать. Так что вполне возможно, что часть игр это продукция Японии или же это корейские игры (там тоже своя организация). С другой стороны, раз они продают игры на своем рынке, то присвоение рейтинга может быть обязательным. Значит, дело еще может быть в том, что наша таблица это склейка двух таблиц: продажи на западе и на востоке. Так или иначе, это очень показательный пример. \n",
    "</div>"
   ]
  },
  {
   "cell_type": "code",
   "execution_count": 53,
   "metadata": {},
   "outputs": [
    {
     "data": {
      "text/plain": [
       "3.068698722608786"
      ]
     },
     "execution_count": 53,
     "metadata": {},
     "output_type": "execute_result"
    }
   ],
   "source": [
    "data['na_sales'].sum()/data['jp_sales'].sum()"
   ]
  },
  {
   "cell_type": "code",
   "execution_count": 54,
   "metadata": {},
   "outputs": [
    {
     "data": {
      "text/plain": [
       "1.1660352787972061"
      ]
     },
     "execution_count": 54,
     "metadata": {},
     "output_type": "execute_result"
    }
   ],
   "source": [
    "data['na_sales'].sum()/data['eu_sales'].sum()"
   ]
  },
  {
   "cell_type": "code",
   "execution_count": 55,
   "metadata": {},
   "outputs": [
    {
     "data": {
      "text/plain": [
       "2.6317374597569843"
      ]
     },
     "execution_count": 55,
     "metadata": {},
     "output_type": "execute_result"
    }
   ],
   "source": [
    "data['eu_sales'].sum()/data['jp_sales'].sum()"
   ]
  },
  {
   "cell_type": "markdown",
   "metadata": {},
   "source": [
    "<div class=\"alert alert-info\">\n",
    "<b> Вкладывать деньги в рекламу надо в следующих пропорциях:\n",
    "NA : EU :  JP = 3 : 3 : 1 </b>\n",
    "  \n",
    "</div>"
   ]
  },
  {
   "cell_type": "markdown",
   "metadata": {},
   "source": [
    "## ГИПОТЕЗЫ"
   ]
  },
  {
   "cell_type": "markdown",
   "metadata": {},
   "source": [
    "### Xone and PC"
   ]
  },
  {
   "cell_type": "code",
   "execution_count": 56,
   "metadata": {},
   "outputs": [
    {
     "name": "stdout",
     "output_type": "stream",
     "text": [
      "6.521428571428572\n",
      "6.4286407766990274\n"
     ]
    }
   ],
   "source": [
    "data_xone=data.query('(platform == \"xone\") & (user_score>0)')\n",
    "print(data_xone['user_score'].mean())\n",
    "data_pc=data.query('(platform == \"pc\") & (user_score>0)')\n",
    "print(data_pc['user_score'].mean())"
   ]
  },
  {
   "cell_type": "markdown",
   "metadata": {},
   "source": [
    "<div class=\"alert alert-info\">\n",
    "<b>Средние пользовательские рейтинги Xone и PC равны 6,5 и 6,4 соответственно  </b>\n",
    "\n",
    "- Предположим что это могло произойти случайно.\n",
    "    \n",
    "- Пусть нулевая гипотеза звучит так - средние пользовательские рейтинги платформ равны\n",
    "    \n",
    "- Альтернативная  - не равны\n",
    "   \n",
    "</div>"
   ]
  },
  {
   "cell_type": "code",
   "execution_count": 57,
   "metadata": {},
   "outputs": [
    {
     "name": "stdout",
     "output_type": "stream",
     "text": [
      "Дисперсия - xone 1.9069968429360695\n",
      "Дисперсия - pc 2.770443997158418\n"
     ]
    }
   ],
   "source": [
    "variance = np.var(data_xone['user_score'], ddof=1)\n",
    "print('Дисперсия - xone', variance)\n",
    "variance = np.var(data_pc['user_score'], ddof=1)\n",
    "print('Дисперсия - pc', variance)"
   ]
  },
  {
   "cell_type": "code",
   "execution_count": 58,
   "metadata": {},
   "outputs": [
    {
     "name": "stdout",
     "output_type": "stream",
     "text": [
      "p-значение: 0.01251484281850554\n",
      "Дисперсии не равны\n"
     ]
    }
   ],
   "source": [
    "\n",
    "alpha = 0.05\n",
    "\n",
    "results_1 = sps.levene(data_xone['user_score'], data_pc['user_score'])\n",
    "\n",
    "print('p-значение:', results_1.pvalue)\n",
    "\n",
    "if results_1.pvalue < alpha:\n",
    "    print('Дисперсии не равны')\n",
    "else:\n",
    "    print('Дисперсии равны') "
   ]
  },
  {
   "cell_type": "code",
   "execution_count": 59,
   "metadata": {},
   "outputs": [
    {
     "name": "stdout",
     "output_type": "stream",
     "text": [
      "p-значение: 0.5489537965134912\n",
      "Не получилось отвергнуть нулевую гипотезу\n"
     ]
    }
   ],
   "source": [
    "alpha = 0.05\n",
    "\n",
    "results = st.ttest_ind(data_xone['user_score'], data_pc['user_score'], equal_var = False) \n",
    "#т.к. дисперсии равны equal_var = True по умолчанию\n",
    "\n",
    "print('p-значение:', results.pvalue)\n",
    "\n",
    "if results.pvalue < alpha:\n",
    "    print('Отвергаем нулевую гипотезу')\n",
    "else:\n",
    "    print('Не получилось отвергнуть нулевую гипотезу') "
   ]
  },
  {
   "cell_type": "markdown",
   "metadata": {},
   "source": [
    "<div class=\"alert alert-info\">\n",
    "<b>Оставляем нулевую гипотезу о том, что средние пользовательские рейтинги платформ равны </b>\n",
    "\n",
    "   \n",
    "</div>"
   ]
  },
  {
   "cell_type": "markdown",
   "metadata": {},
   "source": [
    "### Action and Sports"
   ]
  },
  {
   "cell_type": "code",
   "execution_count": 60,
   "metadata": {},
   "outputs": [
    {
     "name": "stdout",
     "output_type": "stream",
     "text": [
      "6.825047801147227\n",
      "5.455897435897437\n"
     ]
    }
   ],
   "source": [
    "data_action=data.query('(genre == \"action\") & (user_score>0)')\n",
    "print(data_action['user_score'].mean())\n",
    "data_sports=data.query('(genre == \"sports\") & (user_score>0)')\n",
    "print(data_sports['user_score'].mean())"
   ]
  },
  {
   "cell_type": "markdown",
   "metadata": {},
   "source": [
    "<div class=\"alert alert-info\">\n",
    "<b>Средние пользовательские рейтинги жанров action и sports равны 6,8 и 5,4 соответственно  </b>\n",
    "\n",
    "- Они различаются и нам надо рассмотреть альтернативную гипотезу - о том, что они разные.\n",
    "    \n",
    "- Пусть нулевая гипотеза звучит так - средние пользовательские рейтинги жанров равны\n",
    "    \n",
    "- Альтернативная  - не равны\n",
    "   \n",
    "</div>"
   ]
  },
  {
   "cell_type": "code",
   "execution_count": 61,
   "metadata": {},
   "outputs": [
    {
     "name": "stdout",
     "output_type": "stream",
     "text": [
      "Дисперсия - action 1.8890840494348111\n",
      "Дисперсия - sports 3.022890298704732\n"
     ]
    }
   ],
   "source": [
    "variance = np.var(data_action['user_score'], ddof=1)\n",
    "print('Дисперсия - action', variance)\n",
    "variance = np.var(data_sports['user_score'], ddof=1)\n",
    "print('Дисперсия - sports', variance)"
   ]
  },
  {
   "cell_type": "code",
   "execution_count": 62,
   "metadata": {},
   "outputs": [
    {
     "name": "stdout",
     "output_type": "stream",
     "text": [
      "p-значение: 1.3125789036876737e-05\n",
      "Дисперсии не равны\n"
     ]
    }
   ],
   "source": [
    "alpha = 0.05\n",
    "\n",
    "results_2 = sps.levene(data_action['user_score'], data_sports['user_score'])\n",
    "\n",
    "print('p-значение:', results_2.pvalue)\n",
    "\n",
    "if results_2.pvalue < alpha:\n",
    "    print('Дисперсии не равны')\n",
    "else:\n",
    "    print('Дисперсии равны') "
   ]
  },
  {
   "cell_type": "code",
   "execution_count": 63,
   "metadata": {},
   "outputs": [
    {
     "name": "stdout",
     "output_type": "stream",
     "text": [
      "p-значение: 4.24307776572644e-20\n",
      "Отвергаем нулевую гипотезу\n"
     ]
    }
   ],
   "source": [
    "alpha = 0.05\n",
    "\n",
    "results_3 = st.ttest_ind(data_action['user_score'], data_sports['user_score'], equal_var = False)\n",
    "#дисперсии не равны, поэтому  equal_var = False\n",
    "\n",
    "print('p-значение:', results_3.pvalue)\n",
    "\n",
    "if results_3.pvalue < alpha:\n",
    "    print('Отвергаем нулевую гипотезу')\n",
    "else:\n",
    "    print('Не получилось отвергнуть нулевую гипотезу') "
   ]
  },
  {
   "cell_type": "markdown",
   "metadata": {},
   "source": [
    "<div class=\"alert alert-info\">\n",
    "<b>Принимаем альтернативную гипотезу -  средние пользовательские рейтинги жанров не равны</b>\n",
    "\n",
    "   \n",
    "</div>"
   ]
  },
  {
   "cell_type": "markdown",
   "metadata": {},
   "source": [
    "## ВЫВОД"
   ]
  },
  {
   "cell_type": "markdown",
   "metadata": {},
   "source": [
    "<div class=\"alert alert-info\">\n",
    "<b>  </b>\n",
    "\n",
    "**Краткий обзор проведённой работы**\n",
    "1.\tВ данных по названию игры и году выпуска были пропуски, удалили строки с этими пропусками, т.к. для анализа эти данные имеют значения и заменить пропуски нельзя. Строки с пропусками оценки критиков, пользователей и рейтинг оставили, заполнять пропущенные значения не стали, т.к. оценки зависят от игры, платформы. Уникальных значений игр более 11 000 и 31 платформа, комбинаций игра-платформа огромное кол-во, поэтому замена средним, медианой не подойдет.\n",
    "2.\tМаксимальны й подъем по кол-ву выпущенных игр ежегодно был 2008-2009 годы, далее пошел спад, а с 2012 года ситуация выровнялась, поэтому был проанализирован период с 2012 года включительно.  Необходимо было выявить какие платформы несмотря на общий спад набирали обороты по выручкам и по кол-ву выпущенных игр в эти годы. Именно это и поможет выбрать прибыльную рекламную стратегию.\n",
    "    \n",
    "**Анализ рынка игр** \n",
    "1.\tК 2016 году больше игр появляется на платформах:  ps4, psv,  xone, pc.\n",
    "2.\tЗа период 2012-2016 год продажи увеличиваются на платформах: ps4,  xone. Для JP актуальна платформа 3ds.\n",
    "3.\tТаким образом, выявилось два лидера по росту кол-ва игр и продажам - ps4,  xone и 3ds для JP.\n",
    "4.\tСтоит учитывать, что ps4 более прибыльная, чем xone, поэтому рекламный бюджет стоит делить как 2 к 1 соответственно.\n",
    "5.\tОценка критиков влияет на продажи, а оценки пользователей – нет.\n",
    "6.\tСамые прибыльные жанры оказались - action, shooter, role-playing, sports, причем action лидирует с большим отрывом.\n",
    "\n",
    "**Портрет пользователя каждого региона**\n",
    "1.\tПортреты пользователей NA и EU совпадают. Лидируют платформы по продажам - x360, xone, ps4, ps3, 3ds. Лидеры продаж - action, shooter, role-playing, sports. Больше выручки приносят игры с рейтингом М («Для взрослых»: Материалы игры не подходят для подростков младше 17 лет).\n",
    "2.\tА вот портрет пользователя JP отличается. Лидирует платформа с большим отрывом - 3ds.  Лидеры продаж - action, role-playing. Игры без рейтинга приносят больше выручки в разы в отличии от любого другого рейтинга.\n",
    "   \n",
    "**Проверка гипотез**\n",
    "    \n",
    "1.\tСредние значения пользовательских рейтингах  по данной выборке почти равны (средние пользовательские рейтинги Xone и PC равны 6,5 и 6,4 соответственно), проверка гипотез показала, что мы не можем отвергнуть нулевую гипотезу о равенстве средних.\n",
    "2.\tСредние значения пользовательских рейтингах по данной выборке различаются (Средние пользовательские рейтинги жанров action и sports равны 6,8 и 5,4 соответственно), проверка гипотез показала, что можем отвергнуть нулевую гипотезу и принять альтернативную гипотезу -  средние пользовательские рейтинги жанров не равны.\n",
    "\n",
    " \n",
    "**Рекомендации** \n",
    "1.\tЖелательно иметь две рекламные стратегии.\n",
    "2.\tПервая касается пользователей NA и EU. Есть смысл продавать игры через платформы ps4 и xone, учитывая что ps4 более прибыльная. Вкладывать деньги лучше в жанры action, shooter с рейтингом «М»\n",
    "3.\tВторая стратегия для пользователей JP. Есть смысл продавать игры через платформу 3ds. Вкладывать деньги лучше в жанры action, role-playing, причем role-playing – более выгодные. Наиболее востребованы игры с рейтингом «Е» («Для всех»), «Т» («Подросткам»: Игра подходит для лиц от 13 лет и старше), «М» («Для взрослых»: Материалы игры не подходят для подростков младше 17 лет).\n",
    "4.\tВкладывать деньги в рекламу надо в следующих пропорциях:\n",
    "NA : EU :  JP = 3 : 3 : 1\n",
    "\n",
    "\n",
    "\n",
    "\n",
    "\n",
    "    \n",
    "</div>"
   ]
  }
 ],
 "metadata": {
  "ExecuteTimeLog": [
   {
    "duration": 1140,
    "start_time": "2021-08-04T17:26:55.511Z"
   },
   {
    "duration": 27,
    "start_time": "2021-08-04T17:26:56.653Z"
   },
   {
    "duration": 6,
    "start_time": "2021-08-04T17:26:56.682Z"
   },
   {
    "duration": 6,
    "start_time": "2021-08-04T17:26:56.689Z"
   },
   {
    "duration": 16,
    "start_time": "2021-08-04T17:26:56.697Z"
   },
   {
    "duration": 11,
    "start_time": "2021-08-04T17:26:56.715Z"
   },
   {
    "duration": 14,
    "start_time": "2021-08-04T17:26:56.729Z"
   },
   {
    "duration": 6,
    "start_time": "2021-08-04T17:26:56.746Z"
   },
   {
    "duration": 6,
    "start_time": "2021-08-04T17:26:56.785Z"
   },
   {
    "duration": 8,
    "start_time": "2021-08-04T17:26:56.793Z"
   },
   {
    "duration": 6,
    "start_time": "2021-08-04T17:26:56.803Z"
   },
   {
    "duration": 30,
    "start_time": "2021-08-04T17:26:56.811Z"
   },
   {
    "duration": 49,
    "start_time": "2021-08-04T17:26:56.844Z"
   },
   {
    "duration": 6,
    "start_time": "2021-08-04T17:26:56.895Z"
   },
   {
    "duration": 13,
    "start_time": "2021-08-04T17:26:56.902Z"
   },
   {
    "duration": 28,
    "start_time": "2021-08-04T17:26:56.917Z"
   },
   {
    "duration": 43,
    "start_time": "2021-08-04T17:26:56.947Z"
   },
   {
    "duration": 454,
    "start_time": "2021-08-04T17:26:56.992Z"
   },
   {
    "duration": -1471,
    "start_time": "2021-08-04T17:26:58.920Z"
   },
   {
    "duration": -1480,
    "start_time": "2021-08-04T17:26:58.931Z"
   },
   {
    "duration": -1490,
    "start_time": "2021-08-04T17:26:58.942Z"
   },
   {
    "duration": -1540,
    "start_time": "2021-08-04T17:26:58.993Z"
   },
   {
    "duration": -1549,
    "start_time": "2021-08-04T17:26:59.003Z"
   },
   {
    "duration": -1561,
    "start_time": "2021-08-04T17:26:59.016Z"
   },
   {
    "duration": -1684,
    "start_time": "2021-08-04T17:26:59.139Z"
   },
   {
    "duration": -1697,
    "start_time": "2021-08-04T17:26:59.153Z"
   },
   {
    "duration": -1710,
    "start_time": "2021-08-04T17:26:59.167Z"
   },
   {
    "duration": -1722,
    "start_time": "2021-08-04T17:26:59.180Z"
   },
   {
    "duration": -1729,
    "start_time": "2021-08-04T17:26:59.188Z"
   },
   {
    "duration": -1739,
    "start_time": "2021-08-04T17:26:59.200Z"
   },
   {
    "duration": -1756,
    "start_time": "2021-08-04T17:26:59.218Z"
   },
   {
    "duration": -1769,
    "start_time": "2021-08-04T17:26:59.232Z"
   },
   {
    "duration": -1797,
    "start_time": "2021-08-04T17:26:59.261Z"
   },
   {
    "duration": -1807,
    "start_time": "2021-08-04T17:26:59.272Z"
   },
   {
    "duration": -1816,
    "start_time": "2021-08-04T17:26:59.282Z"
   },
   {
    "duration": -1824,
    "start_time": "2021-08-04T17:26:59.291Z"
   },
   {
    "duration": -1832,
    "start_time": "2021-08-04T17:26:59.300Z"
   },
   {
    "duration": -1843,
    "start_time": "2021-08-04T17:26:59.312Z"
   },
   {
    "duration": -1850,
    "start_time": "2021-08-04T17:26:59.320Z"
   },
   {
    "duration": -1858,
    "start_time": "2021-08-04T17:26:59.329Z"
   },
   {
    "duration": -1865,
    "start_time": "2021-08-04T17:26:59.337Z"
   },
   {
    "duration": -1874,
    "start_time": "2021-08-04T17:26:59.347Z"
   },
   {
    "duration": -1892,
    "start_time": "2021-08-04T17:26:59.366Z"
   },
   {
    "duration": -1900,
    "start_time": "2021-08-04T17:26:59.376Z"
   },
   {
    "duration": -1907,
    "start_time": "2021-08-04T17:26:59.384Z"
   },
   {
    "duration": -1917,
    "start_time": "2021-08-04T17:26:59.395Z"
   },
   {
    "duration": -1925,
    "start_time": "2021-08-04T17:26:59.403Z"
   },
   {
    "duration": -1934,
    "start_time": "2021-08-04T17:26:59.413Z"
   },
   {
    "duration": -1943,
    "start_time": "2021-08-04T17:26:59.422Z"
   },
   {
    "duration": -1951,
    "start_time": "2021-08-04T17:26:59.431Z"
   },
   {
    "duration": -1955,
    "start_time": "2021-08-04T17:26:59.439Z"
   },
   {
    "duration": -1964,
    "start_time": "2021-08-04T17:26:59.449Z"
   },
   {
    "duration": -1971,
    "start_time": "2021-08-04T17:26:59.457Z"
   },
   {
    "duration": -1992,
    "start_time": "2021-08-04T17:26:59.479Z"
   },
   {
    "duration": -1999,
    "start_time": "2021-08-04T17:26:59.487Z"
   },
   {
    "duration": -2008,
    "start_time": "2021-08-04T17:26:59.497Z"
   },
   {
    "duration": -2015,
    "start_time": "2021-08-04T17:26:59.505Z"
   },
   {
    "duration": -2023,
    "start_time": "2021-08-04T17:26:59.514Z"
   },
   {
    "duration": -2030,
    "start_time": "2021-08-04T17:26:59.522Z"
   },
   {
    "duration": -2039,
    "start_time": "2021-08-04T17:26:59.532Z"
   },
   {
    "duration": -2048,
    "start_time": "2021-08-04T17:26:59.541Z"
   },
   {
    "duration": -2056,
    "start_time": "2021-08-04T17:26:59.550Z"
   },
   {
    "duration": -2063,
    "start_time": "2021-08-04T17:26:59.558Z"
   },
   {
    "duration": 16,
    "start_time": "2021-08-04T17:27:52.177Z"
   },
   {
    "duration": 15,
    "start_time": "2021-08-04T17:27:52.195Z"
   },
   {
    "duration": 12,
    "start_time": "2021-08-04T17:27:52.212Z"
   },
   {
    "duration": 63,
    "start_time": "2021-08-04T17:27:52.226Z"
   },
   {
    "duration": 411,
    "start_time": "2021-08-04T17:27:52.290Z"
   },
   {
    "duration": 413,
    "start_time": "2021-08-04T17:27:52.703Z"
   },
   {
    "duration": 449,
    "start_time": "2021-08-04T17:27:53.118Z"
   },
   {
    "duration": 645,
    "start_time": "2021-08-04T17:27:53.569Z"
   },
   {
    "duration": 935,
    "start_time": "2021-08-04T17:27:54.215Z"
   },
   {
    "duration": 536,
    "start_time": "2021-08-04T17:27:55.151Z"
   },
   {
    "duration": 492,
    "start_time": "2021-08-04T17:27:55.689Z"
   },
   {
    "duration": 7,
    "start_time": "2021-08-04T17:27:56.182Z"
   },
   {
    "duration": 188,
    "start_time": "2021-08-04T17:27:56.190Z"
   },
   {
    "duration": 172,
    "start_time": "2021-08-04T17:27:56.384Z"
   },
   {
    "duration": 9,
    "start_time": "2021-08-04T17:27:56.558Z"
   },
   {
    "duration": 458,
    "start_time": "2021-08-04T17:27:56.569Z"
   },
   {
    "duration": 14,
    "start_time": "2021-08-04T17:27:57.029Z"
   },
   {
    "duration": 658,
    "start_time": "2021-08-04T17:27:57.047Z"
   },
   {
    "duration": 322,
    "start_time": "2021-08-04T17:27:57.707Z"
   },
   {
    "duration": 312,
    "start_time": "2021-08-04T17:27:58.031Z"
   },
   {
    "duration": 343,
    "start_time": "2021-08-04T17:27:58.344Z"
   },
   {
    "duration": 298,
    "start_time": "2021-08-04T17:27:58.689Z"
   },
   {
    "duration": 6,
    "start_time": "2021-08-04T17:27:58.989Z"
   },
   {
    "duration": 6,
    "start_time": "2021-08-04T17:27:58.996Z"
   },
   {
    "duration": 250,
    "start_time": "2021-08-04T17:27:59.004Z"
   },
   {
    "duration": 259,
    "start_time": "2021-08-04T17:27:59.256Z"
   },
   {
    "duration": 16,
    "start_time": "2021-08-04T17:27:59.517Z"
   },
   {
    "duration": 241,
    "start_time": "2021-08-04T17:27:59.535Z"
   },
   {
    "duration": 234,
    "start_time": "2021-08-04T17:27:59.785Z"
   },
   {
    "duration": 186,
    "start_time": "2021-08-04T17:28:00.021Z"
   },
   {
    "duration": 221,
    "start_time": "2021-08-04T17:28:00.209Z"
   },
   {
    "duration": 323,
    "start_time": "2021-08-04T17:28:00.432Z"
   },
   {
    "duration": 184,
    "start_time": "2021-08-04T17:28:00.757Z"
   },
   {
    "duration": 216,
    "start_time": "2021-08-04T17:28:00.943Z"
   },
   {
    "duration": 238,
    "start_time": "2021-08-04T17:28:01.161Z"
   },
   {
    "duration": 183,
    "start_time": "2021-08-04T17:28:01.401Z"
   },
   {
    "duration": 4,
    "start_time": "2021-08-04T17:28:01.586Z"
   },
   {
    "duration": 9,
    "start_time": "2021-08-04T17:28:01.592Z"
   },
   {
    "duration": 8,
    "start_time": "2021-08-04T17:28:01.603Z"
   },
   {
    "duration": 12,
    "start_time": "2021-08-04T17:28:01.613Z"
   },
   {
    "duration": 30,
    "start_time": "2021-08-04T17:28:01.627Z"
   },
   {
    "duration": 8,
    "start_time": "2021-08-04T17:28:01.658Z"
   },
   {
    "duration": 5,
    "start_time": "2021-08-04T17:28:01.684Z"
   },
   {
    "duration": 16,
    "start_time": "2021-08-04T17:28:01.691Z"
   },
   {
    "duration": 7,
    "start_time": "2021-08-04T17:28:01.709Z"
   },
   {
    "duration": 7,
    "start_time": "2021-08-04T17:28:01.717Z"
   },
   {
    "duration": 7,
    "start_time": "2021-08-04T17:28:01.727Z"
   },
   {
    "duration": 1168,
    "start_time": "2021-08-04T17:28:11.593Z"
   },
   {
    "duration": 28,
    "start_time": "2021-08-04T17:28:12.763Z"
   },
   {
    "duration": 6,
    "start_time": "2021-08-04T17:28:12.793Z"
   },
   {
    "duration": 10,
    "start_time": "2021-08-04T17:28:12.801Z"
   },
   {
    "duration": 24,
    "start_time": "2021-08-04T17:28:12.812Z"
   },
   {
    "duration": 13,
    "start_time": "2021-08-04T17:28:12.838Z"
   },
   {
    "duration": 38,
    "start_time": "2021-08-04T17:28:12.854Z"
   },
   {
    "duration": 11,
    "start_time": "2021-08-04T17:28:12.895Z"
   },
   {
    "duration": 8,
    "start_time": "2021-08-04T17:28:12.908Z"
   },
   {
    "duration": 10,
    "start_time": "2021-08-04T17:28:12.918Z"
   },
   {
    "duration": 7,
    "start_time": "2021-08-04T17:28:12.930Z"
   },
   {
    "duration": 52,
    "start_time": "2021-08-04T17:28:12.939Z"
   },
   {
    "duration": 18,
    "start_time": "2021-08-04T17:28:12.994Z"
   },
   {
    "duration": 6,
    "start_time": "2021-08-04T17:28:13.014Z"
   },
   {
    "duration": 16,
    "start_time": "2021-08-04T17:28:13.022Z"
   },
   {
    "duration": 58,
    "start_time": "2021-08-04T17:28:13.040Z"
   },
   {
    "duration": 16,
    "start_time": "2021-08-04T17:28:13.101Z"
   },
   {
    "duration": 15,
    "start_time": "2021-08-04T17:28:13.118Z"
   },
   {
    "duration": 13,
    "start_time": "2021-08-04T17:28:13.135Z"
   },
   {
    "duration": 62,
    "start_time": "2021-08-04T17:28:13.150Z"
   },
   {
    "duration": 386,
    "start_time": "2021-08-04T17:28:13.213Z"
   },
   {
    "duration": 420,
    "start_time": "2021-08-04T17:28:13.600Z"
   },
   {
    "duration": 444,
    "start_time": "2021-08-04T17:28:14.024Z"
   },
   {
    "duration": 678,
    "start_time": "2021-08-04T17:28:14.471Z"
   },
   {
    "duration": 1026,
    "start_time": "2021-08-04T17:28:15.151Z"
   },
   {
    "duration": 547,
    "start_time": "2021-08-04T17:28:16.178Z"
   },
   {
    "duration": 485,
    "start_time": "2021-08-04T17:28:16.727Z"
   },
   {
    "duration": 6,
    "start_time": "2021-08-04T17:28:17.214Z"
   },
   {
    "duration": 194,
    "start_time": "2021-08-04T17:28:17.222Z"
   },
   {
    "duration": 183,
    "start_time": "2021-08-04T17:28:17.418Z"
   },
   {
    "duration": 9,
    "start_time": "2021-08-04T17:28:17.603Z"
   },
   {
    "duration": 502,
    "start_time": "2021-08-04T17:28:17.614Z"
   },
   {
    "duration": 15,
    "start_time": "2021-08-04T17:28:18.117Z"
   },
   {
    "duration": 418,
    "start_time": "2021-08-04T17:28:18.134Z"
   },
   {
    "duration": 337,
    "start_time": "2021-08-04T17:28:18.554Z"
   },
   {
    "duration": 337,
    "start_time": "2021-08-04T17:28:18.893Z"
   },
   {
    "duration": 322,
    "start_time": "2021-08-04T17:28:19.232Z"
   },
   {
    "duration": 300,
    "start_time": "2021-08-04T17:28:19.556Z"
   },
   {
    "duration": 6,
    "start_time": "2021-08-04T17:28:19.858Z"
   },
   {
    "duration": 20,
    "start_time": "2021-08-04T17:28:19.866Z"
   },
   {
    "duration": 255,
    "start_time": "2021-08-04T17:28:19.887Z"
   },
   {
    "duration": 246,
    "start_time": "2021-08-04T17:28:20.144Z"
   },
   {
    "duration": 13,
    "start_time": "2021-08-04T17:28:20.392Z"
   },
   {
    "duration": 227,
    "start_time": "2021-08-04T17:28:20.407Z"
   },
   {
    "duration": 242,
    "start_time": "2021-08-04T17:28:20.636Z"
   },
   {
    "duration": 183,
    "start_time": "2021-08-04T17:28:20.880Z"
   },
   {
    "duration": 229,
    "start_time": "2021-08-04T17:28:21.065Z"
   },
   {
    "duration": 332,
    "start_time": "2021-08-04T17:28:21.297Z"
   },
   {
    "duration": 193,
    "start_time": "2021-08-04T17:28:21.631Z"
   },
   {
    "duration": 214,
    "start_time": "2021-08-04T17:28:21.826Z"
   },
   {
    "duration": 243,
    "start_time": "2021-08-04T17:28:22.042Z"
   },
   {
    "duration": 181,
    "start_time": "2021-08-04T17:28:22.287Z"
   },
   {
    "duration": 5,
    "start_time": "2021-08-04T17:28:22.471Z"
   },
   {
    "duration": 6,
    "start_time": "2021-08-04T17:28:22.485Z"
   },
   {
    "duration": 6,
    "start_time": "2021-08-04T17:28:22.493Z"
   },
   {
    "duration": 12,
    "start_time": "2021-08-04T17:28:22.501Z"
   },
   {
    "duration": 5,
    "start_time": "2021-08-04T17:28:22.514Z"
   },
   {
    "duration": 7,
    "start_time": "2021-08-04T17:28:22.521Z"
   },
   {
    "duration": 57,
    "start_time": "2021-08-04T17:28:22.530Z"
   },
   {
    "duration": 14,
    "start_time": "2021-08-04T17:28:22.589Z"
   },
   {
    "duration": 6,
    "start_time": "2021-08-04T17:28:22.605Z"
   },
   {
    "duration": 7,
    "start_time": "2021-08-04T17:28:22.613Z"
   },
   {
    "duration": 6,
    "start_time": "2021-08-04T17:28:22.622Z"
   }
  ],
  "kernelspec": {
   "display_name": "Python 3",
   "language": "python",
   "name": "python3"
  },
  "language_info": {
   "codemirror_mode": {
    "name": "ipython",
    "version": 3
   },
   "file_extension": ".py",
   "mimetype": "text/x-python",
   "name": "python",
   "nbconvert_exporter": "python",
   "pygments_lexer": "ipython3",
   "version": "3.7.8"
  },
  "toc": {
   "base_numbering": 1,
   "nav_menu": {},
   "number_sections": true,
   "sideBar": true,
   "skip_h1_title": true,
   "title_cell": "Table of Contents",
   "title_sidebar": "Contents",
   "toc_cell": false,
   "toc_position": {
    "height": "calc(100% - 180px)",
    "left": "10px",
    "top": "150px",
    "width": "323px"
   },
   "toc_section_display": true,
   "toc_window_display": true
  }
 },
 "nbformat": 4,
 "nbformat_minor": 2
}
