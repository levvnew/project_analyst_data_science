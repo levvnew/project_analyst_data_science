{
 "cells": [
  {
   "cell_type": "markdown",
   "metadata": {
    "toc": true
   },
   "source": [
    "<h1>Содержание<span class=\"tocSkip\"></span></h1>\n",
    "<div class=\"toc\"><ul class=\"toc-item\"><li><span><a href=\"#Подготовка-данных\" data-toc-modified-id=\"Подготовка-данных-1\"><span class=\"toc-item-num\">1&nbsp;&nbsp;</span>Подготовка данных</a></span><ul class=\"toc-item\"><li><span><a href=\"#Изучение-данных\" data-toc-modified-id=\"Изучение-данных-1.1\"><span class=\"toc-item-num\">1.1&nbsp;&nbsp;</span>Изучение данных</a></span></li><li><span><a href=\"#Предобратока-данных\" data-toc-modified-id=\"Предобратока-данных-1.2\"><span class=\"toc-item-num\">1.2&nbsp;&nbsp;</span>Предобратока данных</a></span></li></ul></li><li><span><a href=\"#Исследование-моделей\" data-toc-modified-id=\"Исследование-моделей-2\"><span class=\"toc-item-num\">2&nbsp;&nbsp;</span>Исследование моделей</a></span><ul class=\"toc-item\"><li><span><a href=\"#Модели-без-учёта-дисбаланса\" data-toc-modified-id=\"Модели-без-учёта-дисбаланса-2.1\"><span class=\"toc-item-num\">2.1&nbsp;&nbsp;</span>Модели без учёта дисбаланса</a></span><ul class=\"toc-item\"><li><span><a href=\"#Логистическая-регрессия\" data-toc-modified-id=\"Логистическая-регрессия-2.1.1\"><span class=\"toc-item-num\">2.1.1&nbsp;&nbsp;</span>Логистическая регрессия</a></span></li><li><span><a href=\"#Решающее-дерево\" data-toc-modified-id=\"Решающее-дерево-2.1.2\"><span class=\"toc-item-num\">2.1.2&nbsp;&nbsp;</span>Решающее дерево</a></span></li><li><span><a href=\"#Случайный-лес\" data-toc-modified-id=\"Случайный-лес-2.1.3\"><span class=\"toc-item-num\">2.1.3&nbsp;&nbsp;</span>Случайный лес</a></span></li><li><span><a href=\"#Ранжирование-по-важности-влияния-признаков-на-прогноз-у-лучшей-модели\" data-toc-modified-id=\"Ранжирование-по-важности-влияния-признаков-на-прогноз-у-лучшей-модели-2.1.4\"><span class=\"toc-item-num\">2.1.4&nbsp;&nbsp;</span>Ранжирование по важности влияния признаков на прогноз у лучшей модели</a></span></li><li><span><a href=\"#Проверка-лучшей-модели-на-тестовой-выборке\" data-toc-modified-id=\"Проверка-лучшей-модели-на-тестовой-выборке-2.1.5\"><span class=\"toc-item-num\">2.1.5&nbsp;&nbsp;</span>Проверка лучшей модели на тестовой выборке</a></span></li></ul></li><li><span><a href=\"#Борьба-с-дисбалансом\" data-toc-modified-id=\"Борьба-с-дисбалансом-2.2\"><span class=\"toc-item-num\">2.2&nbsp;&nbsp;</span>Борьба с дисбалансом</a></span></li><li><span><a href=\"#Модели-с-учетом-дисбаланса\" data-toc-modified-id=\"Модели-с-учетом-дисбаланса-2.3\"><span class=\"toc-item-num\">2.3&nbsp;&nbsp;</span>Модели с учетом дисбаланса</a></span><ul class=\"toc-item\"><li><span><a href=\"#Логистическая-регрессия\" data-toc-modified-id=\"Логистическая-регрессия-2.3.1\"><span class=\"toc-item-num\">2.3.1&nbsp;&nbsp;</span>Логистическая регрессия</a></span></li><li><span><a href=\"#Решающее-дерево\" data-toc-modified-id=\"Решающее-дерево-2.3.2\"><span class=\"toc-item-num\">2.3.2&nbsp;&nbsp;</span>Решающее дерево</a></span></li><li><span><a href=\"#Случайный-лес\" data-toc-modified-id=\"Случайный-лес-2.3.3\"><span class=\"toc-item-num\">2.3.3&nbsp;&nbsp;</span>Случайный лес</a></span></li><li><span><a href=\"#Проверка-лучшей-модели-(с-учетом-баланса)-на-тестовой-выборке\" data-toc-modified-id=\"Проверка-лучшей-модели-(с-учетом-баланса)-на-тестовой-выборке-2.3.4\"><span class=\"toc-item-num\">2.3.4&nbsp;&nbsp;</span>Проверка лучшей модели (с учетом баланса) на тестовой выборке</a></span></li><li><span><a href=\"#Ранжирование-по-важности-влияния-признаков-на-прогноз-у-лучшей-модели\" data-toc-modified-id=\"Ранжирование-по-важности-влияния-признаков-на-прогноз-у-лучшей-модели-2.3.5\"><span class=\"toc-item-num\">2.3.5&nbsp;&nbsp;</span>Ранжирование по важности влияния признаков на прогноз у лучшей модели</a></span></li></ul></li></ul></li></ul></div>"
   ]
  },
  {
   "cell_type": "markdown",
   "metadata": {},
   "source": [
    "# Отток клиентов"
   ]
  },
  {
   "cell_type": "markdown",
   "metadata": {},
   "source": [
    "Из «Бета-Банка» стали уходить клиенты. Каждый месяц. Немного, но заметно. Банковские маркетологи посчитали: сохранять текущих клиентов дешевле, чем привлекать новых.\n",
    "\n",
    "Нужно спрогнозировать, уйдёт клиент из банка в ближайшее время или нет. Вам предоставлены исторические данные о поведении клиентов и расторжении договоров с банком. \n",
    "\n",
    "Постройте модель с предельно большим значением *F1*-меры. Чтобы сдать проект успешно, нужно довести метрику до 0.59. Проверьте *F1*-меру на тестовой выборке самостоятельно.\n",
    "\n",
    "Дополнительно измеряйте *AUC-ROC*, сравнивайте её значение с *F1*-мерой.\n",
    "\n",
    "Источник данных: [https://www.kaggle.com/barelydedicated/bank-customer-churn-modeling](https://www.kaggle.com/barelydedicated/bank-customer-churn-modeling)"
   ]
  },
  {
   "cell_type": "markdown",
   "metadata": {},
   "source": [
    "## Подготовка данных"
   ]
  },
  {
   "cell_type": "code",
   "execution_count": 1,
   "metadata": {},
   "outputs": [],
   "source": [
    "import pandas as pd\n",
    "import seaborn as sns\n",
    "from IPython.display import display\n",
    "from sklearn.preprocessing import StandardScaler\n",
    "from sklearn.model_selection import train_test_split\n",
    "\n",
    "from sklearn.linear_model import LogisticRegression\n",
    "from sklearn.ensemble import RandomForestClassifier\n",
    "from sklearn.tree import DecisionTreeClassifier\n",
    "\n",
    "from sklearn.utils import shuffle\n",
    "\n",
    "from sklearn.metrics import accuracy_score, precision_score, recall_score, f1_score, roc_curve, roc_auc_score\n",
    "import matplotlib.pyplot as plt\n",
    "\n",
    "from sklearn.metrics import silhouette_score\n",
    "import warnings\n",
    "warnings.filterwarnings('ignore') "
   ]
  },
  {
   "cell_type": "markdown",
   "metadata": {},
   "source": [
    "### Изучение данных"
   ]
  },
  {
   "cell_type": "code",
   "execution_count": 2,
   "metadata": {},
   "outputs": [
    {
     "data": {
      "text/html": [
       "<div>\n",
       "<style scoped>\n",
       "    .dataframe tbody tr th:only-of-type {\n",
       "        vertical-align: middle;\n",
       "    }\n",
       "\n",
       "    .dataframe tbody tr th {\n",
       "        vertical-align: top;\n",
       "    }\n",
       "\n",
       "    .dataframe thead th {\n",
       "        text-align: right;\n",
       "    }\n",
       "</style>\n",
       "<table border=\"1\" class=\"dataframe\">\n",
       "  <thead>\n",
       "    <tr style=\"text-align: right;\">\n",
       "      <th></th>\n",
       "      <th>RowNumber</th>\n",
       "      <th>CustomerId</th>\n",
       "      <th>Surname</th>\n",
       "      <th>CreditScore</th>\n",
       "      <th>Geography</th>\n",
       "      <th>Gender</th>\n",
       "      <th>Age</th>\n",
       "      <th>Tenure</th>\n",
       "      <th>Balance</th>\n",
       "      <th>NumOfProducts</th>\n",
       "      <th>HasCrCard</th>\n",
       "      <th>IsActiveMember</th>\n",
       "      <th>EstimatedSalary</th>\n",
       "      <th>Exited</th>\n",
       "    </tr>\n",
       "  </thead>\n",
       "  <tbody>\n",
       "    <tr>\n",
       "      <td>0</td>\n",
       "      <td>1</td>\n",
       "      <td>15634602</td>\n",
       "      <td>Hargrave</td>\n",
       "      <td>619</td>\n",
       "      <td>France</td>\n",
       "      <td>Female</td>\n",
       "      <td>42</td>\n",
       "      <td>2.0</td>\n",
       "      <td>0.00</td>\n",
       "      <td>1</td>\n",
       "      <td>1</td>\n",
       "      <td>1</td>\n",
       "      <td>101348.88</td>\n",
       "      <td>1</td>\n",
       "    </tr>\n",
       "    <tr>\n",
       "      <td>1</td>\n",
       "      <td>2</td>\n",
       "      <td>15647311</td>\n",
       "      <td>Hill</td>\n",
       "      <td>608</td>\n",
       "      <td>Spain</td>\n",
       "      <td>Female</td>\n",
       "      <td>41</td>\n",
       "      <td>1.0</td>\n",
       "      <td>83807.86</td>\n",
       "      <td>1</td>\n",
       "      <td>0</td>\n",
       "      <td>1</td>\n",
       "      <td>112542.58</td>\n",
       "      <td>0</td>\n",
       "    </tr>\n",
       "    <tr>\n",
       "      <td>2</td>\n",
       "      <td>3</td>\n",
       "      <td>15619304</td>\n",
       "      <td>Onio</td>\n",
       "      <td>502</td>\n",
       "      <td>France</td>\n",
       "      <td>Female</td>\n",
       "      <td>42</td>\n",
       "      <td>8.0</td>\n",
       "      <td>159660.80</td>\n",
       "      <td>3</td>\n",
       "      <td>1</td>\n",
       "      <td>0</td>\n",
       "      <td>113931.57</td>\n",
       "      <td>1</td>\n",
       "    </tr>\n",
       "    <tr>\n",
       "      <td>3</td>\n",
       "      <td>4</td>\n",
       "      <td>15701354</td>\n",
       "      <td>Boni</td>\n",
       "      <td>699</td>\n",
       "      <td>France</td>\n",
       "      <td>Female</td>\n",
       "      <td>39</td>\n",
       "      <td>1.0</td>\n",
       "      <td>0.00</td>\n",
       "      <td>2</td>\n",
       "      <td>0</td>\n",
       "      <td>0</td>\n",
       "      <td>93826.63</td>\n",
       "      <td>0</td>\n",
       "    </tr>\n",
       "    <tr>\n",
       "      <td>4</td>\n",
       "      <td>5</td>\n",
       "      <td>15737888</td>\n",
       "      <td>Mitchell</td>\n",
       "      <td>850</td>\n",
       "      <td>Spain</td>\n",
       "      <td>Female</td>\n",
       "      <td>43</td>\n",
       "      <td>2.0</td>\n",
       "      <td>125510.82</td>\n",
       "      <td>1</td>\n",
       "      <td>1</td>\n",
       "      <td>1</td>\n",
       "      <td>79084.10</td>\n",
       "      <td>0</td>\n",
       "    </tr>\n",
       "  </tbody>\n",
       "</table>\n",
       "</div>"
      ],
      "text/plain": [
       "   RowNumber  CustomerId   Surname  CreditScore Geography  Gender  Age  \\\n",
       "0          1    15634602  Hargrave          619    France  Female   42   \n",
       "1          2    15647311      Hill          608     Spain  Female   41   \n",
       "2          3    15619304      Onio          502    France  Female   42   \n",
       "3          4    15701354      Boni          699    France  Female   39   \n",
       "4          5    15737888  Mitchell          850     Spain  Female   43   \n",
       "\n",
       "   Tenure    Balance  NumOfProducts  HasCrCard  IsActiveMember  \\\n",
       "0     2.0       0.00              1          1               1   \n",
       "1     1.0   83807.86              1          0               1   \n",
       "2     8.0  159660.80              3          1               0   \n",
       "3     1.0       0.00              2          0               0   \n",
       "4     2.0  125510.82              1          1               1   \n",
       "\n",
       "   EstimatedSalary  Exited  \n",
       "0        101348.88       1  \n",
       "1        112542.58       0  \n",
       "2        113931.57       1  \n",
       "3         93826.63       0  \n",
       "4         79084.10       0  "
      ]
     },
     "metadata": {},
     "output_type": "display_data"
    }
   ],
   "source": [
    "df = pd.read_csv('/datasets/Churn.csv')\n",
    "display(df.head())"
   ]
  },
  {
   "cell_type": "code",
   "execution_count": 3,
   "metadata": {},
   "outputs": [
    {
     "name": "stdout",
     "output_type": "stream",
     "text": [
      "<class 'pandas.core.frame.DataFrame'>\n",
      "RangeIndex: 10000 entries, 0 to 9999\n",
      "Data columns (total 14 columns):\n",
      "RowNumber          10000 non-null int64\n",
      "CustomerId         10000 non-null int64\n",
      "Surname            10000 non-null object\n",
      "CreditScore        10000 non-null int64\n",
      "Geography          10000 non-null object\n",
      "Gender             10000 non-null object\n",
      "Age                10000 non-null int64\n",
      "Tenure             9091 non-null float64\n",
      "Balance            10000 non-null float64\n",
      "NumOfProducts      10000 non-null int64\n",
      "HasCrCard          10000 non-null int64\n",
      "IsActiveMember     10000 non-null int64\n",
      "EstimatedSalary    10000 non-null float64\n",
      "Exited             10000 non-null int64\n",
      "dtypes: float64(3), int64(8), object(3)\n",
      "memory usage: 1.1+ MB\n"
     ]
    }
   ],
   "source": [
    "df.info()"
   ]
  },
  {
   "cell_type": "code",
   "execution_count": 4,
   "metadata": {},
   "outputs": [
    {
     "data": {
      "text/plain": [
       "Index(['RowNumber', 'CustomerId', 'Surname', 'CreditScore', 'Geography',\n",
       "       'Gender', 'Age', 'Tenure', 'Balance', 'NumOfProducts', 'HasCrCard',\n",
       "       'IsActiveMember', 'EstimatedSalary', 'Exited'],\n",
       "      dtype='object')"
      ]
     },
     "execution_count": 4,
     "metadata": {},
     "output_type": "execute_result"
    }
   ],
   "source": [
    "df.columns"
   ]
  },
  {
   "cell_type": "code",
   "execution_count": 5,
   "metadata": {},
   "outputs": [
    {
     "name": "stdout",
     "output_type": "stream",
     "text": [
      "Geography :\n",
      "France     5014\n",
      "Germany    2509\n",
      "Spain      2477\n",
      "Name: Geography, dtype: int64\n",
      "\n",
      "Gender :\n",
      "Male      5457\n",
      "Female    4543\n",
      "Name: Gender, dtype: int64\n",
      "\n",
      "Tenure :\n",
      "1.0     952\n",
      "2.0     950\n",
      "8.0     933\n",
      "3.0     928\n",
      "5.0     927\n",
      "7.0     925\n",
      "4.0     885\n",
      "9.0     882\n",
      "6.0     881\n",
      "10.0    446\n",
      "0.0     382\n",
      "Name: Tenure, dtype: int64\n",
      "\n",
      "NumOfProducts :\n",
      "1    5084\n",
      "2    4590\n",
      "3     266\n",
      "4      60\n",
      "Name: NumOfProducts, dtype: int64\n",
      "\n",
      "HasCrCard :\n",
      "1    7055\n",
      "0    2945\n",
      "Name: HasCrCard, dtype: int64\n",
      "\n",
      "IsActiveMember :\n",
      "1    5151\n",
      "0    4849\n",
      "Name: IsActiveMember, dtype: int64\n",
      "\n",
      "Exited :\n",
      "0    7963\n",
      "1    2037\n",
      "Name: Exited, dtype: int64\n",
      "\n"
     ]
    }
   ],
   "source": [
    "for i in ['Geography', 'Gender', 'Tenure', 'NumOfProducts', 'HasCrCard',\n",
    "       'IsActiveMember', 'Exited']:\n",
    "    print(i, ':')\n",
    "    print(df[i].value_counts())\n",
    "    print()"
   ]
  },
  {
   "cell_type": "code",
   "execution_count": 6,
   "metadata": {},
   "outputs": [
    {
     "data": {
      "text/html": [
       "<div>\n",
       "<style scoped>\n",
       "    .dataframe tbody tr th:only-of-type {\n",
       "        vertical-align: middle;\n",
       "    }\n",
       "\n",
       "    .dataframe tbody tr th {\n",
       "        vertical-align: top;\n",
       "    }\n",
       "\n",
       "    .dataframe thead th {\n",
       "        text-align: right;\n",
       "    }\n",
       "</style>\n",
       "<table border=\"1\" class=\"dataframe\">\n",
       "  <thead>\n",
       "    <tr style=\"text-align: right;\">\n",
       "      <th></th>\n",
       "      <th>RowNumber</th>\n",
       "      <th>CustomerId</th>\n",
       "      <th>CreditScore</th>\n",
       "      <th>Age</th>\n",
       "      <th>Tenure</th>\n",
       "      <th>Balance</th>\n",
       "      <th>NumOfProducts</th>\n",
       "      <th>HasCrCard</th>\n",
       "      <th>IsActiveMember</th>\n",
       "      <th>EstimatedSalary</th>\n",
       "      <th>Exited</th>\n",
       "    </tr>\n",
       "  </thead>\n",
       "  <tbody>\n",
       "    <tr>\n",
       "      <td>count</td>\n",
       "      <td>10000.00000</td>\n",
       "      <td>1.000000e+04</td>\n",
       "      <td>10000.000000</td>\n",
       "      <td>10000.000000</td>\n",
       "      <td>9091.000000</td>\n",
       "      <td>10000.000000</td>\n",
       "      <td>10000.000000</td>\n",
       "      <td>10000.00000</td>\n",
       "      <td>10000.000000</td>\n",
       "      <td>10000.000000</td>\n",
       "      <td>10000.000000</td>\n",
       "    </tr>\n",
       "    <tr>\n",
       "      <td>mean</td>\n",
       "      <td>5000.50000</td>\n",
       "      <td>1.569094e+07</td>\n",
       "      <td>650.528800</td>\n",
       "      <td>38.921800</td>\n",
       "      <td>4.997690</td>\n",
       "      <td>76485.889288</td>\n",
       "      <td>1.530200</td>\n",
       "      <td>0.70550</td>\n",
       "      <td>0.515100</td>\n",
       "      <td>100090.239881</td>\n",
       "      <td>0.203700</td>\n",
       "    </tr>\n",
       "    <tr>\n",
       "      <td>std</td>\n",
       "      <td>2886.89568</td>\n",
       "      <td>7.193619e+04</td>\n",
       "      <td>96.653299</td>\n",
       "      <td>10.487806</td>\n",
       "      <td>2.894723</td>\n",
       "      <td>62397.405202</td>\n",
       "      <td>0.581654</td>\n",
       "      <td>0.45584</td>\n",
       "      <td>0.499797</td>\n",
       "      <td>57510.492818</td>\n",
       "      <td>0.402769</td>\n",
       "    </tr>\n",
       "    <tr>\n",
       "      <td>min</td>\n",
       "      <td>1.00000</td>\n",
       "      <td>1.556570e+07</td>\n",
       "      <td>350.000000</td>\n",
       "      <td>18.000000</td>\n",
       "      <td>0.000000</td>\n",
       "      <td>0.000000</td>\n",
       "      <td>1.000000</td>\n",
       "      <td>0.00000</td>\n",
       "      <td>0.000000</td>\n",
       "      <td>11.580000</td>\n",
       "      <td>0.000000</td>\n",
       "    </tr>\n",
       "    <tr>\n",
       "      <td>25%</td>\n",
       "      <td>2500.75000</td>\n",
       "      <td>1.562853e+07</td>\n",
       "      <td>584.000000</td>\n",
       "      <td>32.000000</td>\n",
       "      <td>2.000000</td>\n",
       "      <td>0.000000</td>\n",
       "      <td>1.000000</td>\n",
       "      <td>0.00000</td>\n",
       "      <td>0.000000</td>\n",
       "      <td>51002.110000</td>\n",
       "      <td>0.000000</td>\n",
       "    </tr>\n",
       "    <tr>\n",
       "      <td>50%</td>\n",
       "      <td>5000.50000</td>\n",
       "      <td>1.569074e+07</td>\n",
       "      <td>652.000000</td>\n",
       "      <td>37.000000</td>\n",
       "      <td>5.000000</td>\n",
       "      <td>97198.540000</td>\n",
       "      <td>1.000000</td>\n",
       "      <td>1.00000</td>\n",
       "      <td>1.000000</td>\n",
       "      <td>100193.915000</td>\n",
       "      <td>0.000000</td>\n",
       "    </tr>\n",
       "    <tr>\n",
       "      <td>75%</td>\n",
       "      <td>7500.25000</td>\n",
       "      <td>1.575323e+07</td>\n",
       "      <td>718.000000</td>\n",
       "      <td>44.000000</td>\n",
       "      <td>7.000000</td>\n",
       "      <td>127644.240000</td>\n",
       "      <td>2.000000</td>\n",
       "      <td>1.00000</td>\n",
       "      <td>1.000000</td>\n",
       "      <td>149388.247500</td>\n",
       "      <td>0.000000</td>\n",
       "    </tr>\n",
       "    <tr>\n",
       "      <td>max</td>\n",
       "      <td>10000.00000</td>\n",
       "      <td>1.581569e+07</td>\n",
       "      <td>850.000000</td>\n",
       "      <td>92.000000</td>\n",
       "      <td>10.000000</td>\n",
       "      <td>250898.090000</td>\n",
       "      <td>4.000000</td>\n",
       "      <td>1.00000</td>\n",
       "      <td>1.000000</td>\n",
       "      <td>199992.480000</td>\n",
       "      <td>1.000000</td>\n",
       "    </tr>\n",
       "  </tbody>\n",
       "</table>\n",
       "</div>"
      ],
      "text/plain": [
       "         RowNumber    CustomerId   CreditScore           Age       Tenure  \\\n",
       "count  10000.00000  1.000000e+04  10000.000000  10000.000000  9091.000000   \n",
       "mean    5000.50000  1.569094e+07    650.528800     38.921800     4.997690   \n",
       "std     2886.89568  7.193619e+04     96.653299     10.487806     2.894723   \n",
       "min        1.00000  1.556570e+07    350.000000     18.000000     0.000000   \n",
       "25%     2500.75000  1.562853e+07    584.000000     32.000000     2.000000   \n",
       "50%     5000.50000  1.569074e+07    652.000000     37.000000     5.000000   \n",
       "75%     7500.25000  1.575323e+07    718.000000     44.000000     7.000000   \n",
       "max    10000.00000  1.581569e+07    850.000000     92.000000    10.000000   \n",
       "\n",
       "             Balance  NumOfProducts    HasCrCard  IsActiveMember  \\\n",
       "count   10000.000000   10000.000000  10000.00000    10000.000000   \n",
       "mean    76485.889288       1.530200      0.70550        0.515100   \n",
       "std     62397.405202       0.581654      0.45584        0.499797   \n",
       "min         0.000000       1.000000      0.00000        0.000000   \n",
       "25%         0.000000       1.000000      0.00000        0.000000   \n",
       "50%     97198.540000       1.000000      1.00000        1.000000   \n",
       "75%    127644.240000       2.000000      1.00000        1.000000   \n",
       "max    250898.090000       4.000000      1.00000        1.000000   \n",
       "\n",
       "       EstimatedSalary        Exited  \n",
       "count     10000.000000  10000.000000  \n",
       "mean     100090.239881      0.203700  \n",
       "std       57510.492818      0.402769  \n",
       "min          11.580000      0.000000  \n",
       "25%       51002.110000      0.000000  \n",
       "50%      100193.915000      0.000000  \n",
       "75%      149388.247500      0.000000  \n",
       "max      199992.480000      1.000000  "
      ]
     },
     "execution_count": 6,
     "metadata": {},
     "output_type": "execute_result"
    }
   ],
   "source": [
    "df.describe()"
   ]
  },
  {
   "cell_type": "code",
   "execution_count": 7,
   "metadata": {},
   "outputs": [
    {
     "data": {
      "text/html": [
       "<div>\n",
       "<style scoped>\n",
       "    .dataframe tbody tr th:only-of-type {\n",
       "        vertical-align: middle;\n",
       "    }\n",
       "\n",
       "    .dataframe tbody tr th {\n",
       "        vertical-align: top;\n",
       "    }\n",
       "\n",
       "    .dataframe thead th {\n",
       "        text-align: right;\n",
       "    }\n",
       "</style>\n",
       "<table border=\"1\" class=\"dataframe\">\n",
       "  <thead>\n",
       "    <tr style=\"text-align: right;\">\n",
       "      <th></th>\n",
       "      <th>RowNumber</th>\n",
       "      <th>CustomerId</th>\n",
       "      <th>CreditScore</th>\n",
       "      <th>Age</th>\n",
       "      <th>Tenure</th>\n",
       "      <th>Balance</th>\n",
       "      <th>NumOfProducts</th>\n",
       "      <th>HasCrCard</th>\n",
       "      <th>IsActiveMember</th>\n",
       "      <th>EstimatedSalary</th>\n",
       "    </tr>\n",
       "    <tr>\n",
       "      <th>Exited</th>\n",
       "      <th></th>\n",
       "      <th></th>\n",
       "      <th></th>\n",
       "      <th></th>\n",
       "      <th></th>\n",
       "      <th></th>\n",
       "      <th></th>\n",
       "      <th></th>\n",
       "      <th></th>\n",
       "      <th></th>\n",
       "    </tr>\n",
       "  </thead>\n",
       "  <tbody>\n",
       "    <tr>\n",
       "      <td>0</td>\n",
       "      <td>5024.694964</td>\n",
       "      <td>1.569117e+07</td>\n",
       "      <td>651.853196</td>\n",
       "      <td>37.408389</td>\n",
       "      <td>5.022247</td>\n",
       "      <td>72745.296779</td>\n",
       "      <td>1.544267</td>\n",
       "      <td>0.707146</td>\n",
       "      <td>0.554565</td>\n",
       "      <td>99738.391772</td>\n",
       "    </tr>\n",
       "    <tr>\n",
       "      <td>1</td>\n",
       "      <td>4905.917526</td>\n",
       "      <td>1.569005e+07</td>\n",
       "      <td>645.351497</td>\n",
       "      <td>44.837997</td>\n",
       "      <td>4.901834</td>\n",
       "      <td>91108.539337</td>\n",
       "      <td>1.475209</td>\n",
       "      <td>0.699067</td>\n",
       "      <td>0.360825</td>\n",
       "      <td>101465.677531</td>\n",
       "    </tr>\n",
       "  </tbody>\n",
       "</table>\n",
       "</div>"
      ],
      "text/plain": [
       "          RowNumber    CustomerId  CreditScore        Age    Tenure  \\\n",
       "Exited                                                                \n",
       "0       5024.694964  1.569117e+07   651.853196  37.408389  5.022247   \n",
       "1       4905.917526  1.569005e+07   645.351497  44.837997  4.901834   \n",
       "\n",
       "             Balance  NumOfProducts  HasCrCard  IsActiveMember  \\\n",
       "Exited                                                           \n",
       "0       72745.296779       1.544267   0.707146        0.554565   \n",
       "1       91108.539337       1.475209   0.699067        0.360825   \n",
       "\n",
       "        EstimatedSalary  \n",
       "Exited                   \n",
       "0          99738.391772  \n",
       "1         101465.677531  "
      ]
     },
     "execution_count": 7,
     "metadata": {},
     "output_type": "execute_result"
    }
   ],
   "source": [
    "df.groupby('Exited').mean()"
   ]
  },
  {
   "cell_type": "code",
   "execution_count": 8,
   "metadata": {},
   "outputs": [
    {
     "name": "stdout",
     "output_type": "stream",
     "text": [
      "Geography\n",
      "France     0.161548\n",
      "Germany    0.324432\n",
      "Spain      0.166734\n",
      "Name: Exited, dtype: float64\n",
      "_______________________________\n",
      "Gender\n",
      "Female    0.250715\n",
      "Male      0.164559\n",
      "Name: Exited, dtype: float64\n",
      "_______________________________\n",
      "Tenure\n",
      "0.0     0.235602\n",
      "1.0     0.223739\n",
      "2.0     0.194737\n",
      "3.0     0.213362\n",
      "4.0     0.207910\n",
      "5.0     0.201726\n",
      "6.0     0.200908\n",
      "7.0     0.172973\n",
      "8.0     0.186495\n",
      "9.0     0.219955\n",
      "10.0    0.206278\n",
      "Name: Exited, dtype: float64\n",
      "_______________________________\n",
      "NumOfProducts\n",
      "1    0.277144\n",
      "2    0.075817\n",
      "3    0.827068\n",
      "4    1.000000\n",
      "Name: Exited, dtype: float64\n",
      "_______________________________\n",
      "HasCrCard\n",
      "0    0.208149\n",
      "1    0.201843\n",
      "Name: Exited, dtype: float64\n",
      "_______________________________\n",
      "IsActiveMember\n",
      "0    0.268509\n",
      "1    0.142691\n",
      "Name: Exited, dtype: float64\n",
      "_______________________________\n"
     ]
    }
   ],
   "source": [
    "for i in ['Geography', 'Gender', 'Tenure', 'NumOfProducts', 'HasCrCard', 'IsActiveMember']:\n",
    "    print(df.groupby(i)['Exited'].mean())\n",
    "    print(\"_______________________________\")"
   ]
  },
  {
   "cell_type": "markdown",
   "metadata": {},
   "source": [
    "<div class=\"alert alert-info\"> <b> </b> \n",
    "    \n",
    "С двумя продуктами уходит только 7,5% клиентов (из тех кто имеет 2 продукта), с одним - 27%, с тремя -83%, с четырьмя - 100%\n",
    "    \n",
    "    \n",
    "</div>"
   ]
  },
  {
   "cell_type": "markdown",
   "metadata": {},
   "source": [
    "<div class=\"alert alert-info\"> <b> </b> \n",
    "    \n",
    "Немцы уходят в 2 раза чаще представителей других стран.\n",
    "    \n",
    "    \n",
    "</div>"
   ]
  },
  {
   "cell_type": "markdown",
   "metadata": {},
   "source": [
    "<div class=\"alert alert-info\"> <b> </b> \n",
    "    \n",
    "Женщин уходит в 25%, в то время как мужчин 16%.\n",
    "    \n",
    "Активных клиентов уходит 14%, неактивных - 27%.    \n",
    "    \n",
    "</div>"
   ]
  },
  {
   "cell_type": "code",
   "execution_count": 9,
   "metadata": {},
   "outputs": [
    {
     "data": {
      "image/png": "[encoded data removed]",
      "text/plain": [
       "<Figure size 936x648 with 2 Axes>"
      ]
     },
     "metadata": {},
     "output_type": "display_data"
    }
   ],
   "source": [
    "\n",
    "df_pivot = df.pivot_table(\n",
    "    index=['Geography', 'Gender', 'IsActiveMember'], columns='NumOfProducts', values='Exited', aggfunc='mean'\n",
    ")\n",
    "\n",
    "sns.set(style='white')\n",
    "plt.figure(figsize=(13, 9))\n",
    "plt.title('% оттока клиентов в зависимости от неск-х факторов')\n",
    "sns.heatmap(df_pivot, annot=True, fmt='.2%', linewidths=1, linecolor='gray')\n",
    "plt.xlabel('Кол-во продуктов') \n",
    "plt.ylabel('Страна / Пол / Активность'); "
   ]
  },
  {
   "cell_type": "markdown",
   "metadata": {},
   "source": [
    "<div class=\"alert alert-info\"> <b> </b> \n",
    "    \n",
    "Самые постоянные лояльные клиенты - испанцы + мужчины + 2 продукта + активные (3% оттока), далее - французы + мужчины + 2 продукта (3,5% и 5%).\n",
    "    \n",
    "</div>"
   ]
  },
  {
   "cell_type": "code",
   "execution_count": 10,
   "metadata": {},
   "outputs": [
    {
     "data": {
      "text/plain": [
       "Index(['RowNumber', 'CustomerId', 'Surname', 'CreditScore', 'Geography',\n",
       "       'Gender', 'Age', 'Tenure', 'Balance', 'NumOfProducts', 'HasCrCard',\n",
       "       'IsActiveMember', 'EstimatedSalary', 'Exited'],\n",
       "      dtype='object')"
      ]
     },
     "execution_count": 10,
     "metadata": {},
     "output_type": "execute_result"
    }
   ],
   "source": [
    "df.columns"
   ]
  },
  {
   "cell_type": "code",
   "execution_count": 11,
   "metadata": {},
   "outputs": [
    {
     "data": {
      "image/png": "[encoded data removed]",
      "text/plain": [
       "<Figure size 432x288 with 1 Axes>"
      ]
     },
     "metadata": {},
     "output_type": "display_data"
    },
    {
     "data": {
      "image/png": "[encoded data removed]",
      "text/plain": [
       "<Figure size 432x288 with 1 Axes>"
      ]
     },
     "metadata": {},
     "output_type": "display_data"
    },
    {
     "data": {
      "image/png": "[encoded data removed]",
      "text/plain": [
       "<Figure size 432x288 with 1 Axes>"
      ]
     },
     "metadata": {},
     "output_type": "display_data"
    },
    {
     "data": {
      "image/png": "[encoded data removed]",
      "text/plain": [
       "<Figure size 432x288 with 1 Axes>"
      ]
     },
     "metadata": {},
     "output_type": "display_data"
    },
    {
     "data": {
      "image/png": "[encoded data removed]",
      "text/plain": [
       "<Figure size 432x288 with 1 Axes>"
      ]
     },
     "metadata": {},
     "output_type": "display_data"
    }
   ],
   "source": [
    "for i in ['CreditScore', 'Age', 'Tenure', 'Balance', 'EstimatedSalary']:\n",
    "    sns.boxplot(x='Exited',y=i, data=df).set_title(i)\n",
    "    plt.show() "
   ]
  },
  {
   "cell_type": "code",
   "execution_count": 12,
   "metadata": {},
   "outputs": [
    {
     "data": {
      "image/png": "[encoded data removed]",
      "text/plain": [
       "<Figure size 432x288 with 1 Axes>"
      ]
     },
     "metadata": {},
     "output_type": "display_data"
    },
    {
     "data": {
      "image/png": "[encoded data removed]",
      "text/plain": [
       "<Figure size 432x288 with 1 Axes>"
      ]
     },
     "metadata": {},
     "output_type": "display_data"
    },
    {
     "data": {
      "image/png": "[encoded data removed]",
      "text/plain": [
       "<Figure size 432x288 with 1 Axes>"
      ]
     },
     "metadata": {},
     "output_type": "display_data"
    },
    {
     "data": {
      "image/png": "[encoded data removed]",
      "text/plain": [
       "<Figure size 432x288 with 1 Axes>"
      ]
     },
     "metadata": {},
     "output_type": "display_data"
    },
    {
     "data": {
      "image/png": "[encoded data removed]",
      "text/plain": [
       "<Figure size 432x288 with 1 Axes>"
      ]
     },
     "metadata": {},
     "output_type": "display_data"
    }
   ],
   "source": [
    "for i in ['Geography', 'Gender', 'NumOfProducts', 'HasCrCard', 'IsActiveMember']:\n",
    "    sns.countplot(x=\"Exited\", hue=i, data=df, color = 'red')\n",
    "    plt.show() "
   ]
  },
  {
   "cell_type": "markdown",
   "metadata": {},
   "source": [
    "<div class=\"alert alert-info\"> <b> </b> \n",
    "    \n",
    "У клиентов, которые ушли, больше баланс, старше возраст, активность меньше. Французы более лояльны к банку.\n",
    "    \n",
    "    \n",
    "</div>"
   ]
  },
  {
   "cell_type": "markdown",
   "metadata": {},
   "source": [
    "### Предобратока данных"
   ]
  },
  {
   "cell_type": "code",
   "execution_count": 14,
   "metadata": {},
   "outputs": [],
   "source": [
    "df = df.drop_duplicates().reset_index(drop=True)"
   ]
  },
  {
   "cell_type": "code",
   "execution_count": 15,
   "metadata": {},
   "outputs": [
    {
     "data": {
      "text/html": [
       "<div>\n",
       "<style scoped>\n",
       "    .dataframe tbody tr th:only-of-type {\n",
       "        vertical-align: middle;\n",
       "    }\n",
       "\n",
       "    .dataframe tbody tr th {\n",
       "        vertical-align: top;\n",
       "    }\n",
       "\n",
       "    .dataframe thead th {\n",
       "        text-align: right;\n",
       "    }\n",
       "</style>\n",
       "<table border=\"1\" class=\"dataframe\">\n",
       "  <thead>\n",
       "    <tr style=\"text-align: right;\">\n",
       "      <th></th>\n",
       "      <th>RowNumber</th>\n",
       "      <th>CustomerId</th>\n",
       "      <th>Surname</th>\n",
       "      <th>CreditScore</th>\n",
       "      <th>Geography</th>\n",
       "      <th>Gender</th>\n",
       "      <th>Age</th>\n",
       "      <th>Tenure</th>\n",
       "      <th>Balance</th>\n",
       "      <th>NumOfProducts</th>\n",
       "      <th>HasCrCard</th>\n",
       "      <th>IsActiveMember</th>\n",
       "      <th>EstimatedSalary</th>\n",
       "      <th>Exited</th>\n",
       "    </tr>\n",
       "  </thead>\n",
       "  <tbody>\n",
       "    <tr>\n",
       "      <td>0</td>\n",
       "      <td>1</td>\n",
       "      <td>15634602</td>\n",
       "      <td>Hargrave</td>\n",
       "      <td>619</td>\n",
       "      <td>France</td>\n",
       "      <td>Female</td>\n",
       "      <td>42</td>\n",
       "      <td>2.0</td>\n",
       "      <td>0.0</td>\n",
       "      <td>1</td>\n",
       "      <td>1</td>\n",
       "      <td>1</td>\n",
       "      <td>101348.88</td>\n",
       "      <td>1</td>\n",
       "    </tr>\n",
       "  </tbody>\n",
       "</table>\n",
       "</div>"
      ],
      "text/plain": [
       "   RowNumber  CustomerId   Surname  CreditScore Geography  Gender  Age  \\\n",
       "0          1    15634602  Hargrave          619    France  Female   42   \n",
       "\n",
       "   Tenure  Balance  NumOfProducts  HasCrCard  IsActiveMember  EstimatedSalary  \\\n",
       "0     2.0      0.0              1          1               1        101348.88   \n",
       "\n",
       "   Exited  \n",
       "0       1  "
      ]
     },
     "execution_count": 15,
     "metadata": {},
     "output_type": "execute_result"
    }
   ],
   "source": [
    "df.head(1)"
   ]
  },
  {
   "cell_type": "code",
   "execution_count": 16,
   "metadata": {},
   "outputs": [
    {
     "name": "stdout",
     "output_type": "stream",
     "text": [
      "<class 'pandas.core.frame.DataFrame'>\n",
      "RangeIndex: 10000 entries, 0 to 9999\n",
      "Data columns (total 11 columns):\n",
      "CreditScore        10000 non-null int64\n",
      "Geography          10000 non-null object\n",
      "Gender             10000 non-null object\n",
      "Age                10000 non-null int64\n",
      "Tenure             9091 non-null float64\n",
      "Balance            10000 non-null float64\n",
      "NumOfProducts      10000 non-null int64\n",
      "HasCrCard          10000 non-null int64\n",
      "IsActiveMember     10000 non-null int64\n",
      "EstimatedSalary    10000 non-null float64\n",
      "Exited             10000 non-null int64\n",
      "dtypes: float64(3), int64(6), object(2)\n",
      "memory usage: 859.5+ KB\n"
     ]
    }
   ],
   "source": [
    "#удалим RowNumber, CustomerId, Surname\n",
    "df=df.drop(['RowNumber', 'CustomerId', 'Surname'], axis = 1)\n",
    "df.info()"
   ]
  },
  {
   "cell_type": "code",
   "execution_count": 17,
   "metadata": {
    "scrolled": true
   },
   "outputs": [
    {
     "name": "stdout",
     "output_type": "stream",
     "text": [
      "<class 'pandas.core.frame.DataFrame'>\n",
      "RangeIndex: 10000 entries, 0 to 9999\n",
      "Data columns (total 11 columns):\n",
      "CreditScore        10000 non-null int64\n",
      "Geography          10000 non-null object\n",
      "Gender             10000 non-null object\n",
      "Age                10000 non-null int64\n",
      "Tenure             10000 non-null float64\n",
      "Balance            10000 non-null float64\n",
      "NumOfProducts      10000 non-null int64\n",
      "HasCrCard          10000 non-null int64\n",
      "IsActiveMember     10000 non-null int64\n",
      "EstimatedSalary    10000 non-null float64\n",
      "Exited             10000 non-null int64\n",
      "dtypes: float64(3), int64(6), object(2)\n",
      "memory usage: 859.5+ KB\n"
     ]
    }
   ],
   "source": [
    "#Заменим пропущенные значения на медиану Tenure\n",
    "\n",
    "df['Tenure'] = df['Tenure'].fillna(df['Tenure'].median()) \n",
    "df.info()"
   ]
  },
  {
   "cell_type": "code",
   "execution_count": 18,
   "metadata": {
    "scrolled": true
   },
   "outputs": [
    {
     "name": "stdout",
     "output_type": "stream",
     "text": [
      "(10000, 12)\n"
     ]
    },
    {
     "data": {
      "text/html": [
       "<div>\n",
       "<style scoped>\n",
       "    .dataframe tbody tr th:only-of-type {\n",
       "        vertical-align: middle;\n",
       "    }\n",
       "\n",
       "    .dataframe tbody tr th {\n",
       "        vertical-align: top;\n",
       "    }\n",
       "\n",
       "    .dataframe thead th {\n",
       "        text-align: right;\n",
       "    }\n",
       "</style>\n",
       "<table border=\"1\" class=\"dataframe\">\n",
       "  <thead>\n",
       "    <tr style=\"text-align: right;\">\n",
       "      <th></th>\n",
       "      <th>CreditScore</th>\n",
       "      <th>Age</th>\n",
       "      <th>Tenure</th>\n",
       "      <th>Balance</th>\n",
       "      <th>NumOfProducts</th>\n",
       "      <th>HasCrCard</th>\n",
       "      <th>IsActiveMember</th>\n",
       "      <th>EstimatedSalary</th>\n",
       "      <th>Exited</th>\n",
       "      <th>Geography_Germany</th>\n",
       "      <th>Geography_Spain</th>\n",
       "      <th>Gender_Male</th>\n",
       "    </tr>\n",
       "  </thead>\n",
       "  <tbody>\n",
       "    <tr>\n",
       "      <td>0</td>\n",
       "      <td>619</td>\n",
       "      <td>42</td>\n",
       "      <td>2.0</td>\n",
       "      <td>0.0</td>\n",
       "      <td>1</td>\n",
       "      <td>1</td>\n",
       "      <td>1</td>\n",
       "      <td>101348.88</td>\n",
       "      <td>1</td>\n",
       "      <td>0</td>\n",
       "      <td>0</td>\n",
       "      <td>0</td>\n",
       "    </tr>\n",
       "  </tbody>\n",
       "</table>\n",
       "</div>"
      ],
      "text/plain": [
       "   CreditScore  Age  Tenure  Balance  NumOfProducts  HasCrCard  \\\n",
       "0          619   42     2.0      0.0              1          1   \n",
       "\n",
       "   IsActiveMember  EstimatedSalary  Exited  Geography_Germany  \\\n",
       "0               1        101348.88       1                  0   \n",
       "\n",
       "   Geography_Spain  Gender_Male  \n",
       "0                0            0  "
      ]
     },
     "execution_count": 18,
     "metadata": {},
     "output_type": "execute_result"
    }
   ],
   "source": [
    "#категориальные признаки 'Geography', 'Gender'\n",
    "#Остановимся на технике One-Hot Encoding. Она работает со всеми моделями.\n",
    "\n",
    "df_ohe = pd.get_dummies(df, drop_first=True)\n",
    "print(df_ohe.shape)\n",
    "df_ohe.head(1)"
   ]
  },
  {
   "cell_type": "code",
   "execution_count": 19,
   "metadata": {},
   "outputs": [],
   "source": [
    "target = df_ohe['Exited']\n",
    "features = df_ohe.drop('Exited', axis=1)"
   ]
  },
  {
   "cell_type": "code",
   "execution_count": 20,
   "metadata": {},
   "outputs": [],
   "source": [
    "\n",
    "features_all, features_test, target_all, target_test = train_test_split(\n",
    "    features, target, test_size=0.20, random_state=0, stratify=target)\n",
    "\n",
    "features_train, features_valid, target_train, target_valid = train_test_split(\n",
    "    features_all, target_all, test_size=0.25, random_state=0, stratify=target_all)"
   ]
  },
  {
   "cell_type": "code",
   "execution_count": 21,
   "metadata": {},
   "outputs": [],
   "source": [
    "\n",
    "#Стандартизируем признаки\n",
    "#['CreditScore', 'Age', 'Tenure', 'Balance', 'EstimatedSalary']\n",
    "\n",
    "numeric = ['CreditScore', 'Age', 'Tenure', 'Balance', 'EstimatedSalary']\n",
    "\n",
    "scaler = StandardScaler()\n",
    "scaler.fit(features_train[numeric])\n",
    "features_train[numeric] = scaler.transform(features_train[numeric])\n",
    "features_valid[numeric] = scaler.transform(features_valid[numeric])\n",
    "features_test[numeric] = scaler.transform(features_test[numeric])"
   ]
  },
  {
   "cell_type": "markdown",
   "metadata": {},
   "source": [
    "## Исследование моделей"
   ]
  },
  {
   "cell_type": "markdown",
   "metadata": {},
   "source": [
    "### Модели без учёта дисбаланса"
   ]
  },
  {
   "cell_type": "markdown",
   "metadata": {},
   "source": [
    "#### Логистическая регрессия"
   ]
  },
  {
   "cell_type": "code",
   "execution_count": 22,
   "metadata": {},
   "outputs": [
    {
     "name": "stdout",
     "output_type": "stream",
     "text": [
      "F1 лучшей модели: 0.3169398907103825\n",
      "ROC AUC наилучшей модели на валидационной выборке: 0.7628121187443222\n",
      "Лучшая модель LogisticRegression(C=1.0, class_weight=None, dual=False, fit_intercept=True,\n",
      "                   intercept_scaling=1, l1_ratio=None, max_iter=100,\n",
      "                   multi_class='warn', n_jobs=None, penalty='l2',\n",
      "                   random_state=0, solver='liblinear', tol=0.0001, verbose=0,\n",
      "                   warm_start=False)\n"
     ]
    }
   ],
   "source": [
    "model = LogisticRegression(solver='liblinear', random_state=0) \n",
    "model.fit(features_train, target_train)\n",
    "predicted_valid = model.predict(features_valid)\n",
    "\n",
    "best_result=f1_score(target_valid, predicted_valid)\n",
    "probabilities_one_valid = model.predict_proba(features_valid)[:, 1]\n",
    "best_roc_auc= roc_auc_score(target_valid, probabilities_one_valid)\n",
    "best_model=model\n",
    "\n",
    "print(\"F1 лучшей модели:\", best_result)\n",
    "print('ROC AUC наилучшей модели на валидационной выборке:', best_roc_auc) #Чтобы выявить, как сильно наша модель отличается от случайной, посчитаем площадь под ROC-кривой — AUC-ROC\n",
    "print('Лучшая модель', best_model)\n"
   ]
  },
  {
   "cell_type": "code",
   "execution_count": 23,
   "metadata": {},
   "outputs": [
    {
     "data": {
      "image/png": "[encoded data removed]",
      "text/plain": [
       "<Figure size 432x288 with 1 Axes>"
      ]
     },
     "metadata": {},
     "output_type": "display_data"
    }
   ],
   "source": [
    "fpr, tpr, thresholds = roc_curve(target_valid, probabilities_one_valid)\n",
    "\n",
    "plt.figure()\n",
    "plt.plot(fpr, tpr)\n",
    "plt.plot([0, 1], [0, 1], linestyle='--') # ROC-кривая случайной модели \n",
    "plt.xlim([0.0, 1.0])\n",
    "plt.ylim([0.0, 1.0])\n",
    "plt.xlabel(\"False Positive Rate\")\n",
    "plt.ylabel(\"True Positive Rate\")\n",
    "plt.title(\"ROC-кривая\")\n",
    "plt.show()"
   ]
  },
  {
   "cell_type": "markdown",
   "metadata": {},
   "source": [
    "#### Решающее дерево"
   ]
  },
  {
   "cell_type": "code",
   "execution_count": 24,
   "metadata": {},
   "outputs": [
    {
     "name": "stdout",
     "output_type": "stream",
     "text": [
      "F1 лучшей модели: 0.521875\n",
      "ROC AUC наилучшей модели на валидационной выборке: 0.820865549679109\n",
      "Лучшая модель DecisionTreeClassifier(class_weight=None, criterion='gini', max_depth=5,\n",
      "                       max_features=None, max_leaf_nodes=None,\n",
      "                       min_impurity_decrease=0.0, min_impurity_split=None,\n",
      "                       min_samples_leaf=1, min_samples_split=2,\n",
      "                       min_weight_fraction_leaf=0.0, presort=False,\n",
      "                       random_state=12345, splitter='best')\n"
     ]
    }
   ],
   "source": [
    "for depth in range(1, 6):\n",
    "    model = DecisionTreeClassifier(random_state=12345, max_depth=depth) \n",
    "    model.fit(features_train, target_train) \n",
    "    predictions_valid = model.predict(features_valid) \n",
    "    result = f1_score(target_valid, predictions_valid)\n",
    "    probabilities_one_valid = model.predict_proba(features_valid)[:, 1]\n",
    "    roc_auc=roc_auc_score(target_valid, probabilities_one_valid)\n",
    "    if result > best_result:\n",
    "        best_model = model\n",
    "        best_result = result\n",
    "        best_roc_auc=roc_auc\n",
    "        best_probabilities_one_valid=probabilities_one_valid\n",
    "        \n",
    "print(\"F1 лучшей модели:\", best_result)\n",
    "print('ROC AUC наилучшей модели на валидационной выборке:', best_roc_auc)  \n",
    "print('Лучшая модель', best_model)"
   ]
  },
  {
   "cell_type": "code",
   "execution_count": 25,
   "metadata": {},
   "outputs": [
    {
     "data": {
      "image/png": "[encoded data removed]",
      "text/plain": [
       "<Figure size 432x288 with 1 Axes>"
      ]
     },
     "metadata": {},
     "output_type": "display_data"
    }
   ],
   "source": [
    "fpr, tpr, thresholds = roc_curve(target_valid, best_probabilities_one_valid)\n",
    "\n",
    "plt.figure()\n",
    "plt.plot(fpr, tpr)\n",
    "plt.plot([0, 1], [0, 1], linestyle='--') # ROC-кривая случайной модели \n",
    "plt.xlim([0.0, 1.0])\n",
    "plt.ylim([0.0, 1.0])\n",
    "plt.xlabel(\"False Positive Rate\")\n",
    "plt.ylabel(\"True Positive Rate\")\n",
    "plt.title(\"ROC-кривая наилучшей модели на валидационной выборке\")\n",
    "plt.show()\n"
   ]
  },
  {
   "cell_type": "markdown",
   "metadata": {},
   "source": [
    "#### Случайный лес"
   ]
  },
  {
   "cell_type": "code",
   "execution_count": 26,
   "metadata": {},
   "outputs": [
    {
     "name": "stdout",
     "output_type": "stream",
     "text": [
      "F1 наилучшей модели на валидационной выборке: 0.5762195121951219 Количество деревьев: 30 Максимальная глубина: 20\n",
      "ROC AUC наилучшей модели на валидационной выборке: 0.8312518990485093\n",
      "Лучшая модель RandomForestClassifier(bootstrap=True, class_weight=None, criterion='gini',\n",
      "                       max_depth=14, max_features='auto', max_leaf_nodes=None,\n",
      "                       min_impurity_decrease=0.0, min_impurity_split=None,\n",
      "                       min_samples_leaf=1, min_samples_split=2,\n",
      "                       min_weight_fraction_leaf=0.0, n_estimators=30,\n",
      "                       n_jobs=None, oob_score=False, random_state=12345,\n",
      "                       verbose=0, warm_start=False)\n"
     ]
    }
   ],
   "source": [
    "for est in range(10, 101, 10):\n",
    "    for depth in range (1, 21):\n",
    "        model = RandomForestClassifier(random_state=12345, n_estimators=est, max_depth=depth) \n",
    "\n",
    "        model.fit(features_train, target_train) \n",
    "        predictions_valid = model.predict(features_valid) \n",
    "        result=f1_score(target_valid, predictions_valid)\n",
    "        probabilities_one_valid = model.predict_proba(features_valid)[:, 1]\n",
    "        roc_auc=roc_auc_score(target_valid, probabilities_one_valid)\n",
    "        if result > best_result:\n",
    "            best_model = model\n",
    "            best_result = result\n",
    "            best_est = est\n",
    "            best_depth = depth\n",
    "            best_roc_auc=roc_auc\n",
    "            best_probabilities_one_valid=probabilities_one_valid\n",
    "\n",
    "print(\"F1 наилучшей модели на валидационной выборке:\", best_result, \"Количество деревьев:\", best_est, \"Максимальная глубина:\", depth)\n",
    "print('ROC AUC наилучшей модели на валидационной выборке:', best_roc_auc)\n",
    "print('Лучшая модель', best_model)"
   ]
  },
  {
   "cell_type": "code",
   "execution_count": 27,
   "metadata": {},
   "outputs": [
    {
     "data": {
      "image/png": "[encoded data removed]",
      "text/plain": [
       "<Figure size 432x288 with 1 Axes>"
      ]
     },
     "metadata": {},
     "output_type": "display_data"
    }
   ],
   "source": [
    "fpr, tpr, thresholds = roc_curve(target_valid, best_probabilities_one_valid)\n",
    "\n",
    "plt.figure()\n",
    "plt.plot(fpr, tpr)\n",
    "plt.plot([0, 1], [0, 1], linestyle='--') # ROC-кривая случайной модели \n",
    "plt.xlim([0.0, 1.0])\n",
    "plt.ylim([0.0, 1.0])\n",
    "plt.xlabel(\"False Positive Rate\")\n",
    "plt.ylabel(\"True Positive Rate\")\n",
    "plt.title(\"ROC-кривая наилучшей модели на валидационной выборке\")\n",
    "plt.show()\n"
   ]
  },
  {
   "cell_type": "markdown",
   "metadata": {},
   "source": [
    "#### Ранжирование по важности влияния признаков на прогноз у лучшей модели"
   ]
  },
  {
   "cell_type": "code",
   "execution_count": 28,
   "metadata": {},
   "outputs": [
    {
     "data": {
      "text/html": [
       "<div>\n",
       "<style scoped>\n",
       "    .dataframe tbody tr th:only-of-type {\n",
       "        vertical-align: middle;\n",
       "    }\n",
       "\n",
       "    .dataframe tbody tr th {\n",
       "        vertical-align: top;\n",
       "    }\n",
       "\n",
       "    .dataframe thead th {\n",
       "        text-align: right;\n",
       "    }\n",
       "</style>\n",
       "<table border=\"1\" class=\"dataframe\">\n",
       "  <thead>\n",
       "    <tr style=\"text-align: right;\">\n",
       "      <th></th>\n",
       "      <th>feature</th>\n",
       "      <th>importance</th>\n",
       "    </tr>\n",
       "  </thead>\n",
       "  <tbody>\n",
       "    <tr>\n",
       "      <td>1</td>\n",
       "      <td>Age</td>\n",
       "      <td>0.263341</td>\n",
       "    </tr>\n",
       "    <tr>\n",
       "      <td>4</td>\n",
       "      <td>NumOfProducts</td>\n",
       "      <td>0.155034</td>\n",
       "    </tr>\n",
       "    <tr>\n",
       "      <td>3</td>\n",
       "      <td>Balance</td>\n",
       "      <td>0.132528</td>\n",
       "    </tr>\n",
       "    <tr>\n",
       "      <td>7</td>\n",
       "      <td>EstimatedSalary</td>\n",
       "      <td>0.132190</td>\n",
       "    </tr>\n",
       "    <tr>\n",
       "      <td>0</td>\n",
       "      <td>CreditScore</td>\n",
       "      <td>0.120025</td>\n",
       "    </tr>\n",
       "    <tr>\n",
       "      <td>2</td>\n",
       "      <td>Tenure</td>\n",
       "      <td>0.072576</td>\n",
       "    </tr>\n",
       "    <tr>\n",
       "      <td>6</td>\n",
       "      <td>IsActiveMember</td>\n",
       "      <td>0.042537</td>\n",
       "    </tr>\n",
       "    <tr>\n",
       "      <td>8</td>\n",
       "      <td>Geography_Germany</td>\n",
       "      <td>0.032122</td>\n",
       "    </tr>\n",
       "    <tr>\n",
       "      <td>10</td>\n",
       "      <td>Gender_Male</td>\n",
       "      <td>0.019776</td>\n",
       "    </tr>\n",
       "    <tr>\n",
       "      <td>5</td>\n",
       "      <td>HasCrCard</td>\n",
       "      <td>0.016946</td>\n",
       "    </tr>\n",
       "    <tr>\n",
       "      <td>9</td>\n",
       "      <td>Geography_Spain</td>\n",
       "      <td>0.012924</td>\n",
       "    </tr>\n",
       "  </tbody>\n",
       "</table>\n",
       "</div>"
      ],
      "text/plain": [
       "              feature  importance\n",
       "1                 Age    0.263341\n",
       "4       NumOfProducts    0.155034\n",
       "3             Balance    0.132528\n",
       "7     EstimatedSalary    0.132190\n",
       "0         CreditScore    0.120025\n",
       "2              Tenure    0.072576\n",
       "6      IsActiveMember    0.042537\n",
       "8   Geography_Germany    0.032122\n",
       "10        Gender_Male    0.019776\n",
       "5           HasCrCard    0.016946\n",
       "9     Geography_Spain    0.012924"
      ]
     },
     "execution_count": 28,
     "metadata": {},
     "output_type": "execute_result"
    }
   ],
   "source": [
    "pd.DataFrame(\n",
    "    data={'feature': features_valid.columns, 'importance': best_model.feature_importances_}\n",
    ").sort_values(by = 'importance', ascending = False)"
   ]
  },
  {
   "cell_type": "markdown",
   "metadata": {},
   "source": [
    "#### Проверка лучшей модели на тестовой выборке"
   ]
  },
  {
   "cell_type": "code",
   "execution_count": 29,
   "metadata": {},
   "outputs": [
    {
     "name": "stdout",
     "output_type": "stream",
     "text": [
      "F1 на тестовой выборке: 0.555052790346908\n",
      "ROC AUC на тестовой выборке: 0.8359168104930816\n"
     ]
    }
   ],
   "source": [
    "predictions_test = best_model.predict(features_test) \n",
    "\n",
    "f1=f1_score(target_test, predictions_test)\n",
    "probabilities_one_valid = best_model.predict_proba(features_test)[:, 1]\n",
    "roc_auc=roc_auc_score(target_test, probabilities_one_valid)\n",
    "\n",
    "print(\"F1 на тестовой выборке:\", f1)\n",
    "print('ROC AUC на тестовой выборке:', roc_auc)"
   ]
  },
  {
   "cell_type": "markdown",
   "metadata": {},
   "source": [
    "### Борьба с дисбалансом"
   ]
  },
  {
   "cell_type": "code",
   "execution_count": 30,
   "metadata": {},
   "outputs": [],
   "source": [
    "#Взвешивание классов\n",
    "#model = LogisticRegression(random_state=12345, solver='liblinear', class_weight='balanced')\n",
    "#Аргумент class_weight также есть у решающего дерева и случайного леса"
   ]
  },
  {
   "cell_type": "code",
   "execution_count": 31,
   "metadata": {},
   "outputs": [
    {
     "data": {
      "text/html": [
       "<div>\n",
       "<style scoped>\n",
       "    .dataframe tbody tr th:only-of-type {\n",
       "        vertical-align: middle;\n",
       "    }\n",
       "\n",
       "    .dataframe tbody tr th {\n",
       "        vertical-align: top;\n",
       "    }\n",
       "\n",
       "    .dataframe thead th {\n",
       "        text-align: right;\n",
       "    }\n",
       "</style>\n",
       "<table border=\"1\" class=\"dataframe\">\n",
       "  <thead>\n",
       "    <tr style=\"text-align: right;\">\n",
       "      <th></th>\n",
       "      <th>Exited</th>\n",
       "      <th>Age</th>\n",
       "    </tr>\n",
       "  </thead>\n",
       "  <tbody>\n",
       "    <tr>\n",
       "      <td>0</td>\n",
       "      <td>0</td>\n",
       "      <td>7963</td>\n",
       "    </tr>\n",
       "    <tr>\n",
       "      <td>1</td>\n",
       "      <td>1</td>\n",
       "      <td>2037</td>\n",
       "    </tr>\n",
       "  </tbody>\n",
       "</table>\n",
       "</div>"
      ],
      "text/plain": [
       "   Exited   Age\n",
       "0       0  7963\n",
       "1       1  2037"
      ]
     },
     "execution_count": 31,
     "metadata": {},
     "output_type": "execute_result"
    }
   ],
   "source": [
    "a=df.groupby('Exited')['Age'].count().reset_index()\n",
    "a"
   ]
  },
  {
   "cell_type": "code",
   "execution_count": 32,
   "metadata": {},
   "outputs": [
    {
     "data": {
      "text/plain": [
       "3.9091801669121256"
      ]
     },
     "execution_count": 32,
     "metadata": {},
     "output_type": "execute_result"
    }
   ],
   "source": [
    "repeat=a.loc[0,'Age']/a.loc[1,'Age']\n",
    "repeat"
   ]
  },
  {
   "cell_type": "code",
   "execution_count": 33,
   "metadata": {},
   "outputs": [
    {
     "data": {
      "text/plain": [
       "4"
      ]
     },
     "execution_count": 33,
     "metadata": {},
     "output_type": "execute_result"
    }
   ],
   "source": [
    "repeat=int(round(repeat))\n",
    "repeat"
   ]
  },
  {
   "cell_type": "code",
   "execution_count": 34,
   "metadata": {},
   "outputs": [
    {
     "data": {
      "text/plain": [
       "(1593,)"
      ]
     },
     "execution_count": 34,
     "metadata": {},
     "output_type": "execute_result"
    }
   ],
   "source": [
    "target_test[target_test == 0].shape"
   ]
  },
  {
   "cell_type": "code",
   "execution_count": 35,
   "metadata": {},
   "outputs": [
    {
     "data": {
      "text/plain": [
       "(407,)"
      ]
     },
     "execution_count": 35,
     "metadata": {},
     "output_type": "execute_result"
    }
   ],
   "source": [
    "target_test[target_test == 1].shape"
   ]
  },
  {
   "cell_type": "code",
   "execution_count": 36,
   "metadata": {},
   "outputs": [
    {
     "name": "stdout",
     "output_type": "stream",
     "text": [
      "(4777,)\n"
     ]
    },
    {
     "data": {
      "text/plain": [
       "(4892,)"
      ]
     },
     "execution_count": 36,
     "metadata": {},
     "output_type": "execute_result"
    }
   ],
   "source": [
    "def upsample(features, target, repeat):\n",
    "    features_zeros = features[target == 0]\n",
    "    features_ones = features[target == 1]\n",
    "    target_zeros = target[target == 0]\n",
    "    target_ones = target[target == 1]\n",
    "\n",
    "    features_upsampled = pd.concat([features_zeros] + [features_ones] * repeat)\n",
    "    target_upsampled = pd.concat([target_zeros] + [target_ones] * repeat)\n",
    "    \n",
    "    features_upsampled, target_upsampled = shuffle(\n",
    "        features_upsampled, target_upsampled, random_state=12345)\n",
    "    \n",
    "    return features_upsampled, target_upsampled\n",
    "\n",
    "features_upsampled, target_upsampled  = upsample(features_train, target_train, 4)\n",
    "\n",
    "\n",
    "print(target_upsampled[target_upsampled==0].shape)\n",
    "target_upsampled[target_upsampled==1].shape"
   ]
  },
  {
   "cell_type": "markdown",
   "metadata": {},
   "source": [
    "### Модели с учетом дисбаланса"
   ]
  },
  {
   "cell_type": "markdown",
   "metadata": {},
   "source": [
    "#### Логистическая регрессия"
   ]
  },
  {
   "cell_type": "code",
   "execution_count": 37,
   "metadata": {},
   "outputs": [
    {
     "name": "stdout",
     "output_type": "stream",
     "text": [
      "F1 лучшей модели с учетом баланса: 0.4838709677419355\n",
      "ROC AUC наилучшей модели на валидационной выборке с учетом баланса: 0.7650115446725615\n",
      "Лучшая модель с учетом баланса: LogisticRegression(C=1.0, class_weight=None, dual=False, fit_intercept=True,\n",
      "                   intercept_scaling=1, l1_ratio=None, max_iter=100,\n",
      "                   multi_class='warn', n_jobs=None, penalty='l2',\n",
      "                   random_state=0, solver='liblinear', tol=0.0001, verbose=0,\n",
      "                   warm_start=False)\n"
     ]
    }
   ],
   "source": [
    "model = LogisticRegression(solver='liblinear', random_state=0) \n",
    "model.fit(features_upsampled, target_upsampled)\n",
    "predicted_valid = model.predict(features_valid)\n",
    "\n",
    "best_result=f1_score(target_valid, predicted_valid)\n",
    "probabilities_one_valid = model.predict_proba(features_valid)[:, 1]\n",
    "best_roc_auc= roc_auc_score(target_valid, probabilities_one_valid)\n",
    "best_model=model\n",
    "\n",
    "print(\"F1 лучшей модели с учетом баланса:\", best_result)\n",
    "print('ROC AUC наилучшей модели на валидационной выборке с учетом баланса:', best_roc_auc) #Чтобы выявить, как сильно наша модель отличается от случайной, посчитаем площадь под ROC-кривой — AUC-ROC\n",
    "print('Лучшая модель с учетом баланса:', best_model)\n"
   ]
  },
  {
   "cell_type": "code",
   "execution_count": 38,
   "metadata": {},
   "outputs": [
    {
     "data": {
      "image/png": "[encoded data removed]",
      "text/plain": [
       "<Figure size 432x288 with 1 Axes>"
      ]
     },
     "metadata": {},
     "output_type": "display_data"
    }
   ],
   "source": [
    "fpr, tpr, thresholds = roc_curve(target_valid, probabilities_one_valid)\n",
    "\n",
    "plt.figure()\n",
    "plt.plot(fpr, tpr)\n",
    "plt.plot([0, 1], [0, 1], linestyle='--') # ROC-кривая случайной модели \n",
    "plt.xlim([0.0, 1.0])\n",
    "plt.ylim([0.0, 1.0])\n",
    "plt.xlabel(\"False Positive Rate\")\n",
    "plt.ylabel(\"True Positive Rate\")\n",
    "plt.title(\"ROC-кривая наилучшей модели на валидационной выборке с учетом баланса:\")\n",
    "plt.show()"
   ]
  },
  {
   "cell_type": "markdown",
   "metadata": {},
   "source": [
    "#### Решающее дерево"
   ]
  },
  {
   "cell_type": "code",
   "execution_count": 39,
   "metadata": {},
   "outputs": [
    {
     "name": "stdout",
     "output_type": "stream",
     "text": [
      "F1 лучшей модели с учетом баланса: 0.5508390918065152\n",
      "ROC AUC наилучшей модели на валидационной выборке с учетом баланса: 0.8137883646358224\n",
      "Лучшая модель с учетом баланса: DecisionTreeClassifier(class_weight=None, criterion='gini', max_depth=5,\n",
      "                       max_features=None, max_leaf_nodes=None,\n",
      "                       min_impurity_decrease=0.0, min_impurity_split=None,\n",
      "                       min_samples_leaf=1, min_samples_split=2,\n",
      "                       min_weight_fraction_leaf=0.0, presort=False,\n",
      "                       random_state=12345, splitter='best')\n"
     ]
    }
   ],
   "source": [
    "for depth in range(1, 6):\n",
    "    model = DecisionTreeClassifier(random_state=12345, max_depth=depth) \n",
    "    model.fit(features_upsampled, target_upsampled) \n",
    "    predictions_valid = model.predict(features_valid) \n",
    "    result = f1_score(target_valid, predictions_valid)\n",
    "    probabilities_one_valid = model.predict_proba(features_valid)[:, 1]\n",
    "    roc_auc=roc_auc_score(target_valid, probabilities_one_valid)\n",
    "    if result > best_result:\n",
    "        best_model = model\n",
    "        best_result = result\n",
    "        best_roc_auc=roc_auc\n",
    "        best_probabilities_one_valid=probabilities_one_valid\n",
    "        \n",
    "print(\"F1 лучшей модели с учетом баланса:\", best_result)\n",
    "print('ROC AUC наилучшей модели на валидационной выборке с учетом баланса:', best_roc_auc)  \n",
    "print('Лучшая модель с учетом баланса:', best_model)"
   ]
  },
  {
   "cell_type": "code",
   "execution_count": 40,
   "metadata": {},
   "outputs": [
    {
     "data": {
      "image/png": "[encoded data removed]",
      "text/plain": [
       "<Figure size 432x288 with 1 Axes>"
      ]
     },
     "metadata": {},
     "output_type": "display_data"
    }
   ],
   "source": [
    "fpr, tpr, thresholds = roc_curve(target_valid, best_probabilities_one_valid)\n",
    "\n",
    "plt.figure()\n",
    "plt.plot(fpr, tpr)\n",
    "plt.plot([0, 1], [0, 1], linestyle='--') # ROC-кривая случайной модели \n",
    "plt.xlim([0.0, 1.0])\n",
    "plt.ylim([0.0, 1.0])\n",
    "plt.xlabel(\"False Positive Rate\")\n",
    "plt.ylabel(\"True Positive Rate\")\n",
    "plt.title(\"ROC-кривая наилучшей модели на валидационной выборке с учетом баланса:\")\n",
    "plt.show()\n"
   ]
  },
  {
   "cell_type": "markdown",
   "metadata": {},
   "source": [
    "#### Случайный лес"
   ]
  },
  {
   "cell_type": "code",
   "execution_count": 41,
   "metadata": {},
   "outputs": [
    {
     "name": "stdout",
     "output_type": "stream",
     "text": [
      "F1 наилучшей модели на валидационной выборке с учетом баланса: 0.6015831134564644 Количество деревьев: 70 Максимальная глубина: 20\n",
      "ROC AUC наилучшей модели на валидационной выборке с учетом баланса: 0.8431744533439449\n",
      "Лучшая модель с учетом баланса: RandomForestClassifier(bootstrap=True, class_weight=None, criterion='gini',\n",
      "                       max_depth=16, max_features='auto', max_leaf_nodes=None,\n",
      "                       min_impurity_decrease=0.0, min_impurity_split=None,\n",
      "                       min_samples_leaf=1, min_samples_split=2,\n",
      "                       min_weight_fraction_leaf=0.0, n_estimators=70,\n",
      "                       n_jobs=None, oob_score=False, random_state=12345,\n",
      "                       verbose=0, warm_start=False)\n"
     ]
    }
   ],
   "source": [
    "for est in range(10, 101, 10):\n",
    "    for depth in range (1, 21):\n",
    "        model = RandomForestClassifier(random_state=12345, n_estimators=est, max_depth=depth) \n",
    "\n",
    "        model.fit(features_upsampled, target_upsampled) \n",
    "        predictions_valid = model.predict(features_valid) \n",
    "        result=f1_score(target_valid, predictions_valid)\n",
    "        probabilities_one_valid = model.predict_proba(features_valid)[:, 1]\n",
    "        roc_auc=roc_auc_score(target_valid, probabilities_one_valid)\n",
    "        if result > best_result:\n",
    "            best_model = model\n",
    "            best_result = result\n",
    "            best_est = est\n",
    "            best_depth = depth\n",
    "            best_roc_auc=roc_auc\n",
    "            best_probabilities_one_valid=probabilities_one_valid\n",
    "\n",
    "print(\"F1 наилучшей модели на валидационной выборке с учетом баланса:\", best_result, \"Количество деревьев:\", best_est, \"Максимальная глубина:\", depth)\n",
    "print('ROC AUC наилучшей модели на валидационной выборке с учетом баланса:', best_roc_auc)\n",
    "print('Лучшая модель с учетом баланса:', best_model)"
   ]
  },
  {
   "cell_type": "code",
   "execution_count": 42,
   "metadata": {
    "scrolled": true
   },
   "outputs": [
    {
     "data": {
      "image/png": "[encoded data removed]",
      "text/plain": [
       "<Figure size 432x288 with 1 Axes>"
      ]
     },
     "metadata": {},
     "output_type": "display_data"
    }
   ],
   "source": [
    "fpr, tpr, thresholds = roc_curve(target_valid, best_probabilities_one_valid)\n",
    "\n",
    "plt.figure()\n",
    "plt.plot(fpr, tpr)\n",
    "plt.plot([0, 1], [0, 1], linestyle='--') # ROC-кривая случайной модели \n",
    "plt.xlim([0.0, 1.0])\n",
    "plt.ylim([0.0, 1.0])\n",
    "plt.xlabel(\"False Positive Rate\")\n",
    "plt.ylabel(\"True Positive Rate\")\n",
    "plt.title(\"ROC-кривая наилучшей модели на валидационной выборке\")\n",
    "plt.show()\n"
   ]
  },
  {
   "cell_type": "markdown",
   "metadata": {},
   "source": [
    "#### Проверка лучшей модели (с учетом баланса) на тестовой выборке"
   ]
  },
  {
   "cell_type": "code",
   "execution_count": 49,
   "metadata": {},
   "outputs": [
    {
     "name": "stdout",
     "output_type": "stream",
     "text": [
      "(4777,)\n"
     ]
    },
    {
     "data": {
      "text/plain": [
       "(4892,)"
      ]
     },
     "execution_count": 49,
     "metadata": {},
     "output_type": "execute_result"
    }
   ],
   "source": [
    "features_upsampled_1, target_upsampled_1  = upsample(features_valid, target_valid, 4)\n",
    "\n",
    "\n",
    "print(target_upsampled[target_upsampled==0].shape)\n",
    "target_upsampled[target_upsampled==1].shape"
   ]
  },
  {
   "cell_type": "code",
   "execution_count": 51,
   "metadata": {},
   "outputs": [
    {
     "name": "stdout",
     "output_type": "stream",
     "text": [
      "(6370,)\n"
     ]
    },
    {
     "data": {
      "text/plain": [
       "(6520,)"
      ]
     },
     "execution_count": 51,
     "metadata": {},
     "output_type": "execute_result"
    }
   ],
   "source": [
    "features_all = pd.concat([features_upsampled_1] + [features_upsampled])\n",
    "target_all = pd.concat([target_upsampled_1] + [target_upsampled])\n",
    "    \n",
    "features_all, target_all = shuffle(features_all, target_all, random_state=12345)\n",
    "print(target_all[target_all==0].shape)\n",
    "target_all[target_all==1].shape"
   ]
  },
  {
   "cell_type": "code",
   "execution_count": 52,
   "metadata": {},
   "outputs": [
    {
     "name": "stdout",
     "output_type": "stream",
     "text": [
      "F1 наилучшей модели на валидационной выборке с учетом баланса: 0.6209386281588447 Количество деревьев: 70 Максимальная глубина: 20\n",
      "ROC AUC наилучшей модели на валидационной выборке с учетом баланса: 0.8519181739520723\n",
      "Лучшая модель с учетом баланса: RandomForestClassifier(bootstrap=True, class_weight=None, criterion='gini',\n",
      "                       max_depth=13, max_features='auto', max_leaf_nodes=None,\n",
      "                       min_impurity_decrease=0.0, min_impurity_split=None,\n",
      "                       min_samples_leaf=1, min_samples_split=2,\n",
      "                       min_weight_fraction_leaf=0.0, n_estimators=70,\n",
      "                       n_jobs=None, oob_score=False, random_state=12345,\n",
      "                       verbose=0, warm_start=False)\n"
     ]
    }
   ],
   "source": [
    "best_result=0\n",
    "for est in range(10, 101, 10):\n",
    "    for depth in range (1, 21):\n",
    "        model = RandomForestClassifier(random_state=12345, n_estimators=est, max_depth=depth) \n",
    "\n",
    "        model.fit(features_all, target_all) \n",
    "        predictions = model.predict(features_test) \n",
    "        result=f1_score(target_test, predictions)\n",
    "        probabilities_one_valid = model.predict_proba(features_test)[:, 1]\n",
    "        roc_auc=roc_auc_score(target_test, probabilities_one_valid)\n",
    "        if result > best_result:\n",
    "            best_model = model\n",
    "            best_result = result\n",
    "            best_est = est\n",
    "            best_depth = depth\n",
    "            best_roc_auc=roc_auc\n",
    "            best_probabilities_one_valid=probabilities_one_valid\n",
    "\n",
    "print(\"F1 наилучшей модели на валидационной выборке с учетом баланса:\", best_result, \"Количество деревьев:\", best_est, \"Максимальная глубина:\", depth)\n",
    "print('ROC AUC наилучшей модели на валидационной выборке с учетом баланса:', best_roc_auc)\n",
    "print('Лучшая модель с учетом баланса:', best_model)"
   ]
  },
  {
   "cell_type": "markdown",
   "metadata": {},
   "source": [
    "#### Ранжирование по важности влияния признаков на прогноз у лучшей модели"
   ]
  },
  {
   "cell_type": "code",
   "execution_count": 47,
   "metadata": {},
   "outputs": [
    {
     "data": {
      "text/html": [
       "<div>\n",
       "<style scoped>\n",
       "    .dataframe tbody tr th:only-of-type {\n",
       "        vertical-align: middle;\n",
       "    }\n",
       "\n",
       "    .dataframe tbody tr th {\n",
       "        vertical-align: top;\n",
       "    }\n",
       "\n",
       "    .dataframe thead th {\n",
       "        text-align: right;\n",
       "    }\n",
       "</style>\n",
       "<table border=\"1\" class=\"dataframe\">\n",
       "  <thead>\n",
       "    <tr style=\"text-align: right;\">\n",
       "      <th></th>\n",
       "      <th>feature</th>\n",
       "      <th>importance</th>\n",
       "    </tr>\n",
       "  </thead>\n",
       "  <tbody>\n",
       "    <tr>\n",
       "      <td>1</td>\n",
       "      <td>Age</td>\n",
       "      <td>0.272910</td>\n",
       "    </tr>\n",
       "    <tr>\n",
       "      <td>3</td>\n",
       "      <td>Balance</td>\n",
       "      <td>0.138784</td>\n",
       "    </tr>\n",
       "    <tr>\n",
       "      <td>4</td>\n",
       "      <td>NumOfProducts</td>\n",
       "      <td>0.137694</td>\n",
       "    </tr>\n",
       "    <tr>\n",
       "      <td>7</td>\n",
       "      <td>EstimatedSalary</td>\n",
       "      <td>0.131587</td>\n",
       "    </tr>\n",
       "    <tr>\n",
       "      <td>0</td>\n",
       "      <td>CreditScore</td>\n",
       "      <td>0.124787</td>\n",
       "    </tr>\n",
       "    <tr>\n",
       "      <td>2</td>\n",
       "      <td>Tenure</td>\n",
       "      <td>0.073049</td>\n",
       "    </tr>\n",
       "    <tr>\n",
       "      <td>6</td>\n",
       "      <td>IsActiveMember</td>\n",
       "      <td>0.034186</td>\n",
       "    </tr>\n",
       "    <tr>\n",
       "      <td>8</td>\n",
       "      <td>Geography_Germany</td>\n",
       "      <td>0.033129</td>\n",
       "    </tr>\n",
       "    <tr>\n",
       "      <td>10</td>\n",
       "      <td>Gender_Male</td>\n",
       "      <td>0.022710</td>\n",
       "    </tr>\n",
       "    <tr>\n",
       "      <td>5</td>\n",
       "      <td>HasCrCard</td>\n",
       "      <td>0.017364</td>\n",
       "    </tr>\n",
       "    <tr>\n",
       "      <td>9</td>\n",
       "      <td>Geography_Spain</td>\n",
       "      <td>0.013801</td>\n",
       "    </tr>\n",
       "  </tbody>\n",
       "</table>\n",
       "</div>"
      ],
      "text/plain": [
       "              feature  importance\n",
       "1                 Age    0.272910\n",
       "3             Balance    0.138784\n",
       "4       NumOfProducts    0.137694\n",
       "7     EstimatedSalary    0.131587\n",
       "0         CreditScore    0.124787\n",
       "2              Tenure    0.073049\n",
       "6      IsActiveMember    0.034186\n",
       "8   Geography_Germany    0.033129\n",
       "10        Gender_Male    0.022710\n",
       "5           HasCrCard    0.017364\n",
       "9     Geography_Spain    0.013801"
      ]
     },
     "execution_count": 47,
     "metadata": {},
     "output_type": "execute_result"
    }
   ],
   "source": [
    "pd.DataFrame(\n",
    "    data={'feature': features_test.columns, 'importance': model.feature_importances_}\n",
    ").sort_values(by = 'importance', ascending = False)"
   ]
  },
  {
   "cell_type": "markdown",
   "metadata": {},
   "source": [
    "<div class=\"alert alert-info\"> <b> </b> \n",
    "    \n",
    "Сильнее всего на отток влияет возраст, далее в равной степени - баланс, кол-во продуктов, предпологаемая з/п, кредитный рейтинг. Остальные характеристики в сумме оказыва.ю влияние на 18-19 %.   \n",
    "    \n",
    "</div>"
   ]
  }
 ],
 "metadata": {
  "ExecuteTimeLog": [
   {
    "duration": 1560,
    "start_time": "2021-11-12T13:50:49.580Z"
   },
   {
    "duration": 53,
    "start_time": "2021-11-12T13:51:45.403Z"
   },
   {
    "duration": 13,
    "start_time": "2021-11-12T13:51:56.603Z"
   },
   {
    "duration": 468,
    "start_time": "2021-11-12T13:54:32.486Z"
   },
   {
    "duration": 5,
    "start_time": "2021-11-12T13:54:35.793Z"
   },
   {
    "duration": 26,
    "start_time": "2021-11-12T13:57:11.896Z"
   },
   {
    "duration": 23,
    "start_time": "2021-11-12T13:58:26.479Z"
   },
   {
    "duration": 6,
    "start_time": "2021-11-12T13:58:46.731Z"
   },
   {
    "duration": 6,
    "start_time": "2021-11-12T13:58:54.553Z"
   },
   {
    "duration": 307,
    "start_time": "2021-11-12T14:10:44.007Z"
   },
   {
    "duration": 307,
    "start_time": "2021-11-12T14:10:46.816Z"
   },
   {
    "duration": 59,
    "start_time": "2021-11-12T14:11:13.694Z"
   },
   {
    "duration": 23,
    "start_time": "2021-11-12T14:24:29.355Z"
   },
   {
    "duration": 23,
    "start_time": "2021-11-12T14:24:46.609Z"
   },
   {
    "duration": 16,
    "start_time": "2021-11-12T14:41:40.425Z"
   },
   {
    "duration": 6,
    "start_time": "2021-11-12T15:47:56.468Z"
   },
   {
    "duration": 367,
    "start_time": "2021-11-12T15:48:09.068Z"
   },
   {
    "duration": 315,
    "start_time": "2021-11-12T15:48:23.208Z"
   },
   {
    "duration": 1552,
    "start_time": "2021-11-12T15:49:19.477Z"
   },
   {
    "duration": 154,
    "start_time": "2021-11-12T15:49:21.032Z"
   },
   {
    "duration": 14,
    "start_time": "2021-11-12T15:49:21.190Z"
   },
   {
    "duration": 8,
    "start_time": "2021-11-12T15:49:21.207Z"
   },
   {
    "duration": 65,
    "start_time": "2021-11-12T15:49:21.218Z"
   },
   {
    "duration": 58,
    "start_time": "2021-11-12T15:49:21.286Z"
   },
   {
    "duration": 35,
    "start_time": "2021-11-12T15:49:21.347Z"
   },
   {
    "duration": 13,
    "start_time": "2021-11-12T15:49:21.386Z"
   },
   {
    "duration": 4,
    "start_time": "2021-11-12T15:49:21.402Z"
   },
   {
    "duration": 9,
    "start_time": "2021-11-12T15:49:21.408Z"
   },
   {
    "duration": 11,
    "start_time": "2021-11-12T15:49:21.419Z"
   },
   {
    "duration": 6,
    "start_time": "2021-11-12T15:49:21.432Z"
   },
   {
    "duration": 7,
    "start_time": "2021-11-12T15:50:03.031Z"
   },
   {
    "duration": 1610,
    "start_time": "2021-11-12T15:55:05.650Z"
   },
   {
    "duration": 55,
    "start_time": "2021-11-12T15:55:07.263Z"
   },
   {
    "duration": 14,
    "start_time": "2021-11-12T15:55:07.322Z"
   },
   {
    "duration": 6,
    "start_time": "2021-11-12T15:55:07.339Z"
   },
   {
    "duration": 57,
    "start_time": "2021-11-12T15:55:07.348Z"
   },
   {
    "duration": 81,
    "start_time": "2021-11-12T15:55:07.408Z"
   },
   {
    "duration": 16,
    "start_time": "2021-11-12T15:55:07.492Z"
   },
   {
    "duration": 16,
    "start_time": "2021-11-12T15:55:07.512Z"
   },
   {
    "duration": 12,
    "start_time": "2021-11-12T15:55:07.531Z"
   },
   {
    "duration": 45,
    "start_time": "2021-11-12T15:55:07.546Z"
   },
   {
    "duration": 3,
    "start_time": "2021-11-12T15:55:07.594Z"
   },
   {
    "duration": 11,
    "start_time": "2021-11-12T15:55:07.599Z"
   },
   {
    "duration": 6,
    "start_time": "2021-11-12T15:55:07.612Z"
   },
   {
    "duration": 21,
    "start_time": "2021-11-12T15:57:47.062Z"
   },
   {
    "duration": 1563,
    "start_time": "2021-11-12T15:58:56.144Z"
   },
   {
    "duration": 50,
    "start_time": "2021-11-12T15:58:57.710Z"
   },
   {
    "duration": 21,
    "start_time": "2021-11-12T15:58:57.763Z"
   },
   {
    "duration": 6,
    "start_time": "2021-11-12T15:58:57.787Z"
   },
   {
    "duration": 31,
    "start_time": "2021-11-12T15:58:57.795Z"
   },
   {
    "duration": 96,
    "start_time": "2021-11-12T15:58:57.829Z"
   },
   {
    "duration": 18,
    "start_time": "2021-11-12T15:58:57.928Z"
   },
   {
    "duration": 36,
    "start_time": "2021-11-12T15:58:57.949Z"
   },
   {
    "duration": 16,
    "start_time": "2021-11-12T15:58:57.988Z"
   },
   {
    "duration": 12,
    "start_time": "2021-11-12T15:58:58.006Z"
   },
   {
    "duration": 20,
    "start_time": "2021-11-12T15:58:58.021Z"
   },
   {
    "duration": 7,
    "start_time": "2021-11-12T15:58:58.043Z"
   },
   {
    "duration": 3,
    "start_time": "2021-11-12T15:58:58.082Z"
   },
   {
    "duration": 32,
    "start_time": "2021-11-12T15:59:31.899Z"
   },
   {
    "duration": 26,
    "start_time": "2021-11-12T16:35:24.024Z"
   },
   {
    "duration": 1589,
    "start_time": "2021-11-14T14:14:26.084Z"
   },
   {
    "duration": 54,
    "start_time": "2021-11-14T14:14:27.676Z"
   },
   {
    "duration": 12,
    "start_time": "2021-11-14T14:14:27.733Z"
   },
   {
    "duration": 23,
    "start_time": "2021-11-14T14:14:27.748Z"
   },
   {
    "duration": 28,
    "start_time": "2021-11-14T14:14:27.774Z"
   },
   {
    "duration": 98,
    "start_time": "2021-11-14T14:14:27.805Z"
   },
   {
    "duration": 17,
    "start_time": "2021-11-14T14:14:27.906Z"
   },
   {
    "duration": 17,
    "start_time": "2021-11-14T14:14:27.926Z"
   },
   {
    "duration": 14,
    "start_time": "2021-11-14T14:14:27.968Z"
   },
   {
    "duration": 12,
    "start_time": "2021-11-14T14:14:27.985Z"
   },
   {
    "duration": 71,
    "start_time": "2021-11-14T14:14:28.000Z"
   },
   {
    "duration": 9,
    "start_time": "2021-11-14T14:14:28.074Z"
   },
   {
    "duration": 23,
    "start_time": "2021-11-14T14:14:28.086Z"
   },
   {
    "duration": 73,
    "start_time": "2021-11-14T14:14:28.111Z"
   },
   {
    "duration": 4,
    "start_time": "2021-11-14T14:14:28.186Z"
   },
   {
    "duration": 20,
    "start_time": "2021-11-14T14:18:12.003Z"
   },
   {
    "duration": 1812,
    "start_time": "2021-11-14T14:21:04.025Z"
   },
   {
    "duration": 7,
    "start_time": "2021-11-14T14:21:32.815Z"
   },
   {
    "duration": 1875,
    "start_time": "2021-11-14T14:22:54.770Z"
   },
   {
    "duration": 1222,
    "start_time": "2021-11-14T14:26:00.814Z"
   },
   {
    "duration": 283,
    "start_time": "2021-11-14T14:27:10.180Z"
   },
   {
    "duration": 2100,
    "start_time": "2021-11-14T14:27:20.267Z"
   },
   {
    "duration": 1528,
    "start_time": "2021-11-14T14:27:59.773Z"
   },
   {
    "duration": 1824,
    "start_time": "2021-11-14T14:31:56.962Z"
   },
   {
    "duration": 1313,
    "start_time": "2021-11-14T14:39:03.116Z"
   },
   {
    "duration": 382,
    "start_time": "2021-11-14T14:47:11.462Z"
   },
   {
    "duration": 6,
    "start_time": "2021-11-14T14:47:52.457Z"
   },
   {
    "duration": 32,
    "start_time": "2021-11-14T14:47:56.865Z"
   },
   {
    "duration": 6,
    "start_time": "2021-11-14T14:49:05.979Z"
   },
   {
    "duration": 6,
    "start_time": "2021-11-14T14:50:18.434Z"
   },
   {
    "duration": 89,
    "start_time": "2021-11-14T14:52:45.485Z"
   },
   {
    "duration": 392,
    "start_time": "2021-11-14T14:54:47.203Z"
   },
   {
    "duration": 417,
    "start_time": "2021-11-14T14:55:58.408Z"
   },
   {
    "duration": 2272,
    "start_time": "2021-11-14T14:56:20.108Z"
   },
   {
    "duration": 78,
    "start_time": "2021-11-14T14:56:22.383Z"
   },
   {
    "duration": 19,
    "start_time": "2021-11-14T14:56:22.468Z"
   },
   {
    "duration": 8,
    "start_time": "2021-11-14T14:56:22.491Z"
   },
   {
    "duration": 32,
    "start_time": "2021-11-14T14:56:22.503Z"
   },
   {
    "duration": 97,
    "start_time": "2021-11-14T14:56:22.537Z"
   },
   {
    "duration": 47,
    "start_time": "2021-11-14T14:56:22.636Z"
   },
   {
    "duration": 8,
    "start_time": "2021-11-14T14:56:22.689Z"
   },
   {
    "duration": 1488,
    "start_time": "2021-11-14T14:56:22.701Z"
   },
   {
    "duration": 1346,
    "start_time": "2021-11-14T14:56:24.192Z"
   },
   {
    "duration": 1564,
    "start_time": "2021-11-14T14:56:25.540Z"
   },
   {
    "duration": 17,
    "start_time": "2021-11-14T14:56:27.107Z"
   },
   {
    "duration": 43,
    "start_time": "2021-11-14T14:56:27.127Z"
   },
   {
    "duration": 17,
    "start_time": "2021-11-14T14:56:27.172Z"
   },
   {
    "duration": 15,
    "start_time": "2021-11-14T14:56:27.191Z"
   },
   {
    "duration": 82,
    "start_time": "2021-11-14T14:56:27.209Z"
   },
   {
    "duration": 9,
    "start_time": "2021-11-14T14:56:27.295Z"
   },
   {
    "duration": 21,
    "start_time": "2021-11-14T14:56:27.306Z"
   },
   {
    "duration": 73,
    "start_time": "2021-11-14T14:56:27.330Z"
   },
   {
    "duration": 166,
    "start_time": "2021-11-14T14:56:27.405Z"
   },
   {
    "duration": 750,
    "start_time": "2021-11-14T14:56:27.576Z"
   },
   {
    "duration": 3,
    "start_time": "2021-11-14T14:56:28.328Z"
   },
   {
    "duration": 453,
    "start_time": "2021-11-14T15:12:06.931Z"
   },
   {
    "duration": 10,
    "start_time": "2021-11-14T15:13:00.699Z"
   },
   {
    "duration": 364,
    "start_time": "2021-11-14T15:13:05.536Z"
   },
   {
    "duration": 9727,
    "start_time": "2021-11-14T15:14:57.528Z"
   },
   {
    "duration": 304,
    "start_time": "2021-11-14T15:26:53.694Z"
   },
   {
    "duration": 6,
    "start_time": "2021-11-14T15:27:44.647Z"
   },
   {
    "duration": 88,
    "start_time": "2021-11-14T15:27:48.874Z"
   },
   {
    "duration": 9715,
    "start_time": "2021-11-14T15:34:10.333Z"
   },
   {
    "duration": 665,
    "start_time": "2021-11-14T15:34:51.974Z"
   },
   {
    "duration": 1607,
    "start_time": "2021-11-14T15:43:06.383Z"
   },
   {
    "duration": 52,
    "start_time": "2021-11-14T15:43:07.993Z"
   },
   {
    "duration": 19,
    "start_time": "2021-11-14T15:43:08.048Z"
   },
   {
    "duration": 6,
    "start_time": "2021-11-14T15:43:08.070Z"
   },
   {
    "duration": 28,
    "start_time": "2021-11-14T15:43:08.080Z"
   },
   {
    "duration": 103,
    "start_time": "2021-11-14T15:43:08.111Z"
   },
   {
    "duration": 21,
    "start_time": "2021-11-14T15:43:08.216Z"
   },
   {
    "duration": 33,
    "start_time": "2021-11-14T15:43:08.240Z"
   },
   {
    "duration": 1555,
    "start_time": "2021-11-14T15:43:08.276Z"
   },
   {
    "duration": 1484,
    "start_time": "2021-11-14T15:43:09.835Z"
   },
   {
    "duration": 1701,
    "start_time": "2021-11-14T15:43:11.322Z"
   },
   {
    "duration": 18,
    "start_time": "2021-11-14T15:43:13.026Z"
   },
   {
    "duration": 27,
    "start_time": "2021-11-14T15:43:13.069Z"
   },
   {
    "duration": 19,
    "start_time": "2021-11-14T15:43:13.100Z"
   },
   {
    "duration": 51,
    "start_time": "2021-11-14T15:43:13.123Z"
   },
   {
    "duration": 38,
    "start_time": "2021-11-14T15:43:13.177Z"
   },
   {
    "duration": 9,
    "start_time": "2021-11-14T15:43:13.218Z"
   },
   {
    "duration": 60,
    "start_time": "2021-11-14T15:43:13.229Z"
   },
   {
    "duration": 35,
    "start_time": "2021-11-14T15:43:13.292Z"
   },
   {
    "duration": 130,
    "start_time": "2021-11-14T15:43:13.330Z"
   },
   {
    "duration": 456,
    "start_time": "2021-11-14T15:43:13.468Z"
   },
   {
    "duration": 10742,
    "start_time": "2021-11-14T15:43:13.927Z"
   },
   {
    "duration": 437,
    "start_time": "2021-11-14T15:43:24.673Z"
   },
   {
    "duration": 4,
    "start_time": "2021-11-14T15:43:25.114Z"
   },
   {
    "duration": 2288,
    "start_time": "2021-11-14T15:44:47.096Z"
   },
   {
    "duration": 54,
    "start_time": "2021-11-14T15:44:49.387Z"
   },
   {
    "duration": 23,
    "start_time": "2021-11-14T15:44:49.444Z"
   },
   {
    "duration": 8,
    "start_time": "2021-11-14T15:44:49.473Z"
   },
   {
    "duration": 28,
    "start_time": "2021-11-14T15:44:49.485Z"
   },
   {
    "duration": 100,
    "start_time": "2021-11-14T15:44:49.515Z"
   },
   {
    "duration": 23,
    "start_time": "2021-11-14T15:44:49.618Z"
   },
   {
    "duration": 32,
    "start_time": "2021-11-14T15:44:49.645Z"
   },
   {
    "duration": 1528,
    "start_time": "2021-11-14T15:44:49.681Z"
   },
   {
    "duration": 1375,
    "start_time": "2021-11-14T15:44:51.212Z"
   },
   {
    "duration": 1634,
    "start_time": "2021-11-14T15:44:52.589Z"
   },
   {
    "duration": 19,
    "start_time": "2021-11-14T15:44:54.225Z"
   },
   {
    "duration": 36,
    "start_time": "2021-11-14T15:44:54.246Z"
   },
   {
    "duration": 23,
    "start_time": "2021-11-14T15:44:54.286Z"
   },
   {
    "duration": 13,
    "start_time": "2021-11-14T15:44:54.312Z"
   },
   {
    "duration": 81,
    "start_time": "2021-11-14T15:44:54.328Z"
   },
   {
    "duration": 9,
    "start_time": "2021-11-14T15:44:54.413Z"
   },
   {
    "duration": 63,
    "start_time": "2021-11-14T15:44:54.426Z"
   },
   {
    "duration": 33,
    "start_time": "2021-11-14T15:44:54.492Z"
   },
   {
    "duration": 125,
    "start_time": "2021-11-14T15:44:54.527Z"
   },
   {
    "duration": 579,
    "start_time": "2021-11-14T15:44:54.654Z"
   },
   {
    "duration": 119187,
    "start_time": "2021-11-14T15:44:55.236Z"
   },
   {
    "duration": 472,
    "start_time": "2021-11-14T15:46:54.427Z"
   },
   {
    "duration": 3,
    "start_time": "2021-11-14T15:46:54.902Z"
   },
   {
    "duration": 75,
    "start_time": "2021-11-14T15:51:59.293Z"
   },
   {
    "duration": 1527,
    "start_time": "2021-11-14T15:59:01.720Z"
   },
   {
    "duration": 53,
    "start_time": "2021-11-14T15:59:03.249Z"
   },
   {
    "duration": 14,
    "start_time": "2021-11-14T15:59:03.305Z"
   },
   {
    "duration": 6,
    "start_time": "2021-11-14T15:59:03.322Z"
   },
   {
    "duration": 54,
    "start_time": "2021-11-14T15:59:03.330Z"
   },
   {
    "duration": 93,
    "start_time": "2021-11-14T15:59:03.386Z"
   },
   {
    "duration": 28,
    "start_time": "2021-11-14T15:59:03.482Z"
   },
   {
    "duration": 7,
    "start_time": "2021-11-14T15:59:03.521Z"
   },
   {
    "duration": 1337,
    "start_time": "2021-11-14T15:59:03.532Z"
   },
   {
    "duration": 1262,
    "start_time": "2021-11-14T15:59:04.872Z"
   },
   {
    "duration": 1636,
    "start_time": "2021-11-14T15:59:06.137Z"
   },
   {
    "duration": 17,
    "start_time": "2021-11-14T15:59:07.776Z"
   },
   {
    "duration": 16,
    "start_time": "2021-11-14T15:59:07.796Z"
   },
   {
    "duration": 16,
    "start_time": "2021-11-14T15:59:07.815Z"
   },
   {
    "duration": 12,
    "start_time": "2021-11-14T15:59:07.868Z"
   },
   {
    "duration": 33,
    "start_time": "2021-11-14T15:59:07.882Z"
   },
   {
    "duration": 7,
    "start_time": "2021-11-14T15:59:07.917Z"
   },
   {
    "duration": 58,
    "start_time": "2021-11-14T15:59:07.927Z"
   },
   {
    "duration": 33,
    "start_time": "2021-11-14T15:59:07.987Z"
   },
   {
    "duration": 344,
    "start_time": "2021-11-14T15:59:08.023Z"
   },
   {
    "duration": 681,
    "start_time": "2021-11-14T15:59:08.371Z"
   },
   {
    "duration": 160,
    "start_time": "2021-11-14T15:59:09.055Z"
   },
   {
    "duration": 688,
    "start_time": "2021-11-14T15:59:09.221Z"
   },
   {
    "duration": 110955,
    "start_time": "2021-11-14T15:59:09.913Z"
   },
   {
    "duration": 428,
    "start_time": "2021-11-14T16:01:00.871Z"
   },
   {
    "duration": 3,
    "start_time": "2021-11-14T16:01:01.303Z"
   },
   {
    "duration": 19,
    "start_time": "2021-11-14T16:03:18.412Z"
   },
   {
    "duration": 8,
    "start_time": "2021-11-14T16:07:26.287Z"
   },
   {
    "duration": 12,
    "start_time": "2021-11-14T16:07:42.986Z"
   },
   {
    "duration": 14,
    "start_time": "2021-11-14T16:08:11.423Z"
   },
   {
    "duration": 6591,
    "start_time": "2021-11-14T16:08:30.116Z"
   },
   {
    "duration": 6,
    "start_time": "2021-11-14T16:08:37.053Z"
   },
   {
    "duration": 7,
    "start_time": "2021-11-14T16:09:00.178Z"
   },
   {
    "duration": 6,
    "start_time": "2021-11-14T16:10:01.710Z"
   },
   {
    "duration": 68,
    "start_time": "2021-11-14T16:16:17.699Z"
   },
   {
    "duration": 49,
    "start_time": "2021-11-14T16:16:49.922Z"
   },
   {
    "duration": 16,
    "start_time": "2021-11-14T16:18:14.360Z"
   },
   {
    "duration": 6,
    "start_time": "2021-11-14T16:19:14.870Z"
   },
   {
    "duration": 6,
    "start_time": "2021-11-14T16:19:36.989Z"
   },
   {
    "duration": 6,
    "start_time": "2021-11-14T16:20:12.317Z"
   },
   {
    "duration": 4,
    "start_time": "2021-11-14T16:20:14.124Z"
   },
   {
    "duration": 6,
    "start_time": "2021-11-14T16:20:21.888Z"
   },
   {
    "duration": 473,
    "start_time": "2021-11-14T16:25:55.510Z"
   },
   {
    "duration": 6,
    "start_time": "2021-11-14T16:27:07.349Z"
   },
   {
    "duration": 23,
    "start_time": "2021-11-14T16:27:12.970Z"
   },
   {
    "duration": 23,
    "start_time": "2021-11-14T16:27:50.250Z"
   },
   {
    "duration": 35,
    "start_time": "2021-11-14T16:28:14.972Z"
   },
   {
    "duration": 32,
    "start_time": "2021-11-14T16:28:31.704Z"
   },
   {
    "duration": 7,
    "start_time": "2021-11-14T16:30:06.807Z"
   },
   {
    "duration": 8,
    "start_time": "2021-11-14T16:30:22.452Z"
   },
   {
    "duration": 25,
    "start_time": "2021-11-14T16:31:30.560Z"
   },
   {
    "duration": 25,
    "start_time": "2021-11-14T16:31:42.230Z"
   },
   {
    "duration": 645,
    "start_time": "2021-11-14T16:31:57.022Z"
   },
   {
    "duration": 30,
    "start_time": "2021-11-14T16:32:02.304Z"
   },
   {
    "duration": 65,
    "start_time": "2021-11-14T16:34:17.819Z"
   },
   {
    "duration": 30,
    "start_time": "2021-11-14T16:40:57.267Z"
   },
   {
    "duration": 24,
    "start_time": "2021-11-14T16:41:46.682Z"
   },
   {
    "duration": 23,
    "start_time": "2021-11-14T16:42:25.783Z"
   },
   {
    "duration": 41,
    "start_time": "2021-11-14T16:46:05.370Z"
   },
   {
    "duration": 1825,
    "start_time": "2021-11-14T16:46:29.521Z"
   },
   {
    "duration": 53,
    "start_time": "2021-11-14T16:46:31.348Z"
   },
   {
    "duration": 12,
    "start_time": "2021-11-14T16:46:31.404Z"
   },
   {
    "duration": 13,
    "start_time": "2021-11-14T16:46:31.419Z"
   },
   {
    "duration": 53,
    "start_time": "2021-11-14T16:46:31.435Z"
   },
   {
    "duration": 78,
    "start_time": "2021-11-14T16:46:31.490Z"
   },
   {
    "duration": 22,
    "start_time": "2021-11-14T16:46:31.571Z"
   },
   {
    "duration": 5,
    "start_time": "2021-11-14T16:46:31.595Z"
   },
   {
    "duration": 1512,
    "start_time": "2021-11-14T16:46:31.604Z"
   },
   {
    "duration": 1250,
    "start_time": "2021-11-14T16:46:33.120Z"
   },
   {
    "duration": 1745,
    "start_time": "2021-11-14T16:46:34.373Z"
   },
   {
    "duration": 18,
    "start_time": "2021-11-14T16:46:36.121Z"
   },
   {
    "duration": 34,
    "start_time": "2021-11-14T16:46:36.142Z"
   },
   {
    "duration": 19,
    "start_time": "2021-11-14T16:46:36.179Z"
   },
   {
    "duration": 12,
    "start_time": "2021-11-14T16:46:36.201Z"
   },
   {
    "duration": 75,
    "start_time": "2021-11-14T16:46:36.216Z"
   },
   {
    "duration": 7,
    "start_time": "2021-11-14T16:46:36.294Z"
   },
   {
    "duration": 21,
    "start_time": "2021-11-14T16:46:36.304Z"
   },
   {
    "duration": 61,
    "start_time": "2021-11-14T16:46:36.328Z"
   },
   {
    "duration": 86,
    "start_time": "2021-11-14T16:46:36.391Z"
   },
   {
    "duration": 487,
    "start_time": "2021-11-14T16:46:36.569Z"
   },
   {
    "duration": 160,
    "start_time": "2021-11-14T16:46:37.059Z"
   },
   {
    "duration": 603,
    "start_time": "2021-11-14T16:46:37.222Z"
   },
   {
    "duration": 102110,
    "start_time": "2021-11-14T16:46:37.829Z"
   },
   {
    "duration": 425,
    "start_time": "2021-11-14T16:48:19.942Z"
   },
   {
    "duration": 18,
    "start_time": "2021-11-14T16:48:20.369Z"
   },
   {
    "duration": 45,
    "start_time": "2021-11-14T16:48:20.392Z"
   },
   {
    "duration": 4,
    "start_time": "2021-11-14T16:48:20.439Z"
   },
   {
    "duration": 21,
    "start_time": "2021-11-14T16:48:20.445Z"
   },
   {
    "duration": 5,
    "start_time": "2021-11-14T16:48:20.468Z"
   },
   {
    "duration": 12,
    "start_time": "2021-11-14T16:48:20.476Z"
   },
   {
    "duration": 10,
    "start_time": "2021-11-14T16:48:20.490Z"
   },
   {
    "duration": 10,
    "start_time": "2021-11-14T16:48:20.502Z"
   },
   {
    "duration": 32,
    "start_time": "2021-11-14T16:48:20.515Z"
   },
   {
    "duration": 3,
    "start_time": "2021-11-14T16:48:20.550Z"
   },
   {
    "duration": 203,
    "start_time": "2021-11-14T16:51:36.669Z"
   },
   {
    "duration": 415,
    "start_time": "2021-11-14T16:52:00.202Z"
   },
   {
    "duration": 126,
    "start_time": "2021-11-14T16:54:37.687Z"
   },
   {
    "duration": 684,
    "start_time": "2021-11-14T16:55:06.872Z"
   },
   {
    "duration": 142284,
    "start_time": "2021-11-14T16:57:11.885Z"
   },
   {
    "duration": 101,
    "start_time": "2021-11-14T17:02:51.235Z"
   },
   {
    "duration": 23,
    "start_time": "2021-11-14T17:03:57.967Z"
   },
   {
    "duration": 1307,
    "start_time": "2021-11-14T17:10:23.740Z"
   },
   {
    "duration": 1415,
    "start_time": "2021-11-14T17:10:33.984Z"
   },
   {
    "duration": 1324,
    "start_time": "2021-11-14T17:10:40.218Z"
   },
   {
    "duration": 23,
    "start_time": "2021-11-14T17:23:05.877Z"
   },
   {
    "duration": 561,
    "start_time": "2021-11-14T17:24:13.443Z"
   },
   {
    "duration": 254,
    "start_time": "2021-11-14T17:24:23.483Z"
   },
   {
    "duration": 899,
    "start_time": "2021-11-14T17:24:37.421Z"
   },
   {
    "duration": 22,
    "start_time": "2021-11-14T17:27:40.614Z"
   },
   {
    "duration": 31,
    "start_time": "2021-11-14T17:30:22.770Z"
   },
   {
    "duration": 15,
    "start_time": "2021-11-14T17:34:42.267Z"
   },
   {
    "duration": 16,
    "start_time": "2021-11-14T17:34:53.671Z"
   },
   {
    "duration": 22,
    "start_time": "2021-11-14T17:35:02.901Z"
   },
   {
    "duration": 22,
    "start_time": "2021-11-14T17:35:21.599Z"
   },
   {
    "duration": 1128,
    "start_time": "2021-11-14T17:40:42.588Z"
   },
   {
    "duration": 1141,
    "start_time": "2021-11-14T17:43:06.814Z"
   },
   {
    "duration": 6,
    "start_time": "2021-11-14T17:49:24.103Z"
   },
   {
    "duration": 394,
    "start_time": "2021-11-14T17:50:36.446Z"
   },
   {
    "duration": 8,
    "start_time": "2021-11-14T17:50:40.109Z"
   },
   {
    "duration": 27,
    "start_time": "2021-11-14T17:52:31.781Z"
   },
   {
    "duration": 6,
    "start_time": "2021-11-14T17:53:45.067Z"
   },
   {
    "duration": 12,
    "start_time": "2021-11-14T17:55:04.960Z"
   },
   {
    "duration": 16,
    "start_time": "2021-11-14T17:57:04.903Z"
   },
   {
    "duration": 69354,
    "start_time": "2021-11-14T18:01:44.543Z"
   },
   {
    "duration": 1518,
    "start_time": "2021-11-14T18:14:37.114Z"
   },
   {
    "duration": 53,
    "start_time": "2021-11-14T18:14:38.635Z"
   },
   {
    "duration": 13,
    "start_time": "2021-11-14T18:14:38.691Z"
   },
   {
    "duration": 6,
    "start_time": "2021-11-14T18:14:38.707Z"
   },
   {
    "duration": 59,
    "start_time": "2021-11-14T18:14:38.716Z"
   },
   {
    "duration": 61,
    "start_time": "2021-11-14T18:14:38.778Z"
   },
   {
    "duration": 45,
    "start_time": "2021-11-14T18:14:38.841Z"
   },
   {
    "duration": 23,
    "start_time": "2021-11-14T18:14:38.890Z"
   },
   {
    "duration": 1058,
    "start_time": "2021-11-14T18:14:38.917Z"
   },
   {
    "duration": 5,
    "start_time": "2021-11-14T18:14:39.978Z"
   },
   {
    "duration": 1437,
    "start_time": "2021-11-14T18:14:39.985Z"
   },
   {
    "duration": 1619,
    "start_time": "2021-11-14T18:14:41.424Z"
   },
   {
    "duration": 1601,
    "start_time": "2021-11-14T18:14:43.046Z"
   },
   {
    "duration": 31,
    "start_time": "2021-11-14T18:14:44.649Z"
   },
   {
    "duration": 17,
    "start_time": "2021-11-14T18:14:44.683Z"
   },
   {
    "duration": 15,
    "start_time": "2021-11-14T18:14:44.702Z"
   },
   {
    "duration": 12,
    "start_time": "2021-11-14T18:14:44.720Z"
   },
   {
    "duration": 33,
    "start_time": "2021-11-14T18:14:44.766Z"
   },
   {
    "duration": 8,
    "start_time": "2021-11-14T18:14:44.801Z"
   },
   {
    "duration": 21,
    "start_time": "2021-11-14T18:14:44.811Z"
   },
   {
    "duration": 33,
    "start_time": "2021-11-14T18:14:44.867Z"
   },
   {
    "duration": 168,
    "start_time": "2021-11-14T18:14:44.903Z"
   },
   {
    "duration": 423,
    "start_time": "2021-11-14T18:14:45.166Z"
   },
   {
    "duration": 115,
    "start_time": "2021-11-14T18:14:45.592Z"
   },
   {
    "duration": 416,
    "start_time": "2021-11-14T18:14:45.709Z"
   },
   {
    "duration": 93021,
    "start_time": "2021-11-14T18:14:46.128Z"
   },
   {
    "duration": 444,
    "start_time": "2021-11-14T18:16:19.152Z"
   },
   {
    "duration": 19,
    "start_time": "2021-11-14T18:16:19.599Z"
   },
   {
    "duration": 83,
    "start_time": "2021-11-14T18:16:19.621Z"
   },
   {
    "duration": 3,
    "start_time": "2021-11-14T18:16:19.706Z"
   },
   {
    "duration": 17,
    "start_time": "2021-11-14T18:16:19.711Z"
   },
   {
    "duration": 6,
    "start_time": "2021-11-14T18:16:19.731Z"
   },
   {
    "duration": 7,
    "start_time": "2021-11-14T18:16:19.739Z"
   },
   {
    "duration": 9,
    "start_time": "2021-11-14T18:16:19.748Z"
   },
   {
    "duration": 12,
    "start_time": "2021-11-14T18:16:19.759Z"
   },
   {
    "duration": 32,
    "start_time": "2021-11-14T18:16:19.773Z"
   },
   {
    "duration": 161,
    "start_time": "2021-11-14T18:16:19.807Z"
   },
   {
    "duration": 552,
    "start_time": "2021-11-14T18:16:19.971Z"
   },
   {
    "duration": 135,
    "start_time": "2021-11-14T18:16:20.525Z"
   },
   {
    "duration": 629,
    "start_time": "2021-11-14T18:16:20.667Z"
   },
   {
    "duration": 134101,
    "start_time": "2021-11-14T18:16:21.298Z"
   },
   {
    "duration": 427,
    "start_time": "2021-11-14T18:18:35.402Z"
   },
   {
    "duration": 107,
    "start_time": "2021-11-14T18:18:35.831Z"
   },
   {
    "duration": 443,
    "start_time": "2021-11-14T18:18:35.941Z"
   },
   {
    "duration": 24,
    "start_time": "2021-11-14T18:18:36.386Z"
   },
   {
    "duration": 1217,
    "start_time": "2021-11-15T08:02:12.093Z"
   },
   {
    "duration": 41,
    "start_time": "2021-11-15T08:02:13.312Z"
   },
   {
    "duration": 9,
    "start_time": "2021-11-15T08:02:13.355Z"
   },
   {
    "duration": 6,
    "start_time": "2021-11-15T08:02:13.365Z"
   },
   {
    "duration": 26,
    "start_time": "2021-11-15T08:02:13.373Z"
   },
   {
    "duration": 38,
    "start_time": "2021-11-15T08:02:13.400Z"
   },
   {
    "duration": 36,
    "start_time": "2021-11-15T08:02:13.439Z"
   },
   {
    "duration": 16,
    "start_time": "2021-11-15T08:02:13.478Z"
   },
   {
    "duration": 703,
    "start_time": "2021-11-15T08:02:13.498Z"
   },
   {
    "duration": 4,
    "start_time": "2021-11-15T08:02:14.202Z"
   },
   {
    "duration": 839,
    "start_time": "2021-11-15T08:02:14.208Z"
   },
   {
    "duration": 809,
    "start_time": "2021-11-15T08:02:15.048Z"
   },
   {
    "duration": 981,
    "start_time": "2021-11-15T08:02:15.859Z"
   },
   {
    "duration": 25,
    "start_time": "2021-11-15T08:02:16.842Z"
   },
   {
    "duration": 12,
    "start_time": "2021-11-15T08:02:16.869Z"
   },
   {
    "duration": 13,
    "start_time": "2021-11-15T08:02:16.883Z"
   },
   {
    "duration": 9,
    "start_time": "2021-11-15T08:02:16.897Z"
   },
   {
    "duration": 21,
    "start_time": "2021-11-15T08:02:16.907Z"
   },
   {
    "duration": 35,
    "start_time": "2021-11-15T08:02:16.929Z"
   },
   {
    "duration": 16,
    "start_time": "2021-11-15T08:02:16.965Z"
   },
   {
    "duration": 21,
    "start_time": "2021-11-15T08:02:16.983Z"
   },
   {
    "duration": 158,
    "start_time": "2021-11-15T08:02:17.005Z"
   },
   {
    "duration": 317,
    "start_time": "2021-11-15T08:02:17.168Z"
   },
   {
    "duration": 79,
    "start_time": "2021-11-15T08:02:17.487Z"
   },
   {
    "duration": 248,
    "start_time": "2021-11-15T08:02:17.568Z"
   },
   {
    "duration": 59699,
    "start_time": "2021-11-15T08:02:17.818Z"
   },
   {
    "duration": 247,
    "start_time": "2021-11-15T08:03:17.518Z"
   },
   {
    "duration": 12,
    "start_time": "2021-11-15T08:03:17.767Z"
   },
   {
    "duration": 31,
    "start_time": "2021-11-15T08:03:17.781Z"
   },
   {
    "duration": 2,
    "start_time": "2021-11-15T08:03:17.814Z"
   },
   {
    "duration": 12,
    "start_time": "2021-11-15T08:03:17.818Z"
   },
   {
    "duration": 31,
    "start_time": "2021-11-15T08:03:17.832Z"
   },
   {
    "duration": 4,
    "start_time": "2021-11-15T08:03:17.865Z"
   },
   {
    "duration": 10,
    "start_time": "2021-11-15T08:03:17.871Z"
   },
   {
    "duration": 8,
    "start_time": "2021-11-15T08:03:17.882Z"
   },
   {
    "duration": 17,
    "start_time": "2021-11-15T08:03:17.892Z"
   },
   {
    "duration": 153,
    "start_time": "2021-11-15T08:03:17.911Z"
   },
   {
    "duration": 344,
    "start_time": "2021-11-15T08:03:18.066Z"
   },
   {
    "duration": 96,
    "start_time": "2021-11-15T08:03:18.413Z"
   },
   {
    "duration": 247,
    "start_time": "2021-11-15T08:03:18.511Z"
   },
   {
    "duration": 81140,
    "start_time": "2021-11-15T08:03:18.760Z"
   },
   {
    "duration": 258,
    "start_time": "2021-11-15T08:04:39.902Z"
   },
   {
    "duration": 65,
    "start_time": "2021-11-15T08:04:40.161Z"
   },
   {
    "duration": 258,
    "start_time": "2021-11-15T08:04:40.228Z"
   },
   {
    "duration": 8,
    "start_time": "2021-11-15T08:04:40.488Z"
   },
   {
    "duration": 79,
    "start_time": "2021-11-15T08:04:40.498Z"
   },
   {
    "duration": 16,
    "start_time": "2021-11-15T08:04:40.579Z"
   },
   {
    "duration": 74449,
    "start_time": "2021-11-15T08:19:06.738Z"
   },
   {
    "duration": 15,
    "start_time": "2021-11-15T08:21:34.548Z"
   },
   {
    "duration": 9,
    "start_time": "2021-11-15T08:22:37.674Z"
   },
   {
    "duration": 14,
    "start_time": "2021-11-15T08:23:09.819Z"
   },
   {
    "duration": 105143,
    "start_time": "2021-11-15T08:23:16.631Z"
   }
  ],
  "kernelspec": {
   "display_name": "Python 3",
   "language": "python",
   "name": "python3"
  },
  "language_info": {
   "codemirror_mode": {
    "name": "ipython",
    "version": 3
   },
   "file_extension": ".py",
   "mimetype": "text/x-python",
   "name": "python",
   "nbconvert_exporter": "python",
   "pygments_lexer": "ipython3",
   "version": "3.7.8"
  },
  "toc": {
   "base_numbering": 1,
   "nav_menu": {},
   "number_sections": true,
   "sideBar": true,
   "skip_h1_title": true,
   "title_cell": "Содержание",
   "title_sidebar": "Contents",
   "toc_cell": true,
   "toc_position": {
    "height": "calc(100% - 180px)",
    "left": "10px",
    "top": "150px",
    "width": "302.391px"
   },
   "toc_section_display": true,
   "toc_window_display": true
  }
 },
 "nbformat": 4,
 "nbformat_minor": 2
}
